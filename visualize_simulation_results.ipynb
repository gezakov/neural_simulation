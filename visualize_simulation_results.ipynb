{
 "cells": [
  {
   "cell_type": "code",
   "execution_count": 1,
   "metadata": {},
   "outputs": [],
   "source": [
    "#langpair_list = 'ende enes enfr enit enja enko enpt enzh enzt'.split(' ')\n",
    "#langpair_list = 'enes enzh'.split(' ')\n",
    "langpair_list = 'ende enes enit enko enpt'.split(' ') # enzh enzt enfr enja still in progress"
   ]
  },
  {
   "cell_type": "code",
   "execution_count": 2,
   "metadata": {},
   "outputs": [
    {
     "data": {
      "text/html": [
       "        <script type=\"text/javascript\">\n",
       "        window.PlotlyConfig = {MathJaxConfig: 'local'};\n",
       "        if (window.MathJax) {MathJax.Hub.Config({SVG: {font: \"STIX-Web\"}});}\n",
       "        if (typeof require !== 'undefined') {\n",
       "        require.undef(\"plotly\");\n",
       "        requirejs.config({\n",
       "            paths: {\n",
       "                'plotly': ['https://cdn.plot.ly/plotly-latest.min']\n",
       "            }\n",
       "        });\n",
       "        require(['plotly'], function(Plotly) {\n",
       "            window._Plotly = Plotly;\n",
       "        });\n",
       "        }\n",
       "        </script>\n",
       "        "
      ]
     },
     "metadata": {},
     "output_type": "display_data"
    }
   ],
   "source": [
    "# noexport\n",
    "\n",
    "import msgpack\n",
    "import rocksdb\n",
    "import glob\n",
    "import os\n",
    "import numpy as np\n",
    "from plotly_utils import plot_histogram\n",
    "\n",
    "# langpair_to_cache_db = {}\n",
    "# langpair_to_translation_db = {}\n",
    "# for langpair_arg in langpair_list:\n",
    "#   translation_cache_db = rocksdb.DB('translation_cache/' + langpair_arg, rocksdb.Options(create_if_missing=True))\n",
    "#   cache_db = rocksdb.DB('simulation_cache/' + langpair_arg, rocksdb.Options(create_if_missing=True))\n",
    "#   langpair_to_cache_db[langpair_arg] = cache_db\n",
    "#   langpair_to_translation_db[langpair_arg] = translation_cache_db\n"
   ]
  },
  {
   "cell_type": "code",
   "execution_count": 3,
   "metadata": {},
   "outputs": [],
   "source": [
    "import glob\n",
    "\n",
    "source_file_to_google = {}\n",
    "source_files = glob.glob('/Users/geza/intel_evaluation/GCP_translate_test/**/**/**/source.txt')\n",
    "for source_file in source_files:\n",
    "  google_translate_file = glob.glob(source_file.replace('source.txt', 'results/*.txt'))[0]\n",
    "  source_file_to_google[source_file] = google_translate_file"
   ]
  },
  {
   "cell_type": "code",
   "execution_count": 4,
   "metadata": {},
   "outputs": [],
   "source": [
    "# #it = langpair_to_cache_db['enes'].iteritems()\n",
    "# #it.seek_to_first()\n",
    "# #while True:\n",
    "# #  next(it)\n",
    "# for x in langpair_to_cache_db['enes'].iteritems():\n",
    "#   print(x)"
   ]
  },
  {
   "cell_type": "code",
   "execution_count": 4,
   "metadata": {},
   "outputs": [
    {
     "name": "stdout",
     "output_type": "stream",
     "text": [
      "missing target file for: /Users/geza/intel_evaluation/GCP_translate_test/ende/SYNDICATION_TM/test/source.txt\n",
      "missing target file for: /Users/geza/intel_evaluation/GCP_translate_test/ende/SYNDICATION_TM/test/source.txt\n",
      "missing target file for: /Users/geza/intel_evaluation/GCP_translate_test/ende/SYNDICATION_TM/test/source.txt\n",
      "missing target file for: /Users/geza/intel_evaluation/GCP_translate_test/ende/SYNDICATION_TM/test/source.txt\n",
      "missing target file for: /Users/geza/intel_evaluation/GCP_translate_test/ende/SYNDICATION_TM/test/source.txt\n"
     ]
    }
   ],
   "source": [
    "# noexport\n",
    "\n",
    "for langpair_arg in langpair_list:\n",
    "  if os.path.exists('simulation_output_list/' + langpair_arg + '.msgpack') and os.path.exists('translation_dict/' + langpair_arg + '.msgpack'):\n",
    "    continue\n",
    "  output_list = []\n",
    "  #cache_db = langpair_to_cache_db[langpair_arg]\n",
    "  cache_db = rocksdb.DB('simulation_cache/' + langpair_arg, rocksdb.Options(create_if_missing=True))\n",
    "  source_files = glob.glob('/Users/geza/intel_evaluation/GCP_translate_test/**/**/**/source.txt')\n",
    "  target_files = glob.glob('/Users/geza/intel_evaluation/GCP_translate_test/**/**/**/target.txt')\n",
    "  target_files_set = set(target_files)\n",
    "  for source_file in source_files:\n",
    "    target_file = source_file.replace('source.txt', 'target.txt')\n",
    "    if target_file not in target_files_set:\n",
    "      print('missing target file for: ' + source_file)\n",
    "      continue\n",
    "    google_translate_file = source_file_to_google[source_file]\n",
    "    google_translate_lines = open(google_translate_file).readlines()\n",
    "    source_lines = open(source_file).readlines()\n",
    "    target_lines = open(target_file).readlines()\n",
    "    if len(source_lines) != len(target_lines):\n",
    "      print('source line length', len(source_lines), 'does not match target line length', len(target_lines))\n",
    "      continue\n",
    "    source_lines = [x.strip() for x in source_lines]\n",
    "    target_lines = [x.strip() for x in target_lines]\n",
    "    langpair = source_file.replace('/Users/geza/intel_evaluation/GCP_translate_test/', '').split('/', 1)[0]\n",
    "    if langpair != langpair_arg:\n",
    "      continue\n",
    "    #print(langpair)\n",
    "    src_lang = langpair[0:2]\n",
    "    trg_lang = langpair[2:]\n",
    "    for src_sentence,trg_sentence,google_translate in zip(source_lines, target_lines, google_translate_lines):\n",
    "      key = msgpack.dumps([src_sentence, trg_sentence])\n",
    "      cached_result = cache_db.get(key)\n",
    "      if cached_result is not None:\n",
    "        output = msgpack.loads(cached_result, raw=False, strict_map_key=False)\n",
    "        output_list.append([src_sentence, trg_sentence, output, google_translate])\n",
    "\n",
    "  msgpack.dump(output_list, open('simulation_output_list/' + langpair_arg + '.msgpack', 'wb'))\n",
    "  \n",
    "  translation_cache_db = rocksdb.DB('translation_cache/' + langpair_arg, rocksdb.Options(create_if_missing=True))\n",
    "  translation_dict = {}\n",
    "  for src_sentence,trg_sentence,output,google_translate in output_list:\n",
    "    key = msgpack.dumps(src_sentence)\n",
    "    cached_result = translation_cache_db.get(key)\n",
    "    if cached_result is not None:\n",
    "      word_list,delimiter_list = msgpack.loads(cached_result)\n",
    "      translation_dict[src_sentence] = [word_list, delimiter_list]\n",
    "\n",
    "  msgpack.dump(translation_dict, open('translation_dict/' + langpair_arg + '.msgpack', 'wb'))"
   ]
  },
  {
   "cell_type": "code",
   "execution_count": 6,
   "metadata": {},
   "outputs": [
    {
     "name": "stdout",
     "output_type": "stream",
     "text": [
      "enes\n",
      "154202\n",
      "105931\n",
      "enzh\n",
      "191928\n",
      "123947\n"
     ]
    }
   ],
   "source": [
    "# noexport\n",
    "\n",
    "langpair_to_oracle_accuracy = {}\n",
    "for langpair_arg in langpair_list:\n",
    "  words_correct = 0\n",
    "  words_total = 0\n",
    "  print(langpair_arg)\n",
    "  #cache_db = langpair_to_cache_db[langpair_arg]\n",
    "  #translation_cache_db = langpair_to_translation_db[langpair_arg]\n",
    "  translation_dict = msgpack.load(open('translation_dict/' + langpair_arg + '.msgpack', 'rb'), raw=False, strict_map_key=False)\n",
    "  output_list = msgpack.load(open('simulation_output_list/' + langpair_arg + '.msgpack', 'rb'), raw=False, strict_map_key=False)\n",
    "  for src_sentence,trg_sentence,output,google_translate in output_list:\n",
    "    #key = msgpack.dumps(src_sentence)\n",
    "    word_list,delimiter_list = translation_dict[src_sentence]\n",
    "    #cached_result = translation_cache_db.get(key)\n",
    "    word_set = set(word_list)\n",
    "    for word_info in output:\n",
    "      word_ref = word_info[2]\n",
    "      if word_ref in word_set:\n",
    "        words_correct += 1\n",
    "      words_total += 1\n",
    "  print(words_total)\n",
    "  print(words_correct)\n",
    "  langpair_to_oracle_accuracy[langpair_arg] = words_correct / words_total\n"
   ]
  },
  {
   "cell_type": "code",
   "execution_count": 7,
   "metadata": {},
   "outputs": [],
   "source": [
    "import json\n",
    "\n",
    "synonym_dicts = {} # (srclang, trglang) -> synonym dict\n",
    "\n",
    "def lookup_synonyms(word, srclang, trglang, limit_num_synonyms=None):\n",
    "  lpair = (srclang, trglang)\n",
    "  syndict = synonym_dicts.get(lpair, None)\n",
    "  if syndict is not None:\n",
    "    output = syndict.get(word, [])\n",
    "    if limit_num_synonyms is None:\n",
    "      return output\n",
    "    else:\n",
    "      return output[:limit_num_synonyms]\n",
    "  syndict = json.load(open(f'/Users/geza/panlex-20190701-json/language_pairs/{srclang}_{trglang}.json', 'rt'))\n",
    "  synonym_dicts[lpair] = syndict\n",
    "  output = syndict.get(word, [])\n",
    "  if limit_num_synonyms is None:\n",
    "    return output\n",
    "  else:\n",
    "    return output[:limit_num_synonyms]"
   ]
  },
  {
   "cell_type": "code",
   "execution_count": 8,
   "metadata": {},
   "outputs": [],
   "source": [
    "#lookup_synonyms('convenient', 'en', 'ja', 3)"
   ]
  },
  {
   "cell_type": "code",
   "execution_count": 9,
   "metadata": {},
   "outputs": [],
   "source": [
    "from ling.segmenter import get_segmenter\n",
    "\n",
    "segmenter_cached = {}\n",
    "\n",
    "def get_segmenter_cached(lang):\n",
    "  if lang in segmenter_cached:\n",
    "    return segmenter_cached[lang]\n",
    "  segmenter_cached[lang] = get_segmenter(lang)\n",
    "  return segmenter_cached[lang]\n",
    "\n",
    "def segment_sentence(sentence, lang):\n",
    "  # returned object has 2 fields of interest:\n",
    "  # .tokens\n",
    "  # .delimiters\n",
    "  return get_segmenter_cached(lang).segment(sentence)\n"
   ]
  },
  {
   "cell_type": "code",
   "execution_count": 10,
   "metadata": {},
   "outputs": [],
   "source": [
    "# segment_sentence('hello world', 'en').tokens"
   ]
  },
  {
   "cell_type": "code",
   "execution_count": 11,
   "metadata": {},
   "outputs": [
    {
     "name": "stdout",
     "output_type": "stream",
     "text": [
      "enes 0 0\n",
      "0.6869625556088766\n",
      "enes 0 1\n",
      "0.6871117106133513\n",
      "enes 0 2\n",
      "0.7031361460940844\n",
      "enes 0 3\n",
      "0.7130322563909677\n",
      "enes 0 4\n",
      "0.7179803115394093\n",
      "enes 0 5\n",
      "0.723589836707695\n",
      "enes 1 0\n",
      "0.701787266053618\n",
      "enes 1 1\n",
      "0.7018456310553689\n",
      "enes 1 2\n",
      "0.7136677864100336\n",
      "enes 1 3\n",
      "0.721631366648941\n",
      "enes 1 4\n",
      "0.7262551717876552\n",
      "enes 1 5\n",
      "0.7313069869392096\n",
      "enes 2 0\n",
      "0.7134797214043916\n",
      "enes 2 1\n",
      "0.7135251164057534\n",
      "enes 2 2\n",
      "0.7212163266364898\n",
      "enes 2 3\n",
      "0.7277467218324016\n",
      "enes 2 4\n",
      "0.7314626269438788\n",
      "enes 2 5\n",
      "0.7363198920895968\n",
      "enes 3 0\n",
      "0.7212357816370735\n",
      "enes 3 1\n",
      "0.7212811766384353\n",
      "enes 3 2\n",
      "0.727856966835709\n",
      "enes 3 3\n",
      "0.7330579369917382\n",
      "enes 3 4\n",
      "0.7358724270761728\n",
      "enes 3 5\n",
      "0.7389592871687786\n",
      "enes 4 0\n",
      "0.7260735917822078\n",
      "enes 4 1\n",
      "0.7261189867835696\n",
      "enes 4 2\n",
      "0.7315404469462135\n",
      "enes 4 3\n",
      "0.7358464870753946\n",
      "enes 4 4\n",
      "0.7377206521316195\n",
      "enes 4 5\n",
      "0.7406842972205289\n",
      "enes 5 0\n",
      "0.7288880818666424\n",
      "enes 5 1\n",
      "0.7289334768680044\n",
      "enes 5 2\n",
      "0.7339723220191696\n",
      "enes 5 3\n",
      "0.7372148221164446\n",
      "enes 5 4\n",
      "0.7388490421654713\n",
      "enes 5 5\n",
      "0.741676502250295\n",
      "enzh 0 0\n",
      "0.6457994664665916\n",
      "enzh 0 1\n",
      "0.6458880413488391\n",
      "enzh 0 2\n",
      "0.6589293901879871\n",
      "enzh 0 3\n",
      "0.6679796590388062\n",
      "enzh 0 4\n",
      "0.6732107873786003\n",
      "enzh 0 5\n",
      "0.6785200700262598\n",
      "enzh 1 0\n",
      "0.6673127422783544\n",
      "enzh 1 1\n",
      "0.6673856862990288\n",
      "enzh 1 2\n",
      "0.6782439248051353\n",
      "enzh 1 3\n",
      "0.6862729773665125\n",
      "enzh 1 4\n",
      "0.691061231295069\n",
      "enzh 1 5\n",
      "0.695943270393064\n",
      "enzh 2 0\n",
      "0.6756439914968113\n",
      "enzh 2 1\n",
      "0.6757169355174857\n",
      "enzh 2 2\n",
      "0.6845379517318995\n",
      "enzh 2 3\n",
      "0.691936559543162\n",
      "enzh 2 4\n",
      "0.6963757242299196\n",
      "enzh 2 5\n",
      "0.7010806135634197\n",
      "enzh 3 0\n",
      "0.6811929473552583\n",
      "enzh 3 1\n",
      "0.6812658913759326\n",
      "enzh 3 2\n",
      "0.6892219999166354\n",
      "enzh 3 3\n",
      "0.696104789295986\n",
      "enzh 3 4\n",
      "0.7002990704847651\n",
      "enzh 3 5\n",
      "0.7045871368429828\n",
      "enzh 4 0\n",
      "0.6848922512608895\n",
      "enzh 4 1\n",
      "0.6849443541327997\n",
      "enzh 4 2\n",
      "0.6926607894627151\n",
      "enzh 4 3\n",
      "0.6988506106456588\n",
      "enzh 4 4\n",
      "0.7029354758034263\n",
      "enzh 4 5\n",
      "0.7067441957400692\n",
      "enzh 5 0\n",
      "0.6877891709391022\n",
      "enzh 5 1\n",
      "0.6878412738110125\n",
      "enzh 5 2\n",
      "0.6953128256429495\n",
      "enzh 5 3\n",
      "0.701325497061398\n",
      "enzh 5 4\n",
      "0.7051654787211871\n",
      "enzh 5 5\n",
      "0.7088543620524363\n"
     ]
    }
   ],
   "source": [
    "# noexport\n",
    "\n",
    "langpair_to_num_src_trg_synonyms_to_accuracy = {}\n",
    "for langpair_arg in langpair_list:\n",
    "  translation_dict = msgpack.load(open('translation_dict/' + langpair_arg + '.msgpack', 'rb'), raw=False, strict_map_key=False)\n",
    "  output_list = msgpack.load(open('simulation_output_list/' + langpair_arg + '.msgpack', 'rb'), raw=False, strict_map_key=False)\n",
    "  langpair_to_num_src_trg_synonyms_to_accuracy[langpair_arg] = {}\n",
    "  for num_synonyms_sourcelang in range(6):\n",
    "    for num_synonyms_targetlang in range(6):\n",
    "      if (num_synonyms_sourcelang, num_synonyms_targetlang) in langpair_to_num_src_trg_synonyms_to_accuracy[langpair_arg]:\n",
    "        continue\n",
    "      src_lang = langpair_arg[0:2]\n",
    "      trg_lang = langpair_arg[2:]\n",
    "      print(langpair_arg, num_synonyms_sourcelang, num_synonyms_targetlang)\n",
    "      words_correct = 0\n",
    "      words_total = 0\n",
    "      #cache_db = langpair_to_cache_db[langpair_arg]\n",
    "      #translation_cache_db = langpair_to_translation_db[langpair_arg]\n",
    "      for src_sentence,trg_sentence,output,google_translate in output_list:\n",
    "        #key = msgpack.dumps(src_sentence)\n",
    "        word_list,delimiter_list = translation_dict[src_sentence]\n",
    "        #cached_result = translation_cache_db.get(key)\n",
    "        word_set = set(word_list)\n",
    "        for word in word_list:\n",
    "          for synonym in lookup_synonyms(word, trg_lang, trg_lang, num_synonyms_targetlang): # target to target synonyms\n",
    "            word_set.add(synonym)\n",
    "        for word in segment_sentence(src_sentence, src_lang).tokens:\n",
    "          for synonym in lookup_synonyms(word, src_lang, trg_lang, num_synonyms_sourcelang): # source to target synonyms\n",
    "            word_set.add(synonym)\n",
    "        for word_info in output:\n",
    "          word_ref = word_info[2]\n",
    "          if word_ref in word_set:\n",
    "            words_correct += 1\n",
    "          words_total += 1\n",
    "      print(words_correct / words_total)\n",
    "      langpair_to_num_src_trg_synonyms_to_accuracy[langpair_arg][(num_synonyms_sourcelang, num_synonyms_targetlang)] = words_correct / words_total\n",
    "\n"
   ]
  },
  {
   "cell_type": "code",
   "execution_count": 12,
   "metadata": {},
   "outputs": [
    {
     "name": "stdout",
     "output_type": "stream",
     "text": [
      "enes 0 0\n",
      "0.7166249464987484\n",
      "enes 0 1\n",
      "0.7166444014993321\n",
      "enes 0 2\n",
      "0.7342446920273408\n",
      "enes 0 3\n",
      "0.7433301772999054\n",
      "enes 0 4\n",
      "0.7482976874489307\n",
      "enes 0 5\n",
      "0.7526102125783064\n",
      "enes 1 0\n",
      "0.7334405520032166\n",
      "enes 1 1\n",
      "0.7334600070038002\n",
      "enes 1 2\n",
      "0.7455999273679979\n",
      "enes 1 3\n",
      "0.7526750625802519\n",
      "enes 1 4\n",
      "0.7571626827148805\n",
      "enes 1 5\n",
      "0.7610342278310268\n",
      "enes 2 0\n",
      "0.7445688123370644\n",
      "enes 2 1\n",
      "0.744588267337648\n",
      "enes 2 2\n",
      "0.7526815475804465\n",
      "enes 2 3\n",
      "0.7584078027522341\n",
      "enes 2 4\n",
      "0.7619097028572911\n",
      "enes 2 5\n",
      "0.7656839729705192\n",
      "enes 3 0\n",
      "0.751449397543482\n",
      "enes 3 1\n",
      "0.7514688525440656\n",
      "enes 3 2\n",
      "0.7583818627514559\n",
      "enes 3 3\n",
      "0.7628694828860845\n",
      "enes 3 4\n",
      "0.7655931829677954\n",
      "enes 3 5\n",
      "0.768323368049701\n",
      "enes 4 0\n",
      "0.7553468826604065\n",
      "enes 4 1\n",
      "0.7553663376609902\n",
      "enes 4 2\n",
      "0.7612158078364742\n",
      "enes 4 3\n",
      "0.7651132929533988\n",
      "enes 4 4\n",
      "0.7671106730133201\n",
      "enes 4 5\n",
      "0.7697306130919184\n",
      "enes 5 0\n",
      "0.7578630627358919\n",
      "enes 5 1\n",
      "0.7578825177364755\n",
      "enes 5 2\n",
      "0.763394767901843\n",
      "enes 5 3\n",
      "0.7664427179932816\n",
      "enes 5 4\n",
      "0.7682131230463937\n",
      "enes 5 5\n",
      "0.77071633312149\n"
     ]
    },
    {
     "name": "stderr",
     "output_type": "stream",
     "text": [
      "Building prefix dict from the default dictionary ...\n",
      "Loading model from cache /var/folders/qf/y_gq4r991hd8shhm09zd0jpw0000gn/T/jieba.cache\n"
     ]
    },
    {
     "name": "stdout",
     "output_type": "stream",
     "text": [
      "enzh 0 0\n"
     ]
    },
    {
     "name": "stderr",
     "output_type": "stream",
     "text": [
      "Loading model cost 0.763 seconds.\n",
      "Prefix dict has been built successfully.\n"
     ]
    },
    {
     "name": "stdout",
     "output_type": "stream",
     "text": [
      "0.7740454753866033\n",
      "enzh 0 1\n",
      "0.7740663165353674\n",
      "enzh 0 2\n",
      "0.782684131549331\n",
      "enzh 0 3\n",
      "0.7883529240131716\n",
      "enzh 0 4\n",
      "0.7916145637947564\n",
      "enzh 0 5\n",
      "0.7949283064482514\n",
      "enzh 1 0\n",
      "0.786680421824851\n",
      "enzh 1 1\n",
      "0.7867012629736151\n",
      "enzh 1 2\n",
      "0.7932193322495936\n",
      "enzh 1 3\n",
      "0.7981170022091618\n",
      "enzh 1 4\n",
      "0.8010503938977116\n",
      "enzh 1 5\n",
      "0.8041036221916552\n",
      "enzh 2 0\n",
      "0.7914582551790255\n",
      "enzh 2 1\n",
      "0.7914790963277896\n",
      "enzh 2 2\n",
      "0.7969915801758993\n",
      "enzh 2 3\n",
      "0.8014776374473761\n",
      "enzh 2 4\n",
      "0.8042859822433412\n",
      "enzh 2 5\n",
      "0.8072193739318911\n",
      "enzh 3 0\n",
      "0.7945219040473511\n",
      "enzh 3 1\n",
      "0.7945427451961152\n",
      "enzh 3 2\n",
      "0.79972698095119\n",
      "enzh 3 3\n",
      "0.8037649535242383\n",
      "enzh 3 4\n",
      "0.8064899337251469\n",
      "enzh 3 5\n",
      "0.8092409653620107\n",
      "enzh 4 0\n",
      "0.7968248509857864\n",
      "enzh 4 1\n",
      "0.7968404818473594\n",
      "enzh 4 2\n",
      "0.8018736192738943\n",
      "enzh 4 3\n",
      "0.8054374557125589\n",
      "enzh 4 4\n",
      "0.8080842816056021\n",
      "enzh 4 5\n",
      "0.8104705931390939\n",
      "enzh 5 0\n",
      "0.7986328206410738\n",
      "enzh 5 1\n",
      "0.7986484515026469\n",
      "enzh 5 2\n",
      "0.803546121462215\n",
      "enzh 5 3\n",
      "0.8070318035930141\n",
      "enzh 5 4\n",
      "0.8095327414447084\n",
      "enzh 5 5\n",
      "0.8118825809678629\n"
     ]
    }
   ],
   "source": [
    "# noexport\n",
    "\n",
    "langpair_to_num_src_trg_synonyms_googtrans_to_accuracy = {}\n",
    "for langpair_arg in langpair_list:\n",
    "  translation_dict = msgpack.load(open('translation_dict/' + langpair_arg + '.msgpack', 'rb'), raw=False, strict_map_key=False)\n",
    "  output_list = msgpack.load(open('simulation_output_list/' + langpair_arg + '.msgpack', 'rb'), raw=False, strict_map_key=False)\n",
    "  langpair_to_num_src_trg_synonyms_googtrans_to_accuracy[langpair_arg] = {}\n",
    "  for num_synonyms_sourcelang in range(6):\n",
    "    for num_synonyms_targetlang in range(6):\n",
    "      if (num_synonyms_sourcelang, num_synonyms_targetlang) in langpair_to_num_src_trg_synonyms_googtrans_to_accuracy[langpair_arg]:\n",
    "        continue\n",
    "      src_lang = langpair_arg[0:2]\n",
    "      trg_lang = langpair_arg[2:]\n",
    "      print(langpair_arg, num_synonyms_sourcelang, num_synonyms_targetlang)\n",
    "      words_correct = 0\n",
    "      words_total = 0\n",
    "      #cache_db = langpair_to_cache_db[langpair_arg]\n",
    "      #translation_cache_db = langpair_to_translation_db[langpair_arg]\n",
    "      for src_sentence,trg_sentence,output,google_translate in output_list:\n",
    "        #key = msgpack.dumps(src_sentence)\n",
    "        segmented_google_translate = segment_sentence(google_translate, trg_lang)\n",
    "        word_list = segmented_google_translate.tokens\n",
    "        delimiter_list = segmented_google_translate.delimiters\n",
    "        #cached_result = translation_cache_db.get(key)\n",
    "        word_set = set(word_list)\n",
    "        for word in word_list:\n",
    "          for synonym in lookup_synonyms(word, trg_lang, trg_lang, num_synonyms_targetlang): # target to target synonyms\n",
    "            word_set.add(synonym)\n",
    "        for word in segment_sentence(src_sentence, src_lang).tokens:\n",
    "          for synonym in lookup_synonyms(word, src_lang, trg_lang, num_synonyms_sourcelang): # source to target synonyms\n",
    "            word_set.add(synonym)\n",
    "        for word_info in output:\n",
    "          word_ref = word_info[2]\n",
    "          if word_ref in word_set:\n",
    "            words_correct += 1\n",
    "          words_total += 1\n",
    "      print(words_correct / words_total)\n",
    "      langpair_to_num_src_trg_synonyms_googtrans_to_accuracy[langpair_arg][(num_synonyms_sourcelang, num_synonyms_targetlang)] = words_correct / words_total\n",
    "\n"
   ]
  },
  {
   "cell_type": "code",
   "execution_count": 13,
   "metadata": {},
   "outputs": [
    {
     "name": "stdout",
     "output_type": "stream",
     "text": [
      "enes 0 0\n",
      "0.6845436505363095\n",
      "enes 0 1\n",
      "0.6845890455376714\n",
      "enes 0 2\n",
      "0.6942711508281345\n",
      "enes 0 3\n",
      "0.699193265975798\n",
      "enes 0 4\n",
      "0.7015408360462251\n",
      "enes 0 5\n",
      "0.7044785411343563\n",
      "enes 1 0\n",
      "0.7151333964540019\n",
      "enes 1 1\n",
      "0.7151723064551692\n",
      "enes 1 2\n",
      "0.7219945266598358\n",
      "enes 1 3\n",
      "0.7257752817732585\n",
      "enes 1 4\n",
      "0.7278764218362926\n",
      "enes 1 5\n",
      "0.730450966913529\n",
      "enes 2 0\n",
      "0.7309957069298713\n",
      "enes 2 1\n",
      "0.7310346169310386\n",
      "enes 2 2\n",
      "0.7347764620432938\n",
      "enes 2 3\n",
      "0.7378698071360942\n",
      "enes 2 4\n",
      "0.7396531821895954\n",
      "enes 2 5\n",
      "0.7420266922608008\n",
      "enes 3 0\n",
      "0.7417478372524351\n",
      "enes 3 1\n",
      "0.7417867472536024\n",
      "enes 3 2\n",
      "0.7449903373497101\n",
      "enes 3 3\n",
      "0.7474740924242228\n",
      "enes 3 4\n",
      "0.7489461874683856\n",
      "enes 3 5\n",
      "0.7507749575232487\n",
      "enes 4 0\n",
      "0.7469034124071023\n",
      "enes 4 1\n",
      "0.7469423224082696\n",
      "enes 4 2\n",
      "0.7496400824892024\n",
      "enes 4 3\n",
      "0.7517995875539877\n",
      "enes 4 4\n",
      "0.7527010025810301\n",
      "enes 4 5\n",
      "0.7544908626347259\n",
      "enes 5 0\n",
      "0.7495622624868679\n",
      "enes 5 1\n",
      "0.7496011724880352\n",
      "enes 5 2\n",
      "0.7522081425662442\n",
      "enes 5 3\n",
      "0.7539461226183837\n",
      "enes 5 4\n",
      "0.7547178376415351\n",
      "enes 5 5\n",
      "0.7564298776928964\n",
      "enzh 0 0\n",
      "0.5891375932641407\n",
      "enzh 0 1\n",
      "0.5892105372848151\n",
      "enzh 0 2\n",
      "0.5990215080655246\n",
      "enzh 0 3\n",
      "0.6048153474219499\n",
      "enzh 0 4\n",
      "0.6084156558709516\n",
      "enzh 0 5\n",
      "0.6116356133550082\n",
      "enzh 1 0\n",
      "0.6279333916885499\n",
      "enzh 1 1\n",
      "0.6279959151348422\n",
      "enzh 1 2\n",
      "0.6356185652953191\n",
      "enzh 1 3\n",
      "0.6405006043933141\n",
      "enzh 1 4\n",
      "0.643783085323663\n",
      "enzh 1 5\n",
      "0.6468675753407528\n",
      "enzh 2 0\n",
      "0.6396356967196032\n",
      "enzh 2 1\n",
      "0.6396982201658955\n",
      "enzh 2 2\n",
      "0.6460964528364803\n",
      "enzh 2 3\n",
      "0.6505356175232379\n",
      "enzh 2 4\n",
      "0.6535888458171815\n",
      "enzh 2 5\n",
      "0.6565743403776416\n",
      "enzh 3 0\n",
      "0.6466174815555833\n",
      "enzh 3 1\n",
      "0.6466800050018757\n",
      "enzh 3 2\n",
      "0.6525467883789754\n",
      "enzh 3 3\n",
      "0.6566160226751698\n",
      "enzh 3 4\n",
      "0.6594921012046184\n",
      "enzh 3 5\n",
      "0.6621597682464258\n",
      "enzh 4 0\n",
      "0.6511816931349256\n",
      "enzh 4 1\n",
      "0.6512181651452628\n",
      "enzh 4 2\n",
      "0.6569338501938227\n",
      "enzh 4 3\n",
      "0.660622733525072\n",
      "enzh 4 4\n",
      "0.663410237172273\n",
      "enzh 4 5\n",
      "0.6657183943978993\n",
      "enzh 5 0\n",
      "0.654552748947522\n",
      "enzh 5 1\n",
      "0.6545892209578592\n",
      "enzh 5 2\n",
      "0.6601277562419241\n",
      "enzh 5 3\n",
      "0.6637124338293526\n",
      "enzh 5 4\n",
      "0.6662967362761035\n",
      "enzh 5 5\n",
      "0.6685580009170106\n"
     ]
    }
   ],
   "source": [
    "langpair_to_num_src_trg_synonyms_prefix_nextword_to_accuracy = {}\n",
    "\n",
    "for langpair_arg in langpair_list:\n",
    "  langpair_to_num_src_trg_synonyms_prefix_nextword_to_accuracy[langpair_arg] = {}\n",
    "  translation_dict = msgpack.load(open('translation_dict/' + langpair_arg + '.msgpack', 'rb'), raw=False, strict_map_key=False)\n",
    "  output_list = msgpack.load(open('simulation_output_list/' + langpair_arg + '.msgpack', 'rb'), raw=False, strict_map_key=False)\n",
    "  for num_synonyms_sourcelang in range(6):\n",
    "    for num_synonyms_targetlang in range(6):\n",
    "      if (num_synonyms_sourcelang, num_synonyms_targetlang) in langpair_to_num_src_trg_synonyms_prefix_nextword_to_accuracy[langpair_arg]:\n",
    "        continue\n",
    "      src_lang = langpair_arg[0:2]\n",
    "      trg_lang = langpair_arg[2:]\n",
    "      print(langpair_arg, num_synonyms_sourcelang, num_synonyms_targetlang)\n",
    "      words_correct = 0\n",
    "      words_total = 0\n",
    "      #cache_db = langpair_to_cache_db[langpair_arg]\n",
    "      #translation_cache_db = langpair_to_translation_db[langpair_arg]\n",
    "      for src_sentence,trg_sentence,output,google_translate in output_list:\n",
    "        word_set = set()\n",
    "        for word in segment_sentence(src_sentence, src_lang).tokens:\n",
    "          for synonym in lookup_synonyms(word, src_lang, trg_lang, num_synonyms_sourcelang): # source to target synonyms\n",
    "            word_set.add(synonym)\n",
    "        for word_prediction_info in output:\n",
    "          [elapsed_time, is_mt_recompute_needed, next_actual_word, next_predicted_word, is_next_actual_word_anywhere_in_suffix] = word_prediction_info\n",
    "          words_total += 1\n",
    "          is_correct = False\n",
    "          if next_actual_word == next_predicted_word:\n",
    "            is_correct = True\n",
    "          if next_actual_word in word_set:\n",
    "            is_correct = True\n",
    "          if not is_correct:\n",
    "            for synonym in lookup_synonyms(next_predicted_word, trg_lang, trg_lang, num_synonyms_targetlang): # target to target synonyms\n",
    "              if synonym == next_actual_word:\n",
    "                is_correct = True\n",
    "          if is_correct:\n",
    "            words_correct += 1\n",
    "      print(words_correct / words_total)\n",
    "      langpair_to_num_src_trg_synonyms_prefix_nextword_to_accuracy[langpair_arg][(num_synonyms_sourcelang, num_synonyms_targetlang)] = words_correct / words_total\n"
   ]
  },
  {
   "cell_type": "code",
   "execution_count": 14,
   "metadata": {},
   "outputs": [
    {
     "name": "stdout",
     "output_type": "stream",
     "text": [
      "enes 0 0\n",
      "0.7321111269633338\n",
      "enes 0 1\n",
      "0.7321565219646956\n",
      "enes 0 2\n",
      "0.7407556322226689\n",
      "enes 0 3\n",
      "0.745178402355352\n",
      "enes 0 4\n",
      "0.7473314224199427\n",
      "enes 0 5\n",
      "0.7498800274964008\n",
      "enes 1 0\n",
      "0.7481939274458178\n",
      "enes 1 1\n",
      "0.7482328374469851\n",
      "enes 1 2\n",
      "0.7543287376298621\n",
      "enes 1 3\n",
      "0.7577982127339464\n",
      "enes 1 4\n",
      "0.7597242577917277\n",
      "enes 1 5\n",
      "0.7620523728615712\n",
      "enes 2 0\n",
      "0.759763167792895\n",
      "enes 2 1\n",
      "0.7598020777940623\n",
      "enes 2 2\n",
      "0.7632261578967847\n",
      "enes 2 3\n",
      "0.7661444079843323\n",
      "enes 2 4\n",
      "0.7677980830339425\n",
      "enes 2 5\n",
      "0.7699316480979495\n",
      "enes 3 0\n",
      "0.7672987380189621\n",
      "enes 3 1\n",
      "0.7673376480201295\n",
      "enes 3 2\n",
      "0.7703012931090388\n",
      "enes 3 3\n",
      "0.7726683181800496\n",
      "enes 3 4\n",
      "0.774017198220516\n",
      "enes 3 5\n",
      "0.7757357232720717\n",
      "enes 4 0\n",
      "0.7715788381473652\n",
      "enes 4 1\n",
      "0.7716177481485325\n",
      "enes 4 2\n",
      "0.7741209582236287\n",
      "enes 4 3\n",
      "0.7761831882854956\n",
      "enes 4 4\n",
      "0.7770586633117599\n",
      "enes 4 5\n",
      "0.7787382783621484\n",
      "enes 5 0\n",
      "0.7740366532210996\n",
      "enes 5 1\n",
      "0.7740755632222669\n",
      "enes 5 2\n",
      "0.776494468294834\n",
      "enes 5 3\n",
      "0.7781546283446389\n",
      "enes 5 4\n",
      "0.778900403367012\n",
      "enes 5 5\n",
      "0.780502198415066\n",
      "enzh 0 0\n",
      "0.6397034304530865\n",
      "enzh 0 1\n",
      "0.639776374473761\n",
      "enzh 0 2\n",
      "0.6492590971614355\n",
      "enzh 0 3\n",
      "0.654907048476512\n",
      "enzh 0 4\n",
      "0.6584396231920303\n",
      "enzh 0 5\n",
      "0.6615970572297946\n",
      "enzh 1 0\n",
      "0.6664738860405985\n",
      "enzh 1 1\n",
      "0.666536409486891\n",
      "enzh 1 2\n",
      "0.6739975407444458\n",
      "enzh 1 3\n",
      "0.6788326872577216\n",
      "enzh 1 4\n",
      "0.6820734858905423\n",
      "enzh 1 5\n",
      "0.6851162936101038\n",
      "enzh 2 0\n",
      "0.676102496769622\n",
      "enzh 2 1\n",
      "0.6761650202159143\n",
      "enzh 2 2\n",
      "0.6824329957067233\n",
      "enzh 2 3\n",
      "0.6868356883831437\n",
      "enzh 2 4\n",
      "0.689847234379559\n",
      "enzh 2 5\n",
      "0.6927910466424909\n",
      "enzh 3 0\n",
      "0.6819536492851486\n",
      "enzh 3 1\n",
      "0.682016172731441\n",
      "enzh 3 2\n",
      "0.6877683297903381\n",
      "enzh 3 3\n",
      "0.6918063023633862\n",
      "enzh 3 4\n",
      "0.6946459088824976\n",
      "enzh 3 5\n",
      "0.6972718936267767\n",
      "enzh 4 0\n",
      "0.6858301029552749\n",
      "enzh 4 1\n",
      "0.6858665749656121\n",
      "enzh 4 2\n",
      "0.6914728439831603\n",
      "enzh 4 3\n",
      "0.6951460964528364\n",
      "enzh 4 4\n",
      "0.6978971280897003\n",
      "enzh 4 5\n",
      "0.7001844441665624\n",
      "enzh 5 0\n",
      "0.6888572798132633\n",
      "enzh 5 1\n",
      "0.6888937518236005\n",
      "enzh 5 2\n",
      "0.6943489225126089\n",
      "enzh 5 3\n",
      "0.6979179692384644\n",
      "enzh 5 4\n",
      "0.7004657996748781\n",
      "enzh 5 5\n",
      "0.7027062231670209\n"
     ]
    }
   ],
   "source": [
    "langpair_to_num_src_trg_synonyms_prefix_oracle_to_accuracy = {}\n",
    "\n",
    "for langpair_arg in langpair_list:\n",
    "  langpair_to_num_src_trg_synonyms_prefix_oracle_to_accuracy[langpair_arg] = {}\n",
    "  translation_dict = msgpack.load(open('translation_dict/' + langpair_arg + '.msgpack', 'rb'), raw=False, strict_map_key=False)\n",
    "  output_list = msgpack.load(open('simulation_output_list/' + langpair_arg + '.msgpack', 'rb'), raw=False, strict_map_key=False)\n",
    "  for num_synonyms_sourcelang in range(6):\n",
    "    for num_synonyms_targetlang in range(6):\n",
    "      if (num_synonyms_sourcelang, num_synonyms_targetlang) in langpair_to_num_src_trg_synonyms_prefix_oracle_to_accuracy[langpair_arg]:\n",
    "        continue\n",
    "      src_lang = langpair_arg[0:2]\n",
    "      trg_lang = langpair_arg[2:]\n",
    "      print(langpair_arg, num_synonyms_sourcelang, num_synonyms_targetlang)\n",
    "      words_correct = 0\n",
    "      words_total = 0\n",
    "      #cache_db = langpair_to_cache_db[langpair_arg]\n",
    "      #translation_cache_db = langpair_to_translation_db[langpair_arg]\n",
    "      for src_sentence,trg_sentence,output,google_translate in output_list:\n",
    "        word_set = set()\n",
    "        for word in segment_sentence(src_sentence, src_lang).tokens:\n",
    "          for synonym in lookup_synonyms(word, src_lang, trg_lang, num_synonyms_sourcelang): # source to target synonyms\n",
    "            word_set.add(synonym)\n",
    "        for word_prediction_info in output:\n",
    "          [elapsed_time, is_mt_recompute_needed, next_actual_word, next_predicted_word, is_next_actual_word_anywhere_in_suffix] = word_prediction_info\n",
    "          words_total += 1\n",
    "          is_correct = False\n",
    "          if is_next_actual_word_anywhere_in_suffix:\n",
    "            is_correct = True\n",
    "          if next_actual_word in word_set:\n",
    "            is_correct = True\n",
    "          if not is_correct:\n",
    "            for synonym in lookup_synonyms(next_predicted_word, trg_lang, trg_lang, num_synonyms_targetlang): # target to target synonyms\n",
    "              if synonym == next_actual_word:\n",
    "                is_correct = True\n",
    "          if is_correct:\n",
    "            words_correct += 1\n",
    "      print(words_correct / words_total)\n",
    "      langpair_to_num_src_trg_synonyms_prefix_oracle_to_accuracy[langpair_arg][(num_synonyms_sourcelang, num_synonyms_targetlang)] = words_correct / words_total\n"
   ]
  },
  {
   "cell_type": "code",
   "execution_count": 15,
   "metadata": {},
   "outputs": [
    {
     "name": "stdout",
     "output_type": "stream",
     "text": [
      "enes 0 0\n",
      "0.7321111269633338\n",
      "enes 0 1\n",
      "0.7321565219646956\n",
      "enes 0 2\n",
      "0.7407556322226689\n",
      "enes 0 3\n",
      "0.745178402355352\n",
      "enes 0 4\n",
      "0.7473314224199427\n",
      "enes 0 5\n",
      "0.7498800274964008\n",
      "enes 1 0\n",
      "0.7481939274458178\n",
      "enes 1 1\n",
      "0.7482328374469851\n",
      "enes 1 2\n",
      "0.7543287376298621\n",
      "enes 1 3\n",
      "0.7577982127339464\n",
      "enes 1 4\n",
      "0.7597242577917277\n",
      "enes 1 5\n",
      "0.7620523728615712\n",
      "enes 2 0\n",
      "0.759763167792895\n",
      "enes 2 1\n",
      "0.7598020777940623\n",
      "enes 2 2\n",
      "0.7632261578967847\n",
      "enes 2 3\n",
      "0.7661444079843323\n",
      "enes 2 4\n",
      "0.7677980830339425\n",
      "enes 2 5\n",
      "0.7699316480979495\n",
      "enes 3 0\n",
      "0.7672987380189621\n",
      "enes 3 1\n",
      "0.7673376480201295\n",
      "enes 3 2\n",
      "0.7703012931090388\n",
      "enes 3 3\n",
      "0.7726683181800496\n",
      "enes 3 4\n",
      "0.774017198220516\n",
      "enes 3 5\n",
      "0.7757357232720717\n",
      "enes 4 0\n",
      "0.7715788381473652\n",
      "enes 4 1\n",
      "0.7716177481485325\n",
      "enes 4 2\n",
      "0.7741209582236287\n",
      "enes 4 3\n",
      "0.7761831882854956\n",
      "enes 4 4\n",
      "0.7770586633117599\n",
      "enes 4 5\n",
      "0.7787382783621484\n",
      "enes 5 0\n",
      "0.7740366532210996\n",
      "enes 5 1\n",
      "0.7740755632222669\n",
      "enes 5 2\n",
      "0.776494468294834\n",
      "enes 5 3\n",
      "0.7781546283446389\n",
      "enes 5 4\n",
      "0.778900403367012\n",
      "enes 5 5\n",
      "0.780502198415066\n",
      "enzh 0 0\n",
      "0.6397034304530865\n",
      "enzh 0 1\n",
      "0.639776374473761\n",
      "enzh 0 2\n",
      "0.6492590971614355\n",
      "enzh 0 3\n",
      "0.654907048476512\n",
      "enzh 0 4\n",
      "0.6584396231920303\n",
      "enzh 0 5\n",
      "0.6615970572297946\n",
      "enzh 1 0\n",
      "0.6664738860405985\n",
      "enzh 1 1\n",
      "0.666536409486891\n",
      "enzh 1 2\n",
      "0.6739975407444458\n",
      "enzh 1 3\n",
      "0.6788326872577216\n",
      "enzh 1 4\n",
      "0.6820734858905423\n",
      "enzh 1 5\n",
      "0.6851162936101038\n",
      "enzh 2 0\n",
      "0.676102496769622\n",
      "enzh 2 1\n",
      "0.6761650202159143\n",
      "enzh 2 2\n",
      "0.6824329957067233\n",
      "enzh 2 3\n",
      "0.6868356883831437\n",
      "enzh 2 4\n",
      "0.689847234379559\n",
      "enzh 2 5\n",
      "0.6927910466424909\n",
      "enzh 3 0\n",
      "0.6819536492851486\n",
      "enzh 3 1\n",
      "0.682016172731441\n",
      "enzh 3 2\n",
      "0.6877683297903381\n",
      "enzh 3 3\n",
      "0.6918063023633862\n",
      "enzh 3 4\n",
      "0.6946459088824976\n",
      "enzh 3 5\n",
      "0.6972718936267767\n",
      "enzh 4 0\n",
      "0.6858301029552749\n",
      "enzh 4 1\n",
      "0.6858665749656121\n",
      "enzh 4 2\n",
      "0.6914728439831603\n",
      "enzh 4 3\n",
      "0.6951460964528364\n",
      "enzh 4 4\n",
      "0.6978971280897003\n",
      "enzh 4 5\n",
      "0.7001844441665624\n",
      "enzh 5 0\n",
      "0.6888572798132633\n",
      "enzh 5 1\n",
      "0.6888937518236005\n",
      "enzh 5 2\n",
      "0.6943489225126089\n",
      "enzh 5 3\n",
      "0.6979179692384644\n",
      "enzh 5 4\n",
      "0.7004657996748781\n",
      "enzh 5 5\n",
      "0.7027062231670209\n"
     ]
    }
   ],
   "source": [
    "langpair_to_num_src_trg_synonyms_prefix_oracle_allsyn_to_accuracy = {}\n",
    "\n",
    "for langpair_arg in langpair_list:\n",
    "  langpair_to_num_src_trg_synonyms_prefix_oracle_allsyn_to_accuracy[langpair_arg] = {}\n",
    "  translation_dict = msgpack.load(open('translation_dict/' + langpair_arg + '.msgpack', 'rb'), raw=False, strict_map_key=False)\n",
    "  output_list = msgpack.load(open('simulation_output_list/' + langpair_arg + '.msgpack', 'rb'), raw=False, strict_map_key=False)\n",
    "  for num_synonyms_sourcelang in range(6):\n",
    "    for num_synonyms_targetlang in range(6):\n",
    "      if (num_synonyms_sourcelang, num_synonyms_targetlang) in langpair_to_num_src_trg_synonyms_prefix_oracle_allsyn_to_accuracy[langpair_arg]:\n",
    "        continue\n",
    "      src_lang = langpair_arg[0:2]\n",
    "      trg_lang = langpair_arg[2:]\n",
    "      print(langpair_arg, num_synonyms_sourcelang, num_synonyms_targetlang)\n",
    "      words_correct = 0\n",
    "      words_total = 0\n",
    "      #cache_db = langpair_to_cache_db[langpair_arg]\n",
    "      #translation_cache_db = langpair_to_translation_db[langpair_arg]\n",
    "      for src_sentence,trg_sentence,output,google_translate in output_list:\n",
    "        #word_list,delimiter_list = translation_dict[src_sentence]\n",
    "        #cached_result = translation_cache_db.get(key)\n",
    "        #word_set = set(word_list)\n",
    "        word_set = set()\n",
    "        #for word in word_list:\n",
    "        #  for synonym in lookup_synonyms(word, trg_lang, trg_lang, num_synonyms_targetlang): # target to target synonyms\n",
    "        #    word_set.add(synonym)\n",
    "        for word in segment_sentence(src_sentence, src_lang).tokens:\n",
    "          for synonym in lookup_synonyms(word, src_lang, trg_lang, num_synonyms_sourcelang): # source to target synonyms\n",
    "            word_set.add(synonym)\n",
    "        for word_prediction_info in output:\n",
    "          [elapsed_time, is_mt_recompute_needed, next_actual_word, next_predicted_word, is_next_actual_word_anywhere_in_suffix] = word_prediction_info\n",
    "          words_total += 1\n",
    "          is_correct = False\n",
    "          if is_next_actual_word_anywhere_in_suffix:\n",
    "            is_correct = True\n",
    "          if next_actual_word in word_set:\n",
    "            is_correct = True\n",
    "          if not is_correct:\n",
    "            for synonym in lookup_synonyms(next_predicted_word, trg_lang, trg_lang, num_synonyms_targetlang): # target to target synonyms\n",
    "              if synonym == next_actual_word:\n",
    "                is_correct = True\n",
    "          if is_correct:\n",
    "            words_correct += 1\n",
    "      print(words_correct / words_total)\n",
    "      langpair_to_num_src_trg_synonyms_prefix_oracle_allsyn_to_accuracy[langpair_arg][(num_synonyms_sourcelang, num_synonyms_targetlang)] = words_correct / words_total\n"
   ]
  },
  {
   "cell_type": "code",
   "execution_count": 21,
   "metadata": {},
   "outputs": [
    {
     "name": "stdout",
     "output_type": "stream",
     "text": [
      "enes 0 0\n",
      "0.0\n",
      "enes 1 0\n",
      "0.2255353367660601\n",
      "enes 2 0\n",
      "0.29480810884424324\n",
      "enes 3 0\n",
      "0.34186327025589813\n",
      "enes 4 0\n",
      "0.358062800741884\n",
      "enes 5 0\n",
      "0.36474235094227053\n",
      "enzh 0 0\n",
      "0.0\n",
      "enzh 1 0\n",
      "0.12509899545662956\n",
      "enzh 2 0\n",
      "0.15524571714392899\n",
      "enzh 3 0\n",
      "0.17263765578758702\n",
      "enzh 4 0\n",
      "0.18219332249593598\n",
      "enzh 5 0\n",
      "0.18845087741236297\n"
     ]
    }
   ],
   "source": [
    "# noexport\n",
    "\n",
    "langpair_to_num_src_trg_synonyms_nomt_to_accuracy = {}\n",
    "for langpair_arg in langpair_list:\n",
    "  translation_dict = msgpack.load(open('translation_dict/' + langpair_arg + '.msgpack', 'rb'), raw=False, strict_map_key=False)\n",
    "  output_list = msgpack.load(open('simulation_output_list/' + langpair_arg + '.msgpack', 'rb'), raw=False, strict_map_key=False)\n",
    "  langpair_to_num_src_trg_synonyms_nomt_to_accuracy[langpair_arg] = {}\n",
    "  for num_synonyms_sourcelang in range(6):\n",
    "    for num_synonyms_targetlang in range(1):\n",
    "      if (num_synonyms_sourcelang, num_synonyms_targetlang) in langpair_to_num_src_trg_synonyms_nomt_to_accuracy[langpair_arg]:\n",
    "        continue\n",
    "      src_lang = langpair_arg[0:2]\n",
    "      trg_lang = langpair_arg[2:]\n",
    "      print(langpair_arg, num_synonyms_sourcelang, num_synonyms_targetlang)\n",
    "      words_correct = 0\n",
    "      words_total = 0\n",
    "      #cache_db = langpair_to_cache_db[langpair_arg]\n",
    "      #translation_cache_db = langpair_to_translation_db[langpair_arg]\n",
    "      for src_sentence,trg_sentence,output,google_translate in output_list:\n",
    "        word_set = set()\n",
    "        for word in segment_sentence(src_sentence, src_lang).tokens:\n",
    "          for synonym in lookup_synonyms(word, src_lang, trg_lang, num_synonyms_sourcelang): # source to target synonyms\n",
    "            word_set.add(synonym)\n",
    "        for word_info in output:\n",
    "          word_ref = word_info[2]\n",
    "          if word_ref in word_set:\n",
    "            words_correct += 1\n",
    "          words_total += 1\n",
    "      print(words_correct / words_total)\n",
    "      langpair_to_num_src_trg_synonyms_nomt_to_accuracy[langpair_arg][(num_synonyms_sourcelang, num_synonyms_targetlang)] = words_correct / words_total\n",
    "\n"
   ]
  },
  {
   "cell_type": "code",
   "execution_count": 16,
   "metadata": {},
   "outputs": [
    {
     "name": "stdout",
     "output_type": "stream",
     "text": [
      "enes\n",
      "num samples for frac_correct_predictions_list 10593\n",
      "mean over predictions word-weighted 0.6845436505363095\n",
      "mean over fast predictions word-weighted 0.5288777058663312\n",
      "median for frac_correct_predictions_list 0.6666666666666666\n",
      "enzh\n",
      "num samples for frac_correct_predictions_list 11425\n",
      "mean over predictions word-weighted 0.5891375932641407\n",
      "mean over fast predictions word-weighted 0.4474855154016089\n",
      "median for frac_correct_predictions_list 0.5625\n"
     ]
    }
   ],
   "source": [
    "# noexport\n",
    "\n",
    "lang_to_google_translate_accuracy_with_oracle = {}\n",
    "lang_to_baseline_accuracy_with_oracle = {}\n",
    "lang_to_baseline_accuracy = {}\n",
    "lang_to_baseline_accuracy_fast = {}\n",
    "for langpair_arg in langpair_list:\n",
    "  print(langpair_arg)\n",
    "  output_list = msgpack.load(open('simulation_output_list/' + langpair_arg + '.msgpack', 'rb'), raw=False, strict_map_key=False)\n",
    "  frac_correct_predictions_list = []\n",
    "  frac_fast_correct_predictions_list = []\n",
    "  total_time_on_mt_needed_list = []\n",
    "  word_prediction_time_needed_list = []\n",
    "  total_num_correct_predictions_all = 0\n",
    "  total_num_fast_correct_predictions_all = 0\n",
    "  total_num_predictions_all = 0\n",
    "  total_num_predictions_correct_anywhere_in_suffix = 0\n",
    "  total_num_predictions_correct_google_translate = 0\n",
    "  for src_sentence,trg_sentence,output,google_translate in output_list:\n",
    "    num_total_predictions = len(output)\n",
    "    if num_total_predictions == 0:\n",
    "      continue\n",
    "    num_correct_predictions = sum([1 for x in output if x[2] == x[3]])\n",
    "    frac_correct_predictions = num_correct_predictions / num_total_predictions\n",
    "    total_num_correct_predictions_all += num_correct_predictions\n",
    "    total_num_predictions_all += num_total_predictions\n",
    "    \n",
    "    for word_prediction_info in output:\n",
    "      [elapsed_time, is_mt_recompute_needed, next_actual_word, next_predicted_word, is_next_actual_word_anywhere_in_suffix] = word_prediction_info\n",
    "      if is_next_actual_word_anywhere_in_suffix:\n",
    "        total_num_predictions_correct_anywhere_in_suffix += 1\n",
    "      if next_actual_word in google_translate:\n",
    "        total_num_predictions_correct_google_translate += 1\n",
    "\n",
    "    num_fast_correct_predictions = 0\n",
    "    for x in [y for y in output if y[2] == y[3]]:\n",
    "      mt_needed = x[1]\n",
    "      if mt_needed and x[0] > 0.1: # too slow\n",
    "        continue\n",
    "      num_fast_correct_predictions += 1\n",
    "    frac_fast_correct_predictions = num_fast_correct_predictions / num_total_predictions\n",
    "    total_num_fast_correct_predictions_all += num_fast_correct_predictions\n",
    "\n",
    "    frac_fast_correct_predictions_list.append(frac_fast_correct_predictions)\n",
    "    frac_correct_predictions_list.append(frac_correct_predictions)\n",
    "    total_time_on_mt_needed = sum([x[0] for x in output if x[1]])\n",
    "    total_time_on_mt_needed_list.append(total_time_on_mt_needed)\n",
    "    for word_prediction_time_needed in [x[0] for x in output if x[1]]:\n",
    "      word_prediction_time_needed_list.append(word_prediction_time_needed)\n",
    "  \n",
    "  lang_to_google_translate_accuracy_with_oracle[langpair_arg] = total_num_predictions_correct_google_translate / total_num_predictions_all\n",
    "  lang_to_baseline_accuracy_with_oracle[langpair_arg] = total_num_predictions_correct_anywhere_in_suffix / total_num_predictions_all\n",
    "  lang_to_baseline_accuracy[langpair_arg] = total_num_correct_predictions_all / total_num_predictions_all\n",
    "  lang_to_baseline_accuracy_fast[langpair_arg] = total_num_fast_correct_predictions_all / total_num_predictions_all\n",
    "  print('num samples for frac_correct_predictions_list', len(frac_correct_predictions_list))\n",
    "  print('mean over predictions word-weighted', total_num_correct_predictions_all / total_num_predictions_all)\n",
    "  print('mean over fast predictions word-weighted', total_num_fast_correct_predictions_all / total_num_predictions_all)\n",
    "  print('median for frac_correct_predictions_list', np.median(frac_correct_predictions_list))\n",
    "  #plot_histogram(frac_correct_predictions_list)"
   ]
  },
  {
   "cell_type": "code",
   "execution_count": 22,
   "metadata": {},
   "outputs": [
    {
     "data": {
      "application/vnd.plotly.v1+json": {
       "config": {
        "plotlyServerURL": "https://plot.ly"
       },
       "data": [
        {
         "name": "no MT, 5 src syn for each word",
         "type": "bar",
         "x": [
          "enes",
          "enzh"
         ],
         "y": [
          0.36474235094227053,
          0.18845087741236297
         ]
        },
        {
         "name": "prefix-constrained MT",
         "type": "bar",
         "x": [
          "enes",
          "enzh"
         ],
         "y": [
          0.6845436505363095,
          0.5891375932641407
         ]
        },
        {
         "name": "prefix-constrained MT, plus 5 src syn for each word",
         "type": "bar",
         "x": [
          "enes",
          "enzh"
         ],
         "y": [
          0.7495622624868679,
          0.654552748947522
         ]
        },
        {
         "name": "prefix-constrained MT, plus 5 trg syn for *next* word",
         "type": "bar",
         "x": [
          "enes",
          "enzh"
         ],
         "y": [
          0.7044785411343563,
          0.6116356133550082
         ]
        },
        {
         "name": "prefix-constrained MT, plus 5 src syn for each word + 5 trg syn for *next* word",
         "type": "bar",
         "x": [
          "enes",
          "enzh"
         ],
         "y": [
          0.780502198415066,
          0.7027062231670209
         ]
        },
        {
         "name": "prefix-constrained MT with oracle",
         "type": "bar",
         "x": [
          "enes",
          "enzh"
         ],
         "y": [
          0.7321111269633338,
          0.6397034304530865
         ]
        },
        {
         "name": "prefix-constrained MT with oracle, plus 5 src syn for each word",
         "type": "bar",
         "x": [
          "enes",
          "enzh"
         ],
         "y": [
          0.7740366532210996,
          0.6888572798132633
         ]
        },
        {
         "name": "prefix-constrained MT with oracle, plus 5 trg syn for *next* word",
         "type": "bar",
         "x": [
          "enes",
          "enzh"
         ],
         "y": [
          0.7498800274964008,
          0.6615970572297946
         ]
        },
        {
         "name": "prefix-constrained MT with oracle, plus 5 src syn for each word + 5 trg syn for *next* word",
         "type": "bar",
         "x": [
          "enes",
          "enzh"
         ],
         "y": [
          0.780502198415066,
          0.7027062231670209
         ]
        },
        {
         "name": "fixed MT with oracle",
         "type": "bar",
         "x": [
          "enes",
          "enzh"
         ],
         "y": [
          0.6869625556088766,
          0.6457994664665916
         ]
        },
        {
         "name": "fixed MT with oracle, plus 5 src syn for each word",
         "type": "bar",
         "x": [
          "enes",
          "enzh"
         ],
         "y": [
          0.7288880818666424,
          0.6877891709391022
         ]
        },
        {
         "name": "fixed MT with oracle, plus 5 trg syn for each word",
         "type": "bar",
         "x": [
          "enes",
          "enzh"
         ],
         "y": [
          0.723589836707695,
          0.6785200700262598
         ]
        },
        {
         "name": "fixed MT with oracle, plus 5 src syn + 5 trg syn for each word",
         "type": "bar",
         "x": [
          "enes",
          "enzh"
         ],
         "y": [
          0.741676502250295,
          0.7088543620524363
         ]
        },
        {
         "name": "google translate with oracle",
         "type": "bar",
         "x": [
          "enes",
          "enzh"
         ],
         "y": [
          0.7166249464987484,
          0.7740454753866033
         ]
        },
        {
         "name": "google translate with oracle, plus 5 src syn for each word",
         "type": "bar",
         "x": [
          "enes",
          "enzh"
         ],
         "y": [
          0.7578630627358919,
          0.7986328206410738
         ]
        },
        {
         "name": "google translate with oracle, plus 5 trg syn for each word",
         "type": "bar",
         "x": [
          "enes",
          "enzh"
         ],
         "y": [
          0.7526102125783064,
          0.7949283064482514
         ]
        },
        {
         "name": "google translate with oracle, plus 5 src syn + 5 trg syn for each word",
         "type": "bar",
         "x": [
          "enes",
          "enzh"
         ],
         "y": [
          0.77071633312149,
          0.8118825809678629
         ]
        }
       ],
       "layout": {
        "barmode": "group",
        "template": {
         "data": {
          "bar": [
           {
            "error_x": {
             "color": "#2a3f5f"
            },
            "error_y": {
             "color": "#2a3f5f"
            },
            "marker": {
             "line": {
              "color": "#E5ECF6",
              "width": 0.5
             }
            },
            "type": "bar"
           }
          ],
          "barpolar": [
           {
            "marker": {
             "line": {
              "color": "#E5ECF6",
              "width": 0.5
             }
            },
            "type": "barpolar"
           }
          ],
          "carpet": [
           {
            "aaxis": {
             "endlinecolor": "#2a3f5f",
             "gridcolor": "white",
             "linecolor": "white",
             "minorgridcolor": "white",
             "startlinecolor": "#2a3f5f"
            },
            "baxis": {
             "endlinecolor": "#2a3f5f",
             "gridcolor": "white",
             "linecolor": "white",
             "minorgridcolor": "white",
             "startlinecolor": "#2a3f5f"
            },
            "type": "carpet"
           }
          ],
          "choropleth": [
           {
            "colorbar": {
             "outlinewidth": 0,
             "ticks": ""
            },
            "type": "choropleth"
           }
          ],
          "contour": [
           {
            "colorbar": {
             "outlinewidth": 0,
             "ticks": ""
            },
            "colorscale": [
             [
              0,
              "#0d0887"
             ],
             [
              0.1111111111111111,
              "#46039f"
             ],
             [
              0.2222222222222222,
              "#7201a8"
             ],
             [
              0.3333333333333333,
              "#9c179e"
             ],
             [
              0.4444444444444444,
              "#bd3786"
             ],
             [
              0.5555555555555556,
              "#d8576b"
             ],
             [
              0.6666666666666666,
              "#ed7953"
             ],
             [
              0.7777777777777778,
              "#fb9f3a"
             ],
             [
              0.8888888888888888,
              "#fdca26"
             ],
             [
              1,
              "#f0f921"
             ]
            ],
            "type": "contour"
           }
          ],
          "contourcarpet": [
           {
            "colorbar": {
             "outlinewidth": 0,
             "ticks": ""
            },
            "type": "contourcarpet"
           }
          ],
          "heatmap": [
           {
            "colorbar": {
             "outlinewidth": 0,
             "ticks": ""
            },
            "colorscale": [
             [
              0,
              "#0d0887"
             ],
             [
              0.1111111111111111,
              "#46039f"
             ],
             [
              0.2222222222222222,
              "#7201a8"
             ],
             [
              0.3333333333333333,
              "#9c179e"
             ],
             [
              0.4444444444444444,
              "#bd3786"
             ],
             [
              0.5555555555555556,
              "#d8576b"
             ],
             [
              0.6666666666666666,
              "#ed7953"
             ],
             [
              0.7777777777777778,
              "#fb9f3a"
             ],
             [
              0.8888888888888888,
              "#fdca26"
             ],
             [
              1,
              "#f0f921"
             ]
            ],
            "type": "heatmap"
           }
          ],
          "heatmapgl": [
           {
            "colorbar": {
             "outlinewidth": 0,
             "ticks": ""
            },
            "colorscale": [
             [
              0,
              "#0d0887"
             ],
             [
              0.1111111111111111,
              "#46039f"
             ],
             [
              0.2222222222222222,
              "#7201a8"
             ],
             [
              0.3333333333333333,
              "#9c179e"
             ],
             [
              0.4444444444444444,
              "#bd3786"
             ],
             [
              0.5555555555555556,
              "#d8576b"
             ],
             [
              0.6666666666666666,
              "#ed7953"
             ],
             [
              0.7777777777777778,
              "#fb9f3a"
             ],
             [
              0.8888888888888888,
              "#fdca26"
             ],
             [
              1,
              "#f0f921"
             ]
            ],
            "type": "heatmapgl"
           }
          ],
          "histogram": [
           {
            "marker": {
             "colorbar": {
              "outlinewidth": 0,
              "ticks": ""
             }
            },
            "type": "histogram"
           }
          ],
          "histogram2d": [
           {
            "colorbar": {
             "outlinewidth": 0,
             "ticks": ""
            },
            "colorscale": [
             [
              0,
              "#0d0887"
             ],
             [
              0.1111111111111111,
              "#46039f"
             ],
             [
              0.2222222222222222,
              "#7201a8"
             ],
             [
              0.3333333333333333,
              "#9c179e"
             ],
             [
              0.4444444444444444,
              "#bd3786"
             ],
             [
              0.5555555555555556,
              "#d8576b"
             ],
             [
              0.6666666666666666,
              "#ed7953"
             ],
             [
              0.7777777777777778,
              "#fb9f3a"
             ],
             [
              0.8888888888888888,
              "#fdca26"
             ],
             [
              1,
              "#f0f921"
             ]
            ],
            "type": "histogram2d"
           }
          ],
          "histogram2dcontour": [
           {
            "colorbar": {
             "outlinewidth": 0,
             "ticks": ""
            },
            "colorscale": [
             [
              0,
              "#0d0887"
             ],
             [
              0.1111111111111111,
              "#46039f"
             ],
             [
              0.2222222222222222,
              "#7201a8"
             ],
             [
              0.3333333333333333,
              "#9c179e"
             ],
             [
              0.4444444444444444,
              "#bd3786"
             ],
             [
              0.5555555555555556,
              "#d8576b"
             ],
             [
              0.6666666666666666,
              "#ed7953"
             ],
             [
              0.7777777777777778,
              "#fb9f3a"
             ],
             [
              0.8888888888888888,
              "#fdca26"
             ],
             [
              1,
              "#f0f921"
             ]
            ],
            "type": "histogram2dcontour"
           }
          ],
          "mesh3d": [
           {
            "colorbar": {
             "outlinewidth": 0,
             "ticks": ""
            },
            "type": "mesh3d"
           }
          ],
          "parcoords": [
           {
            "line": {
             "colorbar": {
              "outlinewidth": 0,
              "ticks": ""
             }
            },
            "type": "parcoords"
           }
          ],
          "pie": [
           {
            "automargin": true,
            "type": "pie"
           }
          ],
          "scatter": [
           {
            "marker": {
             "colorbar": {
              "outlinewidth": 0,
              "ticks": ""
             }
            },
            "type": "scatter"
           }
          ],
          "scatter3d": [
           {
            "line": {
             "colorbar": {
              "outlinewidth": 0,
              "ticks": ""
             }
            },
            "marker": {
             "colorbar": {
              "outlinewidth": 0,
              "ticks": ""
             }
            },
            "type": "scatter3d"
           }
          ],
          "scattercarpet": [
           {
            "marker": {
             "colorbar": {
              "outlinewidth": 0,
              "ticks": ""
             }
            },
            "type": "scattercarpet"
           }
          ],
          "scattergeo": [
           {
            "marker": {
             "colorbar": {
              "outlinewidth": 0,
              "ticks": ""
             }
            },
            "type": "scattergeo"
           }
          ],
          "scattergl": [
           {
            "marker": {
             "colorbar": {
              "outlinewidth": 0,
              "ticks": ""
             }
            },
            "type": "scattergl"
           }
          ],
          "scattermapbox": [
           {
            "marker": {
             "colorbar": {
              "outlinewidth": 0,
              "ticks": ""
             }
            },
            "type": "scattermapbox"
           }
          ],
          "scatterpolar": [
           {
            "marker": {
             "colorbar": {
              "outlinewidth": 0,
              "ticks": ""
             }
            },
            "type": "scatterpolar"
           }
          ],
          "scatterpolargl": [
           {
            "marker": {
             "colorbar": {
              "outlinewidth": 0,
              "ticks": ""
             }
            },
            "type": "scatterpolargl"
           }
          ],
          "scatterternary": [
           {
            "marker": {
             "colorbar": {
              "outlinewidth": 0,
              "ticks": ""
             }
            },
            "type": "scatterternary"
           }
          ],
          "surface": [
           {
            "colorbar": {
             "outlinewidth": 0,
             "ticks": ""
            },
            "colorscale": [
             [
              0,
              "#0d0887"
             ],
             [
              0.1111111111111111,
              "#46039f"
             ],
             [
              0.2222222222222222,
              "#7201a8"
             ],
             [
              0.3333333333333333,
              "#9c179e"
             ],
             [
              0.4444444444444444,
              "#bd3786"
             ],
             [
              0.5555555555555556,
              "#d8576b"
             ],
             [
              0.6666666666666666,
              "#ed7953"
             ],
             [
              0.7777777777777778,
              "#fb9f3a"
             ],
             [
              0.8888888888888888,
              "#fdca26"
             ],
             [
              1,
              "#f0f921"
             ]
            ],
            "type": "surface"
           }
          ],
          "table": [
           {
            "cells": {
             "fill": {
              "color": "#EBF0F8"
             },
             "line": {
              "color": "white"
             }
            },
            "header": {
             "fill": {
              "color": "#C8D4E3"
             },
             "line": {
              "color": "white"
             }
            },
            "type": "table"
           }
          ]
         },
         "layout": {
          "annotationdefaults": {
           "arrowcolor": "#2a3f5f",
           "arrowhead": 0,
           "arrowwidth": 1
          },
          "autotypenumbers": "strict",
          "coloraxis": {
           "colorbar": {
            "outlinewidth": 0,
            "ticks": ""
           }
          },
          "colorscale": {
           "diverging": [
            [
             0,
             "#8e0152"
            ],
            [
             0.1,
             "#c51b7d"
            ],
            [
             0.2,
             "#de77ae"
            ],
            [
             0.3,
             "#f1b6da"
            ],
            [
             0.4,
             "#fde0ef"
            ],
            [
             0.5,
             "#f7f7f7"
            ],
            [
             0.6,
             "#e6f5d0"
            ],
            [
             0.7,
             "#b8e186"
            ],
            [
             0.8,
             "#7fbc41"
            ],
            [
             0.9,
             "#4d9221"
            ],
            [
             1,
             "#276419"
            ]
           ],
           "sequential": [
            [
             0,
             "#0d0887"
            ],
            [
             0.1111111111111111,
             "#46039f"
            ],
            [
             0.2222222222222222,
             "#7201a8"
            ],
            [
             0.3333333333333333,
             "#9c179e"
            ],
            [
             0.4444444444444444,
             "#bd3786"
            ],
            [
             0.5555555555555556,
             "#d8576b"
            ],
            [
             0.6666666666666666,
             "#ed7953"
            ],
            [
             0.7777777777777778,
             "#fb9f3a"
            ],
            [
             0.8888888888888888,
             "#fdca26"
            ],
            [
             1,
             "#f0f921"
            ]
           ],
           "sequentialminus": [
            [
             0,
             "#0d0887"
            ],
            [
             0.1111111111111111,
             "#46039f"
            ],
            [
             0.2222222222222222,
             "#7201a8"
            ],
            [
             0.3333333333333333,
             "#9c179e"
            ],
            [
             0.4444444444444444,
             "#bd3786"
            ],
            [
             0.5555555555555556,
             "#d8576b"
            ],
            [
             0.6666666666666666,
             "#ed7953"
            ],
            [
             0.7777777777777778,
             "#fb9f3a"
            ],
            [
             0.8888888888888888,
             "#fdca26"
            ],
            [
             1,
             "#f0f921"
            ]
           ]
          },
          "colorway": [
           "#636efa",
           "#EF553B",
           "#00cc96",
           "#ab63fa",
           "#FFA15A",
           "#19d3f3",
           "#FF6692",
           "#B6E880",
           "#FF97FF",
           "#FECB52"
          ],
          "font": {
           "color": "#2a3f5f"
          },
          "geo": {
           "bgcolor": "white",
           "lakecolor": "white",
           "landcolor": "#E5ECF6",
           "showlakes": true,
           "showland": true,
           "subunitcolor": "white"
          },
          "hoverlabel": {
           "align": "left"
          },
          "hovermode": "closest",
          "mapbox": {
           "style": "light"
          },
          "paper_bgcolor": "white",
          "plot_bgcolor": "#E5ECF6",
          "polar": {
           "angularaxis": {
            "gridcolor": "white",
            "linecolor": "white",
            "ticks": ""
           },
           "bgcolor": "#E5ECF6",
           "radialaxis": {
            "gridcolor": "white",
            "linecolor": "white",
            "ticks": ""
           }
          },
          "scene": {
           "xaxis": {
            "backgroundcolor": "#E5ECF6",
            "gridcolor": "white",
            "gridwidth": 2,
            "linecolor": "white",
            "showbackground": true,
            "ticks": "",
            "zerolinecolor": "white"
           },
           "yaxis": {
            "backgroundcolor": "#E5ECF6",
            "gridcolor": "white",
            "gridwidth": 2,
            "linecolor": "white",
            "showbackground": true,
            "ticks": "",
            "zerolinecolor": "white"
           },
           "zaxis": {
            "backgroundcolor": "#E5ECF6",
            "gridcolor": "white",
            "gridwidth": 2,
            "linecolor": "white",
            "showbackground": true,
            "ticks": "",
            "zerolinecolor": "white"
           }
          },
          "shapedefaults": {
           "line": {
            "color": "#2a3f5f"
           }
          },
          "ternary": {
           "aaxis": {
            "gridcolor": "white",
            "linecolor": "white",
            "ticks": ""
           },
           "baxis": {
            "gridcolor": "white",
            "linecolor": "white",
            "ticks": ""
           },
           "bgcolor": "#E5ECF6",
           "caxis": {
            "gridcolor": "white",
            "linecolor": "white",
            "ticks": ""
           }
          },
          "title": {
           "x": 0.05
          },
          "xaxis": {
           "automargin": true,
           "gridcolor": "white",
           "linecolor": "white",
           "ticks": "",
           "title": {
            "standoff": 15
           },
           "zerolinecolor": "white",
           "zerolinewidth": 2
          },
          "yaxis": {
           "automargin": true,
           "gridcolor": "white",
           "linecolor": "white",
           "ticks": "",
           "title": {
            "standoff": 15
           },
           "zerolinecolor": "white",
           "zerolinewidth": 2
          }
         }
        }
       }
      },
      "text/html": [
       "<div>                            <div id=\"fa4ee0b9-8d92-45ab-b3ad-f6996dc9c85e\" class=\"plotly-graph-div\" style=\"height:525px; width:100%;\"></div>            <script type=\"text/javascript\">                require([\"plotly\"], function(Plotly) {                    window.PLOTLYENV=window.PLOTLYENV || {};                                    if (document.getElementById(\"fa4ee0b9-8d92-45ab-b3ad-f6996dc9c85e\")) {                    Plotly.newPlot(                        \"fa4ee0b9-8d92-45ab-b3ad-f6996dc9c85e\",                        [{\"name\": \"no MT, 5 src syn for each word\", \"type\": \"bar\", \"x\": [\"enes\", \"enzh\"], \"y\": [0.36474235094227053, 0.18845087741236297]}, {\"name\": \"prefix-constrained MT\", \"type\": \"bar\", \"x\": [\"enes\", \"enzh\"], \"y\": [0.6845436505363095, 0.5891375932641407]}, {\"name\": \"prefix-constrained MT, plus 5 src syn for each word\", \"type\": \"bar\", \"x\": [\"enes\", \"enzh\"], \"y\": [0.7495622624868679, 0.654552748947522]}, {\"name\": \"prefix-constrained MT, plus 5 trg syn for *next* word\", \"type\": \"bar\", \"x\": [\"enes\", \"enzh\"], \"y\": [0.7044785411343563, 0.6116356133550082]}, {\"name\": \"prefix-constrained MT, plus 5 src syn for each word + 5 trg syn for *next* word\", \"type\": \"bar\", \"x\": [\"enes\", \"enzh\"], \"y\": [0.780502198415066, 0.7027062231670209]}, {\"name\": \"prefix-constrained MT with oracle\", \"type\": \"bar\", \"x\": [\"enes\", \"enzh\"], \"y\": [0.7321111269633338, 0.6397034304530865]}, {\"name\": \"prefix-constrained MT with oracle, plus 5 src syn for each word\", \"type\": \"bar\", \"x\": [\"enes\", \"enzh\"], \"y\": [0.7740366532210996, 0.6888572798132633]}, {\"name\": \"prefix-constrained MT with oracle, plus 5 trg syn for *next* word\", \"type\": \"bar\", \"x\": [\"enes\", \"enzh\"], \"y\": [0.7498800274964008, 0.6615970572297946]}, {\"name\": \"prefix-constrained MT with oracle, plus 5 src syn for each word + 5 trg syn for *next* word\", \"type\": \"bar\", \"x\": [\"enes\", \"enzh\"], \"y\": [0.780502198415066, 0.7027062231670209]}, {\"name\": \"fixed MT with oracle\", \"type\": \"bar\", \"x\": [\"enes\", \"enzh\"], \"y\": [0.6869625556088766, 0.6457994664665916]}, {\"name\": \"fixed MT with oracle, plus 5 src syn for each word\", \"type\": \"bar\", \"x\": [\"enes\", \"enzh\"], \"y\": [0.7288880818666424, 0.6877891709391022]}, {\"name\": \"fixed MT with oracle, plus 5 trg syn for each word\", \"type\": \"bar\", \"x\": [\"enes\", \"enzh\"], \"y\": [0.723589836707695, 0.6785200700262598]}, {\"name\": \"fixed MT with oracle, plus 5 src syn + 5 trg syn for each word\", \"type\": \"bar\", \"x\": [\"enes\", \"enzh\"], \"y\": [0.741676502250295, 0.7088543620524363]}, {\"name\": \"google translate with oracle\", \"type\": \"bar\", \"x\": [\"enes\", \"enzh\"], \"y\": [0.7166249464987484, 0.7740454753866033]}, {\"name\": \"google translate with oracle, plus 5 src syn for each word\", \"type\": \"bar\", \"x\": [\"enes\", \"enzh\"], \"y\": [0.7578630627358919, 0.7986328206410738]}, {\"name\": \"google translate with oracle, plus 5 trg syn for each word\", \"type\": \"bar\", \"x\": [\"enes\", \"enzh\"], \"y\": [0.7526102125783064, 0.7949283064482514]}, {\"name\": \"google translate with oracle, plus 5 src syn + 5 trg syn for each word\", \"type\": \"bar\", \"x\": [\"enes\", \"enzh\"], \"y\": [0.77071633312149, 0.8118825809678629]}],                        {\"barmode\": \"group\", \"template\": {\"data\": {\"bar\": [{\"error_x\": {\"color\": \"#2a3f5f\"}, \"error_y\": {\"color\": \"#2a3f5f\"}, \"marker\": {\"line\": {\"color\": \"#E5ECF6\", \"width\": 0.5}}, \"type\": \"bar\"}], \"barpolar\": [{\"marker\": {\"line\": {\"color\": \"#E5ECF6\", \"width\": 0.5}}, \"type\": \"barpolar\"}], \"carpet\": [{\"aaxis\": {\"endlinecolor\": \"#2a3f5f\", \"gridcolor\": \"white\", \"linecolor\": \"white\", \"minorgridcolor\": \"white\", \"startlinecolor\": \"#2a3f5f\"}, \"baxis\": {\"endlinecolor\": \"#2a3f5f\", \"gridcolor\": \"white\", \"linecolor\": \"white\", \"minorgridcolor\": \"white\", \"startlinecolor\": \"#2a3f5f\"}, \"type\": \"carpet\"}], \"choropleth\": [{\"colorbar\": {\"outlinewidth\": 0, \"ticks\": \"\"}, \"type\": \"choropleth\"}], \"contour\": [{\"colorbar\": {\"outlinewidth\": 0, \"ticks\": \"\"}, \"colorscale\": [[0.0, \"#0d0887\"], [0.1111111111111111, \"#46039f\"], [0.2222222222222222, \"#7201a8\"], [0.3333333333333333, \"#9c179e\"], [0.4444444444444444, \"#bd3786\"], [0.5555555555555556, \"#d8576b\"], [0.6666666666666666, \"#ed7953\"], [0.7777777777777778, \"#fb9f3a\"], [0.8888888888888888, \"#fdca26\"], [1.0, \"#f0f921\"]], \"type\": \"contour\"}], \"contourcarpet\": [{\"colorbar\": {\"outlinewidth\": 0, \"ticks\": \"\"}, \"type\": \"contourcarpet\"}], \"heatmap\": [{\"colorbar\": {\"outlinewidth\": 0, \"ticks\": \"\"}, \"colorscale\": [[0.0, \"#0d0887\"], [0.1111111111111111, \"#46039f\"], [0.2222222222222222, \"#7201a8\"], [0.3333333333333333, \"#9c179e\"], [0.4444444444444444, \"#bd3786\"], [0.5555555555555556, \"#d8576b\"], [0.6666666666666666, \"#ed7953\"], [0.7777777777777778, \"#fb9f3a\"], [0.8888888888888888, \"#fdca26\"], [1.0, \"#f0f921\"]], \"type\": \"heatmap\"}], \"heatmapgl\": [{\"colorbar\": {\"outlinewidth\": 0, \"ticks\": \"\"}, \"colorscale\": [[0.0, \"#0d0887\"], [0.1111111111111111, \"#46039f\"], [0.2222222222222222, \"#7201a8\"], [0.3333333333333333, \"#9c179e\"], [0.4444444444444444, \"#bd3786\"], [0.5555555555555556, \"#d8576b\"], [0.6666666666666666, \"#ed7953\"], [0.7777777777777778, \"#fb9f3a\"], [0.8888888888888888, \"#fdca26\"], [1.0, \"#f0f921\"]], \"type\": \"heatmapgl\"}], \"histogram\": [{\"marker\": {\"colorbar\": {\"outlinewidth\": 0, \"ticks\": \"\"}}, \"type\": \"histogram\"}], \"histogram2d\": [{\"colorbar\": {\"outlinewidth\": 0, \"ticks\": \"\"}, \"colorscale\": [[0.0, \"#0d0887\"], [0.1111111111111111, \"#46039f\"], [0.2222222222222222, \"#7201a8\"], [0.3333333333333333, \"#9c179e\"], [0.4444444444444444, \"#bd3786\"], [0.5555555555555556, \"#d8576b\"], [0.6666666666666666, \"#ed7953\"], [0.7777777777777778, \"#fb9f3a\"], [0.8888888888888888, \"#fdca26\"], [1.0, \"#f0f921\"]], \"type\": \"histogram2d\"}], \"histogram2dcontour\": [{\"colorbar\": {\"outlinewidth\": 0, \"ticks\": \"\"}, \"colorscale\": [[0.0, \"#0d0887\"], [0.1111111111111111, \"#46039f\"], [0.2222222222222222, \"#7201a8\"], [0.3333333333333333, \"#9c179e\"], [0.4444444444444444, \"#bd3786\"], [0.5555555555555556, \"#d8576b\"], [0.6666666666666666, \"#ed7953\"], [0.7777777777777778, \"#fb9f3a\"], [0.8888888888888888, \"#fdca26\"], [1.0, \"#f0f921\"]], \"type\": \"histogram2dcontour\"}], \"mesh3d\": [{\"colorbar\": {\"outlinewidth\": 0, \"ticks\": \"\"}, \"type\": \"mesh3d\"}], \"parcoords\": [{\"line\": {\"colorbar\": {\"outlinewidth\": 0, \"ticks\": \"\"}}, \"type\": \"parcoords\"}], \"pie\": [{\"automargin\": true, \"type\": \"pie\"}], \"scatter\": [{\"marker\": {\"colorbar\": {\"outlinewidth\": 0, \"ticks\": \"\"}}, \"type\": \"scatter\"}], \"scatter3d\": [{\"line\": {\"colorbar\": {\"outlinewidth\": 0, \"ticks\": \"\"}}, \"marker\": {\"colorbar\": {\"outlinewidth\": 0, \"ticks\": \"\"}}, \"type\": \"scatter3d\"}], \"scattercarpet\": [{\"marker\": {\"colorbar\": {\"outlinewidth\": 0, \"ticks\": \"\"}}, \"type\": \"scattercarpet\"}], \"scattergeo\": [{\"marker\": {\"colorbar\": {\"outlinewidth\": 0, \"ticks\": \"\"}}, \"type\": \"scattergeo\"}], \"scattergl\": [{\"marker\": {\"colorbar\": {\"outlinewidth\": 0, \"ticks\": \"\"}}, \"type\": \"scattergl\"}], \"scattermapbox\": [{\"marker\": {\"colorbar\": {\"outlinewidth\": 0, \"ticks\": \"\"}}, \"type\": \"scattermapbox\"}], \"scatterpolar\": [{\"marker\": {\"colorbar\": {\"outlinewidth\": 0, \"ticks\": \"\"}}, \"type\": \"scatterpolar\"}], \"scatterpolargl\": [{\"marker\": {\"colorbar\": {\"outlinewidth\": 0, \"ticks\": \"\"}}, \"type\": \"scatterpolargl\"}], \"scatterternary\": [{\"marker\": {\"colorbar\": {\"outlinewidth\": 0, \"ticks\": \"\"}}, \"type\": \"scatterternary\"}], \"surface\": [{\"colorbar\": {\"outlinewidth\": 0, \"ticks\": \"\"}, \"colorscale\": [[0.0, \"#0d0887\"], [0.1111111111111111, \"#46039f\"], [0.2222222222222222, \"#7201a8\"], [0.3333333333333333, \"#9c179e\"], [0.4444444444444444, \"#bd3786\"], [0.5555555555555556, \"#d8576b\"], [0.6666666666666666, \"#ed7953\"], [0.7777777777777778, \"#fb9f3a\"], [0.8888888888888888, \"#fdca26\"], [1.0, \"#f0f921\"]], \"type\": \"surface\"}], \"table\": [{\"cells\": {\"fill\": {\"color\": \"#EBF0F8\"}, \"line\": {\"color\": \"white\"}}, \"header\": {\"fill\": {\"color\": \"#C8D4E3\"}, \"line\": {\"color\": \"white\"}}, \"type\": \"table\"}]}, \"layout\": {\"annotationdefaults\": {\"arrowcolor\": \"#2a3f5f\", \"arrowhead\": 0, \"arrowwidth\": 1}, \"autotypenumbers\": \"strict\", \"coloraxis\": {\"colorbar\": {\"outlinewidth\": 0, \"ticks\": \"\"}}, \"colorscale\": {\"diverging\": [[0, \"#8e0152\"], [0.1, \"#c51b7d\"], [0.2, \"#de77ae\"], [0.3, \"#f1b6da\"], [0.4, \"#fde0ef\"], [0.5, \"#f7f7f7\"], [0.6, \"#e6f5d0\"], [0.7, \"#b8e186\"], [0.8, \"#7fbc41\"], [0.9, \"#4d9221\"], [1, \"#276419\"]], \"sequential\": [[0.0, \"#0d0887\"], [0.1111111111111111, \"#46039f\"], [0.2222222222222222, \"#7201a8\"], [0.3333333333333333, \"#9c179e\"], [0.4444444444444444, \"#bd3786\"], [0.5555555555555556, \"#d8576b\"], [0.6666666666666666, \"#ed7953\"], [0.7777777777777778, \"#fb9f3a\"], [0.8888888888888888, \"#fdca26\"], [1.0, \"#f0f921\"]], \"sequentialminus\": [[0.0, \"#0d0887\"], [0.1111111111111111, \"#46039f\"], [0.2222222222222222, \"#7201a8\"], [0.3333333333333333, \"#9c179e\"], [0.4444444444444444, \"#bd3786\"], [0.5555555555555556, \"#d8576b\"], [0.6666666666666666, \"#ed7953\"], [0.7777777777777778, \"#fb9f3a\"], [0.8888888888888888, \"#fdca26\"], [1.0, \"#f0f921\"]]}, \"colorway\": [\"#636efa\", \"#EF553B\", \"#00cc96\", \"#ab63fa\", \"#FFA15A\", \"#19d3f3\", \"#FF6692\", \"#B6E880\", \"#FF97FF\", \"#FECB52\"], \"font\": {\"color\": \"#2a3f5f\"}, \"geo\": {\"bgcolor\": \"white\", \"lakecolor\": \"white\", \"landcolor\": \"#E5ECF6\", \"showlakes\": true, \"showland\": true, \"subunitcolor\": \"white\"}, \"hoverlabel\": {\"align\": \"left\"}, \"hovermode\": \"closest\", \"mapbox\": {\"style\": \"light\"}, \"paper_bgcolor\": \"white\", \"plot_bgcolor\": \"#E5ECF6\", \"polar\": {\"angularaxis\": {\"gridcolor\": \"white\", \"linecolor\": \"white\", \"ticks\": \"\"}, \"bgcolor\": \"#E5ECF6\", \"radialaxis\": {\"gridcolor\": \"white\", \"linecolor\": \"white\", \"ticks\": \"\"}}, \"scene\": {\"xaxis\": {\"backgroundcolor\": \"#E5ECF6\", \"gridcolor\": \"white\", \"gridwidth\": 2, \"linecolor\": \"white\", \"showbackground\": true, \"ticks\": \"\", \"zerolinecolor\": \"white\"}, \"yaxis\": {\"backgroundcolor\": \"#E5ECF6\", \"gridcolor\": \"white\", \"gridwidth\": 2, \"linecolor\": \"white\", \"showbackground\": true, \"ticks\": \"\", \"zerolinecolor\": \"white\"}, \"zaxis\": {\"backgroundcolor\": \"#E5ECF6\", \"gridcolor\": \"white\", \"gridwidth\": 2, \"linecolor\": \"white\", \"showbackground\": true, \"ticks\": \"\", \"zerolinecolor\": \"white\"}}, \"shapedefaults\": {\"line\": {\"color\": \"#2a3f5f\"}}, \"ternary\": {\"aaxis\": {\"gridcolor\": \"white\", \"linecolor\": \"white\", \"ticks\": \"\"}, \"baxis\": {\"gridcolor\": \"white\", \"linecolor\": \"white\", \"ticks\": \"\"}, \"bgcolor\": \"#E5ECF6\", \"caxis\": {\"gridcolor\": \"white\", \"linecolor\": \"white\", \"ticks\": \"\"}}, \"title\": {\"x\": 0.05}, \"xaxis\": {\"automargin\": true, \"gridcolor\": \"white\", \"linecolor\": \"white\", \"ticks\": \"\", \"title\": {\"standoff\": 15}, \"zerolinecolor\": \"white\", \"zerolinewidth\": 2}, \"yaxis\": {\"automargin\": true, \"gridcolor\": \"white\", \"linecolor\": \"white\", \"ticks\": \"\", \"title\": {\"standoff\": 15}, \"zerolinecolor\": \"white\", \"zerolinewidth\": 2}}}},                        {\"responsive\": true}                    ).then(function(){\n",
       "                            \n",
       "var gd = document.getElementById('fa4ee0b9-8d92-45ab-b3ad-f6996dc9c85e');\n",
       "var x = new MutationObserver(function (mutations, observer) {{\n",
       "        var display = window.getComputedStyle(gd).display;\n",
       "        if (!display || display === 'none') {{\n",
       "            console.log([gd, 'removed!']);\n",
       "            Plotly.purge(gd);\n",
       "            observer.disconnect();\n",
       "        }}\n",
       "}});\n",
       "\n",
       "// Listen for the removal of the full notebook cells\n",
       "var notebookContainer = gd.closest('#notebook-container');\n",
       "if (notebookContainer) {{\n",
       "    x.observe(notebookContainer, {childList: true});\n",
       "}}\n",
       "\n",
       "// Listen for the clearing of the current output cell\n",
       "var outputEl = gd.closest('.output');\n",
       "if (outputEl) {{\n",
       "    x.observe(outputEl, {childList: true});\n",
       "}}\n",
       "\n",
       "                        })                };                });            </script>        </div>"
      ]
     },
     "metadata": {},
     "output_type": "display_data"
    }
   ],
   "source": [
    "# noexport\n",
    "\n",
    "import plotly.graph_objects as go\n",
    "\n",
    "fig = go.Figure(data=[\n",
    "    go.Bar(name='no MT, 5 src syn for each word', x=langpair_list, y=[langpair_to_num_src_trg_synonyms_nomt_to_accuracy[lang][(5, 0)] for lang in langpair_list]),\n",
    "    go.Bar(name='prefix-constrained MT', x=langpair_list, y=[lang_to_baseline_accuracy[lang] for lang in langpair_list]),\n",
    "    go.Bar(name='prefix-constrained MT, plus 5 src syn for each word', x=langpair_list, y=[langpair_to_num_src_trg_synonyms_prefix_nextword_to_accuracy[lang][(5,0)] for lang in langpair_list]),\n",
    "    go.Bar(name='prefix-constrained MT, plus 5 trg syn for *next* word', x=langpair_list, y=[langpair_to_num_src_trg_synonyms_prefix_nextword_to_accuracy[lang][(0,5)] for lang in langpair_list]),\n",
    "    go.Bar(name='prefix-constrained MT, plus 5 src syn for each word + 5 trg syn for *next* word', x=langpair_list, y=[langpair_to_num_src_trg_synonyms_prefix_oracle_allsyn_to_accuracy[lang][(5,5)] for lang in langpair_list]),\n",
    "    go.Bar(name='prefix-constrained MT with oracle', x=langpair_list, y=[lang_to_baseline_accuracy_with_oracle[lang] for lang in langpair_list]),\n",
    "    go.Bar(name='prefix-constrained MT with oracle, plus 5 src syn for each word', x=langpair_list, y=[langpair_to_num_src_trg_synonyms_prefix_oracle_to_accuracy[lang][(5,0)] for lang in langpair_list]),\n",
    "    go.Bar(name='prefix-constrained MT with oracle, plus 5 trg syn for *next* word', x=langpair_list, y=[langpair_to_num_src_trg_synonyms_prefix_oracle_to_accuracy[lang][(0,5)] for lang in langpair_list]),\n",
    "    go.Bar(name='prefix-constrained MT with oracle, plus 5 src syn for each word + 5 trg syn for *next* word', x=langpair_list, y=[langpair_to_num_src_trg_synonyms_prefix_oracle_allsyn_to_accuracy[lang][(5,5)] for lang in langpair_list]),\n",
    "    go.Bar(name='fixed MT with oracle', x=langpair_list, y=[langpair_to_oracle_accuracy[lang] for lang in langpair_list]),\n",
    "    go.Bar(name='fixed MT with oracle, plus 5 src syn for each word', x=langpair_list, y=[langpair_to_num_src_trg_synonyms_to_accuracy[lang][(5,0)] for lang in langpair_list]),\n",
    "    go.Bar(name='fixed MT with oracle, plus 5 trg syn for each word', x=langpair_list, y=[langpair_to_num_src_trg_synonyms_to_accuracy[lang][(0,5)] for lang in langpair_list]),\n",
    "    go.Bar(name='fixed MT with oracle, plus 5 src syn + 5 trg syn for each word', x=langpair_list, y=[langpair_to_num_src_trg_synonyms_to_accuracy[lang][(5,5)] for lang in langpair_list]),\n",
    "    #go.Bar(name='google translate with oracle', x=langpair_list, y=[lang_to_google_translate_accuracy_with_oracle[lang] for lang in langpair_list]),\n",
    "    go.Bar(name='google translate with oracle', x=langpair_list, y=[langpair_to_num_src_trg_synonyms_googtrans_to_accuracy[lang][(0,0)] for lang in langpair_list]),\n",
    "    go.Bar(name='google translate with oracle, plus 5 src syn for each word', x=langpair_list, y=[langpair_to_num_src_trg_synonyms_googtrans_to_accuracy[lang][(5,0)] for lang in langpair_list]),\n",
    "    go.Bar(name='google translate with oracle, plus 5 trg syn for each word', x=langpair_list, y=[langpair_to_num_src_trg_synonyms_googtrans_to_accuracy[lang][(0,5)] for lang in langpair_list]),\n",
    "    go.Bar(name='google translate with oracle, plus 5 src syn + 5 trg syn for each word', x=langpair_list, y=[langpair_to_num_src_trg_synonyms_googtrans_to_accuracy[lang][(5,5)] for lang in langpair_list]),\n",
    "])\n",
    "# Change the bar mode\n",
    "fig.update_layout(barmode='group')\n",
    "fig.show()"
   ]
  },
  {
   "cell_type": "code",
   "execution_count": 18,
   "metadata": {},
   "outputs": [
    {
     "data": {
      "application/vnd.plotly.v1+json": {
       "config": {
        "plotlyServerURL": "https://plot.ly"
       },
       "data": [
        {
         "name": "0 src 0 trg syn",
         "type": "bar",
         "x": [
          "enes",
          "enzh"
         ],
         "y": [
          0.6845436505363095,
          0.5891375932641407
         ]
        },
        {
         "name": "0 src 1 trg syn",
         "type": "bar",
         "x": [
          "enes",
          "enzh"
         ],
         "y": [
          0.6845890455376714,
          0.5892105372848151
         ]
        },
        {
         "name": "0 src 2 trg syn",
         "type": "bar",
         "x": [
          "enes",
          "enzh"
         ],
         "y": [
          0.6942711508281345,
          0.5990215080655246
         ]
        },
        {
         "name": "0 src 3 trg syn",
         "type": "bar",
         "x": [
          "enes",
          "enzh"
         ],
         "y": [
          0.699193265975798,
          0.6048153474219499
         ]
        },
        {
         "name": "0 src 4 trg syn",
         "type": "bar",
         "x": [
          "enes",
          "enzh"
         ],
         "y": [
          0.7015408360462251,
          0.6084156558709516
         ]
        },
        {
         "name": "0 src 5 trg syn",
         "type": "bar",
         "x": [
          "enes",
          "enzh"
         ],
         "y": [
          0.7044785411343563,
          0.6116356133550082
         ]
        }
       ],
       "layout": {
        "barmode": "group",
        "template": {
         "data": {
          "bar": [
           {
            "error_x": {
             "color": "#2a3f5f"
            },
            "error_y": {
             "color": "#2a3f5f"
            },
            "marker": {
             "line": {
              "color": "#E5ECF6",
              "width": 0.5
             }
            },
            "type": "bar"
           }
          ],
          "barpolar": [
           {
            "marker": {
             "line": {
              "color": "#E5ECF6",
              "width": 0.5
             }
            },
            "type": "barpolar"
           }
          ],
          "carpet": [
           {
            "aaxis": {
             "endlinecolor": "#2a3f5f",
             "gridcolor": "white",
             "linecolor": "white",
             "minorgridcolor": "white",
             "startlinecolor": "#2a3f5f"
            },
            "baxis": {
             "endlinecolor": "#2a3f5f",
             "gridcolor": "white",
             "linecolor": "white",
             "minorgridcolor": "white",
             "startlinecolor": "#2a3f5f"
            },
            "type": "carpet"
           }
          ],
          "choropleth": [
           {
            "colorbar": {
             "outlinewidth": 0,
             "ticks": ""
            },
            "type": "choropleth"
           }
          ],
          "contour": [
           {
            "colorbar": {
             "outlinewidth": 0,
             "ticks": ""
            },
            "colorscale": [
             [
              0,
              "#0d0887"
             ],
             [
              0.1111111111111111,
              "#46039f"
             ],
             [
              0.2222222222222222,
              "#7201a8"
             ],
             [
              0.3333333333333333,
              "#9c179e"
             ],
             [
              0.4444444444444444,
              "#bd3786"
             ],
             [
              0.5555555555555556,
              "#d8576b"
             ],
             [
              0.6666666666666666,
              "#ed7953"
             ],
             [
              0.7777777777777778,
              "#fb9f3a"
             ],
             [
              0.8888888888888888,
              "#fdca26"
             ],
             [
              1,
              "#f0f921"
             ]
            ],
            "type": "contour"
           }
          ],
          "contourcarpet": [
           {
            "colorbar": {
             "outlinewidth": 0,
             "ticks": ""
            },
            "type": "contourcarpet"
           }
          ],
          "heatmap": [
           {
            "colorbar": {
             "outlinewidth": 0,
             "ticks": ""
            },
            "colorscale": [
             [
              0,
              "#0d0887"
             ],
             [
              0.1111111111111111,
              "#46039f"
             ],
             [
              0.2222222222222222,
              "#7201a8"
             ],
             [
              0.3333333333333333,
              "#9c179e"
             ],
             [
              0.4444444444444444,
              "#bd3786"
             ],
             [
              0.5555555555555556,
              "#d8576b"
             ],
             [
              0.6666666666666666,
              "#ed7953"
             ],
             [
              0.7777777777777778,
              "#fb9f3a"
             ],
             [
              0.8888888888888888,
              "#fdca26"
             ],
             [
              1,
              "#f0f921"
             ]
            ],
            "type": "heatmap"
           }
          ],
          "heatmapgl": [
           {
            "colorbar": {
             "outlinewidth": 0,
             "ticks": ""
            },
            "colorscale": [
             [
              0,
              "#0d0887"
             ],
             [
              0.1111111111111111,
              "#46039f"
             ],
             [
              0.2222222222222222,
              "#7201a8"
             ],
             [
              0.3333333333333333,
              "#9c179e"
             ],
             [
              0.4444444444444444,
              "#bd3786"
             ],
             [
              0.5555555555555556,
              "#d8576b"
             ],
             [
              0.6666666666666666,
              "#ed7953"
             ],
             [
              0.7777777777777778,
              "#fb9f3a"
             ],
             [
              0.8888888888888888,
              "#fdca26"
             ],
             [
              1,
              "#f0f921"
             ]
            ],
            "type": "heatmapgl"
           }
          ],
          "histogram": [
           {
            "marker": {
             "colorbar": {
              "outlinewidth": 0,
              "ticks": ""
             }
            },
            "type": "histogram"
           }
          ],
          "histogram2d": [
           {
            "colorbar": {
             "outlinewidth": 0,
             "ticks": ""
            },
            "colorscale": [
             [
              0,
              "#0d0887"
             ],
             [
              0.1111111111111111,
              "#46039f"
             ],
             [
              0.2222222222222222,
              "#7201a8"
             ],
             [
              0.3333333333333333,
              "#9c179e"
             ],
             [
              0.4444444444444444,
              "#bd3786"
             ],
             [
              0.5555555555555556,
              "#d8576b"
             ],
             [
              0.6666666666666666,
              "#ed7953"
             ],
             [
              0.7777777777777778,
              "#fb9f3a"
             ],
             [
              0.8888888888888888,
              "#fdca26"
             ],
             [
              1,
              "#f0f921"
             ]
            ],
            "type": "histogram2d"
           }
          ],
          "histogram2dcontour": [
           {
            "colorbar": {
             "outlinewidth": 0,
             "ticks": ""
            },
            "colorscale": [
             [
              0,
              "#0d0887"
             ],
             [
              0.1111111111111111,
              "#46039f"
             ],
             [
              0.2222222222222222,
              "#7201a8"
             ],
             [
              0.3333333333333333,
              "#9c179e"
             ],
             [
              0.4444444444444444,
              "#bd3786"
             ],
             [
              0.5555555555555556,
              "#d8576b"
             ],
             [
              0.6666666666666666,
              "#ed7953"
             ],
             [
              0.7777777777777778,
              "#fb9f3a"
             ],
             [
              0.8888888888888888,
              "#fdca26"
             ],
             [
              1,
              "#f0f921"
             ]
            ],
            "type": "histogram2dcontour"
           }
          ],
          "mesh3d": [
           {
            "colorbar": {
             "outlinewidth": 0,
             "ticks": ""
            },
            "type": "mesh3d"
           }
          ],
          "parcoords": [
           {
            "line": {
             "colorbar": {
              "outlinewidth": 0,
              "ticks": ""
             }
            },
            "type": "parcoords"
           }
          ],
          "pie": [
           {
            "automargin": true,
            "type": "pie"
           }
          ],
          "scatter": [
           {
            "marker": {
             "colorbar": {
              "outlinewidth": 0,
              "ticks": ""
             }
            },
            "type": "scatter"
           }
          ],
          "scatter3d": [
           {
            "line": {
             "colorbar": {
              "outlinewidth": 0,
              "ticks": ""
             }
            },
            "marker": {
             "colorbar": {
              "outlinewidth": 0,
              "ticks": ""
             }
            },
            "type": "scatter3d"
           }
          ],
          "scattercarpet": [
           {
            "marker": {
             "colorbar": {
              "outlinewidth": 0,
              "ticks": ""
             }
            },
            "type": "scattercarpet"
           }
          ],
          "scattergeo": [
           {
            "marker": {
             "colorbar": {
              "outlinewidth": 0,
              "ticks": ""
             }
            },
            "type": "scattergeo"
           }
          ],
          "scattergl": [
           {
            "marker": {
             "colorbar": {
              "outlinewidth": 0,
              "ticks": ""
             }
            },
            "type": "scattergl"
           }
          ],
          "scattermapbox": [
           {
            "marker": {
             "colorbar": {
              "outlinewidth": 0,
              "ticks": ""
             }
            },
            "type": "scattermapbox"
           }
          ],
          "scatterpolar": [
           {
            "marker": {
             "colorbar": {
              "outlinewidth": 0,
              "ticks": ""
             }
            },
            "type": "scatterpolar"
           }
          ],
          "scatterpolargl": [
           {
            "marker": {
             "colorbar": {
              "outlinewidth": 0,
              "ticks": ""
             }
            },
            "type": "scatterpolargl"
           }
          ],
          "scatterternary": [
           {
            "marker": {
             "colorbar": {
              "outlinewidth": 0,
              "ticks": ""
             }
            },
            "type": "scatterternary"
           }
          ],
          "surface": [
           {
            "colorbar": {
             "outlinewidth": 0,
             "ticks": ""
            },
            "colorscale": [
             [
              0,
              "#0d0887"
             ],
             [
              0.1111111111111111,
              "#46039f"
             ],
             [
              0.2222222222222222,
              "#7201a8"
             ],
             [
              0.3333333333333333,
              "#9c179e"
             ],
             [
              0.4444444444444444,
              "#bd3786"
             ],
             [
              0.5555555555555556,
              "#d8576b"
             ],
             [
              0.6666666666666666,
              "#ed7953"
             ],
             [
              0.7777777777777778,
              "#fb9f3a"
             ],
             [
              0.8888888888888888,
              "#fdca26"
             ],
             [
              1,
              "#f0f921"
             ]
            ],
            "type": "surface"
           }
          ],
          "table": [
           {
            "cells": {
             "fill": {
              "color": "#EBF0F8"
             },
             "line": {
              "color": "white"
             }
            },
            "header": {
             "fill": {
              "color": "#C8D4E3"
             },
             "line": {
              "color": "white"
             }
            },
            "type": "table"
           }
          ]
         },
         "layout": {
          "annotationdefaults": {
           "arrowcolor": "#2a3f5f",
           "arrowhead": 0,
           "arrowwidth": 1
          },
          "autotypenumbers": "strict",
          "coloraxis": {
           "colorbar": {
            "outlinewidth": 0,
            "ticks": ""
           }
          },
          "colorscale": {
           "diverging": [
            [
             0,
             "#8e0152"
            ],
            [
             0.1,
             "#c51b7d"
            ],
            [
             0.2,
             "#de77ae"
            ],
            [
             0.3,
             "#f1b6da"
            ],
            [
             0.4,
             "#fde0ef"
            ],
            [
             0.5,
             "#f7f7f7"
            ],
            [
             0.6,
             "#e6f5d0"
            ],
            [
             0.7,
             "#b8e186"
            ],
            [
             0.8,
             "#7fbc41"
            ],
            [
             0.9,
             "#4d9221"
            ],
            [
             1,
             "#276419"
            ]
           ],
           "sequential": [
            [
             0,
             "#0d0887"
            ],
            [
             0.1111111111111111,
             "#46039f"
            ],
            [
             0.2222222222222222,
             "#7201a8"
            ],
            [
             0.3333333333333333,
             "#9c179e"
            ],
            [
             0.4444444444444444,
             "#bd3786"
            ],
            [
             0.5555555555555556,
             "#d8576b"
            ],
            [
             0.6666666666666666,
             "#ed7953"
            ],
            [
             0.7777777777777778,
             "#fb9f3a"
            ],
            [
             0.8888888888888888,
             "#fdca26"
            ],
            [
             1,
             "#f0f921"
            ]
           ],
           "sequentialminus": [
            [
             0,
             "#0d0887"
            ],
            [
             0.1111111111111111,
             "#46039f"
            ],
            [
             0.2222222222222222,
             "#7201a8"
            ],
            [
             0.3333333333333333,
             "#9c179e"
            ],
            [
             0.4444444444444444,
             "#bd3786"
            ],
            [
             0.5555555555555556,
             "#d8576b"
            ],
            [
             0.6666666666666666,
             "#ed7953"
            ],
            [
             0.7777777777777778,
             "#fb9f3a"
            ],
            [
             0.8888888888888888,
             "#fdca26"
            ],
            [
             1,
             "#f0f921"
            ]
           ]
          },
          "colorway": [
           "#636efa",
           "#EF553B",
           "#00cc96",
           "#ab63fa",
           "#FFA15A",
           "#19d3f3",
           "#FF6692",
           "#B6E880",
           "#FF97FF",
           "#FECB52"
          ],
          "font": {
           "color": "#2a3f5f"
          },
          "geo": {
           "bgcolor": "white",
           "lakecolor": "white",
           "landcolor": "#E5ECF6",
           "showlakes": true,
           "showland": true,
           "subunitcolor": "white"
          },
          "hoverlabel": {
           "align": "left"
          },
          "hovermode": "closest",
          "mapbox": {
           "style": "light"
          },
          "paper_bgcolor": "white",
          "plot_bgcolor": "#E5ECF6",
          "polar": {
           "angularaxis": {
            "gridcolor": "white",
            "linecolor": "white",
            "ticks": ""
           },
           "bgcolor": "#E5ECF6",
           "radialaxis": {
            "gridcolor": "white",
            "linecolor": "white",
            "ticks": ""
           }
          },
          "scene": {
           "xaxis": {
            "backgroundcolor": "#E5ECF6",
            "gridcolor": "white",
            "gridwidth": 2,
            "linecolor": "white",
            "showbackground": true,
            "ticks": "",
            "zerolinecolor": "white"
           },
           "yaxis": {
            "backgroundcolor": "#E5ECF6",
            "gridcolor": "white",
            "gridwidth": 2,
            "linecolor": "white",
            "showbackground": true,
            "ticks": "",
            "zerolinecolor": "white"
           },
           "zaxis": {
            "backgroundcolor": "#E5ECF6",
            "gridcolor": "white",
            "gridwidth": 2,
            "linecolor": "white",
            "showbackground": true,
            "ticks": "",
            "zerolinecolor": "white"
           }
          },
          "shapedefaults": {
           "line": {
            "color": "#2a3f5f"
           }
          },
          "ternary": {
           "aaxis": {
            "gridcolor": "white",
            "linecolor": "white",
            "ticks": ""
           },
           "baxis": {
            "gridcolor": "white",
            "linecolor": "white",
            "ticks": ""
           },
           "bgcolor": "#E5ECF6",
           "caxis": {
            "gridcolor": "white",
            "linecolor": "white",
            "ticks": ""
           }
          },
          "title": {
           "x": 0.05
          },
          "xaxis": {
           "automargin": true,
           "gridcolor": "white",
           "linecolor": "white",
           "ticks": "",
           "title": {
            "standoff": 15
           },
           "zerolinecolor": "white",
           "zerolinewidth": 2
          },
          "yaxis": {
           "automargin": true,
           "gridcolor": "white",
           "linecolor": "white",
           "ticks": "",
           "title": {
            "standoff": 15
           },
           "zerolinecolor": "white",
           "zerolinewidth": 2
          }
         }
        }
       }
      },
      "text/html": [
       "<div>                            <div id=\"2ffa8eaa-124a-475b-ad55-f05c6d2ae090\" class=\"plotly-graph-div\" style=\"height:525px; width:100%;\"></div>            <script type=\"text/javascript\">                require([\"plotly\"], function(Plotly) {                    window.PLOTLYENV=window.PLOTLYENV || {};                                    if (document.getElementById(\"2ffa8eaa-124a-475b-ad55-f05c6d2ae090\")) {                    Plotly.newPlot(                        \"2ffa8eaa-124a-475b-ad55-f05c6d2ae090\",                        [{\"name\": \"0 src 0 trg syn\", \"type\": \"bar\", \"x\": [\"enes\", \"enzh\"], \"y\": [0.6845436505363095, 0.5891375932641407]}, {\"name\": \"0 src 1 trg syn\", \"type\": \"bar\", \"x\": [\"enes\", \"enzh\"], \"y\": [0.6845890455376714, 0.5892105372848151]}, {\"name\": \"0 src 2 trg syn\", \"type\": \"bar\", \"x\": [\"enes\", \"enzh\"], \"y\": [0.6942711508281345, 0.5990215080655246]}, {\"name\": \"0 src 3 trg syn\", \"type\": \"bar\", \"x\": [\"enes\", \"enzh\"], \"y\": [0.699193265975798, 0.6048153474219499]}, {\"name\": \"0 src 4 trg syn\", \"type\": \"bar\", \"x\": [\"enes\", \"enzh\"], \"y\": [0.7015408360462251, 0.6084156558709516]}, {\"name\": \"0 src 5 trg syn\", \"type\": \"bar\", \"x\": [\"enes\", \"enzh\"], \"y\": [0.7044785411343563, 0.6116356133550082]}],                        {\"barmode\": \"group\", \"template\": {\"data\": {\"bar\": [{\"error_x\": {\"color\": \"#2a3f5f\"}, \"error_y\": {\"color\": \"#2a3f5f\"}, \"marker\": {\"line\": {\"color\": \"#E5ECF6\", \"width\": 0.5}}, \"type\": \"bar\"}], \"barpolar\": [{\"marker\": {\"line\": {\"color\": \"#E5ECF6\", \"width\": 0.5}}, \"type\": \"barpolar\"}], \"carpet\": [{\"aaxis\": {\"endlinecolor\": \"#2a3f5f\", \"gridcolor\": \"white\", \"linecolor\": \"white\", \"minorgridcolor\": \"white\", \"startlinecolor\": \"#2a3f5f\"}, \"baxis\": {\"endlinecolor\": \"#2a3f5f\", \"gridcolor\": \"white\", \"linecolor\": \"white\", \"minorgridcolor\": \"white\", \"startlinecolor\": \"#2a3f5f\"}, \"type\": \"carpet\"}], \"choropleth\": [{\"colorbar\": {\"outlinewidth\": 0, \"ticks\": \"\"}, \"type\": \"choropleth\"}], \"contour\": [{\"colorbar\": {\"outlinewidth\": 0, \"ticks\": \"\"}, \"colorscale\": [[0.0, \"#0d0887\"], [0.1111111111111111, \"#46039f\"], [0.2222222222222222, \"#7201a8\"], [0.3333333333333333, \"#9c179e\"], [0.4444444444444444, \"#bd3786\"], [0.5555555555555556, \"#d8576b\"], [0.6666666666666666, \"#ed7953\"], [0.7777777777777778, \"#fb9f3a\"], [0.8888888888888888, \"#fdca26\"], [1.0, \"#f0f921\"]], \"type\": \"contour\"}], \"contourcarpet\": [{\"colorbar\": {\"outlinewidth\": 0, \"ticks\": \"\"}, \"type\": \"contourcarpet\"}], \"heatmap\": [{\"colorbar\": {\"outlinewidth\": 0, \"ticks\": \"\"}, \"colorscale\": [[0.0, \"#0d0887\"], [0.1111111111111111, \"#46039f\"], [0.2222222222222222, \"#7201a8\"], [0.3333333333333333, \"#9c179e\"], [0.4444444444444444, \"#bd3786\"], [0.5555555555555556, \"#d8576b\"], [0.6666666666666666, \"#ed7953\"], [0.7777777777777778, \"#fb9f3a\"], [0.8888888888888888, \"#fdca26\"], [1.0, \"#f0f921\"]], \"type\": \"heatmap\"}], \"heatmapgl\": [{\"colorbar\": {\"outlinewidth\": 0, \"ticks\": \"\"}, \"colorscale\": [[0.0, \"#0d0887\"], [0.1111111111111111, \"#46039f\"], [0.2222222222222222, \"#7201a8\"], [0.3333333333333333, \"#9c179e\"], [0.4444444444444444, \"#bd3786\"], [0.5555555555555556, \"#d8576b\"], [0.6666666666666666, \"#ed7953\"], [0.7777777777777778, \"#fb9f3a\"], [0.8888888888888888, \"#fdca26\"], [1.0, \"#f0f921\"]], \"type\": \"heatmapgl\"}], \"histogram\": [{\"marker\": {\"colorbar\": {\"outlinewidth\": 0, \"ticks\": \"\"}}, \"type\": \"histogram\"}], \"histogram2d\": [{\"colorbar\": {\"outlinewidth\": 0, \"ticks\": \"\"}, \"colorscale\": [[0.0, \"#0d0887\"], [0.1111111111111111, \"#46039f\"], [0.2222222222222222, \"#7201a8\"], [0.3333333333333333, \"#9c179e\"], [0.4444444444444444, \"#bd3786\"], [0.5555555555555556, \"#d8576b\"], [0.6666666666666666, \"#ed7953\"], [0.7777777777777778, \"#fb9f3a\"], [0.8888888888888888, \"#fdca26\"], [1.0, \"#f0f921\"]], \"type\": \"histogram2d\"}], \"histogram2dcontour\": [{\"colorbar\": {\"outlinewidth\": 0, \"ticks\": \"\"}, \"colorscale\": [[0.0, \"#0d0887\"], [0.1111111111111111, \"#46039f\"], [0.2222222222222222, \"#7201a8\"], [0.3333333333333333, \"#9c179e\"], [0.4444444444444444, \"#bd3786\"], [0.5555555555555556, \"#d8576b\"], [0.6666666666666666, \"#ed7953\"], [0.7777777777777778, \"#fb9f3a\"], [0.8888888888888888, \"#fdca26\"], [1.0, \"#f0f921\"]], \"type\": \"histogram2dcontour\"}], \"mesh3d\": [{\"colorbar\": {\"outlinewidth\": 0, \"ticks\": \"\"}, \"type\": \"mesh3d\"}], \"parcoords\": [{\"line\": {\"colorbar\": {\"outlinewidth\": 0, \"ticks\": \"\"}}, \"type\": \"parcoords\"}], \"pie\": [{\"automargin\": true, \"type\": \"pie\"}], \"scatter\": [{\"marker\": {\"colorbar\": {\"outlinewidth\": 0, \"ticks\": \"\"}}, \"type\": \"scatter\"}], \"scatter3d\": [{\"line\": {\"colorbar\": {\"outlinewidth\": 0, \"ticks\": \"\"}}, \"marker\": {\"colorbar\": {\"outlinewidth\": 0, \"ticks\": \"\"}}, \"type\": \"scatter3d\"}], \"scattercarpet\": [{\"marker\": {\"colorbar\": {\"outlinewidth\": 0, \"ticks\": \"\"}}, \"type\": \"scattercarpet\"}], \"scattergeo\": [{\"marker\": {\"colorbar\": {\"outlinewidth\": 0, \"ticks\": \"\"}}, \"type\": \"scattergeo\"}], \"scattergl\": [{\"marker\": {\"colorbar\": {\"outlinewidth\": 0, \"ticks\": \"\"}}, \"type\": \"scattergl\"}], \"scattermapbox\": [{\"marker\": {\"colorbar\": {\"outlinewidth\": 0, \"ticks\": \"\"}}, \"type\": \"scattermapbox\"}], \"scatterpolar\": [{\"marker\": {\"colorbar\": {\"outlinewidth\": 0, \"ticks\": \"\"}}, \"type\": \"scatterpolar\"}], \"scatterpolargl\": [{\"marker\": {\"colorbar\": {\"outlinewidth\": 0, \"ticks\": \"\"}}, \"type\": \"scatterpolargl\"}], \"scatterternary\": [{\"marker\": {\"colorbar\": {\"outlinewidth\": 0, \"ticks\": \"\"}}, \"type\": \"scatterternary\"}], \"surface\": [{\"colorbar\": {\"outlinewidth\": 0, \"ticks\": \"\"}, \"colorscale\": [[0.0, \"#0d0887\"], [0.1111111111111111, \"#46039f\"], [0.2222222222222222, \"#7201a8\"], [0.3333333333333333, \"#9c179e\"], [0.4444444444444444, \"#bd3786\"], [0.5555555555555556, \"#d8576b\"], [0.6666666666666666, \"#ed7953\"], [0.7777777777777778, \"#fb9f3a\"], [0.8888888888888888, \"#fdca26\"], [1.0, \"#f0f921\"]], \"type\": \"surface\"}], \"table\": [{\"cells\": {\"fill\": {\"color\": \"#EBF0F8\"}, \"line\": {\"color\": \"white\"}}, \"header\": {\"fill\": {\"color\": \"#C8D4E3\"}, \"line\": {\"color\": \"white\"}}, \"type\": \"table\"}]}, \"layout\": {\"annotationdefaults\": {\"arrowcolor\": \"#2a3f5f\", \"arrowhead\": 0, \"arrowwidth\": 1}, \"autotypenumbers\": \"strict\", \"coloraxis\": {\"colorbar\": {\"outlinewidth\": 0, \"ticks\": \"\"}}, \"colorscale\": {\"diverging\": [[0, \"#8e0152\"], [0.1, \"#c51b7d\"], [0.2, \"#de77ae\"], [0.3, \"#f1b6da\"], [0.4, \"#fde0ef\"], [0.5, \"#f7f7f7\"], [0.6, \"#e6f5d0\"], [0.7, \"#b8e186\"], [0.8, \"#7fbc41\"], [0.9, \"#4d9221\"], [1, \"#276419\"]], \"sequential\": [[0.0, \"#0d0887\"], [0.1111111111111111, \"#46039f\"], [0.2222222222222222, \"#7201a8\"], [0.3333333333333333, \"#9c179e\"], [0.4444444444444444, \"#bd3786\"], [0.5555555555555556, \"#d8576b\"], [0.6666666666666666, \"#ed7953\"], [0.7777777777777778, \"#fb9f3a\"], [0.8888888888888888, \"#fdca26\"], [1.0, \"#f0f921\"]], \"sequentialminus\": [[0.0, \"#0d0887\"], [0.1111111111111111, \"#46039f\"], [0.2222222222222222, \"#7201a8\"], [0.3333333333333333, \"#9c179e\"], [0.4444444444444444, \"#bd3786\"], [0.5555555555555556, \"#d8576b\"], [0.6666666666666666, \"#ed7953\"], [0.7777777777777778, \"#fb9f3a\"], [0.8888888888888888, \"#fdca26\"], [1.0, \"#f0f921\"]]}, \"colorway\": [\"#636efa\", \"#EF553B\", \"#00cc96\", \"#ab63fa\", \"#FFA15A\", \"#19d3f3\", \"#FF6692\", \"#B6E880\", \"#FF97FF\", \"#FECB52\"], \"font\": {\"color\": \"#2a3f5f\"}, \"geo\": {\"bgcolor\": \"white\", \"lakecolor\": \"white\", \"landcolor\": \"#E5ECF6\", \"showlakes\": true, \"showland\": true, \"subunitcolor\": \"white\"}, \"hoverlabel\": {\"align\": \"left\"}, \"hovermode\": \"closest\", \"mapbox\": {\"style\": \"light\"}, \"paper_bgcolor\": \"white\", \"plot_bgcolor\": \"#E5ECF6\", \"polar\": {\"angularaxis\": {\"gridcolor\": \"white\", \"linecolor\": \"white\", \"ticks\": \"\"}, \"bgcolor\": \"#E5ECF6\", \"radialaxis\": {\"gridcolor\": \"white\", \"linecolor\": \"white\", \"ticks\": \"\"}}, \"scene\": {\"xaxis\": {\"backgroundcolor\": \"#E5ECF6\", \"gridcolor\": \"white\", \"gridwidth\": 2, \"linecolor\": \"white\", \"showbackground\": true, \"ticks\": \"\", \"zerolinecolor\": \"white\"}, \"yaxis\": {\"backgroundcolor\": \"#E5ECF6\", \"gridcolor\": \"white\", \"gridwidth\": 2, \"linecolor\": \"white\", \"showbackground\": true, \"ticks\": \"\", \"zerolinecolor\": \"white\"}, \"zaxis\": {\"backgroundcolor\": \"#E5ECF6\", \"gridcolor\": \"white\", \"gridwidth\": 2, \"linecolor\": \"white\", \"showbackground\": true, \"ticks\": \"\", \"zerolinecolor\": \"white\"}}, \"shapedefaults\": {\"line\": {\"color\": \"#2a3f5f\"}}, \"ternary\": {\"aaxis\": {\"gridcolor\": \"white\", \"linecolor\": \"white\", \"ticks\": \"\"}, \"baxis\": {\"gridcolor\": \"white\", \"linecolor\": \"white\", \"ticks\": \"\"}, \"bgcolor\": \"#E5ECF6\", \"caxis\": {\"gridcolor\": \"white\", \"linecolor\": \"white\", \"ticks\": \"\"}}, \"title\": {\"x\": 0.05}, \"xaxis\": {\"automargin\": true, \"gridcolor\": \"white\", \"linecolor\": \"white\", \"ticks\": \"\", \"title\": {\"standoff\": 15}, \"zerolinecolor\": \"white\", \"zerolinewidth\": 2}, \"yaxis\": {\"automargin\": true, \"gridcolor\": \"white\", \"linecolor\": \"white\", \"ticks\": \"\", \"title\": {\"standoff\": 15}, \"zerolinecolor\": \"white\", \"zerolinewidth\": 2}}}},                        {\"responsive\": true}                    ).then(function(){\n",
       "                            \n",
       "var gd = document.getElementById('2ffa8eaa-124a-475b-ad55-f05c6d2ae090');\n",
       "var x = new MutationObserver(function (mutations, observer) {{\n",
       "        var display = window.getComputedStyle(gd).display;\n",
       "        if (!display || display === 'none') {{\n",
       "            console.log([gd, 'removed!']);\n",
       "            Plotly.purge(gd);\n",
       "            observer.disconnect();\n",
       "        }}\n",
       "}});\n",
       "\n",
       "// Listen for the removal of the full notebook cells\n",
       "var notebookContainer = gd.closest('#notebook-container');\n",
       "if (notebookContainer) {{\n",
       "    x.observe(notebookContainer, {childList: true});\n",
       "}}\n",
       "\n",
       "// Listen for the clearing of the current output cell\n",
       "var outputEl = gd.closest('.output');\n",
       "if (outputEl) {{\n",
       "    x.observe(outputEl, {childList: true});\n",
       "}}\n",
       "\n",
       "                        })                };                });            </script>        </div>"
      ]
     },
     "metadata": {},
     "output_type": "display_data"
    }
   ],
   "source": [
    "datalist = []\n",
    "for num_synonyms_sourcelang in range(1):\n",
    "  for num_synonyms_targetlang in range(6):\n",
    "    yvals = [langpair_to_num_src_trg_synonyms_prefix_nextword_to_accuracy[lang][(num_synonyms_sourcelang, num_synonyms_targetlang)] for lang in langpair_list]\n",
    "    dataitem = go.Bar(name=f'{num_synonyms_sourcelang} src {num_synonyms_targetlang} trg syn', x=langpair_list, y=yvals)\n",
    "    datalist.append(dataitem)\n",
    "fig = go.Figure(data=datalist)\n",
    "# Change the bar mode\n",
    "fig.update_layout(barmode='group')\n",
    "fig.show()"
   ]
  },
  {
   "cell_type": "code",
   "execution_count": 19,
   "metadata": {},
   "outputs": [
    {
     "data": {
      "application/vnd.plotly.v1+json": {
       "config": {
        "plotlyServerURL": "https://plot.ly"
       },
       "data": [
        {
         "name": "0 src 0 trg syn",
         "type": "bar",
         "x": [
          "enes",
          "enzh"
         ],
         "y": [
          0.6869625556088766,
          0.6457994664665916
         ]
        },
        {
         "name": "0 src 1 trg syn",
         "type": "bar",
         "x": [
          "enes",
          "enzh"
         ],
         "y": [
          0.6871117106133513,
          0.6458880413488391
         ]
        },
        {
         "name": "0 src 2 trg syn",
         "type": "bar",
         "x": [
          "enes",
          "enzh"
         ],
         "y": [
          0.7031361460940844,
          0.6589293901879871
         ]
        },
        {
         "name": "0 src 3 trg syn",
         "type": "bar",
         "x": [
          "enes",
          "enzh"
         ],
         "y": [
          0.7130322563909677,
          0.6679796590388062
         ]
        },
        {
         "name": "0 src 4 trg syn",
         "type": "bar",
         "x": [
          "enes",
          "enzh"
         ],
         "y": [
          0.7179803115394093,
          0.6732107873786003
         ]
        },
        {
         "name": "0 src 5 trg syn",
         "type": "bar",
         "x": [
          "enes",
          "enzh"
         ],
         "y": [
          0.723589836707695,
          0.6785200700262598
         ]
        },
        {
         "name": "1 src 0 trg syn",
         "type": "bar",
         "x": [
          "enes",
          "enzh"
         ],
         "y": [
          0.701787266053618,
          0.6673127422783544
         ]
        },
        {
         "name": "1 src 1 trg syn",
         "type": "bar",
         "x": [
          "enes",
          "enzh"
         ],
         "y": [
          0.7018456310553689,
          0.6673856862990288
         ]
        },
        {
         "name": "1 src 2 trg syn",
         "type": "bar",
         "x": [
          "enes",
          "enzh"
         ],
         "y": [
          0.7136677864100336,
          0.6782439248051353
         ]
        },
        {
         "name": "1 src 3 trg syn",
         "type": "bar",
         "x": [
          "enes",
          "enzh"
         ],
         "y": [
          0.721631366648941,
          0.6862729773665125
         ]
        },
        {
         "name": "1 src 4 trg syn",
         "type": "bar",
         "x": [
          "enes",
          "enzh"
         ],
         "y": [
          0.7262551717876552,
          0.691061231295069
         ]
        },
        {
         "name": "1 src 5 trg syn",
         "type": "bar",
         "x": [
          "enes",
          "enzh"
         ],
         "y": [
          0.7313069869392096,
          0.695943270393064
         ]
        },
        {
         "name": "2 src 0 trg syn",
         "type": "bar",
         "x": [
          "enes",
          "enzh"
         ],
         "y": [
          0.7134797214043916,
          0.6756439914968113
         ]
        },
        {
         "name": "2 src 1 trg syn",
         "type": "bar",
         "x": [
          "enes",
          "enzh"
         ],
         "y": [
          0.7135251164057534,
          0.6757169355174857
         ]
        },
        {
         "name": "2 src 2 trg syn",
         "type": "bar",
         "x": [
          "enes",
          "enzh"
         ],
         "y": [
          0.7212163266364898,
          0.6845379517318995
         ]
        },
        {
         "name": "2 src 3 trg syn",
         "type": "bar",
         "x": [
          "enes",
          "enzh"
         ],
         "y": [
          0.7277467218324016,
          0.691936559543162
         ]
        },
        {
         "name": "2 src 4 trg syn",
         "type": "bar",
         "x": [
          "enes",
          "enzh"
         ],
         "y": [
          0.7314626269438788,
          0.6963757242299196
         ]
        },
        {
         "name": "2 src 5 trg syn",
         "type": "bar",
         "x": [
          "enes",
          "enzh"
         ],
         "y": [
          0.7363198920895968,
          0.7010806135634197
         ]
        },
        {
         "name": "3 src 0 trg syn",
         "type": "bar",
         "x": [
          "enes",
          "enzh"
         ],
         "y": [
          0.7212357816370735,
          0.6811929473552583
         ]
        },
        {
         "name": "3 src 1 trg syn",
         "type": "bar",
         "x": [
          "enes",
          "enzh"
         ],
         "y": [
          0.7212811766384353,
          0.6812658913759326
         ]
        },
        {
         "name": "3 src 2 trg syn",
         "type": "bar",
         "x": [
          "enes",
          "enzh"
         ],
         "y": [
          0.727856966835709,
          0.6892219999166354
         ]
        },
        {
         "name": "3 src 3 trg syn",
         "type": "bar",
         "x": [
          "enes",
          "enzh"
         ],
         "y": [
          0.7330579369917382,
          0.696104789295986
         ]
        },
        {
         "name": "3 src 4 trg syn",
         "type": "bar",
         "x": [
          "enes",
          "enzh"
         ],
         "y": [
          0.7358724270761728,
          0.7002990704847651
         ]
        },
        {
         "name": "3 src 5 trg syn",
         "type": "bar",
         "x": [
          "enes",
          "enzh"
         ],
         "y": [
          0.7389592871687786,
          0.7045871368429828
         ]
        },
        {
         "name": "4 src 0 trg syn",
         "type": "bar",
         "x": [
          "enes",
          "enzh"
         ],
         "y": [
          0.7260735917822078,
          0.6848922512608895
         ]
        },
        {
         "name": "4 src 1 trg syn",
         "type": "bar",
         "x": [
          "enes",
          "enzh"
         ],
         "y": [
          0.7261189867835696,
          0.6849443541327997
         ]
        },
        {
         "name": "4 src 2 trg syn",
         "type": "bar",
         "x": [
          "enes",
          "enzh"
         ],
         "y": [
          0.7315404469462135,
          0.6926607894627151
         ]
        },
        {
         "name": "4 src 3 trg syn",
         "type": "bar",
         "x": [
          "enes",
          "enzh"
         ],
         "y": [
          0.7358464870753946,
          0.6988506106456588
         ]
        },
        {
         "name": "4 src 4 trg syn",
         "type": "bar",
         "x": [
          "enes",
          "enzh"
         ],
         "y": [
          0.7377206521316195,
          0.7029354758034263
         ]
        },
        {
         "name": "4 src 5 trg syn",
         "type": "bar",
         "x": [
          "enes",
          "enzh"
         ],
         "y": [
          0.7406842972205289,
          0.7067441957400692
         ]
        },
        {
         "name": "5 src 0 trg syn",
         "type": "bar",
         "x": [
          "enes",
          "enzh"
         ],
         "y": [
          0.7288880818666424,
          0.6877891709391022
         ]
        },
        {
         "name": "5 src 1 trg syn",
         "type": "bar",
         "x": [
          "enes",
          "enzh"
         ],
         "y": [
          0.7289334768680044,
          0.6878412738110125
         ]
        },
        {
         "name": "5 src 2 trg syn",
         "type": "bar",
         "x": [
          "enes",
          "enzh"
         ],
         "y": [
          0.7339723220191696,
          0.6953128256429495
         ]
        },
        {
         "name": "5 src 3 trg syn",
         "type": "bar",
         "x": [
          "enes",
          "enzh"
         ],
         "y": [
          0.7372148221164446,
          0.701325497061398
         ]
        },
        {
         "name": "5 src 4 trg syn",
         "type": "bar",
         "x": [
          "enes",
          "enzh"
         ],
         "y": [
          0.7388490421654713,
          0.7051654787211871
         ]
        },
        {
         "name": "5 src 5 trg syn",
         "type": "bar",
         "x": [
          "enes",
          "enzh"
         ],
         "y": [
          0.741676502250295,
          0.7088543620524363
         ]
        }
       ],
       "layout": {
        "barmode": "group",
        "template": {
         "data": {
          "bar": [
           {
            "error_x": {
             "color": "#2a3f5f"
            },
            "error_y": {
             "color": "#2a3f5f"
            },
            "marker": {
             "line": {
              "color": "#E5ECF6",
              "width": 0.5
             }
            },
            "type": "bar"
           }
          ],
          "barpolar": [
           {
            "marker": {
             "line": {
              "color": "#E5ECF6",
              "width": 0.5
             }
            },
            "type": "barpolar"
           }
          ],
          "carpet": [
           {
            "aaxis": {
             "endlinecolor": "#2a3f5f",
             "gridcolor": "white",
             "linecolor": "white",
             "minorgridcolor": "white",
             "startlinecolor": "#2a3f5f"
            },
            "baxis": {
             "endlinecolor": "#2a3f5f",
             "gridcolor": "white",
             "linecolor": "white",
             "minorgridcolor": "white",
             "startlinecolor": "#2a3f5f"
            },
            "type": "carpet"
           }
          ],
          "choropleth": [
           {
            "colorbar": {
             "outlinewidth": 0,
             "ticks": ""
            },
            "type": "choropleth"
           }
          ],
          "contour": [
           {
            "colorbar": {
             "outlinewidth": 0,
             "ticks": ""
            },
            "colorscale": [
             [
              0,
              "#0d0887"
             ],
             [
              0.1111111111111111,
              "#46039f"
             ],
             [
              0.2222222222222222,
              "#7201a8"
             ],
             [
              0.3333333333333333,
              "#9c179e"
             ],
             [
              0.4444444444444444,
              "#bd3786"
             ],
             [
              0.5555555555555556,
              "#d8576b"
             ],
             [
              0.6666666666666666,
              "#ed7953"
             ],
             [
              0.7777777777777778,
              "#fb9f3a"
             ],
             [
              0.8888888888888888,
              "#fdca26"
             ],
             [
              1,
              "#f0f921"
             ]
            ],
            "type": "contour"
           }
          ],
          "contourcarpet": [
           {
            "colorbar": {
             "outlinewidth": 0,
             "ticks": ""
            },
            "type": "contourcarpet"
           }
          ],
          "heatmap": [
           {
            "colorbar": {
             "outlinewidth": 0,
             "ticks": ""
            },
            "colorscale": [
             [
              0,
              "#0d0887"
             ],
             [
              0.1111111111111111,
              "#46039f"
             ],
             [
              0.2222222222222222,
              "#7201a8"
             ],
             [
              0.3333333333333333,
              "#9c179e"
             ],
             [
              0.4444444444444444,
              "#bd3786"
             ],
             [
              0.5555555555555556,
              "#d8576b"
             ],
             [
              0.6666666666666666,
              "#ed7953"
             ],
             [
              0.7777777777777778,
              "#fb9f3a"
             ],
             [
              0.8888888888888888,
              "#fdca26"
             ],
             [
              1,
              "#f0f921"
             ]
            ],
            "type": "heatmap"
           }
          ],
          "heatmapgl": [
           {
            "colorbar": {
             "outlinewidth": 0,
             "ticks": ""
            },
            "colorscale": [
             [
              0,
              "#0d0887"
             ],
             [
              0.1111111111111111,
              "#46039f"
             ],
             [
              0.2222222222222222,
              "#7201a8"
             ],
             [
              0.3333333333333333,
              "#9c179e"
             ],
             [
              0.4444444444444444,
              "#bd3786"
             ],
             [
              0.5555555555555556,
              "#d8576b"
             ],
             [
              0.6666666666666666,
              "#ed7953"
             ],
             [
              0.7777777777777778,
              "#fb9f3a"
             ],
             [
              0.8888888888888888,
              "#fdca26"
             ],
             [
              1,
              "#f0f921"
             ]
            ],
            "type": "heatmapgl"
           }
          ],
          "histogram": [
           {
            "marker": {
             "colorbar": {
              "outlinewidth": 0,
              "ticks": ""
             }
            },
            "type": "histogram"
           }
          ],
          "histogram2d": [
           {
            "colorbar": {
             "outlinewidth": 0,
             "ticks": ""
            },
            "colorscale": [
             [
              0,
              "#0d0887"
             ],
             [
              0.1111111111111111,
              "#46039f"
             ],
             [
              0.2222222222222222,
              "#7201a8"
             ],
             [
              0.3333333333333333,
              "#9c179e"
             ],
             [
              0.4444444444444444,
              "#bd3786"
             ],
             [
              0.5555555555555556,
              "#d8576b"
             ],
             [
              0.6666666666666666,
              "#ed7953"
             ],
             [
              0.7777777777777778,
              "#fb9f3a"
             ],
             [
              0.8888888888888888,
              "#fdca26"
             ],
             [
              1,
              "#f0f921"
             ]
            ],
            "type": "histogram2d"
           }
          ],
          "histogram2dcontour": [
           {
            "colorbar": {
             "outlinewidth": 0,
             "ticks": ""
            },
            "colorscale": [
             [
              0,
              "#0d0887"
             ],
             [
              0.1111111111111111,
              "#46039f"
             ],
             [
              0.2222222222222222,
              "#7201a8"
             ],
             [
              0.3333333333333333,
              "#9c179e"
             ],
             [
              0.4444444444444444,
              "#bd3786"
             ],
             [
              0.5555555555555556,
              "#d8576b"
             ],
             [
              0.6666666666666666,
              "#ed7953"
             ],
             [
              0.7777777777777778,
              "#fb9f3a"
             ],
             [
              0.8888888888888888,
              "#fdca26"
             ],
             [
              1,
              "#f0f921"
             ]
            ],
            "type": "histogram2dcontour"
           }
          ],
          "mesh3d": [
           {
            "colorbar": {
             "outlinewidth": 0,
             "ticks": ""
            },
            "type": "mesh3d"
           }
          ],
          "parcoords": [
           {
            "line": {
             "colorbar": {
              "outlinewidth": 0,
              "ticks": ""
             }
            },
            "type": "parcoords"
           }
          ],
          "pie": [
           {
            "automargin": true,
            "type": "pie"
           }
          ],
          "scatter": [
           {
            "marker": {
             "colorbar": {
              "outlinewidth": 0,
              "ticks": ""
             }
            },
            "type": "scatter"
           }
          ],
          "scatter3d": [
           {
            "line": {
             "colorbar": {
              "outlinewidth": 0,
              "ticks": ""
             }
            },
            "marker": {
             "colorbar": {
              "outlinewidth": 0,
              "ticks": ""
             }
            },
            "type": "scatter3d"
           }
          ],
          "scattercarpet": [
           {
            "marker": {
             "colorbar": {
              "outlinewidth": 0,
              "ticks": ""
             }
            },
            "type": "scattercarpet"
           }
          ],
          "scattergeo": [
           {
            "marker": {
             "colorbar": {
              "outlinewidth": 0,
              "ticks": ""
             }
            },
            "type": "scattergeo"
           }
          ],
          "scattergl": [
           {
            "marker": {
             "colorbar": {
              "outlinewidth": 0,
              "ticks": ""
             }
            },
            "type": "scattergl"
           }
          ],
          "scattermapbox": [
           {
            "marker": {
             "colorbar": {
              "outlinewidth": 0,
              "ticks": ""
             }
            },
            "type": "scattermapbox"
           }
          ],
          "scatterpolar": [
           {
            "marker": {
             "colorbar": {
              "outlinewidth": 0,
              "ticks": ""
             }
            },
            "type": "scatterpolar"
           }
          ],
          "scatterpolargl": [
           {
            "marker": {
             "colorbar": {
              "outlinewidth": 0,
              "ticks": ""
             }
            },
            "type": "scatterpolargl"
           }
          ],
          "scatterternary": [
           {
            "marker": {
             "colorbar": {
              "outlinewidth": 0,
              "ticks": ""
             }
            },
            "type": "scatterternary"
           }
          ],
          "surface": [
           {
            "colorbar": {
             "outlinewidth": 0,
             "ticks": ""
            },
            "colorscale": [
             [
              0,
              "#0d0887"
             ],
             [
              0.1111111111111111,
              "#46039f"
             ],
             [
              0.2222222222222222,
              "#7201a8"
             ],
             [
              0.3333333333333333,
              "#9c179e"
             ],
             [
              0.4444444444444444,
              "#bd3786"
             ],
             [
              0.5555555555555556,
              "#d8576b"
             ],
             [
              0.6666666666666666,
              "#ed7953"
             ],
             [
              0.7777777777777778,
              "#fb9f3a"
             ],
             [
              0.8888888888888888,
              "#fdca26"
             ],
             [
              1,
              "#f0f921"
             ]
            ],
            "type": "surface"
           }
          ],
          "table": [
           {
            "cells": {
             "fill": {
              "color": "#EBF0F8"
             },
             "line": {
              "color": "white"
             }
            },
            "header": {
             "fill": {
              "color": "#C8D4E3"
             },
             "line": {
              "color": "white"
             }
            },
            "type": "table"
           }
          ]
         },
         "layout": {
          "annotationdefaults": {
           "arrowcolor": "#2a3f5f",
           "arrowhead": 0,
           "arrowwidth": 1
          },
          "autotypenumbers": "strict",
          "coloraxis": {
           "colorbar": {
            "outlinewidth": 0,
            "ticks": ""
           }
          },
          "colorscale": {
           "diverging": [
            [
             0,
             "#8e0152"
            ],
            [
             0.1,
             "#c51b7d"
            ],
            [
             0.2,
             "#de77ae"
            ],
            [
             0.3,
             "#f1b6da"
            ],
            [
             0.4,
             "#fde0ef"
            ],
            [
             0.5,
             "#f7f7f7"
            ],
            [
             0.6,
             "#e6f5d0"
            ],
            [
             0.7,
             "#b8e186"
            ],
            [
             0.8,
             "#7fbc41"
            ],
            [
             0.9,
             "#4d9221"
            ],
            [
             1,
             "#276419"
            ]
           ],
           "sequential": [
            [
             0,
             "#0d0887"
            ],
            [
             0.1111111111111111,
             "#46039f"
            ],
            [
             0.2222222222222222,
             "#7201a8"
            ],
            [
             0.3333333333333333,
             "#9c179e"
            ],
            [
             0.4444444444444444,
             "#bd3786"
            ],
            [
             0.5555555555555556,
             "#d8576b"
            ],
            [
             0.6666666666666666,
             "#ed7953"
            ],
            [
             0.7777777777777778,
             "#fb9f3a"
            ],
            [
             0.8888888888888888,
             "#fdca26"
            ],
            [
             1,
             "#f0f921"
            ]
           ],
           "sequentialminus": [
            [
             0,
             "#0d0887"
            ],
            [
             0.1111111111111111,
             "#46039f"
            ],
            [
             0.2222222222222222,
             "#7201a8"
            ],
            [
             0.3333333333333333,
             "#9c179e"
            ],
            [
             0.4444444444444444,
             "#bd3786"
            ],
            [
             0.5555555555555556,
             "#d8576b"
            ],
            [
             0.6666666666666666,
             "#ed7953"
            ],
            [
             0.7777777777777778,
             "#fb9f3a"
            ],
            [
             0.8888888888888888,
             "#fdca26"
            ],
            [
             1,
             "#f0f921"
            ]
           ]
          },
          "colorway": [
           "#636efa",
           "#EF553B",
           "#00cc96",
           "#ab63fa",
           "#FFA15A",
           "#19d3f3",
           "#FF6692",
           "#B6E880",
           "#FF97FF",
           "#FECB52"
          ],
          "font": {
           "color": "#2a3f5f"
          },
          "geo": {
           "bgcolor": "white",
           "lakecolor": "white",
           "landcolor": "#E5ECF6",
           "showlakes": true,
           "showland": true,
           "subunitcolor": "white"
          },
          "hoverlabel": {
           "align": "left"
          },
          "hovermode": "closest",
          "mapbox": {
           "style": "light"
          },
          "paper_bgcolor": "white",
          "plot_bgcolor": "#E5ECF6",
          "polar": {
           "angularaxis": {
            "gridcolor": "white",
            "linecolor": "white",
            "ticks": ""
           },
           "bgcolor": "#E5ECF6",
           "radialaxis": {
            "gridcolor": "white",
            "linecolor": "white",
            "ticks": ""
           }
          },
          "scene": {
           "xaxis": {
            "backgroundcolor": "#E5ECF6",
            "gridcolor": "white",
            "gridwidth": 2,
            "linecolor": "white",
            "showbackground": true,
            "ticks": "",
            "zerolinecolor": "white"
           },
           "yaxis": {
            "backgroundcolor": "#E5ECF6",
            "gridcolor": "white",
            "gridwidth": 2,
            "linecolor": "white",
            "showbackground": true,
            "ticks": "",
            "zerolinecolor": "white"
           },
           "zaxis": {
            "backgroundcolor": "#E5ECF6",
            "gridcolor": "white",
            "gridwidth": 2,
            "linecolor": "white",
            "showbackground": true,
            "ticks": "",
            "zerolinecolor": "white"
           }
          },
          "shapedefaults": {
           "line": {
            "color": "#2a3f5f"
           }
          },
          "ternary": {
           "aaxis": {
            "gridcolor": "white",
            "linecolor": "white",
            "ticks": ""
           },
           "baxis": {
            "gridcolor": "white",
            "linecolor": "white",
            "ticks": ""
           },
           "bgcolor": "#E5ECF6",
           "caxis": {
            "gridcolor": "white",
            "linecolor": "white",
            "ticks": ""
           }
          },
          "title": {
           "x": 0.05
          },
          "xaxis": {
           "automargin": true,
           "gridcolor": "white",
           "linecolor": "white",
           "ticks": "",
           "title": {
            "standoff": 15
           },
           "zerolinecolor": "white",
           "zerolinewidth": 2
          },
          "yaxis": {
           "automargin": true,
           "gridcolor": "white",
           "linecolor": "white",
           "ticks": "",
           "title": {
            "standoff": 15
           },
           "zerolinecolor": "white",
           "zerolinewidth": 2
          }
         }
        }
       }
      },
      "text/html": [
       "<div>                            <div id=\"1e79882f-92fe-4ee8-b34f-9c392ebe31f0\" class=\"plotly-graph-div\" style=\"height:525px; width:100%;\"></div>            <script type=\"text/javascript\">                require([\"plotly\"], function(Plotly) {                    window.PLOTLYENV=window.PLOTLYENV || {};                                    if (document.getElementById(\"1e79882f-92fe-4ee8-b34f-9c392ebe31f0\")) {                    Plotly.newPlot(                        \"1e79882f-92fe-4ee8-b34f-9c392ebe31f0\",                        [{\"name\": \"0 src 0 trg syn\", \"type\": \"bar\", \"x\": [\"enes\", \"enzh\"], \"y\": [0.6869625556088766, 0.6457994664665916]}, {\"name\": \"0 src 1 trg syn\", \"type\": \"bar\", \"x\": [\"enes\", \"enzh\"], \"y\": [0.6871117106133513, 0.6458880413488391]}, {\"name\": \"0 src 2 trg syn\", \"type\": \"bar\", \"x\": [\"enes\", \"enzh\"], \"y\": [0.7031361460940844, 0.6589293901879871]}, {\"name\": \"0 src 3 trg syn\", \"type\": \"bar\", \"x\": [\"enes\", \"enzh\"], \"y\": [0.7130322563909677, 0.6679796590388062]}, {\"name\": \"0 src 4 trg syn\", \"type\": \"bar\", \"x\": [\"enes\", \"enzh\"], \"y\": [0.7179803115394093, 0.6732107873786003]}, {\"name\": \"0 src 5 trg syn\", \"type\": \"bar\", \"x\": [\"enes\", \"enzh\"], \"y\": [0.723589836707695, 0.6785200700262598]}, {\"name\": \"1 src 0 trg syn\", \"type\": \"bar\", \"x\": [\"enes\", \"enzh\"], \"y\": [0.701787266053618, 0.6673127422783544]}, {\"name\": \"1 src 1 trg syn\", \"type\": \"bar\", \"x\": [\"enes\", \"enzh\"], \"y\": [0.7018456310553689, 0.6673856862990288]}, {\"name\": \"1 src 2 trg syn\", \"type\": \"bar\", \"x\": [\"enes\", \"enzh\"], \"y\": [0.7136677864100336, 0.6782439248051353]}, {\"name\": \"1 src 3 trg syn\", \"type\": \"bar\", \"x\": [\"enes\", \"enzh\"], \"y\": [0.721631366648941, 0.6862729773665125]}, {\"name\": \"1 src 4 trg syn\", \"type\": \"bar\", \"x\": [\"enes\", \"enzh\"], \"y\": [0.7262551717876552, 0.691061231295069]}, {\"name\": \"1 src 5 trg syn\", \"type\": \"bar\", \"x\": [\"enes\", \"enzh\"], \"y\": [0.7313069869392096, 0.695943270393064]}, {\"name\": \"2 src 0 trg syn\", \"type\": \"bar\", \"x\": [\"enes\", \"enzh\"], \"y\": [0.7134797214043916, 0.6756439914968113]}, {\"name\": \"2 src 1 trg syn\", \"type\": \"bar\", \"x\": [\"enes\", \"enzh\"], \"y\": [0.7135251164057534, 0.6757169355174857]}, {\"name\": \"2 src 2 trg syn\", \"type\": \"bar\", \"x\": [\"enes\", \"enzh\"], \"y\": [0.7212163266364898, 0.6845379517318995]}, {\"name\": \"2 src 3 trg syn\", \"type\": \"bar\", \"x\": [\"enes\", \"enzh\"], \"y\": [0.7277467218324016, 0.691936559543162]}, {\"name\": \"2 src 4 trg syn\", \"type\": \"bar\", \"x\": [\"enes\", \"enzh\"], \"y\": [0.7314626269438788, 0.6963757242299196]}, {\"name\": \"2 src 5 trg syn\", \"type\": \"bar\", \"x\": [\"enes\", \"enzh\"], \"y\": [0.7363198920895968, 0.7010806135634197]}, {\"name\": \"3 src 0 trg syn\", \"type\": \"bar\", \"x\": [\"enes\", \"enzh\"], \"y\": [0.7212357816370735, 0.6811929473552583]}, {\"name\": \"3 src 1 trg syn\", \"type\": \"bar\", \"x\": [\"enes\", \"enzh\"], \"y\": [0.7212811766384353, 0.6812658913759326]}, {\"name\": \"3 src 2 trg syn\", \"type\": \"bar\", \"x\": [\"enes\", \"enzh\"], \"y\": [0.727856966835709, 0.6892219999166354]}, {\"name\": \"3 src 3 trg syn\", \"type\": \"bar\", \"x\": [\"enes\", \"enzh\"], \"y\": [0.7330579369917382, 0.696104789295986]}, {\"name\": \"3 src 4 trg syn\", \"type\": \"bar\", \"x\": [\"enes\", \"enzh\"], \"y\": [0.7358724270761728, 0.7002990704847651]}, {\"name\": \"3 src 5 trg syn\", \"type\": \"bar\", \"x\": [\"enes\", \"enzh\"], \"y\": [0.7389592871687786, 0.7045871368429828]}, {\"name\": \"4 src 0 trg syn\", \"type\": \"bar\", \"x\": [\"enes\", \"enzh\"], \"y\": [0.7260735917822078, 0.6848922512608895]}, {\"name\": \"4 src 1 trg syn\", \"type\": \"bar\", \"x\": [\"enes\", \"enzh\"], \"y\": [0.7261189867835696, 0.6849443541327997]}, {\"name\": \"4 src 2 trg syn\", \"type\": \"bar\", \"x\": [\"enes\", \"enzh\"], \"y\": [0.7315404469462135, 0.6926607894627151]}, {\"name\": \"4 src 3 trg syn\", \"type\": \"bar\", \"x\": [\"enes\", \"enzh\"], \"y\": [0.7358464870753946, 0.6988506106456588]}, {\"name\": \"4 src 4 trg syn\", \"type\": \"bar\", \"x\": [\"enes\", \"enzh\"], \"y\": [0.7377206521316195, 0.7029354758034263]}, {\"name\": \"4 src 5 trg syn\", \"type\": \"bar\", \"x\": [\"enes\", \"enzh\"], \"y\": [0.7406842972205289, 0.7067441957400692]}, {\"name\": \"5 src 0 trg syn\", \"type\": \"bar\", \"x\": [\"enes\", \"enzh\"], \"y\": [0.7288880818666424, 0.6877891709391022]}, {\"name\": \"5 src 1 trg syn\", \"type\": \"bar\", \"x\": [\"enes\", \"enzh\"], \"y\": [0.7289334768680044, 0.6878412738110125]}, {\"name\": \"5 src 2 trg syn\", \"type\": \"bar\", \"x\": [\"enes\", \"enzh\"], \"y\": [0.7339723220191696, 0.6953128256429495]}, {\"name\": \"5 src 3 trg syn\", \"type\": \"bar\", \"x\": [\"enes\", \"enzh\"], \"y\": [0.7372148221164446, 0.701325497061398]}, {\"name\": \"5 src 4 trg syn\", \"type\": \"bar\", \"x\": [\"enes\", \"enzh\"], \"y\": [0.7388490421654713, 0.7051654787211871]}, {\"name\": \"5 src 5 trg syn\", \"type\": \"bar\", \"x\": [\"enes\", \"enzh\"], \"y\": [0.741676502250295, 0.7088543620524363]}],                        {\"barmode\": \"group\", \"template\": {\"data\": {\"bar\": [{\"error_x\": {\"color\": \"#2a3f5f\"}, \"error_y\": {\"color\": \"#2a3f5f\"}, \"marker\": {\"line\": {\"color\": \"#E5ECF6\", \"width\": 0.5}}, \"type\": \"bar\"}], \"barpolar\": [{\"marker\": {\"line\": {\"color\": \"#E5ECF6\", \"width\": 0.5}}, \"type\": \"barpolar\"}], \"carpet\": [{\"aaxis\": {\"endlinecolor\": \"#2a3f5f\", \"gridcolor\": \"white\", \"linecolor\": \"white\", \"minorgridcolor\": \"white\", \"startlinecolor\": \"#2a3f5f\"}, \"baxis\": {\"endlinecolor\": \"#2a3f5f\", \"gridcolor\": \"white\", \"linecolor\": \"white\", \"minorgridcolor\": \"white\", \"startlinecolor\": \"#2a3f5f\"}, \"type\": \"carpet\"}], \"choropleth\": [{\"colorbar\": {\"outlinewidth\": 0, \"ticks\": \"\"}, \"type\": \"choropleth\"}], \"contour\": [{\"colorbar\": {\"outlinewidth\": 0, \"ticks\": \"\"}, \"colorscale\": [[0.0, \"#0d0887\"], [0.1111111111111111, \"#46039f\"], [0.2222222222222222, \"#7201a8\"], [0.3333333333333333, \"#9c179e\"], [0.4444444444444444, \"#bd3786\"], [0.5555555555555556, \"#d8576b\"], [0.6666666666666666, \"#ed7953\"], [0.7777777777777778, \"#fb9f3a\"], [0.8888888888888888, \"#fdca26\"], [1.0, \"#f0f921\"]], \"type\": \"contour\"}], \"contourcarpet\": [{\"colorbar\": {\"outlinewidth\": 0, \"ticks\": \"\"}, \"type\": \"contourcarpet\"}], \"heatmap\": [{\"colorbar\": {\"outlinewidth\": 0, \"ticks\": \"\"}, \"colorscale\": [[0.0, \"#0d0887\"], [0.1111111111111111, \"#46039f\"], [0.2222222222222222, \"#7201a8\"], [0.3333333333333333, \"#9c179e\"], [0.4444444444444444, \"#bd3786\"], [0.5555555555555556, \"#d8576b\"], [0.6666666666666666, \"#ed7953\"], [0.7777777777777778, \"#fb9f3a\"], [0.8888888888888888, \"#fdca26\"], [1.0, \"#f0f921\"]], \"type\": \"heatmap\"}], \"heatmapgl\": [{\"colorbar\": {\"outlinewidth\": 0, \"ticks\": \"\"}, \"colorscale\": [[0.0, \"#0d0887\"], [0.1111111111111111, \"#46039f\"], [0.2222222222222222, \"#7201a8\"], [0.3333333333333333, \"#9c179e\"], [0.4444444444444444, \"#bd3786\"], [0.5555555555555556, \"#d8576b\"], [0.6666666666666666, \"#ed7953\"], [0.7777777777777778, \"#fb9f3a\"], [0.8888888888888888, \"#fdca26\"], [1.0, \"#f0f921\"]], \"type\": \"heatmapgl\"}], \"histogram\": [{\"marker\": {\"colorbar\": {\"outlinewidth\": 0, \"ticks\": \"\"}}, \"type\": \"histogram\"}], \"histogram2d\": [{\"colorbar\": {\"outlinewidth\": 0, \"ticks\": \"\"}, \"colorscale\": [[0.0, \"#0d0887\"], [0.1111111111111111, \"#46039f\"], [0.2222222222222222, \"#7201a8\"], [0.3333333333333333, \"#9c179e\"], [0.4444444444444444, \"#bd3786\"], [0.5555555555555556, \"#d8576b\"], [0.6666666666666666, \"#ed7953\"], [0.7777777777777778, \"#fb9f3a\"], [0.8888888888888888, \"#fdca26\"], [1.0, \"#f0f921\"]], \"type\": \"histogram2d\"}], \"histogram2dcontour\": [{\"colorbar\": {\"outlinewidth\": 0, \"ticks\": \"\"}, \"colorscale\": [[0.0, \"#0d0887\"], [0.1111111111111111, \"#46039f\"], [0.2222222222222222, \"#7201a8\"], [0.3333333333333333, \"#9c179e\"], [0.4444444444444444, \"#bd3786\"], [0.5555555555555556, \"#d8576b\"], [0.6666666666666666, \"#ed7953\"], [0.7777777777777778, \"#fb9f3a\"], [0.8888888888888888, \"#fdca26\"], [1.0, \"#f0f921\"]], \"type\": \"histogram2dcontour\"}], \"mesh3d\": [{\"colorbar\": {\"outlinewidth\": 0, \"ticks\": \"\"}, \"type\": \"mesh3d\"}], \"parcoords\": [{\"line\": {\"colorbar\": {\"outlinewidth\": 0, \"ticks\": \"\"}}, \"type\": \"parcoords\"}], \"pie\": [{\"automargin\": true, \"type\": \"pie\"}], \"scatter\": [{\"marker\": {\"colorbar\": {\"outlinewidth\": 0, \"ticks\": \"\"}}, \"type\": \"scatter\"}], \"scatter3d\": [{\"line\": {\"colorbar\": {\"outlinewidth\": 0, \"ticks\": \"\"}}, \"marker\": {\"colorbar\": {\"outlinewidth\": 0, \"ticks\": \"\"}}, \"type\": \"scatter3d\"}], \"scattercarpet\": [{\"marker\": {\"colorbar\": {\"outlinewidth\": 0, \"ticks\": \"\"}}, \"type\": \"scattercarpet\"}], \"scattergeo\": [{\"marker\": {\"colorbar\": {\"outlinewidth\": 0, \"ticks\": \"\"}}, \"type\": \"scattergeo\"}], \"scattergl\": [{\"marker\": {\"colorbar\": {\"outlinewidth\": 0, \"ticks\": \"\"}}, \"type\": \"scattergl\"}], \"scattermapbox\": [{\"marker\": {\"colorbar\": {\"outlinewidth\": 0, \"ticks\": \"\"}}, \"type\": \"scattermapbox\"}], \"scatterpolar\": [{\"marker\": {\"colorbar\": {\"outlinewidth\": 0, \"ticks\": \"\"}}, \"type\": \"scatterpolar\"}], \"scatterpolargl\": [{\"marker\": {\"colorbar\": {\"outlinewidth\": 0, \"ticks\": \"\"}}, \"type\": \"scatterpolargl\"}], \"scatterternary\": [{\"marker\": {\"colorbar\": {\"outlinewidth\": 0, \"ticks\": \"\"}}, \"type\": \"scatterternary\"}], \"surface\": [{\"colorbar\": {\"outlinewidth\": 0, \"ticks\": \"\"}, \"colorscale\": [[0.0, \"#0d0887\"], [0.1111111111111111, \"#46039f\"], [0.2222222222222222, \"#7201a8\"], [0.3333333333333333, \"#9c179e\"], [0.4444444444444444, \"#bd3786\"], [0.5555555555555556, \"#d8576b\"], [0.6666666666666666, \"#ed7953\"], [0.7777777777777778, \"#fb9f3a\"], [0.8888888888888888, \"#fdca26\"], [1.0, \"#f0f921\"]], \"type\": \"surface\"}], \"table\": [{\"cells\": {\"fill\": {\"color\": \"#EBF0F8\"}, \"line\": {\"color\": \"white\"}}, \"header\": {\"fill\": {\"color\": \"#C8D4E3\"}, \"line\": {\"color\": \"white\"}}, \"type\": \"table\"}]}, \"layout\": {\"annotationdefaults\": {\"arrowcolor\": \"#2a3f5f\", \"arrowhead\": 0, \"arrowwidth\": 1}, \"autotypenumbers\": \"strict\", \"coloraxis\": {\"colorbar\": {\"outlinewidth\": 0, \"ticks\": \"\"}}, \"colorscale\": {\"diverging\": [[0, \"#8e0152\"], [0.1, \"#c51b7d\"], [0.2, \"#de77ae\"], [0.3, \"#f1b6da\"], [0.4, \"#fde0ef\"], [0.5, \"#f7f7f7\"], [0.6, \"#e6f5d0\"], [0.7, \"#b8e186\"], [0.8, \"#7fbc41\"], [0.9, \"#4d9221\"], [1, \"#276419\"]], \"sequential\": [[0.0, \"#0d0887\"], [0.1111111111111111, \"#46039f\"], [0.2222222222222222, \"#7201a8\"], [0.3333333333333333, \"#9c179e\"], [0.4444444444444444, \"#bd3786\"], [0.5555555555555556, \"#d8576b\"], [0.6666666666666666, \"#ed7953\"], [0.7777777777777778, \"#fb9f3a\"], [0.8888888888888888, \"#fdca26\"], [1.0, \"#f0f921\"]], \"sequentialminus\": [[0.0, \"#0d0887\"], [0.1111111111111111, \"#46039f\"], [0.2222222222222222, \"#7201a8\"], [0.3333333333333333, \"#9c179e\"], [0.4444444444444444, \"#bd3786\"], [0.5555555555555556, \"#d8576b\"], [0.6666666666666666, \"#ed7953\"], [0.7777777777777778, \"#fb9f3a\"], [0.8888888888888888, \"#fdca26\"], [1.0, \"#f0f921\"]]}, \"colorway\": [\"#636efa\", \"#EF553B\", \"#00cc96\", \"#ab63fa\", \"#FFA15A\", \"#19d3f3\", \"#FF6692\", \"#B6E880\", \"#FF97FF\", \"#FECB52\"], \"font\": {\"color\": \"#2a3f5f\"}, \"geo\": {\"bgcolor\": \"white\", \"lakecolor\": \"white\", \"landcolor\": \"#E5ECF6\", \"showlakes\": true, \"showland\": true, \"subunitcolor\": \"white\"}, \"hoverlabel\": {\"align\": \"left\"}, \"hovermode\": \"closest\", \"mapbox\": {\"style\": \"light\"}, \"paper_bgcolor\": \"white\", \"plot_bgcolor\": \"#E5ECF6\", \"polar\": {\"angularaxis\": {\"gridcolor\": \"white\", \"linecolor\": \"white\", \"ticks\": \"\"}, \"bgcolor\": \"#E5ECF6\", \"radialaxis\": {\"gridcolor\": \"white\", \"linecolor\": \"white\", \"ticks\": \"\"}}, \"scene\": {\"xaxis\": {\"backgroundcolor\": \"#E5ECF6\", \"gridcolor\": \"white\", \"gridwidth\": 2, \"linecolor\": \"white\", \"showbackground\": true, \"ticks\": \"\", \"zerolinecolor\": \"white\"}, \"yaxis\": {\"backgroundcolor\": \"#E5ECF6\", \"gridcolor\": \"white\", \"gridwidth\": 2, \"linecolor\": \"white\", \"showbackground\": true, \"ticks\": \"\", \"zerolinecolor\": \"white\"}, \"zaxis\": {\"backgroundcolor\": \"#E5ECF6\", \"gridcolor\": \"white\", \"gridwidth\": 2, \"linecolor\": \"white\", \"showbackground\": true, \"ticks\": \"\", \"zerolinecolor\": \"white\"}}, \"shapedefaults\": {\"line\": {\"color\": \"#2a3f5f\"}}, \"ternary\": {\"aaxis\": {\"gridcolor\": \"white\", \"linecolor\": \"white\", \"ticks\": \"\"}, \"baxis\": {\"gridcolor\": \"white\", \"linecolor\": \"white\", \"ticks\": \"\"}, \"bgcolor\": \"#E5ECF6\", \"caxis\": {\"gridcolor\": \"white\", \"linecolor\": \"white\", \"ticks\": \"\"}}, \"title\": {\"x\": 0.05}, \"xaxis\": {\"automargin\": true, \"gridcolor\": \"white\", \"linecolor\": \"white\", \"ticks\": \"\", \"title\": {\"standoff\": 15}, \"zerolinecolor\": \"white\", \"zerolinewidth\": 2}, \"yaxis\": {\"automargin\": true, \"gridcolor\": \"white\", \"linecolor\": \"white\", \"ticks\": \"\", \"title\": {\"standoff\": 15}, \"zerolinecolor\": \"white\", \"zerolinewidth\": 2}}}},                        {\"responsive\": true}                    ).then(function(){\n",
       "                            \n",
       "var gd = document.getElementById('1e79882f-92fe-4ee8-b34f-9c392ebe31f0');\n",
       "var x = new MutationObserver(function (mutations, observer) {{\n",
       "        var display = window.getComputedStyle(gd).display;\n",
       "        if (!display || display === 'none') {{\n",
       "            console.log([gd, 'removed!']);\n",
       "            Plotly.purge(gd);\n",
       "            observer.disconnect();\n",
       "        }}\n",
       "}});\n",
       "\n",
       "// Listen for the removal of the full notebook cells\n",
       "var notebookContainer = gd.closest('#notebook-container');\n",
       "if (notebookContainer) {{\n",
       "    x.observe(notebookContainer, {childList: true});\n",
       "}}\n",
       "\n",
       "// Listen for the clearing of the current output cell\n",
       "var outputEl = gd.closest('.output');\n",
       "if (outputEl) {{\n",
       "    x.observe(outputEl, {childList: true});\n",
       "}}\n",
       "\n",
       "                        })                };                });            </script>        </div>"
      ]
     },
     "metadata": {},
     "output_type": "display_data"
    }
   ],
   "source": [
    "datalist = []\n",
    "for num_synonyms_sourcelang in range(6):\n",
    "  for num_synonyms_targetlang in range(6):\n",
    "    yvals = [langpair_to_num_src_trg_synonyms_to_accuracy[lang][(num_synonyms_sourcelang, num_synonyms_targetlang)] for lang in langpair_list]\n",
    "    dataitem = go.Bar(name=f'{num_synonyms_sourcelang} src {num_synonyms_targetlang} trg syn', x=langpair_list, y=yvals)\n",
    "    datalist.append(dataitem)\n",
    "fig = go.Figure(data=datalist)\n",
    "# Change the bar mode\n",
    "fig.update_layout(barmode='group')\n",
    "fig.show()"
   ]
  },
  {
   "cell_type": "code",
   "execution_count": 20,
   "metadata": {},
   "outputs": [
    {
     "data": {
      "application/vnd.plotly.v1+json": {
       "config": {
        "plotlyServerURL": "https://plot.ly"
       },
       "data": [
        {
         "name": "0 src 0 trg syn",
         "type": "bar",
         "x": [
          "enes",
          "enzh"
         ],
         "y": [
          0.7166249464987484,
          0.7740454753866033
         ]
        },
        {
         "name": "0 src 1 trg syn",
         "type": "bar",
         "x": [
          "enes",
          "enzh"
         ],
         "y": [
          0.7166444014993321,
          0.7740663165353674
         ]
        },
        {
         "name": "0 src 2 trg syn",
         "type": "bar",
         "x": [
          "enes",
          "enzh"
         ],
         "y": [
          0.7342446920273408,
          0.782684131549331
         ]
        },
        {
         "name": "0 src 3 trg syn",
         "type": "bar",
         "x": [
          "enes",
          "enzh"
         ],
         "y": [
          0.7433301772999054,
          0.7883529240131716
         ]
        },
        {
         "name": "0 src 4 trg syn",
         "type": "bar",
         "x": [
          "enes",
          "enzh"
         ],
         "y": [
          0.7482976874489307,
          0.7916145637947564
         ]
        },
        {
         "name": "0 src 5 trg syn",
         "type": "bar",
         "x": [
          "enes",
          "enzh"
         ],
         "y": [
          0.7526102125783064,
          0.7949283064482514
         ]
        },
        {
         "name": "1 src 0 trg syn",
         "type": "bar",
         "x": [
          "enes",
          "enzh"
         ],
         "y": [
          0.7334405520032166,
          0.786680421824851
         ]
        },
        {
         "name": "1 src 1 trg syn",
         "type": "bar",
         "x": [
          "enes",
          "enzh"
         ],
         "y": [
          0.7334600070038002,
          0.7867012629736151
         ]
        },
        {
         "name": "1 src 2 trg syn",
         "type": "bar",
         "x": [
          "enes",
          "enzh"
         ],
         "y": [
          0.7455999273679979,
          0.7932193322495936
         ]
        },
        {
         "name": "1 src 3 trg syn",
         "type": "bar",
         "x": [
          "enes",
          "enzh"
         ],
         "y": [
          0.7526750625802519,
          0.7981170022091618
         ]
        },
        {
         "name": "1 src 4 trg syn",
         "type": "bar",
         "x": [
          "enes",
          "enzh"
         ],
         "y": [
          0.7571626827148805,
          0.8010503938977116
         ]
        },
        {
         "name": "1 src 5 trg syn",
         "type": "bar",
         "x": [
          "enes",
          "enzh"
         ],
         "y": [
          0.7610342278310268,
          0.8041036221916552
         ]
        },
        {
         "name": "2 src 0 trg syn",
         "type": "bar",
         "x": [
          "enes",
          "enzh"
         ],
         "y": [
          0.7445688123370644,
          0.7914582551790255
         ]
        },
        {
         "name": "2 src 1 trg syn",
         "type": "bar",
         "x": [
          "enes",
          "enzh"
         ],
         "y": [
          0.744588267337648,
          0.7914790963277896
         ]
        },
        {
         "name": "2 src 2 trg syn",
         "type": "bar",
         "x": [
          "enes",
          "enzh"
         ],
         "y": [
          0.7526815475804465,
          0.7969915801758993
         ]
        },
        {
         "name": "2 src 3 trg syn",
         "type": "bar",
         "x": [
          "enes",
          "enzh"
         ],
         "y": [
          0.7584078027522341,
          0.8014776374473761
         ]
        },
        {
         "name": "2 src 4 trg syn",
         "type": "bar",
         "x": [
          "enes",
          "enzh"
         ],
         "y": [
          0.7619097028572911,
          0.8042859822433412
         ]
        },
        {
         "name": "2 src 5 trg syn",
         "type": "bar",
         "x": [
          "enes",
          "enzh"
         ],
         "y": [
          0.7656839729705192,
          0.8072193739318911
         ]
        },
        {
         "name": "3 src 0 trg syn",
         "type": "bar",
         "x": [
          "enes",
          "enzh"
         ],
         "y": [
          0.751449397543482,
          0.7945219040473511
         ]
        },
        {
         "name": "3 src 1 trg syn",
         "type": "bar",
         "x": [
          "enes",
          "enzh"
         ],
         "y": [
          0.7514688525440656,
          0.7945427451961152
         ]
        },
        {
         "name": "3 src 2 trg syn",
         "type": "bar",
         "x": [
          "enes",
          "enzh"
         ],
         "y": [
          0.7583818627514559,
          0.79972698095119
         ]
        },
        {
         "name": "3 src 3 trg syn",
         "type": "bar",
         "x": [
          "enes",
          "enzh"
         ],
         "y": [
          0.7628694828860845,
          0.8037649535242383
         ]
        },
        {
         "name": "3 src 4 trg syn",
         "type": "bar",
         "x": [
          "enes",
          "enzh"
         ],
         "y": [
          0.7655931829677954,
          0.8064899337251469
         ]
        },
        {
         "name": "3 src 5 trg syn",
         "type": "bar",
         "x": [
          "enes",
          "enzh"
         ],
         "y": [
          0.768323368049701,
          0.8092409653620107
         ]
        },
        {
         "name": "4 src 0 trg syn",
         "type": "bar",
         "x": [
          "enes",
          "enzh"
         ],
         "y": [
          0.7553468826604065,
          0.7968248509857864
         ]
        },
        {
         "name": "4 src 1 trg syn",
         "type": "bar",
         "x": [
          "enes",
          "enzh"
         ],
         "y": [
          0.7553663376609902,
          0.7968404818473594
         ]
        },
        {
         "name": "4 src 2 trg syn",
         "type": "bar",
         "x": [
          "enes",
          "enzh"
         ],
         "y": [
          0.7612158078364742,
          0.8018736192738943
         ]
        },
        {
         "name": "4 src 3 trg syn",
         "type": "bar",
         "x": [
          "enes",
          "enzh"
         ],
         "y": [
          0.7651132929533988,
          0.8054374557125589
         ]
        },
        {
         "name": "4 src 4 trg syn",
         "type": "bar",
         "x": [
          "enes",
          "enzh"
         ],
         "y": [
          0.7671106730133201,
          0.8080842816056021
         ]
        },
        {
         "name": "4 src 5 trg syn",
         "type": "bar",
         "x": [
          "enes",
          "enzh"
         ],
         "y": [
          0.7697306130919184,
          0.8104705931390939
         ]
        },
        {
         "name": "5 src 0 trg syn",
         "type": "bar",
         "x": [
          "enes",
          "enzh"
         ],
         "y": [
          0.7578630627358919,
          0.7986328206410738
         ]
        },
        {
         "name": "5 src 1 trg syn",
         "type": "bar",
         "x": [
          "enes",
          "enzh"
         ],
         "y": [
          0.7578825177364755,
          0.7986484515026469
         ]
        },
        {
         "name": "5 src 2 trg syn",
         "type": "bar",
         "x": [
          "enes",
          "enzh"
         ],
         "y": [
          0.763394767901843,
          0.803546121462215
         ]
        },
        {
         "name": "5 src 3 trg syn",
         "type": "bar",
         "x": [
          "enes",
          "enzh"
         ],
         "y": [
          0.7664427179932816,
          0.8070318035930141
         ]
        },
        {
         "name": "5 src 4 trg syn",
         "type": "bar",
         "x": [
          "enes",
          "enzh"
         ],
         "y": [
          0.7682131230463937,
          0.8095327414447084
         ]
        },
        {
         "name": "5 src 5 trg syn",
         "type": "bar",
         "x": [
          "enes",
          "enzh"
         ],
         "y": [
          0.77071633312149,
          0.8118825809678629
         ]
        }
       ],
       "layout": {
        "barmode": "group",
        "template": {
         "data": {
          "bar": [
           {
            "error_x": {
             "color": "#2a3f5f"
            },
            "error_y": {
             "color": "#2a3f5f"
            },
            "marker": {
             "line": {
              "color": "#E5ECF6",
              "width": 0.5
             }
            },
            "type": "bar"
           }
          ],
          "barpolar": [
           {
            "marker": {
             "line": {
              "color": "#E5ECF6",
              "width": 0.5
             }
            },
            "type": "barpolar"
           }
          ],
          "carpet": [
           {
            "aaxis": {
             "endlinecolor": "#2a3f5f",
             "gridcolor": "white",
             "linecolor": "white",
             "minorgridcolor": "white",
             "startlinecolor": "#2a3f5f"
            },
            "baxis": {
             "endlinecolor": "#2a3f5f",
             "gridcolor": "white",
             "linecolor": "white",
             "minorgridcolor": "white",
             "startlinecolor": "#2a3f5f"
            },
            "type": "carpet"
           }
          ],
          "choropleth": [
           {
            "colorbar": {
             "outlinewidth": 0,
             "ticks": ""
            },
            "type": "choropleth"
           }
          ],
          "contour": [
           {
            "colorbar": {
             "outlinewidth": 0,
             "ticks": ""
            },
            "colorscale": [
             [
              0,
              "#0d0887"
             ],
             [
              0.1111111111111111,
              "#46039f"
             ],
             [
              0.2222222222222222,
              "#7201a8"
             ],
             [
              0.3333333333333333,
              "#9c179e"
             ],
             [
              0.4444444444444444,
              "#bd3786"
             ],
             [
              0.5555555555555556,
              "#d8576b"
             ],
             [
              0.6666666666666666,
              "#ed7953"
             ],
             [
              0.7777777777777778,
              "#fb9f3a"
             ],
             [
              0.8888888888888888,
              "#fdca26"
             ],
             [
              1,
              "#f0f921"
             ]
            ],
            "type": "contour"
           }
          ],
          "contourcarpet": [
           {
            "colorbar": {
             "outlinewidth": 0,
             "ticks": ""
            },
            "type": "contourcarpet"
           }
          ],
          "heatmap": [
           {
            "colorbar": {
             "outlinewidth": 0,
             "ticks": ""
            },
            "colorscale": [
             [
              0,
              "#0d0887"
             ],
             [
              0.1111111111111111,
              "#46039f"
             ],
             [
              0.2222222222222222,
              "#7201a8"
             ],
             [
              0.3333333333333333,
              "#9c179e"
             ],
             [
              0.4444444444444444,
              "#bd3786"
             ],
             [
              0.5555555555555556,
              "#d8576b"
             ],
             [
              0.6666666666666666,
              "#ed7953"
             ],
             [
              0.7777777777777778,
              "#fb9f3a"
             ],
             [
              0.8888888888888888,
              "#fdca26"
             ],
             [
              1,
              "#f0f921"
             ]
            ],
            "type": "heatmap"
           }
          ],
          "heatmapgl": [
           {
            "colorbar": {
             "outlinewidth": 0,
             "ticks": ""
            },
            "colorscale": [
             [
              0,
              "#0d0887"
             ],
             [
              0.1111111111111111,
              "#46039f"
             ],
             [
              0.2222222222222222,
              "#7201a8"
             ],
             [
              0.3333333333333333,
              "#9c179e"
             ],
             [
              0.4444444444444444,
              "#bd3786"
             ],
             [
              0.5555555555555556,
              "#d8576b"
             ],
             [
              0.6666666666666666,
              "#ed7953"
             ],
             [
              0.7777777777777778,
              "#fb9f3a"
             ],
             [
              0.8888888888888888,
              "#fdca26"
             ],
             [
              1,
              "#f0f921"
             ]
            ],
            "type": "heatmapgl"
           }
          ],
          "histogram": [
           {
            "marker": {
             "colorbar": {
              "outlinewidth": 0,
              "ticks": ""
             }
            },
            "type": "histogram"
           }
          ],
          "histogram2d": [
           {
            "colorbar": {
             "outlinewidth": 0,
             "ticks": ""
            },
            "colorscale": [
             [
              0,
              "#0d0887"
             ],
             [
              0.1111111111111111,
              "#46039f"
             ],
             [
              0.2222222222222222,
              "#7201a8"
             ],
             [
              0.3333333333333333,
              "#9c179e"
             ],
             [
              0.4444444444444444,
              "#bd3786"
             ],
             [
              0.5555555555555556,
              "#d8576b"
             ],
             [
              0.6666666666666666,
              "#ed7953"
             ],
             [
              0.7777777777777778,
              "#fb9f3a"
             ],
             [
              0.8888888888888888,
              "#fdca26"
             ],
             [
              1,
              "#f0f921"
             ]
            ],
            "type": "histogram2d"
           }
          ],
          "histogram2dcontour": [
           {
            "colorbar": {
             "outlinewidth": 0,
             "ticks": ""
            },
            "colorscale": [
             [
              0,
              "#0d0887"
             ],
             [
              0.1111111111111111,
              "#46039f"
             ],
             [
              0.2222222222222222,
              "#7201a8"
             ],
             [
              0.3333333333333333,
              "#9c179e"
             ],
             [
              0.4444444444444444,
              "#bd3786"
             ],
             [
              0.5555555555555556,
              "#d8576b"
             ],
             [
              0.6666666666666666,
              "#ed7953"
             ],
             [
              0.7777777777777778,
              "#fb9f3a"
             ],
             [
              0.8888888888888888,
              "#fdca26"
             ],
             [
              1,
              "#f0f921"
             ]
            ],
            "type": "histogram2dcontour"
           }
          ],
          "mesh3d": [
           {
            "colorbar": {
             "outlinewidth": 0,
             "ticks": ""
            },
            "type": "mesh3d"
           }
          ],
          "parcoords": [
           {
            "line": {
             "colorbar": {
              "outlinewidth": 0,
              "ticks": ""
             }
            },
            "type": "parcoords"
           }
          ],
          "pie": [
           {
            "automargin": true,
            "type": "pie"
           }
          ],
          "scatter": [
           {
            "marker": {
             "colorbar": {
              "outlinewidth": 0,
              "ticks": ""
             }
            },
            "type": "scatter"
           }
          ],
          "scatter3d": [
           {
            "line": {
             "colorbar": {
              "outlinewidth": 0,
              "ticks": ""
             }
            },
            "marker": {
             "colorbar": {
              "outlinewidth": 0,
              "ticks": ""
             }
            },
            "type": "scatter3d"
           }
          ],
          "scattercarpet": [
           {
            "marker": {
             "colorbar": {
              "outlinewidth": 0,
              "ticks": ""
             }
            },
            "type": "scattercarpet"
           }
          ],
          "scattergeo": [
           {
            "marker": {
             "colorbar": {
              "outlinewidth": 0,
              "ticks": ""
             }
            },
            "type": "scattergeo"
           }
          ],
          "scattergl": [
           {
            "marker": {
             "colorbar": {
              "outlinewidth": 0,
              "ticks": ""
             }
            },
            "type": "scattergl"
           }
          ],
          "scattermapbox": [
           {
            "marker": {
             "colorbar": {
              "outlinewidth": 0,
              "ticks": ""
             }
            },
            "type": "scattermapbox"
           }
          ],
          "scatterpolar": [
           {
            "marker": {
             "colorbar": {
              "outlinewidth": 0,
              "ticks": ""
             }
            },
            "type": "scatterpolar"
           }
          ],
          "scatterpolargl": [
           {
            "marker": {
             "colorbar": {
              "outlinewidth": 0,
              "ticks": ""
             }
            },
            "type": "scatterpolargl"
           }
          ],
          "scatterternary": [
           {
            "marker": {
             "colorbar": {
              "outlinewidth": 0,
              "ticks": ""
             }
            },
            "type": "scatterternary"
           }
          ],
          "surface": [
           {
            "colorbar": {
             "outlinewidth": 0,
             "ticks": ""
            },
            "colorscale": [
             [
              0,
              "#0d0887"
             ],
             [
              0.1111111111111111,
              "#46039f"
             ],
             [
              0.2222222222222222,
              "#7201a8"
             ],
             [
              0.3333333333333333,
              "#9c179e"
             ],
             [
              0.4444444444444444,
              "#bd3786"
             ],
             [
              0.5555555555555556,
              "#d8576b"
             ],
             [
              0.6666666666666666,
              "#ed7953"
             ],
             [
              0.7777777777777778,
              "#fb9f3a"
             ],
             [
              0.8888888888888888,
              "#fdca26"
             ],
             [
              1,
              "#f0f921"
             ]
            ],
            "type": "surface"
           }
          ],
          "table": [
           {
            "cells": {
             "fill": {
              "color": "#EBF0F8"
             },
             "line": {
              "color": "white"
             }
            },
            "header": {
             "fill": {
              "color": "#C8D4E3"
             },
             "line": {
              "color": "white"
             }
            },
            "type": "table"
           }
          ]
         },
         "layout": {
          "annotationdefaults": {
           "arrowcolor": "#2a3f5f",
           "arrowhead": 0,
           "arrowwidth": 1
          },
          "autotypenumbers": "strict",
          "coloraxis": {
           "colorbar": {
            "outlinewidth": 0,
            "ticks": ""
           }
          },
          "colorscale": {
           "diverging": [
            [
             0,
             "#8e0152"
            ],
            [
             0.1,
             "#c51b7d"
            ],
            [
             0.2,
             "#de77ae"
            ],
            [
             0.3,
             "#f1b6da"
            ],
            [
             0.4,
             "#fde0ef"
            ],
            [
             0.5,
             "#f7f7f7"
            ],
            [
             0.6,
             "#e6f5d0"
            ],
            [
             0.7,
             "#b8e186"
            ],
            [
             0.8,
             "#7fbc41"
            ],
            [
             0.9,
             "#4d9221"
            ],
            [
             1,
             "#276419"
            ]
           ],
           "sequential": [
            [
             0,
             "#0d0887"
            ],
            [
             0.1111111111111111,
             "#46039f"
            ],
            [
             0.2222222222222222,
             "#7201a8"
            ],
            [
             0.3333333333333333,
             "#9c179e"
            ],
            [
             0.4444444444444444,
             "#bd3786"
            ],
            [
             0.5555555555555556,
             "#d8576b"
            ],
            [
             0.6666666666666666,
             "#ed7953"
            ],
            [
             0.7777777777777778,
             "#fb9f3a"
            ],
            [
             0.8888888888888888,
             "#fdca26"
            ],
            [
             1,
             "#f0f921"
            ]
           ],
           "sequentialminus": [
            [
             0,
             "#0d0887"
            ],
            [
             0.1111111111111111,
             "#46039f"
            ],
            [
             0.2222222222222222,
             "#7201a8"
            ],
            [
             0.3333333333333333,
             "#9c179e"
            ],
            [
             0.4444444444444444,
             "#bd3786"
            ],
            [
             0.5555555555555556,
             "#d8576b"
            ],
            [
             0.6666666666666666,
             "#ed7953"
            ],
            [
             0.7777777777777778,
             "#fb9f3a"
            ],
            [
             0.8888888888888888,
             "#fdca26"
            ],
            [
             1,
             "#f0f921"
            ]
           ]
          },
          "colorway": [
           "#636efa",
           "#EF553B",
           "#00cc96",
           "#ab63fa",
           "#FFA15A",
           "#19d3f3",
           "#FF6692",
           "#B6E880",
           "#FF97FF",
           "#FECB52"
          ],
          "font": {
           "color": "#2a3f5f"
          },
          "geo": {
           "bgcolor": "white",
           "lakecolor": "white",
           "landcolor": "#E5ECF6",
           "showlakes": true,
           "showland": true,
           "subunitcolor": "white"
          },
          "hoverlabel": {
           "align": "left"
          },
          "hovermode": "closest",
          "mapbox": {
           "style": "light"
          },
          "paper_bgcolor": "white",
          "plot_bgcolor": "#E5ECF6",
          "polar": {
           "angularaxis": {
            "gridcolor": "white",
            "linecolor": "white",
            "ticks": ""
           },
           "bgcolor": "#E5ECF6",
           "radialaxis": {
            "gridcolor": "white",
            "linecolor": "white",
            "ticks": ""
           }
          },
          "scene": {
           "xaxis": {
            "backgroundcolor": "#E5ECF6",
            "gridcolor": "white",
            "gridwidth": 2,
            "linecolor": "white",
            "showbackground": true,
            "ticks": "",
            "zerolinecolor": "white"
           },
           "yaxis": {
            "backgroundcolor": "#E5ECF6",
            "gridcolor": "white",
            "gridwidth": 2,
            "linecolor": "white",
            "showbackground": true,
            "ticks": "",
            "zerolinecolor": "white"
           },
           "zaxis": {
            "backgroundcolor": "#E5ECF6",
            "gridcolor": "white",
            "gridwidth": 2,
            "linecolor": "white",
            "showbackground": true,
            "ticks": "",
            "zerolinecolor": "white"
           }
          },
          "shapedefaults": {
           "line": {
            "color": "#2a3f5f"
           }
          },
          "ternary": {
           "aaxis": {
            "gridcolor": "white",
            "linecolor": "white",
            "ticks": ""
           },
           "baxis": {
            "gridcolor": "white",
            "linecolor": "white",
            "ticks": ""
           },
           "bgcolor": "#E5ECF6",
           "caxis": {
            "gridcolor": "white",
            "linecolor": "white",
            "ticks": ""
           }
          },
          "title": {
           "x": 0.05
          },
          "xaxis": {
           "automargin": true,
           "gridcolor": "white",
           "linecolor": "white",
           "ticks": "",
           "title": {
            "standoff": 15
           },
           "zerolinecolor": "white",
           "zerolinewidth": 2
          },
          "yaxis": {
           "automargin": true,
           "gridcolor": "white",
           "linecolor": "white",
           "ticks": "",
           "title": {
            "standoff": 15
           },
           "zerolinecolor": "white",
           "zerolinewidth": 2
          }
         }
        }
       }
      },
      "text/html": [
       "<div>                            <div id=\"1c4d14f6-4bce-4514-829b-ce961a063b0a\" class=\"plotly-graph-div\" style=\"height:525px; width:100%;\"></div>            <script type=\"text/javascript\">                require([\"plotly\"], function(Plotly) {                    window.PLOTLYENV=window.PLOTLYENV || {};                                    if (document.getElementById(\"1c4d14f6-4bce-4514-829b-ce961a063b0a\")) {                    Plotly.newPlot(                        \"1c4d14f6-4bce-4514-829b-ce961a063b0a\",                        [{\"name\": \"0 src 0 trg syn\", \"type\": \"bar\", \"x\": [\"enes\", \"enzh\"], \"y\": [0.7166249464987484, 0.7740454753866033]}, {\"name\": \"0 src 1 trg syn\", \"type\": \"bar\", \"x\": [\"enes\", \"enzh\"], \"y\": [0.7166444014993321, 0.7740663165353674]}, {\"name\": \"0 src 2 trg syn\", \"type\": \"bar\", \"x\": [\"enes\", \"enzh\"], \"y\": [0.7342446920273408, 0.782684131549331]}, {\"name\": \"0 src 3 trg syn\", \"type\": \"bar\", \"x\": [\"enes\", \"enzh\"], \"y\": [0.7433301772999054, 0.7883529240131716]}, {\"name\": \"0 src 4 trg syn\", \"type\": \"bar\", \"x\": [\"enes\", \"enzh\"], \"y\": [0.7482976874489307, 0.7916145637947564]}, {\"name\": \"0 src 5 trg syn\", \"type\": \"bar\", \"x\": [\"enes\", \"enzh\"], \"y\": [0.7526102125783064, 0.7949283064482514]}, {\"name\": \"1 src 0 trg syn\", \"type\": \"bar\", \"x\": [\"enes\", \"enzh\"], \"y\": [0.7334405520032166, 0.786680421824851]}, {\"name\": \"1 src 1 trg syn\", \"type\": \"bar\", \"x\": [\"enes\", \"enzh\"], \"y\": [0.7334600070038002, 0.7867012629736151]}, {\"name\": \"1 src 2 trg syn\", \"type\": \"bar\", \"x\": [\"enes\", \"enzh\"], \"y\": [0.7455999273679979, 0.7932193322495936]}, {\"name\": \"1 src 3 trg syn\", \"type\": \"bar\", \"x\": [\"enes\", \"enzh\"], \"y\": [0.7526750625802519, 0.7981170022091618]}, {\"name\": \"1 src 4 trg syn\", \"type\": \"bar\", \"x\": [\"enes\", \"enzh\"], \"y\": [0.7571626827148805, 0.8010503938977116]}, {\"name\": \"1 src 5 trg syn\", \"type\": \"bar\", \"x\": [\"enes\", \"enzh\"], \"y\": [0.7610342278310268, 0.8041036221916552]}, {\"name\": \"2 src 0 trg syn\", \"type\": \"bar\", \"x\": [\"enes\", \"enzh\"], \"y\": [0.7445688123370644, 0.7914582551790255]}, {\"name\": \"2 src 1 trg syn\", \"type\": \"bar\", \"x\": [\"enes\", \"enzh\"], \"y\": [0.744588267337648, 0.7914790963277896]}, {\"name\": \"2 src 2 trg syn\", \"type\": \"bar\", \"x\": [\"enes\", \"enzh\"], \"y\": [0.7526815475804465, 0.7969915801758993]}, {\"name\": \"2 src 3 trg syn\", \"type\": \"bar\", \"x\": [\"enes\", \"enzh\"], \"y\": [0.7584078027522341, 0.8014776374473761]}, {\"name\": \"2 src 4 trg syn\", \"type\": \"bar\", \"x\": [\"enes\", \"enzh\"], \"y\": [0.7619097028572911, 0.8042859822433412]}, {\"name\": \"2 src 5 trg syn\", \"type\": \"bar\", \"x\": [\"enes\", \"enzh\"], \"y\": [0.7656839729705192, 0.8072193739318911]}, {\"name\": \"3 src 0 trg syn\", \"type\": \"bar\", \"x\": [\"enes\", \"enzh\"], \"y\": [0.751449397543482, 0.7945219040473511]}, {\"name\": \"3 src 1 trg syn\", \"type\": \"bar\", \"x\": [\"enes\", \"enzh\"], \"y\": [0.7514688525440656, 0.7945427451961152]}, {\"name\": \"3 src 2 trg syn\", \"type\": \"bar\", \"x\": [\"enes\", \"enzh\"], \"y\": [0.7583818627514559, 0.79972698095119]}, {\"name\": \"3 src 3 trg syn\", \"type\": \"bar\", \"x\": [\"enes\", \"enzh\"], \"y\": [0.7628694828860845, 0.8037649535242383]}, {\"name\": \"3 src 4 trg syn\", \"type\": \"bar\", \"x\": [\"enes\", \"enzh\"], \"y\": [0.7655931829677954, 0.8064899337251469]}, {\"name\": \"3 src 5 trg syn\", \"type\": \"bar\", \"x\": [\"enes\", \"enzh\"], \"y\": [0.768323368049701, 0.8092409653620107]}, {\"name\": \"4 src 0 trg syn\", \"type\": \"bar\", \"x\": [\"enes\", \"enzh\"], \"y\": [0.7553468826604065, 0.7968248509857864]}, {\"name\": \"4 src 1 trg syn\", \"type\": \"bar\", \"x\": [\"enes\", \"enzh\"], \"y\": [0.7553663376609902, 0.7968404818473594]}, {\"name\": \"4 src 2 trg syn\", \"type\": \"bar\", \"x\": [\"enes\", \"enzh\"], \"y\": [0.7612158078364742, 0.8018736192738943]}, {\"name\": \"4 src 3 trg syn\", \"type\": \"bar\", \"x\": [\"enes\", \"enzh\"], \"y\": [0.7651132929533988, 0.8054374557125589]}, {\"name\": \"4 src 4 trg syn\", \"type\": \"bar\", \"x\": [\"enes\", \"enzh\"], \"y\": [0.7671106730133201, 0.8080842816056021]}, {\"name\": \"4 src 5 trg syn\", \"type\": \"bar\", \"x\": [\"enes\", \"enzh\"], \"y\": [0.7697306130919184, 0.8104705931390939]}, {\"name\": \"5 src 0 trg syn\", \"type\": \"bar\", \"x\": [\"enes\", \"enzh\"], \"y\": [0.7578630627358919, 0.7986328206410738]}, {\"name\": \"5 src 1 trg syn\", \"type\": \"bar\", \"x\": [\"enes\", \"enzh\"], \"y\": [0.7578825177364755, 0.7986484515026469]}, {\"name\": \"5 src 2 trg syn\", \"type\": \"bar\", \"x\": [\"enes\", \"enzh\"], \"y\": [0.763394767901843, 0.803546121462215]}, {\"name\": \"5 src 3 trg syn\", \"type\": \"bar\", \"x\": [\"enes\", \"enzh\"], \"y\": [0.7664427179932816, 0.8070318035930141]}, {\"name\": \"5 src 4 trg syn\", \"type\": \"bar\", \"x\": [\"enes\", \"enzh\"], \"y\": [0.7682131230463937, 0.8095327414447084]}, {\"name\": \"5 src 5 trg syn\", \"type\": \"bar\", \"x\": [\"enes\", \"enzh\"], \"y\": [0.77071633312149, 0.8118825809678629]}],                        {\"barmode\": \"group\", \"template\": {\"data\": {\"bar\": [{\"error_x\": {\"color\": \"#2a3f5f\"}, \"error_y\": {\"color\": \"#2a3f5f\"}, \"marker\": {\"line\": {\"color\": \"#E5ECF6\", \"width\": 0.5}}, \"type\": \"bar\"}], \"barpolar\": [{\"marker\": {\"line\": {\"color\": \"#E5ECF6\", \"width\": 0.5}}, \"type\": \"barpolar\"}], \"carpet\": [{\"aaxis\": {\"endlinecolor\": \"#2a3f5f\", \"gridcolor\": \"white\", \"linecolor\": \"white\", \"minorgridcolor\": \"white\", \"startlinecolor\": \"#2a3f5f\"}, \"baxis\": {\"endlinecolor\": \"#2a3f5f\", \"gridcolor\": \"white\", \"linecolor\": \"white\", \"minorgridcolor\": \"white\", \"startlinecolor\": \"#2a3f5f\"}, \"type\": \"carpet\"}], \"choropleth\": [{\"colorbar\": {\"outlinewidth\": 0, \"ticks\": \"\"}, \"type\": \"choropleth\"}], \"contour\": [{\"colorbar\": {\"outlinewidth\": 0, \"ticks\": \"\"}, \"colorscale\": [[0.0, \"#0d0887\"], [0.1111111111111111, \"#46039f\"], [0.2222222222222222, \"#7201a8\"], [0.3333333333333333, \"#9c179e\"], [0.4444444444444444, \"#bd3786\"], [0.5555555555555556, \"#d8576b\"], [0.6666666666666666, \"#ed7953\"], [0.7777777777777778, \"#fb9f3a\"], [0.8888888888888888, \"#fdca26\"], [1.0, \"#f0f921\"]], \"type\": \"contour\"}], \"contourcarpet\": [{\"colorbar\": {\"outlinewidth\": 0, \"ticks\": \"\"}, \"type\": \"contourcarpet\"}], \"heatmap\": [{\"colorbar\": {\"outlinewidth\": 0, \"ticks\": \"\"}, \"colorscale\": [[0.0, \"#0d0887\"], [0.1111111111111111, \"#46039f\"], [0.2222222222222222, \"#7201a8\"], [0.3333333333333333, \"#9c179e\"], [0.4444444444444444, \"#bd3786\"], [0.5555555555555556, \"#d8576b\"], [0.6666666666666666, \"#ed7953\"], [0.7777777777777778, \"#fb9f3a\"], [0.8888888888888888, \"#fdca26\"], [1.0, \"#f0f921\"]], \"type\": \"heatmap\"}], \"heatmapgl\": [{\"colorbar\": {\"outlinewidth\": 0, \"ticks\": \"\"}, \"colorscale\": [[0.0, \"#0d0887\"], [0.1111111111111111, \"#46039f\"], [0.2222222222222222, \"#7201a8\"], [0.3333333333333333, \"#9c179e\"], [0.4444444444444444, \"#bd3786\"], [0.5555555555555556, \"#d8576b\"], [0.6666666666666666, \"#ed7953\"], [0.7777777777777778, \"#fb9f3a\"], [0.8888888888888888, \"#fdca26\"], [1.0, \"#f0f921\"]], \"type\": \"heatmapgl\"}], \"histogram\": [{\"marker\": {\"colorbar\": {\"outlinewidth\": 0, \"ticks\": \"\"}}, \"type\": \"histogram\"}], \"histogram2d\": [{\"colorbar\": {\"outlinewidth\": 0, \"ticks\": \"\"}, \"colorscale\": [[0.0, \"#0d0887\"], [0.1111111111111111, \"#46039f\"], [0.2222222222222222, \"#7201a8\"], [0.3333333333333333, \"#9c179e\"], [0.4444444444444444, \"#bd3786\"], [0.5555555555555556, \"#d8576b\"], [0.6666666666666666, \"#ed7953\"], [0.7777777777777778, \"#fb9f3a\"], [0.8888888888888888, \"#fdca26\"], [1.0, \"#f0f921\"]], \"type\": \"histogram2d\"}], \"histogram2dcontour\": [{\"colorbar\": {\"outlinewidth\": 0, \"ticks\": \"\"}, \"colorscale\": [[0.0, \"#0d0887\"], [0.1111111111111111, \"#46039f\"], [0.2222222222222222, \"#7201a8\"], [0.3333333333333333, \"#9c179e\"], [0.4444444444444444, \"#bd3786\"], [0.5555555555555556, \"#d8576b\"], [0.6666666666666666, \"#ed7953\"], [0.7777777777777778, \"#fb9f3a\"], [0.8888888888888888, \"#fdca26\"], [1.0, \"#f0f921\"]], \"type\": \"histogram2dcontour\"}], \"mesh3d\": [{\"colorbar\": {\"outlinewidth\": 0, \"ticks\": \"\"}, \"type\": \"mesh3d\"}], \"parcoords\": [{\"line\": {\"colorbar\": {\"outlinewidth\": 0, \"ticks\": \"\"}}, \"type\": \"parcoords\"}], \"pie\": [{\"automargin\": true, \"type\": \"pie\"}], \"scatter\": [{\"marker\": {\"colorbar\": {\"outlinewidth\": 0, \"ticks\": \"\"}}, \"type\": \"scatter\"}], \"scatter3d\": [{\"line\": {\"colorbar\": {\"outlinewidth\": 0, \"ticks\": \"\"}}, \"marker\": {\"colorbar\": {\"outlinewidth\": 0, \"ticks\": \"\"}}, \"type\": \"scatter3d\"}], \"scattercarpet\": [{\"marker\": {\"colorbar\": {\"outlinewidth\": 0, \"ticks\": \"\"}}, \"type\": \"scattercarpet\"}], \"scattergeo\": [{\"marker\": {\"colorbar\": {\"outlinewidth\": 0, \"ticks\": \"\"}}, \"type\": \"scattergeo\"}], \"scattergl\": [{\"marker\": {\"colorbar\": {\"outlinewidth\": 0, \"ticks\": \"\"}}, \"type\": \"scattergl\"}], \"scattermapbox\": [{\"marker\": {\"colorbar\": {\"outlinewidth\": 0, \"ticks\": \"\"}}, \"type\": \"scattermapbox\"}], \"scatterpolar\": [{\"marker\": {\"colorbar\": {\"outlinewidth\": 0, \"ticks\": \"\"}}, \"type\": \"scatterpolar\"}], \"scatterpolargl\": [{\"marker\": {\"colorbar\": {\"outlinewidth\": 0, \"ticks\": \"\"}}, \"type\": \"scatterpolargl\"}], \"scatterternary\": [{\"marker\": {\"colorbar\": {\"outlinewidth\": 0, \"ticks\": \"\"}}, \"type\": \"scatterternary\"}], \"surface\": [{\"colorbar\": {\"outlinewidth\": 0, \"ticks\": \"\"}, \"colorscale\": [[0.0, \"#0d0887\"], [0.1111111111111111, \"#46039f\"], [0.2222222222222222, \"#7201a8\"], [0.3333333333333333, \"#9c179e\"], [0.4444444444444444, \"#bd3786\"], [0.5555555555555556, \"#d8576b\"], [0.6666666666666666, \"#ed7953\"], [0.7777777777777778, \"#fb9f3a\"], [0.8888888888888888, \"#fdca26\"], [1.0, \"#f0f921\"]], \"type\": \"surface\"}], \"table\": [{\"cells\": {\"fill\": {\"color\": \"#EBF0F8\"}, \"line\": {\"color\": \"white\"}}, \"header\": {\"fill\": {\"color\": \"#C8D4E3\"}, \"line\": {\"color\": \"white\"}}, \"type\": \"table\"}]}, \"layout\": {\"annotationdefaults\": {\"arrowcolor\": \"#2a3f5f\", \"arrowhead\": 0, \"arrowwidth\": 1}, \"autotypenumbers\": \"strict\", \"coloraxis\": {\"colorbar\": {\"outlinewidth\": 0, \"ticks\": \"\"}}, \"colorscale\": {\"diverging\": [[0, \"#8e0152\"], [0.1, \"#c51b7d\"], [0.2, \"#de77ae\"], [0.3, \"#f1b6da\"], [0.4, \"#fde0ef\"], [0.5, \"#f7f7f7\"], [0.6, \"#e6f5d0\"], [0.7, \"#b8e186\"], [0.8, \"#7fbc41\"], [0.9, \"#4d9221\"], [1, \"#276419\"]], \"sequential\": [[0.0, \"#0d0887\"], [0.1111111111111111, \"#46039f\"], [0.2222222222222222, \"#7201a8\"], [0.3333333333333333, \"#9c179e\"], [0.4444444444444444, \"#bd3786\"], [0.5555555555555556, \"#d8576b\"], [0.6666666666666666, \"#ed7953\"], [0.7777777777777778, \"#fb9f3a\"], [0.8888888888888888, \"#fdca26\"], [1.0, \"#f0f921\"]], \"sequentialminus\": [[0.0, \"#0d0887\"], [0.1111111111111111, \"#46039f\"], [0.2222222222222222, \"#7201a8\"], [0.3333333333333333, \"#9c179e\"], [0.4444444444444444, \"#bd3786\"], [0.5555555555555556, \"#d8576b\"], [0.6666666666666666, \"#ed7953\"], [0.7777777777777778, \"#fb9f3a\"], [0.8888888888888888, \"#fdca26\"], [1.0, \"#f0f921\"]]}, \"colorway\": [\"#636efa\", \"#EF553B\", \"#00cc96\", \"#ab63fa\", \"#FFA15A\", \"#19d3f3\", \"#FF6692\", \"#B6E880\", \"#FF97FF\", \"#FECB52\"], \"font\": {\"color\": \"#2a3f5f\"}, \"geo\": {\"bgcolor\": \"white\", \"lakecolor\": \"white\", \"landcolor\": \"#E5ECF6\", \"showlakes\": true, \"showland\": true, \"subunitcolor\": \"white\"}, \"hoverlabel\": {\"align\": \"left\"}, \"hovermode\": \"closest\", \"mapbox\": {\"style\": \"light\"}, \"paper_bgcolor\": \"white\", \"plot_bgcolor\": \"#E5ECF6\", \"polar\": {\"angularaxis\": {\"gridcolor\": \"white\", \"linecolor\": \"white\", \"ticks\": \"\"}, \"bgcolor\": \"#E5ECF6\", \"radialaxis\": {\"gridcolor\": \"white\", \"linecolor\": \"white\", \"ticks\": \"\"}}, \"scene\": {\"xaxis\": {\"backgroundcolor\": \"#E5ECF6\", \"gridcolor\": \"white\", \"gridwidth\": 2, \"linecolor\": \"white\", \"showbackground\": true, \"ticks\": \"\", \"zerolinecolor\": \"white\"}, \"yaxis\": {\"backgroundcolor\": \"#E5ECF6\", \"gridcolor\": \"white\", \"gridwidth\": 2, \"linecolor\": \"white\", \"showbackground\": true, \"ticks\": \"\", \"zerolinecolor\": \"white\"}, \"zaxis\": {\"backgroundcolor\": \"#E5ECF6\", \"gridcolor\": \"white\", \"gridwidth\": 2, \"linecolor\": \"white\", \"showbackground\": true, \"ticks\": \"\", \"zerolinecolor\": \"white\"}}, \"shapedefaults\": {\"line\": {\"color\": \"#2a3f5f\"}}, \"ternary\": {\"aaxis\": {\"gridcolor\": \"white\", \"linecolor\": \"white\", \"ticks\": \"\"}, \"baxis\": {\"gridcolor\": \"white\", \"linecolor\": \"white\", \"ticks\": \"\"}, \"bgcolor\": \"#E5ECF6\", \"caxis\": {\"gridcolor\": \"white\", \"linecolor\": \"white\", \"ticks\": \"\"}}, \"title\": {\"x\": 0.05}, \"xaxis\": {\"automargin\": true, \"gridcolor\": \"white\", \"linecolor\": \"white\", \"ticks\": \"\", \"title\": {\"standoff\": 15}, \"zerolinecolor\": \"white\", \"zerolinewidth\": 2}, \"yaxis\": {\"automargin\": true, \"gridcolor\": \"white\", \"linecolor\": \"white\", \"ticks\": \"\", \"title\": {\"standoff\": 15}, \"zerolinecolor\": \"white\", \"zerolinewidth\": 2}}}},                        {\"responsive\": true}                    ).then(function(){\n",
       "                            \n",
       "var gd = document.getElementById('1c4d14f6-4bce-4514-829b-ce961a063b0a');\n",
       "var x = new MutationObserver(function (mutations, observer) {{\n",
       "        var display = window.getComputedStyle(gd).display;\n",
       "        if (!display || display === 'none') {{\n",
       "            console.log([gd, 'removed!']);\n",
       "            Plotly.purge(gd);\n",
       "            observer.disconnect();\n",
       "        }}\n",
       "}});\n",
       "\n",
       "// Listen for the removal of the full notebook cells\n",
       "var notebookContainer = gd.closest('#notebook-container');\n",
       "if (notebookContainer) {{\n",
       "    x.observe(notebookContainer, {childList: true});\n",
       "}}\n",
       "\n",
       "// Listen for the clearing of the current output cell\n",
       "var outputEl = gd.closest('.output');\n",
       "if (outputEl) {{\n",
       "    x.observe(outputEl, {childList: true});\n",
       "}}\n",
       "\n",
       "                        })                };                });            </script>        </div>"
      ]
     },
     "metadata": {},
     "output_type": "display_data"
    }
   ],
   "source": [
    "datalist = []\n",
    "for num_synonyms_sourcelang in range(6):\n",
    "  for num_synonyms_targetlang in range(6):\n",
    "    yvals = [langpair_to_num_src_trg_synonyms_googtrans_to_accuracy[lang][(num_synonyms_sourcelang, num_synonyms_targetlang)] for lang in langpair_list]\n",
    "    dataitem = go.Bar(name=f'{num_synonyms_sourcelang} src {num_synonyms_targetlang} trg syn', x=langpair_list, y=yvals)\n",
    "    datalist.append(dataitem)\n",
    "fig = go.Figure(data=datalist)\n",
    "# Change the bar mode\n",
    "fig.update_layout(barmode='group')\n",
    "fig.show()"
   ]
  }
 ],
 "metadata": {
  "kernelspec": {
   "display_name": "Python 3",
   "language": "python",
   "name": "python3"
  },
  "language_info": {
   "codemirror_mode": {
    "name": "ipython",
    "version": 3
   },
   "file_extension": ".py",
   "mimetype": "text/x-python",
   "name": "python",
   "nbconvert_exporter": "python",
   "pygments_lexer": "ipython3",
   "version": "3.8.5"
  }
 },
 "nbformat": 4,
 "nbformat_minor": 4
}
