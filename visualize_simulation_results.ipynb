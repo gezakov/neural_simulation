{
 "cells": [
  {
   "cell_type": "code",
   "execution_count": 66,
   "metadata": {},
   "outputs": [
    {
     "name": "stdout",
     "output_type": "stream",
     "text": [
      "[NbConvertApp] Converting notebook visualize_simulation_results.ipynb to html\n",
      "[NbConvertApp] Writing 917680 bytes to visualize_simulation_results.html\n"
     ]
    }
   ],
   "source": [
    "# noexport\n",
    "\n",
    "!jupyter nbconvert --to html visualize_simulation_results.ipynb"
   ]
  },
  {
   "cell_type": "code",
   "execution_count": 1,
   "metadata": {},
   "outputs": [],
   "source": [
    "langpair_list = 'ende enes enfr enit enja enko enpt enzh enzt'.split(' ')\n",
    "#langpair_list = 'enes enzh'.split(' ')\n",
    "#langpair_list = 'ende enes enit enko enpt'.split(' ') # enzh enzt enfr enja still in progress"
   ]
  },
  {
   "cell_type": "code",
   "execution_count": 2,
   "metadata": {},
   "outputs": [
    {
     "data": {
      "text/html": [
       "        <script type=\"text/javascript\">\n",
       "        window.PlotlyConfig = {MathJaxConfig: 'local'};\n",
       "        if (window.MathJax) {MathJax.Hub.Config({SVG: {font: \"STIX-Web\"}});}\n",
       "        if (typeof require !== 'undefined') {\n",
       "        require.undef(\"plotly\");\n",
       "        requirejs.config({\n",
       "            paths: {\n",
       "                'plotly': ['https://cdn.plot.ly/plotly-latest.min']\n",
       "            }\n",
       "        });\n",
       "        require(['plotly'], function(Plotly) {\n",
       "            window._Plotly = Plotly;\n",
       "        });\n",
       "        }\n",
       "        </script>\n",
       "        "
      ]
     },
     "metadata": {},
     "output_type": "display_data"
    }
   ],
   "source": [
    "# noexport\n",
    "\n",
    "from pylcs import lcs\n",
    "import msgpack\n",
    "#import rocksdb\n",
    "import glob\n",
    "import os\n",
    "import numpy as np\n",
    "from plotly_utils import plot_histogram\n",
    "\n",
    "# langpair_to_cache_db = {}\n",
    "# langpair_to_translation_db = {}\n",
    "# for langpair_arg in langpair_list:\n",
    "#   translation_cache_db = rocksdb.DB('translation_cache/' + langpair_arg, rocksdb.Options(create_if_missing=True))\n",
    "#   cache_db = rocksdb.DB('simulation_cache/' + langpair_arg, rocksdb.Options(create_if_missing=True))\n",
    "#   langpair_to_cache_db[langpair_arg] = cache_db\n",
    "#   langpair_to_translation_db[langpair_arg] = translation_cache_db\n"
   ]
  },
  {
   "cell_type": "code",
   "execution_count": 3,
   "metadata": {},
   "outputs": [],
   "source": [
    "# import glob\n",
    "\n",
    "# source_file_to_google = {}\n",
    "# source_files = glob.glob('/Users/geza/intel_evaluation/GCP_translate_test/**/**/**/source.txt')\n",
    "# for source_file in source_files:\n",
    "#   google_translate_file = glob.glob(source_file.replace('source.txt', 'results/*.txt'))[0]\n",
    "#   source_file_to_google[source_file] = google_translate_file"
   ]
  },
  {
   "cell_type": "code",
   "execution_count": 4,
   "metadata": {},
   "outputs": [],
   "source": [
    "# #it = langpair_to_cache_db['enes'].iteritems()\n",
    "# #it.seek_to_first()\n",
    "# #while True:\n",
    "# #  next(it)\n",
    "# for x in langpair_to_cache_db['enes'].iteritems():\n",
    "#   print(x)"
   ]
  },
  {
   "cell_type": "code",
   "execution_count": 4,
   "metadata": {},
   "outputs": [
    {
     "name": "stdout",
     "output_type": "stream",
     "text": [
      "missing target file for: /Users/geza/intel_evaluation/GCP_translate_test/ende/SYNDICATION_TM/test/source.txt\n",
      "missing target file for: /Users/geza/intel_evaluation/GCP_translate_test/ende/SYNDICATION_TM/test/source.txt\n",
      "missing target file for: /Users/geza/intel_evaluation/GCP_translate_test/ende/SYNDICATION_TM/test/source.txt\n",
      "missing target file for: /Users/geza/intel_evaluation/GCP_translate_test/ende/SYNDICATION_TM/test/source.txt\n",
      "missing target file for: /Users/geza/intel_evaluation/GCP_translate_test/ende/SYNDICATION_TM/test/source.txt\n"
     ]
    }
   ],
   "source": [
    "# # noexport\n",
    "\n",
    "# for langpair_arg in langpair_list:\n",
    "#   if os.path.exists('simulation_output_list/' + langpair_arg + '.msgpack') and os.path.exists('translation_dict/' + langpair_arg + '.msgpack'):\n",
    "#     continue\n",
    "#   output_list = []\n",
    "#   #cache_db = langpair_to_cache_db[langpair_arg]\n",
    "#   cache_db = rocksdb.DB('simulation_cache/' + langpair_arg, rocksdb.Options(create_if_missing=True))\n",
    "#   source_files = glob.glob('/Users/geza/intel_evaluation/GCP_translate_test/**/**/**/source.txt')\n",
    "#   target_files = glob.glob('/Users/geza/intel_evaluation/GCP_translate_test/**/**/**/target.txt')\n",
    "#   target_files_set = set(target_files)\n",
    "#   for source_file in source_files:\n",
    "#     target_file = source_file.replace('source.txt', 'target.txt')\n",
    "#     if target_file not in target_files_set:\n",
    "#       print('missing target file for: ' + source_file)\n",
    "#       continue\n",
    "#     google_translate_file = source_file_to_google[source_file]\n",
    "#     google_translate_lines = open(google_translate_file).readlines()\n",
    "#     source_lines = open(source_file).readlines()\n",
    "#     target_lines = open(target_file).readlines()\n",
    "#     if len(source_lines) != len(target_lines):\n",
    "#       print('source line length', len(source_lines), 'does not match target line length', len(target_lines))\n",
    "#       continue\n",
    "#     source_lines = [x.strip() for x in source_lines]\n",
    "#     target_lines = [x.strip() for x in target_lines]\n",
    "#     langpair = source_file.replace('/Users/geza/intel_evaluation/GCP_translate_test/', '').split('/', 1)[0]\n",
    "#     if langpair != langpair_arg:\n",
    "#       continue\n",
    "#     #print(langpair)\n",
    "#     src_lang = langpair[0:2]\n",
    "#     trg_lang = langpair[2:]\n",
    "#     for src_sentence,trg_sentence,google_translate in zip(source_lines, target_lines, google_translate_lines):\n",
    "#       key = msgpack.dumps([src_sentence, trg_sentence])\n",
    "#       cached_result = cache_db.get(key)\n",
    "#       if cached_result is not None:\n",
    "#         output = msgpack.loads(cached_result, raw=False, strict_map_key=False)\n",
    "#         output_list.append([src_sentence, trg_sentence, output, google_translate])\n",
    "\n",
    "#   msgpack.dump(output_list, open('simulation_output_list/' + langpair_arg + '.msgpack', 'wb'))\n",
    "  \n",
    "#   translation_cache_db = rocksdb.DB('translation_cache/' + langpair_arg, rocksdb.Options(create_if_missing=True))\n",
    "#   translation_dict = {}\n",
    "#   for src_sentence,trg_sentence,output,google_translate in output_list:\n",
    "#     key = msgpack.dumps(src_sentence)\n",
    "#     cached_result = translation_cache_db.get(key)\n",
    "#     if cached_result is not None:\n",
    "#       word_list,delimiter_list = msgpack.loads(cached_result)\n",
    "#       translation_dict[src_sentence] = [word_list, delimiter_list]\n",
    "\n",
    "#   msgpack.dump(translation_dict, open('translation_dict/' + langpair_arg + '.msgpack', 'wb'))"
   ]
  },
  {
   "cell_type": "code",
   "execution_count": 3,
   "metadata": {},
   "outputs": [
    {
     "name": "stdout",
     "output_type": "stream",
     "text": [
      "ende\n",
      "106285\n",
      "58939\n",
      "enes\n",
      "132783\n",
      "90709\n",
      "enfr\n",
      "190712\n",
      "123300\n",
      "enit\n",
      "138906\n",
      "90113\n",
      "enja\n",
      "242645\n",
      "136728\n",
      "enko\n",
      "91416\n",
      "49013\n",
      "enpt\n",
      "59518\n",
      "41693\n",
      "enzh\n",
      "177114\n",
      "114103\n",
      "enzt\n",
      "182927\n",
      "113167\n"
     ]
    }
   ],
   "source": [
    "# noexport\n",
    "\n",
    "langpair_to_oracle_accuracy = {}\n",
    "for langpair_arg in langpair_list:\n",
    "  words_correct = 0\n",
    "  words_total = 0\n",
    "  print(langpair_arg)\n",
    "  #cache_db = langpair_to_cache_db[langpair_arg]\n",
    "  #translation_cache_db = langpair_to_translation_db[langpair_arg]\n",
    "  translation_dict = msgpack.load(open('translation_dict/' + langpair_arg + '.msgpack', 'rb'), raw=False, strict_map_key=False)\n",
    "  output_list = msgpack.load(open('simulation_output_list/' + langpair_arg + '.msgpack', 'rb'), raw=False, strict_map_key=False)\n",
    "  for src_sentence,trg_sentence,output,google_translate in output_list:\n",
    "    #key = msgpack.dumps(src_sentence)\n",
    "    word_list,delimiter_list = translation_dict[src_sentence]\n",
    "    #cached_result = translation_cache_db.get(key)\n",
    "    word_set = set(word_list)\n",
    "    for word_info in output:\n",
    "      word_ref = word_info[2]\n",
    "      if word_ref in word_set:\n",
    "        words_correct += 1\n",
    "      words_total += 1\n",
    "  print(words_total)\n",
    "  print(words_correct)\n",
    "  langpair_to_oracle_accuracy[langpair_arg] = words_correct / words_total\n"
   ]
  },
  {
   "cell_type": "code",
   "execution_count": 4,
   "metadata": {},
   "outputs": [],
   "source": [
    "import json\n",
    "\n",
    "synonym_dicts = {} # (srclang, trglang) -> synonym dict\n",
    "\n",
    "def lookup_synonyms(word, srclang, trglang, limit_num_synonyms=None):\n",
    "  lpair = (srclang, trglang)\n",
    "  syndict = synonym_dicts.get(lpair, None)\n",
    "  if syndict is not None:\n",
    "    output = syndict.get(word, [])\n",
    "    if limit_num_synonyms is None:\n",
    "      return output\n",
    "    else:\n",
    "      return output[:limit_num_synonyms]\n",
    "  syndict = json.load(open(f'/Users/geza/panlex-20190701-json/language_pairs/{srclang}_{trglang}.json', 'rt'))\n",
    "  synonym_dicts[lpair] = syndict\n",
    "  output = syndict.get(word, [])\n",
    "  if limit_num_synonyms is None:\n",
    "    return output\n",
    "  else:\n",
    "    return output[:limit_num_synonyms]"
   ]
  },
  {
   "cell_type": "code",
   "execution_count": 8,
   "metadata": {},
   "outputs": [],
   "source": [
    "#lookup_synonyms('convenient', 'en', 'ja', 3)"
   ]
  },
  {
   "cell_type": "code",
   "execution_count": 5,
   "metadata": {},
   "outputs": [
    {
     "name": "stdout",
     "output_type": "stream",
     "text": [
      "[ERROR] 2021-01-19 05:27:58,522 [segmenter.__init__:172:MainThread:140350306199360]  -- VnCoreNLP setup failed, will use default segmenter.\n",
      "Traceback (most recent call last):\n",
      "  File \"/home/geza/neural_p38/lib/python3.8/site-packages/vncorenlp/vncorenlp.py\", line 53, in __init__\n",
      "    subprocess.check_call(['java', '-version'], stdout=subprocess.DEVNULL, stderr=subprocess.DEVNULL)\n",
      "  File \"/usr/lib/python3.8/subprocess.py\", line 359, in check_call\n",
      "    retcode = call(*popenargs, **kwargs)\n",
      "  File \"/usr/lib/python3.8/subprocess.py\", line 340, in call\n",
      "    with Popen(*popenargs, **kwargs) as p:\n",
      "  File \"/usr/lib/python3.8/subprocess.py\", line 854, in __init__\n",
      "    self._execute_child(args, executable, preexec_fn, close_fds,\n",
      "  File \"/usr/lib/python3.8/subprocess.py\", line 1702, in _execute_child\n",
      "    raise child_exception_type(errno_num, err_msg, err_filename)\n",
      "FileNotFoundError: [Errno 2] No such file or directory: 'java'\n",
      "\n",
      "During handling of the above exception, another exception occurred:\n",
      "\n",
      "Traceback (most recent call last):\n",
      "  File \"/home/geza/neural/src/python/ling/segmenter.py\", line 166, in __init__\n",
      "    self.annotator = VnCoreNLP(\n",
      "  File \"/home/geza/neural_p38/lib/python3.8/site-packages/vncorenlp/vncorenlp.py\", line 55, in __init__\n",
      "    raise FileNotFoundError('Java was not found, please install JRE or JDK >= 1.8 first.')\n",
      "FileNotFoundError: Java was not found, please install JRE or JDK >= 1.8 first.\n"
     ]
    }
   ],
   "source": [
    "from ling.segmenter import get_segmenter\n",
    "\n",
    "segmenter_cached = {}\n",
    "\n",
    "def get_segmenter_cached(lang):\n",
    "  if lang in segmenter_cached:\n",
    "    return segmenter_cached[lang]\n",
    "  segmenter_cached[lang] = get_segmenter(lang)\n",
    "  return segmenter_cached[lang]\n",
    "\n",
    "def segment_sentence(sentence, lang):\n",
    "  # returned object has 2 fields of interest:\n",
    "  # .tokens\n",
    "  # .delimiters\n",
    "  return get_segmenter_cached(lang).segment(sentence)\n"
   ]
  },
  {
   "cell_type": "code",
   "execution_count": 10,
   "metadata": {},
   "outputs": [],
   "source": [
    "# segment_sentence('hello world', 'en').tokens"
   ]
  },
  {
   "cell_type": "code",
   "execution_count": 50,
   "metadata": {},
   "outputs": [
    {
     "name": "stdout",
     "output_type": "stream",
     "text": [
      "ende\n",
      "106285\n",
      "38552\n",
      "enes\n",
      "132783\n",
      "62824\n",
      "enfr\n",
      "190712\n",
      "83862\n",
      "enit\n",
      "138906\n",
      "62921\n",
      "enja\n",
      "242645\n",
      "87800\n",
      "enko\n",
      "91416\n",
      "33341\n",
      "enpt\n",
      "59518\n",
      "29853\n",
      "enzh\n",
      "177114\n",
      "89074\n",
      "enzt\n",
      "182927\n",
      "91075\n"
     ]
    }
   ],
   "source": [
    "# developing algorithm for alignment here\n",
    "\n",
    "# noexport\n",
    "\n",
    "langpair_to_lilt_fixedmt_heuristic_accuracy = {}\n",
    "for langpair_arg in langpair_list:\n",
    "  words_correct = 0\n",
    "  words_total = 0\n",
    "  print(langpair_arg)\n",
    "  #cache_db = langpair_to_cache_db[langpair_arg]\n",
    "  #translation_cache_db = langpair_to_translation_db[langpair_arg]\n",
    "  translation_dict = msgpack.load(open('translation_dict/' + langpair_arg + '.msgpack', 'rb'), raw=False, strict_map_key=False)\n",
    "  output_list = msgpack.load(open('simulation_output_list/' + langpair_arg + '.msgpack', 'rb'), raw=False, strict_map_key=False)\n",
    "  for src_sentence,trg_sentence,output,google_translate in output_list:\n",
    "    #key = msgpack.dumps(src_sentence)\n",
    "    word_list,delimiter_list = translation_dict[src_sentence]\n",
    "    #cached_result = translation_cache_db.get(key)\n",
    "    #word_set = set(word_list)\n",
    "    word_to_idx_list = {}\n",
    "    for idx,word in enumerate(word_list):\n",
    "      if word not in word_to_idx_list:\n",
    "        word_to_idx_list[word] = []\n",
    "      word_to_idx_list[word].append(idx)\n",
    "    predicted_word_idx = 0\n",
    "    prev_ref_word_idx = -1\n",
    "    word_to_times_seen = {}\n",
    "    for word_info in output:\n",
    "      word_ref = word_info[2]\n",
    "      predicted_word_idx = prev_ref_word_idx + 1\n",
    "      predicted_word = None\n",
    "      if predicted_word_idx < len(word_list):\n",
    "        predicted_word = word_list[predicted_word_idx]\n",
    "      elif len(word_list) > 0:\n",
    "        predicted_word = word_list[len(word_list) - 1]\n",
    "      if predicted_word == word_ref:\n",
    "        words_correct += 1\n",
    "      if word_ref in word_to_idx_list:\n",
    "        num_times_seen = word_to_times_seen.get(word_ref, 0)\n",
    "        word_to_times_seen[word_ref] = num_times_seen + 1\n",
    "        word_idx_list = word_to_idx_list[word_ref]\n",
    "        prev_ref_word_idx = word_idx_list[min(num_times_seen, len(word_idx_list) - 1)]\n",
    "      if word_ref in word_set:\n",
    "        words_correct += 1\n",
    "      words_total += 1\n",
    "  print(words_total)\n",
    "  print(words_correct)\n",
    "  langpair_to_lilt_fixedmt_heuristic_accuracy[langpair_arg] = words_correct / words_total\n"
   ]
  },
  {
   "cell_type": "code",
   "execution_count": 62,
   "metadata": {},
   "outputs": [
    {
     "name": "stdout",
     "output_type": "stream",
     "text": [
      "ende\n",
      "106285\n",
      "43726\n",
      "enes\n",
      "132783\n",
      "68632\n",
      "enfr\n",
      "190712\n",
      "91364\n",
      "enit\n",
      "138906\n",
      "69153\n",
      "enja\n",
      "242645\n",
      "94821\n",
      "enko\n",
      "91416\n",
      "38733\n",
      "enpt\n",
      "59518\n",
      "32493\n",
      "enzh\n",
      "177114\n",
      "100864\n",
      "enzt\n",
      "182927\n",
      "102707\n"
     ]
    }
   ],
   "source": [
    "# developing algorithm for alignment here\n",
    "\n",
    "# noexport\n",
    "\n",
    "langpair_to_lilt_fixedmt_heuristic_v2_accuracy = {}\n",
    "for langpair_arg in langpair_list:\n",
    "  words_correct = 0\n",
    "  words_total = 0\n",
    "  print(langpair_arg)\n",
    "  #cache_db = langpair_to_cache_db[langpair_arg]\n",
    "  #translation_cache_db = langpair_to_translation_db[langpair_arg]\n",
    "  translation_dict = msgpack.load(open('translation_dict/' + langpair_arg + '.msgpack', 'rb'), raw=False, strict_map_key=False)\n",
    "  output_list = msgpack.load(open('simulation_output_list/' + langpair_arg + '.msgpack', 'rb'), raw=False, strict_map_key=False)\n",
    "  for src_sentence,trg_sentence,output,google_translate in output_list:\n",
    "    #key = msgpack.dumps(src_sentence)\n",
    "    word_list,delimiter_list = translation_dict[src_sentence]\n",
    "    #cached_result = translation_cache_db.get(key)\n",
    "    #word_set = set(word_list)\n",
    "    word_to_idx_list = {}\n",
    "    for idx,word in enumerate(word_list):\n",
    "      if word not in word_to_idx_list:\n",
    "        word_to_idx_list[word] = []\n",
    "      word_to_idx_list[word].append(idx)\n",
    "    predicted_word_idx = 0\n",
    "    prev_ref_word_idx = -1\n",
    "    word_to_times_seen = {}\n",
    "    for word_info in output:\n",
    "      word_ref = word_info[2]\n",
    "      predicted_word_idx = prev_ref_word_idx + 1\n",
    "      predicted_word = None\n",
    "      if predicted_word_idx < len(word_list):\n",
    "        predicted_word = word_list[predicted_word_idx]\n",
    "      elif len(word_list) > 0:\n",
    "        predicted_word = word_list[len(word_list) - 1]\n",
    "      if predicted_word == word_ref:\n",
    "        words_correct += 1\n",
    "      if word_ref in word_to_idx_list:\n",
    "        num_times_seen = word_to_times_seen.get(word_ref, 0)\n",
    "        word_to_times_seen[word_ref] = num_times_seen + 1\n",
    "        word_idx_list = word_to_idx_list[word_ref]\n",
    "        prev_ref_word_idx = word_idx_list[min(num_times_seen, len(word_idx_list) - 1)]\n",
    "      else:\n",
    "        prev_ref_word_idx += 1\n",
    "      if word_ref in word_set:\n",
    "        words_correct += 1\n",
    "      words_total += 1\n",
    "  print(words_total)\n",
    "  print(words_correct)\n",
    "  langpair_to_lilt_fixedmt_heuristic_v2_accuracy[langpair_arg] = words_correct / words_total\n"
   ]
  },
  {
   "cell_type": "code",
   "execution_count": 63,
   "metadata": {},
   "outputs": [
    {
     "name": "stdout",
     "output_type": "stream",
     "text": [
      "ende\n",
      "106285\n",
      "44622\n",
      "enes\n",
      "132783\n",
      "69549\n",
      "enfr\n",
      "190712\n",
      "92977\n",
      "enit\n",
      "138906\n",
      "70023\n",
      "enja\n",
      "242645\n",
      "96606\n",
      "enko\n",
      "91416\n",
      "39475\n",
      "enpt\n",
      "59518\n",
      "33031\n",
      "enzh\n",
      "177114\n",
      "101995\n",
      "enzt\n",
      "182927\n",
      "104146\n"
     ]
    }
   ],
   "source": [
    "# developing algorithm for alignment here\n",
    "\n",
    "# noexport\n",
    "\n",
    "langpair_to_lilt_fixedmt_heuristic_v3_accuracy = {}\n",
    "for langpair_arg in langpair_list:\n",
    "  src_lang = langpair_arg[0:2]\n",
    "  trg_lang = langpair_arg[2:]\n",
    "  words_correct = 0\n",
    "  words_total = 0\n",
    "  print(langpair_arg)\n",
    "  #cache_db = langpair_to_cache_db[langpair_arg]\n",
    "  #translation_cache_db = langpair_to_translation_db[langpair_arg]\n",
    "  translation_dict = msgpack.load(open('translation_dict/' + langpair_arg + '.msgpack', 'rb'), raw=False, strict_map_key=False)\n",
    "  output_list = msgpack.load(open('simulation_output_list/' + langpair_arg + '.msgpack', 'rb'), raw=False, strict_map_key=False)\n",
    "  for src_sentence,trg_sentence,output,google_translate in output_list:\n",
    "    #key = msgpack.dumps(src_sentence)\n",
    "    word_list,delimiter_list = translation_dict[src_sentence]\n",
    "    #cached_result = translation_cache_db.get(key)\n",
    "    #word_set = set(word_list)\n",
    "    word_to_idx_list = {}\n",
    "    for idx,word in enumerate(word_list):\n",
    "      if word not in word_to_idx_list:\n",
    "        word_to_idx_list[word] = []\n",
    "      word_to_idx_list[word].append(idx)\n",
    "    predicted_word_idx = 0\n",
    "    prev_ref_word_idx = -1\n",
    "    word_to_times_seen = {}\n",
    "    for word_info in output:\n",
    "      word_ref = word_info[2]\n",
    "      predicted_word_idx = prev_ref_word_idx + 1\n",
    "      predicted_word = None\n",
    "      if predicted_word_idx < len(word_list):\n",
    "        predicted_word = word_list[predicted_word_idx]\n",
    "      elif len(word_list) > 0:\n",
    "        predicted_word = word_list[len(word_list) - 1]\n",
    "      if predicted_word == word_ref:\n",
    "        words_correct += 1\n",
    "      if word_ref in word_to_idx_list:\n",
    "        num_times_seen = word_to_times_seen.get(word_ref, 0)\n",
    "        word_to_times_seen[word_ref] = num_times_seen + 1\n",
    "        word_idx_list = word_to_idx_list[word_ref]\n",
    "        prev_ref_word_idx = word_idx_list[min(num_times_seen, len(word_idx_list) - 1)]\n",
    "      else:\n",
    "        best_lcs_ratio = 0\n",
    "        best_lcs_words = []\n",
    "        for idx,word in enumerate(word_to_idx_list):\n",
    "          lcs_len = lcs(word, word_ref)\n",
    "          if lcs_len == 0:\n",
    "            continue\n",
    "          lcs_ratio = lcs_len / max(len(word), len(word_ref))\n",
    "          if lcs_ratio > best_lcs_ratio:\n",
    "            best_lcs_ratio = lcs_ratio\n",
    "            best_lcs_words = [word]\n",
    "          elif lcs_ratio == best_lcs_ratio:\n",
    "            if word not in best_lcs_words:\n",
    "              best_lcs_words.append(word)\n",
    "        if best_lcs_ratio >= 0.5:\n",
    "          for word_matched in best_lcs_words:\n",
    "            num_times_seen = word_to_times_seen.get(word_matched, 0)\n",
    "            word_idx_list = word_to_idx_list[word_matched]\n",
    "            if num_times_seen >= len(word_idx_list):\n",
    "              # already seen this word enough times\n",
    "              continue\n",
    "            word_to_times_seen[word_matched] = num_times_seen + 1\n",
    "            prev_ref_word_idx = word_idx_list[min(num_times_seen, len(word_idx_list) - 1)]\n",
    "        else:\n",
    "          prev_ref_word_idx += 1\n",
    "      if word_ref in word_set:\n",
    "        words_correct += 1\n",
    "      words_total += 1\n",
    "  print(words_total)\n",
    "  print(words_correct)\n",
    "  langpair_to_lilt_fixedmt_heuristic_v3_accuracy[langpair_arg] = words_correct / words_total\n"
   ]
  },
  {
   "cell_type": "code",
   "execution_count": 40,
   "metadata": {},
   "outputs": [
    {
     "name": "stdout",
     "output_type": "stream",
     "text": [
      "ende\n",
      "106285\n",
      "48058\n",
      "enes\n",
      "132783\n",
      "67590\n",
      "enfr\n",
      "190712\n",
      "96256\n",
      "enit\n",
      "138906\n",
      "72879\n",
      "enja\n",
      "242645\n",
      "129649\n",
      "enko\n",
      "91416\n",
      "29276\n",
      "enpt\n",
      "59518\n",
      "33251\n",
      "enzh\n",
      "177114\n",
      "122970\n",
      "enzt\n",
      "182927\n",
      "99727\n"
     ]
    }
   ],
   "source": [
    "# developing algorithm for alignment here\n",
    "\n",
    "# noexport\n",
    "\n",
    "langpair_to_google_heuristic_accuracy = {}\n",
    "for langpair_arg in langpair_list:\n",
    "  src_lang = langpair_arg[0:2]\n",
    "  trg_lang = langpair_arg[2:]\n",
    "  words_correct = 0\n",
    "  words_total = 0\n",
    "  print(langpair_arg)\n",
    "  #cache_db = langpair_to_cache_db[langpair_arg]\n",
    "  #translation_cache_db = langpair_to_translation_db[langpair_arg]\n",
    "  translation_dict = msgpack.load(open('translation_dict/' + langpair_arg + '.msgpack', 'rb'), raw=False, strict_map_key=False)\n",
    "  output_list = msgpack.load(open('simulation_output_list/' + langpair_arg + '.msgpack', 'rb'), raw=False, strict_map_key=False)\n",
    "  for src_sentence,trg_sentence,output,google_translate in output_list:\n",
    "    #key = msgpack.dumps(src_sentence)\n",
    "    segmented_google_translate = segment_sentence(google_translate, trg_lang)\n",
    "    word_list = segmented_google_translate.tokens\n",
    "    delimiter_list = segmented_google_translate.delimiters\n",
    "    #cached_result = translation_cache_db.get(key)\n",
    "    #word_set = set(word_list)\n",
    "    word_to_idx_list = {}\n",
    "    for idx,word in enumerate(word_list):\n",
    "      if word not in word_to_idx_list:\n",
    "        word_to_idx_list[word] = []\n",
    "      word_to_idx_list[word].append(idx)\n",
    "    predicted_word_idx = 0\n",
    "    prev_ref_word_idx = -1\n",
    "    word_to_times_seen = {}\n",
    "    for word_info in output:\n",
    "      word_ref = word_info[2]\n",
    "      predicted_word_idx = prev_ref_word_idx + 1\n",
    "      predicted_word = None\n",
    "      if predicted_word_idx < len(word_list):\n",
    "        predicted_word = word_list[predicted_word_idx]\n",
    "      elif len(word_list) > 0:\n",
    "        predicted_word = word_list[len(word_list) - 1]\n",
    "      if predicted_word == word_ref:\n",
    "        words_correct += 1\n",
    "      if word_ref in word_to_idx_list:\n",
    "        num_times_seen = word_to_times_seen.get(word_ref, 0)\n",
    "        word_to_times_seen[word_ref] = num_times_seen + 1\n",
    "        word_idx_list = word_to_idx_list[word_ref]\n",
    "        prev_ref_word_idx = word_idx_list[min(num_times_seen, len(word_idx_list) - 1)]\n",
    "      if word_ref in word_set:\n",
    "        words_correct += 1\n",
    "      words_total += 1\n",
    "  print(words_total)\n",
    "  print(words_correct)\n",
    "  langpair_to_google_heuristic_accuracy[langpair_arg] = words_correct / words_total\n"
   ]
  },
  {
   "cell_type": "code",
   "execution_count": 44,
   "metadata": {},
   "outputs": [
    {
     "name": "stdout",
     "output_type": "stream",
     "text": [
      "ende\n",
      "106285\n",
      "52615\n",
      "enes\n",
      "132783\n",
      "73240\n",
      "enfr\n",
      "190712\n",
      "103062\n",
      "enit\n",
      "138906\n",
      "78299\n",
      "enja\n",
      "242645\n",
      "136244\n",
      "enko\n",
      "91416\n",
      "33512\n",
      "enpt\n",
      "59518\n",
      "35649\n",
      "enzh\n",
      "177114\n",
      "130681\n",
      "enzt\n",
      "182927\n",
      "113636\n"
     ]
    }
   ],
   "source": [
    "# developing algorithm for alignment here\n",
    "\n",
    "# noexport\n",
    "\n",
    "langpair_to_google_heuristic_v2_accuracy = {}\n",
    "for langpair_arg in langpair_list:\n",
    "  src_lang = langpair_arg[0:2]\n",
    "  trg_lang = langpair_arg[2:]\n",
    "  words_correct = 0\n",
    "  words_total = 0\n",
    "  print(langpair_arg)\n",
    "  #cache_db = langpair_to_cache_db[langpair_arg]\n",
    "  #translation_cache_db = langpair_to_translation_db[langpair_arg]\n",
    "  translation_dict = msgpack.load(open('translation_dict/' + langpair_arg + '.msgpack', 'rb'), raw=False, strict_map_key=False)\n",
    "  output_list = msgpack.load(open('simulation_output_list/' + langpair_arg + '.msgpack', 'rb'), raw=False, strict_map_key=False)\n",
    "  for src_sentence,trg_sentence,output,google_translate in output_list:\n",
    "    #key = msgpack.dumps(src_sentence)\n",
    "    segmented_google_translate = segment_sentence(google_translate, trg_lang)\n",
    "    word_list = segmented_google_translate.tokens\n",
    "    delimiter_list = segmented_google_translate.delimiters\n",
    "    #cached_result = translation_cache_db.get(key)\n",
    "    #word_set = set(word_list)\n",
    "    word_to_idx_list = {}\n",
    "    for idx,word in enumerate(word_list):\n",
    "      if word not in word_to_idx_list:\n",
    "        word_to_idx_list[word] = []\n",
    "      word_to_idx_list[word].append(idx)\n",
    "    predicted_word_idx = 0\n",
    "    prev_ref_word_idx = -1\n",
    "    word_to_times_seen = {}\n",
    "    for word_info in output:\n",
    "      word_ref = word_info[2]\n",
    "      predicted_word_idx = prev_ref_word_idx + 1\n",
    "      predicted_word = None\n",
    "      if predicted_word_idx < len(word_list):\n",
    "        predicted_word = word_list[predicted_word_idx]\n",
    "      elif len(word_list) > 0:\n",
    "        predicted_word = word_list[len(word_list) - 1]\n",
    "      if predicted_word == word_ref:\n",
    "        words_correct += 1\n",
    "      if word_ref in word_to_idx_list:\n",
    "        num_times_seen = word_to_times_seen.get(word_ref, 0)\n",
    "        word_to_times_seen[word_ref] = num_times_seen + 1\n",
    "        word_idx_list = word_to_idx_list[word_ref]\n",
    "        prev_ref_word_idx = word_idx_list[min(num_times_seen, len(word_idx_list) - 1)]\n",
    "      else:\n",
    "        prev_ref_word_idx += 1\n",
    "      if word_ref in word_set:\n",
    "        words_correct += 1\n",
    "      words_total += 1\n",
    "  print(words_total)\n",
    "  print(words_correct)\n",
    "  langpair_to_google_heuristic_v2_accuracy[langpair_arg] = words_correct / words_total\n"
   ]
  },
  {
   "cell_type": "code",
   "execution_count": 60,
   "metadata": {},
   "outputs": [
    {
     "name": "stdout",
     "output_type": "stream",
     "text": [
      "ende\n",
      "106285\n",
      "54017\n",
      "enes\n",
      "132783\n",
      "74214\n",
      "enfr\n",
      "190712\n",
      "104833\n",
      "enit\n",
      "138906\n",
      "79345\n",
      "enja\n",
      "242645\n",
      "138588\n",
      "enko\n",
      "91416\n",
      "34747\n",
      "enpt\n",
      "59518\n",
      "36254\n",
      "enzh\n",
      "177114\n",
      "131474\n",
      "enzt\n",
      "182927\n",
      "115408\n"
     ]
    }
   ],
   "source": [
    "# developing algorithm for alignment here\n",
    "\n",
    "# noexport\n",
    "\n",
    "langpair_to_google_heuristic_v3_accuracy = {}\n",
    "for langpair_arg in langpair_list:\n",
    "  src_lang = langpair_arg[0:2]\n",
    "  trg_lang = langpair_arg[2:]\n",
    "  words_correct = 0\n",
    "  words_total = 0\n",
    "  print(langpair_arg)\n",
    "  #cache_db = langpair_to_cache_db[langpair_arg]\n",
    "  #translation_cache_db = langpair_to_translation_db[langpair_arg]\n",
    "  translation_dict = msgpack.load(open('translation_dict/' + langpair_arg + '.msgpack', 'rb'), raw=False, strict_map_key=False)\n",
    "  output_list = msgpack.load(open('simulation_output_list/' + langpair_arg + '.msgpack', 'rb'), raw=False, strict_map_key=False)\n",
    "  for src_sentence,trg_sentence,output,google_translate in output_list:\n",
    "    #key = msgpack.dumps(src_sentence)\n",
    "    segmented_google_translate = segment_sentence(google_translate, trg_lang)\n",
    "    word_list = segmented_google_translate.tokens\n",
    "    delimiter_list = segmented_google_translate.delimiters\n",
    "    #cached_result = translation_cache_db.get(key)\n",
    "    #word_set = set(word_list)\n",
    "    word_to_idx_list = {}\n",
    "    for idx,word in enumerate(word_list):\n",
    "      if word not in word_to_idx_list:\n",
    "        word_to_idx_list[word] = []\n",
    "      word_to_idx_list[word].append(idx)\n",
    "    predicted_word_idx = 0\n",
    "    prev_ref_word_idx = -1\n",
    "    word_to_times_seen = {}\n",
    "    for word_info in output:\n",
    "      word_ref = word_info[2]\n",
    "      predicted_word_idx = prev_ref_word_idx + 1\n",
    "      predicted_word = None\n",
    "      if predicted_word_idx < len(word_list):\n",
    "        predicted_word = word_list[predicted_word_idx]\n",
    "      elif len(word_list) > 0:\n",
    "        predicted_word = word_list[len(word_list) - 1]\n",
    "      if predicted_word == word_ref:\n",
    "        words_correct += 1\n",
    "      if word_ref in word_to_idx_list:\n",
    "        num_times_seen = word_to_times_seen.get(word_ref, 0)\n",
    "        word_to_times_seen[word_ref] = num_times_seen + 1\n",
    "        word_idx_list = word_to_idx_list[word_ref]\n",
    "        prev_ref_word_idx = word_idx_list[min(num_times_seen, len(word_idx_list) - 1)]\n",
    "      else:\n",
    "        best_lcs_ratio = 0\n",
    "        best_lcs_words = []\n",
    "        for idx,word in enumerate(word_to_idx_list):\n",
    "          lcs_len = lcs(word, word_ref)\n",
    "          if lcs_len == 0:\n",
    "            continue\n",
    "          lcs_ratio = lcs_len / max(len(word), len(word_ref))\n",
    "          if lcs_ratio > best_lcs_ratio:\n",
    "            best_lcs_ratio = lcs_ratio\n",
    "            best_lcs_words = [word]\n",
    "          elif lcs_ratio == best_lcs_ratio:\n",
    "            if word not in best_lcs_words:\n",
    "              best_lcs_words.append(word)\n",
    "        if best_lcs_ratio >= 0.5:\n",
    "          for word_matched in best_lcs_words:\n",
    "            num_times_seen = word_to_times_seen.get(word_matched, 0)\n",
    "            word_idx_list = word_to_idx_list[word_matched]\n",
    "            if num_times_seen >= len(word_idx_list):\n",
    "              # already seen this word enough times\n",
    "              continue\n",
    "            word_to_times_seen[word_matched] = num_times_seen + 1\n",
    "            prev_ref_word_idx = word_idx_list[min(num_times_seen, len(word_idx_list) - 1)]\n",
    "        else:\n",
    "          prev_ref_word_idx += 1\n",
    "      if word_ref in word_set:\n",
    "        words_correct += 1\n",
    "      words_total += 1\n",
    "  print(words_total)\n",
    "  print(words_correct)\n",
    "  langpair_to_google_heuristic_v3_accuracy[langpair_arg] = words_correct / words_total\n"
   ]
  },
  {
   "cell_type": "code",
   "execution_count": 55,
   "metadata": {},
   "outputs": [
    {
     "data": {
      "text/plain": [
       "2"
      ]
     },
     "execution_count": 55,
     "metadata": {},
     "output_type": "execute_result"
    }
   ],
   "source": [
    "lcs('abc', 'ab')"
   ]
  },
  {
   "cell_type": "code",
   "execution_count": 7,
   "metadata": {},
   "outputs": [
    {
     "name": "stdout",
     "output_type": "stream",
     "text": [
      "ende 0 0\n",
      "0.5545373288798984\n",
      "ende 0 1\n",
      "0.5546690501952298\n",
      "ende 0 2\n",
      "0.5718492731805993\n",
      "ende 0 3\n",
      "0.5807592792962318\n",
      "ende 0 4\n",
      "0.5871948064167097\n",
      "ende 0 5\n",
      "0.5934045255680481\n",
      "ende 1 0\n",
      "0.5776920543820859\n",
      "ende 1 1\n",
      "0.5777673237051324\n",
      "ende 1 2\n",
      "0.5902996659923789\n",
      "ende 1 3\n",
      "0.5972244437126594\n",
      "ende 1 4\n",
      "0.6023333490144424\n",
      "ende 1 5\n",
      "0.6076962882815072\n",
      "ende 2 0\n",
      "0.5913534365150304\n",
      "ende 2 1\n",
      "0.591419297172696\n",
      "ende 2 2\n",
      "0.5992661241002963\n",
      "ende 2 3\n",
      "0.6052312179517335\n",
      "ende 2 4\n",
      "0.609446300042339\n",
      "ende 2 5\n",
      "0.6131627228677612\n",
      "ende 3 0\n",
      "0.6001693559768547\n",
      "ende 3 1\n",
      "0.6002352166345204\n",
      "ende 3 2\n",
      "0.6065954744319518\n",
      "ende 3 3\n",
      "0.6106976525379875\n",
      "ende 3 4\n",
      "0.6143199887096016\n",
      "ende 3 5\n",
      "0.617613021592887\n",
      "ende 4 0\n",
      "0.6074328456508444\n",
      "ende 4 1\n",
      "0.6074987063085101\n",
      "ende 4 2\n",
      "0.61337912217152\n",
      "ende 4 3\n",
      "0.6166345203932823\n",
      "ende 4 4\n",
      "0.6199557792727102\n",
      "ende 4 5\n",
      "0.6224961189255304\n",
      "ende 5 0\n",
      "0.6128240109140518\n",
      "ende 5 1\n",
      "0.6128898715717176\n",
      "ende 5 2\n",
      "0.6183563061579715\n",
      "ende 5 3\n",
      "0.6214235310721175\n",
      "ende 5 4\n",
      "0.6244907559862634\n",
      "ende 5 5\n",
      "0.6266923836853743\n",
      "enes 0 0\n",
      "0.6831371485807671\n",
      "enes 0 1\n",
      "0.6832802391872453\n",
      "enes 0 2\n",
      "0.6984101880511813\n",
      "enes 0 3\n",
      "0.7080349141079807\n",
      "enes 0 4\n",
      "0.7127117176144536\n",
      "enes 0 5\n",
      "0.7186010257337159\n",
      "enes 1 0\n",
      "0.6975215200741058\n",
      "enes 1 1\n",
      "0.6975591754968633\n",
      "enes 1 2\n",
      "0.7088633334086442\n",
      "enes 1 3\n",
      "0.7166580059194324\n",
      "enes 1 4\n",
      "0.721078752551155\n",
      "enes 1 5\n",
      "0.7263806360754013\n",
      "enes 2 0\n",
      "0.7088934577468501\n",
      "enes 2 1\n",
      "0.7089311131696076\n",
      "enes 2 2\n",
      "0.7161910786772403\n",
      "enes 2 3\n",
      "0.7226527492224155\n",
      "enes 2 4\n",
      "0.7261772967925111\n",
      "enes 2 5\n",
      "0.7313360897102792\n",
      "enes 3 0\n",
      "0.7168086276104622\n",
      "enes 3 1\n",
      "0.7168462830332196\n",
      "enes 3 2\n",
      "0.7230142412808869\n",
      "enes 3 3\n",
      "0.728173034198655\n",
      "enes 3 4\n",
      "0.7308465692144326\n",
      "enes 3 5\n",
      "0.7340999977406746\n",
      "enes 4 0\n",
      "0.7214101202714203\n",
      "enes 4 1\n",
      "0.7214477756941777\n",
      "enes 4 2\n",
      "0.7266291618656002\n",
      "enes 4 3\n",
      "0.730914348975396\n",
      "enes 4 4\n",
      "0.7327519336059586\n",
      "enes 4 5\n",
      "0.7358698026102739\n",
      "enes 5 0\n",
      "0.7241815593863672\n",
      "enes 5 1\n",
      "0.7242192148091247\n",
      "enes 5 2\n",
      "0.7289939224147669\n",
      "enes 5 3\n",
      "0.7322925374483179\n",
      "enes 5 4\n",
      "0.7339117206268875\n",
      "enes 5 5\n",
      "0.7368864990247246\n",
      "enfr 0 0\n",
      "0.6465246025420529\n",
      "enfr 0 1\n",
      "0.6465927681530266\n",
      "enfr 0 2\n",
      "0.6656371911573472\n",
      "enfr 0 3\n",
      "0.6771938839716432\n",
      "enfr 0 4\n",
      "0.68478124082386\n",
      "enfr 0 5\n",
      "0.6881108687444943\n",
      "enfr 1 0\n",
      "0.6654064767817442\n",
      "enfr 1 1\n",
      "0.6654484248500356\n",
      "enfr 1 2\n",
      "0.6793070179118251\n",
      "enfr 1 3\n",
      "0.6894165023700659\n",
      "enfr 1 4\n",
      "0.6959971055832879\n",
      "enfr 1 5\n",
      "0.6988233566844246\n",
      "enfr 2 0\n",
      "0.6768950039850665\n",
      "enfr 2 1\n",
      "0.6769317085448215\n",
      "enfr 2 2\n",
      "0.6846239355677671\n",
      "enfr 2 3\n",
      "0.6943296698687026\n",
      "enfr 2 4\n",
      "0.7001289903099962\n",
      "enfr 2 5\n",
      "0.7028293972062587\n",
      "enfr 3 0\n",
      "0.6863595368933261\n",
      "enfr 3 1\n",
      "0.6863962414530811\n",
      "enfr 3 2\n",
      "0.6921483703175468\n",
      "enfr 3 3\n",
      "0.6996728050673267\n",
      "enfr 3 4\n",
      "0.7042084399513402\n",
      "enfr 3 5\n",
      "0.706840681236629\n",
      "enfr 4 0\n",
      "0.6932757246528798\n",
      "enfr 4 1\n",
      "0.6933124292126348\n",
      "enfr 4 2\n",
      "0.6988600612441797\n",
      "enfr 4 3\n",
      "0.7037365241830613\n",
      "enfr 4 4\n",
      "0.706961281932967\n",
      "enfr 4 5\n",
      "0.7093365912999706\n",
      "enfr 5 0\n",
      "0.696568648013759\n",
      "enfr 5 1\n",
      "0.696605352573514\n",
      "enfr 5 2\n",
      "0.7014241369184949\n",
      "enfr 5 3\n",
      "0.7060646419732372\n",
      "enfr 5 4\n",
      "0.7090849028902219\n",
      "enfr 5 5\n",
      "0.7111403582365032\n",
      "enit 0 0\n",
      "0.6487336760111154\n",
      "enit 0 1\n",
      "0.6487408751241847\n",
      "enit 0 2\n",
      "0.6630167163405468\n",
      "enit 0 3\n",
      "0.6744345096684089\n",
      "enit 0 4\n",
      "0.6813096626495616\n",
      "enit 0 5\n",
      "0.6850388032194433\n",
      "enit 1 0\n",
      "0.6645213309720243\n",
      "enit 1 1\n",
      "0.6645285300850935\n",
      "enit 1 2\n",
      "0.6755575713072149\n",
      "enit 1 3\n",
      "0.6857443163002318\n",
      "enit 1 4\n",
      "0.6910428635192144\n",
      "enit 1 5\n",
      "0.6946064244885031\n",
      "enit 2 0\n",
      "0.6724619526874289\n",
      "enit 2 1\n",
      "0.6724691518004982\n",
      "enit 2 2\n",
      "0.6808417203000591\n",
      "enit 2 3\n",
      "0.6899342001065468\n",
      "enit 2 4\n",
      "0.6946208227146415\n",
      "enit 2 5\n",
      "0.6978820209350208\n",
      "enit 3 0\n",
      "0.6784660129872\n",
      "enit 3 1\n",
      "0.6784732121002692\n",
      "enit 3 2\n",
      "0.6857083207348854\n",
      "enit 3 3\n",
      "0.6940952874605849\n",
      "enit 3 4\n",
      "0.6981843836839301\n",
      "enit 3 5\n",
      "0.701193612946885\n",
      "enit 4 0\n",
      "0.6849524138626121\n",
      "enit 4 1\n",
      "0.6849596129756814\n",
      "enit 4 2\n",
      "0.6905821202827812\n",
      "enit 4 3\n",
      "0.6978748218219515\n",
      "enit 4 4\n",
      "0.7016615552963875\n",
      "enit 4 5\n",
      "0.7042748333405324\n",
      "enit 5 0\n",
      "0.6896246382445683\n",
      "enit 5 1\n",
      "0.6896318373576376\n",
      "enit 5 2\n",
      "0.6947792032021655\n",
      "enit 5 3\n",
      "0.7011288209292615\n",
      "enit 5 4\n",
      "0.7042676342274632\n",
      "enit 5 5\n",
      "0.7067657264624998\n",
      "enja 0 0\n",
      "0.5634898720352779\n",
      "enja 0 1\n",
      "0.5642069690288282\n",
      "enja 0 2\n",
      "0.5780378742607513\n",
      "enja 0 3\n",
      "0.588637721774609\n",
      "enja 0 4\n",
      "0.593649158235282\n",
      "enja 0 5\n",
      "0.5962661501370314\n",
      "enja 1 0\n",
      "0.585357209091471\n",
      "enja 1 1\n",
      "0.5860166086257702\n",
      "enja 1 2\n",
      "0.5976467679119701\n",
      "enja 1 3\n",
      "0.6061076881864452\n",
      "enja 1 4\n",
      "0.6108100311154155\n",
      "enja 1 5\n",
      "0.6132003544272497\n",
      "enja 2 0\n",
      "0.5958663891693626\n",
      "enja 2 1\n",
      "0.5964474850089637\n",
      "enja 2 2\n",
      "0.6061406581631602\n",
      "enja 2 3\n",
      "0.6133116280986627\n",
      "enja 2 4\n",
      "0.617634816295411\n",
      "enja 2 5\n",
      "0.6199056234416535\n",
      "enja 3 0\n",
      "0.6011910404088278\n",
      "enja 3 1\n",
      "0.6017556512600712\n",
      "enja 3 2\n",
      "0.6106245749963939\n",
      "enja 3 3\n",
      "0.6171196604092398\n",
      "enja 3 4\n",
      "0.6213315749345752\n",
      "enja 3 5\n",
      "0.6234540171856003\n",
      "enja 4 0\n",
      "0.604286096972944\n",
      "enja 4 1\n",
      "0.6048301015887407\n",
      "enja 4 2\n",
      "0.6132621731335902\n",
      "enja 4 3\n",
      "0.6195965299099507\n",
      "enja 4 4\n",
      "0.6236971707638731\n",
      "enja 4 5\n",
      "0.6257495518143791\n",
      "enja 5 0\n",
      "0.6054977436172185\n",
      "enja 5 1\n",
      "0.6060417482330153\n",
      "enja 5 2\n",
      "0.614420243565703\n",
      "enja 5 3\n",
      "0.6205732654701313\n",
      "enja 5 4\n",
      "0.624599723876445\n",
      "enja 5 5\n",
      "0.626631498691504\n",
      "enko 0 0\n",
      "0.5361534085936817\n",
      "enko 0 1\n",
      "0.5362409206265861\n",
      "enko 0 2\n",
      "0.5384505994574253\n",
      "enko 0 3\n",
      "0.539555438872845\n",
      "enko 0 4\n",
      "0.5403758641813249\n",
      "enko 0 5\n",
      "0.5406055832676994\n",
      "enko 1 0\n",
      "0.544729587818325\n",
      "enko 1 1\n",
      "0.5447952218430034\n",
      "enko 1 2\n",
      "0.5464141944517371\n",
      "enko 1 3\n",
      "0.5474752778507045\n",
      "enko 1 4\n",
      "0.5480878620810361\n",
      "enko 1 5\n",
      "0.5482957031591844\n",
      "enko 2 0\n",
      "0.5476284239082874\n",
      "enko 2 1\n",
      "0.5476940579329658\n",
      "enko 2 2\n",
      "0.5492364575129081\n",
      "enko 2 3\n",
      "0.5501334558501794\n",
      "enko 2 4\n",
      "0.5507460400805111\n",
      "enko 2 5\n",
      "0.5509538811586593\n",
      "enko 3 0\n",
      "0.55024284589131\n",
      "enko 3 1\n",
      "0.5503084799159884\n",
      "enko 3 2\n",
      "0.5517633674630261\n",
      "enko 3 3\n",
      "0.5526384877920714\n",
      "enko 3 4\n",
      "0.55324013301829\n",
      "enko 3 5\n",
      "0.5534370350923252\n",
      "enko 4 0\n",
      "0.5519165135206091\n",
      "enko 4 1\n",
      "0.5519821475452875\n",
      "enko 4 2\n",
      "0.553415157084099\n",
      "enko 4 3\n",
      "0.5542793384090312\n",
      "enko 4 4\n",
      "0.5548700446311368\n",
      "enko 4 5\n",
      "0.555066946705172\n",
      "enko 5 0\n",
      "0.5531307429771594\n",
      "enko 5 1\n",
      "0.5531963770018378\n",
      "enko 5 2\n",
      "0.5545856305241971\n",
      "enko 5 3\n",
      "0.5554388728450161\n",
      "enko 5 4\n",
      "0.5560295790671217\n",
      "enko 5 5\n",
      "0.5562264811411569\n",
      "enpt 0 0\n",
      "0.7005107698511375\n",
      "enpt 0 1\n",
      "0.7005947780503378\n",
      "enpt 0 2\n",
      "0.71527941127054\n",
      "enpt 0 3\n",
      "0.7238146443092845\n",
      "enpt 0 4\n",
      "0.7272253771968145\n",
      "enpt 0 5\n",
      "0.7290231526596996\n",
      "enpt 1 0\n",
      "0.7153298161900602\n",
      "enpt 1 1\n",
      "0.7153802211095803\n",
      "enpt 1 2\n",
      "0.7268389394804933\n",
      "enpt 1 3\n",
      "0.7337948183742733\n",
      "enpt 1 4\n",
      "0.7370543365032427\n",
      "enpt 1 5\n",
      "0.7386672939278873\n",
      "enpt 2 0\n",
      "0.7233105951140831\n",
      "enpt 2 1\n",
      "0.7233610000336033\n",
      "enpt 2 2\n",
      "0.731610605195067\n",
      "enpt 2 3\n",
      "0.7378944184952452\n",
      "enpt 2 4\n",
      "0.7408683087469337\n",
      "enpt 2 5\n",
      "0.7424644645317383\n",
      "enpt 3 0\n",
      "0.7292415739776202\n",
      "enpt 3 1\n",
      "0.7292919788971404\n",
      "enpt 3 2\n",
      "0.7354581807184382\n",
      "enpt 3 3\n",
      "0.740297052992372\n",
      "enpt 3 4\n",
      "0.7430189186464599\n",
      "enpt 3 5\n",
      "0.7443294465539837\n",
      "enpt 4 0\n",
      "0.7335595954165126\n",
      "enpt 4 1\n",
      "0.7336100003360327\n",
      "enpt 4 2\n",
      "0.7381632447326859\n",
      "enpt 4 3\n",
      "0.7426828858496589\n",
      "enpt 4 4\n",
      "0.7445982727914244\n",
      "enpt 4 5\n",
      "0.7458919990591082\n",
      "enpt 5 0\n",
      "0.7358782217144393\n",
      "enpt 5 1\n",
      "0.7359286266339595\n",
      "enpt 5 2\n",
      "0.7401962431533318\n",
      "enpt 5 3\n",
      "0.7446654793507846\n",
      "enpt 5 4\n",
      "0.7465472630128701\n",
      "enpt 5 5\n",
      "0.7477905843610336\n",
      "enzh 0 0\n",
      "0.6442347866345969\n",
      "enzh 0 1\n",
      "0.6443081856883137\n",
      "enzh 0 2\n",
      "0.6574014476551825\n",
      "enzh 0 3\n",
      "0.6664408234244611\n",
      "enzh 0 4\n",
      "0.671573111103583\n",
      "enzh 0 5\n",
      "0.6769030116196348\n",
      "enzh 1 0\n",
      "0.6653906523482052\n",
      "enzh 1 1\n",
      "0.6654584053208668\n",
      "enzh 1 2\n",
      "0.6764513251352237\n",
      "enzh 1 3\n",
      "0.6844235915850808\n",
      "enzh 1 4\n",
      "0.6891380692661224\n",
      "enzh 1 5\n",
      "0.694055805865149\n",
      "enzh 2 0\n",
      "0.673718621904536\n",
      "enzh 2 1\n",
      "0.6737863748771977\n",
      "enzh 2 2\n",
      "0.6827579976738146\n",
      "enzh 2 3\n",
      "0.6901204873697167\n",
      "enzh 2 4\n",
      "0.6944849080253396\n",
      "enzh 2 5\n",
      "0.6992106778684914\n",
      "enzh 3 0\n",
      "0.6793421186354551\n",
      "enzh 3 1\n",
      "0.6794098716081168\n",
      "enzh 3 2\n",
      "0.6874781214359114\n",
      "enzh 3 3\n",
      "0.6943211716747406\n",
      "enzh 3 4\n",
      "0.6984428108449925\n",
      "enzh 3 5\n",
      "0.7027564167711192\n",
      "enzh 4 0\n",
      "0.6830628860507921\n",
      "enzh 4 1\n",
      "0.6831193468613436\n",
      "enzh 4 2\n",
      "0.6909335230416568\n",
      "enzh 4 3\n",
      "0.6971103357159796\n",
      "enzh 4 4\n",
      "0.7011134071840736\n",
      "enzh 4 5\n",
      "0.7049470962205133\n",
      "enzh 5 0\n",
      "0.6858915726594171\n",
      "enzh 5 1\n",
      "0.6859480334699685\n",
      "enzh 5 2\n",
      "0.6935194281649107\n",
      "enzh 5 3\n",
      "0.6995212123265242\n",
      "enzh 5 4\n",
      "0.7033040866334677\n",
      "enzh 5 5\n",
      "0.7070135618866944\n",
      "enzt 0 0\n",
      "0.6186456892640233\n",
      "enzt 0 1\n",
      "0.6187222225259257\n",
      "enzt 0 2\n",
      "0.6464545966423765\n",
      "enzt 0 3\n",
      "0.6531293904125689\n",
      "enzt 0 4\n",
      "0.6605257835092687\n",
      "enzt 0 5\n",
      "0.6644289798662855\n",
      "enzt 1 0\n"
     ]
    },
    {
     "name": "stdout",
     "output_type": "stream",
     "text": [
      "0.6374783383535508\n",
      "enzt 1 1\n",
      "0.6375548716154532\n",
      "enzt 1 2\n",
      "0.6612309828510827\n",
      "enzt 1 3\n",
      "0.6672169772641545\n",
      "enzt 1 4\n",
      "0.6733997714935466\n",
      "enzt 1 5\n",
      "0.6767125684016029\n",
      "enzt 2 0\n",
      "0.6463124634417008\n",
      "enzt 2 1\n",
      "0.6463780633804742\n",
      "enzt 2 2\n",
      "0.6682556429613999\n",
      "enzt 2 3\n",
      "0.6737879044646224\n",
      "enzt 2 4\n",
      "0.6796645656464054\n",
      "enzt 2 5\n",
      "0.6822010966123099\n",
      "enzt 3 0\n",
      "0.6555019215315399\n",
      "enzt 3 1\n",
      "0.6555620548087489\n",
      "enzt 3 2\n",
      "0.6750397699628814\n",
      "enzt 3 3\n",
      "0.6800144319865301\n",
      "enzt 3 4\n",
      "0.6849125607482767\n",
      "enzt 3 5\n",
      "0.6873670917907143\n",
      "enzt 4 0\n",
      "0.6678401766825017\n",
      "enzt 4 1\n",
      "0.6679003099597107\n",
      "enzt 4 2\n",
      "0.6811624309150645\n",
      "enzt 4 3\n",
      "0.6858746931836197\n",
      "enzt 4 4\n",
      "0.6905650888059172\n",
      "enzt 4 5\n",
      "0.6929266866017592\n",
      "enzt 5 0\n",
      "0.6716559064544874\n",
      "enzt 5 1\n",
      "0.6717160397316962\n",
      "enzt 5 2\n",
      "0.6846720276394409\n",
      "enzt 5 3\n",
      "0.6892968233229649\n",
      "enzt 5 4\n",
      "0.6938068191136355\n",
      "enzt 5 5\n",
      "0.696113750293833\n"
     ]
    }
   ],
   "source": [
    "# noexport\n",
    "\n",
    "langpair_to_num_src_trg_synonyms_to_accuracy = {}\n",
    "for langpair_arg in langpair_list:\n",
    "  translation_dict = msgpack.load(open('translation_dict/' + langpair_arg + '.msgpack', 'rb'), raw=False, strict_map_key=False)\n",
    "  output_list = msgpack.load(open('simulation_output_list/' + langpair_arg + '.msgpack', 'rb'), raw=False, strict_map_key=False)\n",
    "  langpair_to_num_src_trg_synonyms_to_accuracy[langpair_arg] = {}\n",
    "  for num_synonyms_sourcelang in range(6):\n",
    "    for num_synonyms_targetlang in range(6):\n",
    "      if (num_synonyms_sourcelang, num_synonyms_targetlang) in langpair_to_num_src_trg_synonyms_to_accuracy[langpair_arg]:\n",
    "        continue\n",
    "      src_lang = langpair_arg[0:2]\n",
    "      trg_lang = langpair_arg[2:]\n",
    "      print(langpair_arg, num_synonyms_sourcelang, num_synonyms_targetlang)\n",
    "      words_correct = 0\n",
    "      words_total = 0\n",
    "      #cache_db = langpair_to_cache_db[langpair_arg]\n",
    "      #translation_cache_db = langpair_to_translation_db[langpair_arg]\n",
    "      for src_sentence,trg_sentence,output,google_translate in output_list:\n",
    "        #key = msgpack.dumps(src_sentence)\n",
    "        word_list,delimiter_list = translation_dict[src_sentence]\n",
    "        #cached_result = translation_cache_db.get(key)\n",
    "        word_set = set(word_list)\n",
    "        for word in word_list:\n",
    "          for synonym in lookup_synonyms(word, trg_lang, trg_lang, num_synonyms_targetlang): # target to target synonyms\n",
    "            word_set.add(synonym)\n",
    "        for word in segment_sentence(src_sentence, src_lang).tokens:\n",
    "          for synonym in lookup_synonyms(word, src_lang, trg_lang, num_synonyms_sourcelang): # source to target synonyms\n",
    "            word_set.add(synonym)\n",
    "        for word_info in output:\n",
    "          word_ref = word_info[2]\n",
    "          if word_ref in word_set:\n",
    "            words_correct += 1\n",
    "          words_total += 1\n",
    "      print(words_correct / words_total)\n",
    "      langpair_to_num_src_trg_synonyms_to_accuracy[langpair_arg][(num_synonyms_sourcelang, num_synonyms_targetlang)] = words_correct / words_total\n",
    "\n"
   ]
  },
  {
   "cell_type": "code",
   "execution_count": 8,
   "metadata": {},
   "outputs": [
    {
     "name": "stdout",
     "output_type": "stream",
     "text": [
      "ende 0 0\n",
      "0.6262313590817142\n",
      "ende 0 1\n",
      "0.62629721973938\n",
      "ende 0 2\n",
      "0.6401750011760832\n",
      "ende 0 3\n",
      "0.6471091875617444\n",
      "ende 0 4\n",
      "0.6522275015289081\n",
      "ende 0 5\n",
      "0.6566683915886532\n",
      "ende 1 0\n",
      "0.6500917344874629\n",
      "ende 1 1\n",
      "0.650138777814367\n",
      "ende 1 2\n",
      "0.6600366937949852\n",
      "ende 1 3\n",
      "0.6651267817660065\n",
      "ende 1 4\n",
      "0.6691442818836149\n",
      "ende 1 5\n",
      "0.672964200028226\n",
      "ende 2 0\n",
      "0.6607705696946888\n",
      "ende 2 1\n",
      "0.6608176130215929\n",
      "ende 2 2\n",
      "0.6675354001034953\n",
      "ende 2 3\n",
      "0.6720233334901444\n",
      "ende 2 4\n",
      "0.6754480876887613\n",
      "ende 2 5\n",
      "0.6783929999529567\n",
      "ende 3 0\n",
      "0.66724373147669\n",
      "ende 3 1\n",
      "0.6672907748035941\n",
      "ende 3 2\n",
      "0.6730112433551301\n",
      "ende 3 3\n",
      "0.6764548148845086\n",
      "ende 3 4\n",
      "0.6794749964717505\n",
      "ende 3 5\n",
      "0.6820717881168556\n",
      "ende 4 0\n",
      "0.6727289833937056\n",
      "ende 4 1\n",
      "0.6727760267206097\n",
      "ende 4 2\n",
      "0.6781577833184362\n",
      "ende 4 3\n",
      "0.6811026955826316\n",
      "ende 4 4\n",
      "0.6839252951968763\n",
      "ende 4 5\n",
      "0.6859481582537517\n",
      "ende 5 0\n",
      "0.6766994401844099\n",
      "ende 5 1\n",
      "0.676746483511314\n",
      "ende 5 2\n",
      "0.6817142588323847\n",
      "ende 5 3\n",
      "0.6844804064543445\n",
      "ende 5 4\n",
      "0.687208919414781\n",
      "ende 5 5\n",
      "0.6890247918332785\n",
      "enes 0 0\n",
      "0.7147902969506639\n",
      "enes 0 1\n",
      "0.7148128902043184\n",
      "enes 0 2\n",
      "0.7320816670808763\n",
      "enes 0 3\n",
      "0.7408855049215638\n",
      "enes 0 4\n",
      "0.7456376192735515\n",
      "enes 0 5\n",
      "0.7501562700044433\n",
      "enes 1 0\n",
      "0.7313210275411762\n",
      "enes 1 1\n",
      "0.7313436207948306\n",
      "enes 1 2\n",
      "0.7433782939081057\n",
      "enes 1 3\n",
      "0.7502842984418187\n",
      "enes 1 4\n",
      "0.7545694855516143\n",
      "enes 1 5\n",
      "0.7586438022939683\n",
      "enes 2 0\n",
      "0.7422109758026253\n",
      "enes 2 1\n",
      "0.7422335690562798\n",
      "enes 2 2\n",
      "0.7502617051881642\n",
      "enes 2 3\n",
      "0.7559024875172273\n",
      "enes 2 4\n",
      "0.7592086336353299\n",
      "enes 2 5\n",
      "0.7631699841094116\n",
      "enes 3 0\n",
      "0.7490868559981323\n",
      "enes 3 1\n",
      "0.7491094492517868\n",
      "enes 3 2\n",
      "0.7559702672781907\n",
      "enes 3 3\n",
      "0.7604437315017736\n",
      "enes 3 4\n",
      "0.7630118313338304\n",
      "enes 3 5\n",
      "0.7658661123788437\n",
      "enes 4 0\n",
      "0.7528523982738754\n",
      "enes 4 1\n",
      "0.7528749915275299\n",
      "enes 4 2\n",
      "0.7588019550695496\n",
      "enes 4 3\n",
      "0.762665401444462\n",
      "enes 4 4\n",
      "0.764600890174194\n",
      "enes 4 5\n",
      "0.7673346738663835\n",
      "enes 5 0\n",
      "0.7553451872604173\n",
      "enes 5 1\n",
      "0.7553677805140718\n",
      "enes 5 2\n",
      "0.7609483141667231\n",
      "enes 5 3\n",
      "0.7640059344946266\n",
      "enes 5 4\n",
      "0.7657380839414684\n",
      "enes 5 5\n",
      "0.7683513702808341\n",
      "enfr 0 0\n",
      "0.6903393598724779\n",
      "enfr 0 1\n",
      "0.6903760644322329\n",
      "enfr 0 2\n",
      "0.705419690423256\n",
      "enfr 0 3\n",
      "0.7141291581022694\n",
      "enfr 0 4\n",
      "0.7202011409874576\n",
      "enfr 0 5\n",
      "0.723279080498343\n",
      "enfr 1 0\n",
      "0.7061275640756743\n",
      "enfr 1 1\n",
      "0.7061642686354294\n",
      "enfr 1 2\n",
      "0.7171599060363271\n",
      "enfr 1 3\n",
      "0.7246056881580604\n",
      "enfr 1 4\n",
      "0.7299121187969294\n",
      "enfr 1 5\n",
      "0.7323293762322245\n",
      "enfr 2 0\n",
      "0.7150048240278535\n",
      "enfr 2 1\n",
      "0.7150415285876085\n",
      "enfr 2 2\n",
      "0.7213337388313268\n",
      "enfr 2 3\n",
      "0.7285278325433113\n",
      "enfr 2 4\n",
      "0.7331421200553715\n",
      "enfr 2 5\n",
      "0.7353024455723814\n",
      "enfr 3 0\n",
      "0.7236251520617476\n",
      "enfr 3 1\n",
      "0.7236618566215026\n",
      "enfr 3 2\n",
      "0.7285855111372121\n",
      "enfr 3 3\n",
      "0.7343586140358237\n",
      "enfr 3 4\n",
      "0.7381339401820546\n",
      "enfr 3 5\n",
      "0.7402418306137002\n",
      "enfr 4 0\n",
      "0.7293405763664583\n",
      "enfr 4 1\n",
      "0.7293772809262133\n",
      "enfr 4 2\n",
      "0.7341488736943663\n",
      "enfr 4 3\n",
      "0.7377564075674315\n",
      "enfr 4 4\n",
      "0.740226100088091\n",
      "enfr 4 5\n",
      "0.74218192877218\n",
      "enfr 5 0\n",
      "0.7318312429212634\n",
      "enfr 5 1\n",
      "0.7318679474810185\n",
      "enfr 5 2\n",
      "0.7360889718528462\n",
      "enfr 5 3\n",
      "0.7395077394185998\n",
      "enfr 5 4\n",
      "0.7418620747514577\n",
      "enfr 5 5\n",
      "0.7435452409916523\n",
      "enit 0 0\n",
      "0.7041668466444934\n",
      "enit 0 1\n",
      "0.7041668466444934\n",
      "enit 0 2\n",
      "0.716534922897499\n",
      "enit 0 3\n",
      "0.7261169423926972\n",
      "enit 0 4\n",
      "0.7322433876146459\n",
      "enit 0 5\n",
      "0.7353390062344319\n",
      "enit 1 0\n",
      "0.7199688998315408\n",
      "enit 1 1\n",
      "0.7199688998315408\n",
      "enit 1 2\n",
      "0.7295149237613926\n",
      "enit 1 3\n",
      "0.7377795055649145\n",
      "enit 1 4\n",
      "0.7424733272860784\n",
      "enit 1 5\n",
      "0.7453817689660633\n",
      "enit 2 0\n",
      "0.7266856723251696\n",
      "enit 2 1\n",
      "0.7266856723251696\n",
      "enit 2 2\n",
      "0.7341799490302795\n",
      "enit 2 3\n",
      "0.7416238319439045\n",
      "enit 2 4\n",
      "0.7457921184110118\n",
      "enit 2 5\n",
      "0.7484773875858495\n",
      "enit 3 0\n",
      "0.731473082516234\n",
      "enit 3 1\n",
      "0.731473082516234\n",
      "enit 3 2\n",
      "0.737981080730854\n",
      "enit 3 3\n",
      "0.7450506097648769\n",
      "enit 3 4\n",
      "0.7487581529955509\n",
      "enit 3 5\n",
      "0.7511986523260334\n",
      "enit 4 0\n",
      "0.7372611694239269\n",
      "enit 4 1\n",
      "0.7372611694239269\n",
      "enit 4 2\n",
      "0.7425021237383554\n",
      "enit 4 3\n",
      "0.7486141707341656\n",
      "enit 4 4\n",
      "0.7520553467812765\n",
      "enit 4 5\n",
      "0.7542150807020576\n",
      "enit 5 0\n",
      "0.7408823232977697\n",
      "enit 5 1\n",
      "0.7408823232977697\n",
      "enit 5 2\n",
      "0.7457921184110118\n",
      "enit 5 3\n",
      "0.751105063856133\n",
      "enit 5 4\n",
      "0.7540710984406721\n",
      "enit 5 5\n",
      "0.7561444430046218\n",
      "enja 0 0\n",
      "0.7189185847637495\n",
      "enja 0 1\n",
      "0.7195697418038699\n",
      "enja 0 2\n",
      "0.7313194172556615\n",
      "enja 0 3\n",
      "0.7388819056646542\n",
      "enja 0 4\n",
      "0.7428795153413423\n",
      "enja 0 5\n",
      "0.744639287848503\n",
      "enja 1 0\n",
      "0.7352016320138474\n",
      "enja 1 1\n",
      "0.7358156978301634\n",
      "enja 1 2\n",
      "0.7454305672896618\n",
      "enja 1 3\n",
      "0.7518803189845247\n",
      "enja 1 4\n",
      "0.7556141688474932\n",
      "enja 1 5\n",
      "0.7572956376599559\n",
      "enja 2 0\n",
      "0.7426322405159801\n",
      "enja 2 1\n",
      "0.7431844876259556\n",
      "enja 2 2\n",
      "0.7514764367697665\n",
      "enja 2 3\n",
      "0.7570648478229512\n",
      "enja 2 4\n",
      "0.7604896041542171\n",
      "enja 2 5\n",
      "0.7620804055307135\n",
      "enja 3 0\n",
      "0.7472439160089843\n",
      "enja 3 1\n",
      "0.747787920624781\n",
      "enja 3 2\n",
      "0.7554204702342929\n",
      "enja 3 3\n",
      "0.7601145706690845\n",
      "enja 3 4\n",
      "0.7634651445527416\n",
      "enja 3 5\n",
      "0.764952914752004\n",
      "enja 4 0\n",
      "0.7497949679573038\n",
      "enja 4 1\n",
      "0.7502730326196707\n",
      "enja 4 2\n",
      "0.7575223062498712\n",
      "enja 4 3\n",
      "0.7620103443301943\n",
      "enja 4 4\n",
      "0.7652949782604216\n",
      "enja 4 5\n",
      "0.7666962022708071\n",
      "enja 5 0\n",
      "0.7507263697995014\n",
      "enja 5 1\n",
      "0.7512044344618681\n",
      "enja 5 2\n",
      "0.7583960106328175\n",
      "enja 5 3\n",
      "0.7627191988295658\n",
      "enja 5 4\n",
      "0.7659791052772569\n",
      "enja 5 5\n",
      "0.7673514805580168\n",
      "enko 0 0\n",
      "0.5062789883608996\n",
      "enko 0 1\n",
      "0.5063008663691257\n",
      "enko 0 2\n",
      "0.5085980572328695\n",
      "enko 0 3\n",
      "0.5098013476853067\n",
      "enko 0 4\n",
      "0.5102060908374901\n",
      "enko 0 5\n",
      "0.5104467489279776\n",
      "enko 1 0\n",
      "0.5150301916513521\n",
      "enko 1 1\n",
      "0.5150520696595782\n",
      "enko 1 2\n",
      "0.5169554563752516\n",
      "enko 1 3\n",
      "0.5181149908112366\n",
      "enko 1 4\n",
      "0.5184650389428547\n",
      "enko 1 5\n",
      "0.5186728800210029\n",
      "enko 2 0\n",
      "0.5194495493130306\n",
      "enko 2 1\n",
      "0.5194714273212566\n",
      "enko 2 2\n",
      "0.5212435459875733\n",
      "enko 2 3\n",
      "0.5221624223330708\n",
      "enko 2 4\n",
      "0.5225124704646888\n",
      "enko 2 5\n",
      "0.5226874945304979\n",
      "enko 3 0\n",
      "0.521363875032817\n",
      "enko 3 1\n",
      "0.5213857530410432\n",
      "enko 3 2\n",
      "0.5229828476415507\n",
      "enko 3 3\n",
      "0.523868906974709\n",
      "enko 3 4\n",
      "0.5242189551063271\n",
      "enko 3 5\n",
      "0.5243830401680231\n",
      "enko 4 0\n",
      "0.5226437385140457\n",
      "enko 4 1\n",
      "0.5226656165222718\n",
      "enko 4 2\n",
      "0.5242517721186664\n",
      "enko 4 3\n",
      "0.5251268924477116\n",
      "enko 4 4\n",
      "0.5254660015752166\n",
      "enko 4 5\n",
      "0.5256300866369126\n",
      "enko 5 0\n",
      "0.523365712785508\n",
      "enko 5 1\n",
      "0.5233875907937341\n",
      "enko 5 2\n",
      "0.5249190513695633\n",
      "enko 5 3\n",
      "0.5257832326944955\n",
      "enko 5 4\n",
      "0.5261114028178875\n",
      "enko 5 5\n",
      "0.5262754878795834\n",
      "enpt 0 0\n",
      "0.7422796464934978\n",
      "enpt 0 1\n",
      "0.7423300514130179\n",
      "enpt 0 2\n",
      "0.7558049665647367\n",
      "enpt 0 3\n",
      "0.7619039618266743\n",
      "enpt 0 4\n",
      "0.7645586209214019\n",
      "enpt 0 5\n",
      "0.7660203635874862\n",
      "enpt 1 0\n",
      "0.7554521321280957\n",
      "enpt 1 1\n",
      "0.7555025370476158\n",
      "enpt 1 2\n",
      "0.7660035619476461\n",
      "enpt 1 3\n",
      "0.7705232030646191\n",
      "enpt 1 4\n",
      "0.7730098457609462\n",
      "enpt 1 5\n",
      "0.7743707785879902\n",
      "enpt 2 0\n",
      "0.7623576061023556\n",
      "enpt 2 1\n",
      "0.7624080110218757\n",
      "enpt 2 2\n",
      "0.7700191538694177\n",
      "enpt 2 3\n",
      "0.7741691589099096\n",
      "enpt 2 4\n",
      "0.7765381901273565\n",
      "enpt 2 5\n",
      "0.7778151147552002\n",
      "enpt 3 0\n",
      "0.7672972882153298\n",
      "enpt 3 1\n",
      "0.76734769313485\n",
      "enpt 3 2\n",
      "0.7733962834772674\n",
      "enpt 3 3\n",
      "0.7763197688094358\n",
      "enpt 3 4\n",
      "0.7785375852683222\n",
      "enpt 3 5\n",
      "0.7796464934977654\n",
      "enpt 4 0\n",
      "0.7708928391411002\n",
      "enpt 4 1\n",
      "0.7709432440606203\n",
      "enpt 4 2\n",
      "0.7755300917369535\n",
      "enpt 4 3\n",
      "0.7782855606707214\n",
      "enpt 4 4\n",
      "0.7799657246547264\n",
      "enpt 4 5\n",
      "0.7810242279646493\n",
      "enpt 5 0\n",
      "0.7727578211633456\n",
      "enpt 5 1\n",
      "0.7728082260828657\n",
      "enpt 5 2\n",
      "0.7772270573607984\n",
      "enpt 5 3\n",
      "0.7798817164555261\n",
      "enpt 5 4\n",
      "0.7815282771598508\n",
      "enpt 5 5\n",
      "0.7825363755502537\n"
     ]
    },
    {
     "name": "stderr",
     "output_type": "stream",
     "text": [
      "Building prefix dict from the default dictionary ...\n",
      "Loading model from cache /tmp/jieba.cache\n"
     ]
    },
    {
     "name": "stdout",
     "output_type": "stream",
     "text": [
      "enzh 0 0\n"
     ]
    },
    {
     "name": "stderr",
     "output_type": "stream",
     "text": [
      "Loading model cost 0.690 seconds.\n",
      "Prefix dict has been built successfully.\n"
     ]
    },
    {
     "name": "stdout",
     "output_type": "stream",
     "text": [
      "0.7734622898246327\n",
      "enzh 0 1\n",
      "0.7734792280677981\n",
      "enzh 0 2\n",
      "0.7821120860011066\n",
      "enzh 0 3\n",
      "0.7878428582720733\n",
      "enzh 0 4\n",
      "0.7910441862303376\n",
      "enzh 0 5\n",
      "0.7943132671612634\n",
      "enzh 1 0\n",
      "0.7859457750375465\n",
      "enzh 1 1\n",
      "0.7859627132807119\n",
      "enzh 1 2\n",
      "0.7925008751425635\n",
      "enzh 1 3\n",
      "0.7974750725521416\n",
      "enzh 1 4\n",
      "0.8003771582144833\n",
      "enzh 1 5\n",
      "0.8034147498221484\n",
      "enzh 2 0\n",
      "0.7907336517723048\n",
      "enzh 2 1\n",
      "0.7907505900154702\n",
      "enzh 2 2\n",
      "0.7962837494495071\n",
      "enzh 2 3\n",
      "0.8008570751041701\n",
      "enzh 2 4\n",
      "0.803640593064354\n",
      "enzh 2 5\n",
      "0.8065539708888061\n",
      "enzh 3 0\n",
      "0.7937881816231354\n",
      "enzh 3 1\n",
      "0.7938051198663008\n",
      "enzh 3 2\n",
      "0.7990108065991396\n",
      "enzh 3 3\n",
      "0.8031267996883363\n",
      "enzh 3 4\n",
      "0.8058369185948033\n",
      "enzh 3 5\n",
      "0.8085526835823255\n",
      "enzh 4 0\n",
      "0.7961482435041838\n",
      "enzh 4 1\n",
      "0.7961651817473492\n",
      "enzh 4 2\n",
      "0.8012184242916991\n",
      "enzh 4 3\n",
      "0.8048714387343745\n",
      "enzh 4 4\n",
      "0.8075025125060695\n",
      "enzh 4 5\n",
      "0.8098399900628973\n",
      "enzh 5 0\n",
      "0.7979211129554976\n",
      "enzh 5 1\n",
      "0.797938051198663\n",
      "enzh 5 2\n",
      "0.8028614338787448\n",
      "enzh 5 3\n",
      "0.8064410492677033\n",
      "enzh 5 4\n",
      "0.8089422631751302\n",
      "enzh 5 5\n",
      "0.8112458642456271\n"
     ]
    },
    {
     "name": "stderr",
     "output_type": "stream",
     "text": [
      "Building prefix dict from /home/geza/neural/src/resources/dict.txt.big ...\n",
      "Loading model from cache /tmp/jieba.u6a11df3785fd7570d22a12511f0686bd.cache\n"
     ]
    },
    {
     "name": "stdout",
     "output_type": "stream",
     "text": [
      "enzt 0 0\n"
     ]
    },
    {
     "name": "stderr",
     "output_type": "stream",
     "text": [
      "Loading model cost 1.158 seconds.\n",
      "Prefix dict has been built successfully.\n"
     ]
    },
    {
     "name": "stdout",
     "output_type": "stream",
     "text": [
      "0.658399252160698\n",
      "enzt 0 1\n",
      "0.6584265854685202\n",
      "enzt 0 2\n",
      "0.6848360274863744\n",
      "enzt 0 3\n",
      "0.6911937548858288\n",
      "enzt 0 4\n",
      "0.6987268145216398\n",
      "enzt 0 5\n",
      "0.7024988110011098\n",
      "enzt 1 0\n",
      "0.6748375034849967\n",
      "enzt 1 1\n",
      "0.674864836792819\n",
      "enzt 1 2\n",
      "0.6973874824383497\n",
      "enzt 1 3\n",
      "0.7031657437119725\n",
      "enzt 1 4\n",
      "0.7095344044345558\n",
      "enzt 1 5\n",
      "0.712639468203163\n",
      "enzt 2 0\n",
      "0.6818894969031363\n",
      "enzt 2 1\n",
      "0.6819058968878295\n",
      "enzt 2 2\n",
      "0.7027612107562033\n",
      "enzt 2 3\n",
      "0.7081349390740569\n",
      "enzt 2 4\n",
      "0.714088133517742\n",
      "enzt 2 5\n",
      "0.7165481312217442\n",
      "enzt 3 0\n",
      "0.6893733565848672\n",
      "enzt 3 1\n",
      "0.6893897565695606\n",
      "enzt 3 2\n",
      "0.7083481388750704\n",
      "enzt 3 3\n",
      "0.7132298676521235\n",
      "enzt 3 4\n",
      "0.7182427963067235\n",
      "enzt 3 5\n",
      "0.7206317274103877\n",
      "enzt 4 0\n",
      "0.7007276126542282\n",
      "enzt 4 1\n",
      "0.7007440126389215\n",
      "enzt 4 2\n",
      "0.713820267101084\n",
      "enzt 4 3\n",
      "0.7185106627233815\n",
      "enzt 4 4\n",
      "0.7233322582232257\n",
      "enzt 4 5\n",
      "0.7255954561109076\n",
      "enzt 5 0\n",
      "0.7045378757646493\n",
      "enzt 5 1\n",
      "0.7045542757493426\n",
      "enzt 5 2\n",
      "0.7171931972863492\n",
      "enzt 5 3\n",
      "0.7217742596773576\n",
      "enzt 5 4\n",
      "0.7264099886840105\n",
      "enzt 5 5\n",
      "0.7286239866176125\n"
     ]
    }
   ],
   "source": [
    "# noexport\n",
    "\n",
    "langpair_to_num_src_trg_synonyms_googtrans_to_accuracy = {}\n",
    "for langpair_arg in langpair_list:\n",
    "  translation_dict = msgpack.load(open('translation_dict/' + langpair_arg + '.msgpack', 'rb'), raw=False, strict_map_key=False)\n",
    "  output_list = msgpack.load(open('simulation_output_list/' + langpair_arg + '.msgpack', 'rb'), raw=False, strict_map_key=False)\n",
    "  langpair_to_num_src_trg_synonyms_googtrans_to_accuracy[langpair_arg] = {}\n",
    "  for num_synonyms_sourcelang in range(6):\n",
    "    for num_synonyms_targetlang in range(6):\n",
    "      if (num_synonyms_sourcelang, num_synonyms_targetlang) in langpair_to_num_src_trg_synonyms_googtrans_to_accuracy[langpair_arg]:\n",
    "        continue\n",
    "      src_lang = langpair_arg[0:2]\n",
    "      trg_lang = langpair_arg[2:]\n",
    "      print(langpair_arg, num_synonyms_sourcelang, num_synonyms_targetlang)\n",
    "      words_correct = 0\n",
    "      words_total = 0\n",
    "      #cache_db = langpair_to_cache_db[langpair_arg]\n",
    "      #translation_cache_db = langpair_to_translation_db[langpair_arg]\n",
    "      for src_sentence,trg_sentence,output,google_translate in output_list:\n",
    "        #key = msgpack.dumps(src_sentence)\n",
    "        segmented_google_translate = segment_sentence(google_translate, trg_lang)\n",
    "        word_list = segmented_google_translate.tokens\n",
    "        delimiter_list = segmented_google_translate.delimiters\n",
    "        #cached_result = translation_cache_db.get(key)\n",
    "        word_set = set(word_list)\n",
    "        for word in word_list:\n",
    "          for synonym in lookup_synonyms(word, trg_lang, trg_lang, num_synonyms_targetlang): # target to target synonyms\n",
    "            word_set.add(synonym)\n",
    "        for word in segment_sentence(src_sentence, src_lang).tokens:\n",
    "          for synonym in lookup_synonyms(word, src_lang, trg_lang, num_synonyms_sourcelang): # source to target synonyms\n",
    "            word_set.add(synonym)\n",
    "        for word_info in output:\n",
    "          word_ref = word_info[2]\n",
    "          if word_ref in word_set:\n",
    "            words_correct += 1\n",
    "          words_total += 1\n",
    "      print(words_correct / words_total)\n",
    "      langpair_to_num_src_trg_synonyms_googtrans_to_accuracy[langpair_arg][(num_synonyms_sourcelang, num_synonyms_targetlang)] = words_correct / words_total\n",
    "\n"
   ]
  },
  {
   "cell_type": "code",
   "execution_count": 25,
   "metadata": {},
   "outputs": [
    {
     "name": "stdout",
     "output_type": "stream",
     "text": [
      "ende 0 0\n",
      "0.6044597073905067\n",
      "ende 0 1\n",
      "0.6045349767135532\n",
      "ende 0 2\n",
      "0.6120807263489674\n",
      "ende 0 3\n",
      "0.6174718916121749\n",
      "ende 0 4\n",
      "0.6200969092534224\n",
      "ende 0 5\n",
      "0.6230888648445218\n",
      "ende 1 0\n",
      "0.634924965893588\n",
      "ende 1 1\n",
      "0.6349531918897304\n",
      "ende 1 2\n",
      "0.6405325304605541\n",
      "ende 1 3\n",
      "0.6447099778896364\n",
      "ende 1 4\n",
      "0.6468551535964624\n",
      "ende 1 5\n",
      "0.6494989885684715\n",
      "ende 2 0\n",
      "0.6500164651644165\n",
      "ende 2 1\n",
      "0.6500446911605589\n",
      "ende 2 2\n",
      "0.65340358470151\n",
      "ende 2 3\n",
      "0.6568847908924119\n",
      "ende 2 4\n",
      "0.6587288893070518\n",
      "ende 2 5\n",
      "0.6605165357294068\n",
      "ende 3 0\n",
      "0.6579761960765865\n",
      "ende 3 1\n",
      "0.658004422072729\n",
      "ende 3 2\n",
      "0.6607517523639271\n",
      "ende 3 3\n",
      "0.6631415533706544\n",
      "ende 3 4\n",
      "0.6648539304699629\n",
      "ende 3 5\n",
      "0.6663781342616549\n",
      "ende 4 0\n",
      "0.6640541939125935\n",
      "ende 4 1\n",
      "0.664082419908736\n",
      "ende 4 2\n",
      "0.6666603942230794\n",
      "ende 4 3\n",
      "0.6684950839723385\n",
      "ende 4 4\n",
      "0.670103965752458\n",
      "ende 4 5\n",
      "0.6713459095827257\n",
      "ende 5 0\n",
      "0.6690125605682834\n",
      "ende 5 1\n",
      "0.6690407865644258\n",
      "ende 5 2\n",
      "0.6715152655595804\n",
      "ende 5 3\n",
      "0.6732370513242697\n",
      "ende 5 4\n",
      "0.674751846450581\n",
      "ende 5 5\n",
      "0.675871477630898\n",
      "enes 0 0\n",
      "0.6861345202322586\n",
      "enes 0 1\n",
      "0.6861571134859131\n",
      "enes 0 2\n",
      "0.6954655339915501\n",
      "enes 0 3\n",
      "0.700202586174435\n",
      "enes 0 4\n",
      "0.7024242561171234\n",
      "enes 0 5\n",
      "0.7053086615003427\n",
      "enes 1 0\n",
      "0.7136756964370439\n",
      "enes 1 1\n",
      "0.7136907586061468\n",
      "enes 1 2\n",
      "0.7203030508423518\n",
      "enes 1 3\n",
      "0.7240761242026464\n",
      "enes 1 4\n",
      "0.7261095170315477\n",
      "enes 1 5\n",
      "0.728670085779053\n",
      "enes 2 0\n",
      "0.7285571195107807\n",
      "enes 2 1\n",
      "0.7285721816798837\n",
      "enes 2 2\n",
      "0.7322398198564575\n",
      "enes 2 3\n",
      "0.7353652199453243\n",
      "enes 2 4\n",
      "0.7370597139694087\n",
      "enes 2 5\n",
      "0.7394621299413329\n",
      "enes 3 0\n",
      "0.7386864282325297\n",
      "enes 3 1\n",
      "0.7387014904016327\n",
      "enes 3 2\n",
      "0.741819359405948\n",
      "enes 3 3\n",
      "0.7443723970689019\n",
      "enes 3 4\n",
      "0.7458033031336843\n",
      "enes 3 5\n",
      "0.7476936053561073\n",
      "enes 4 0\n",
      "0.7433782939081057\n",
      "enes 4 1\n",
      "0.7433933560772087\n",
      "enes 4 2\n",
      "0.7460292356702288\n",
      "enes 4 3\n",
      "0.7482358434438143\n",
      "enes 4 4\n",
      "0.7491395735899927\n",
      "enes 4 5\n",
      "0.7509922203896583\n",
      "enes 5 0\n",
      "0.7459991113320229\n",
      "enes 5 1\n",
      "0.7460141735011259\n",
      "enes 5 2\n",
      "0.7485672111640798\n",
      "enes 5 3\n",
      "0.7503294849491275\n",
      "enes 5 4\n",
      "0.7511051866579306\n",
      "enes 5 5\n",
      "0.7528825226120813\n",
      "enfr 0 0\n",
      "0.6824583665422207\n",
      "enfr 0 1\n",
      "0.682510801627585\n",
      "enfr 0 2\n",
      "0.691713159109023\n",
      "enfr 0 3\n",
      "0.6970038592222828\n",
      "enfr 0 4\n",
      "0.7034009396367298\n",
      "enfr 0 5\n",
      "0.7049372876379043\n",
      "enfr 1 0\n",
      "0.7106631989596879\n",
      "enfr 1 1\n",
      "0.7106999035194429\n",
      "enfr 1 2\n",
      "0.7173696463777843\n",
      "enfr 1 3\n",
      "0.7217060279374135\n",
      "enfr 1 4\n",
      "0.7265772473677587\n",
      "enfr 1 5\n",
      "0.7278042283652838\n",
      "enfr 2 0\n",
      "0.7228019212215278\n",
      "enfr 2 1\n",
      "0.7228124082386006\n",
      "enfr 2 2\n",
      "0.7265090817567851\n",
      "enfr 2 3\n",
      "0.7304993917530098\n",
      "enfr 2 4\n",
      "0.7349511305004405\n",
      "enfr 2 5\n",
      "0.7361151893955283\n",
      "enfr 3 0\n",
      "0.7326964218297748\n",
      "enfr 3 1\n",
      "0.7327069088468476\n",
      "enfr 3 2\n",
      "0.7357114392382231\n",
      "enfr 3 3\n",
      "0.738527203322287\n",
      "enfr 3 4\n",
      "0.7420927891270607\n",
      "enfr 3 5\n",
      "0.7432201434623935\n",
      "enfr 4 0\n",
      "0.7417309870380469\n",
      "enfr 4 1\n",
      "0.7417414740551198\n",
      "enfr 4 2\n",
      "0.7446044297160116\n",
      "enfr 4 3\n",
      "0.7468905994378959\n",
      "enfr 4 4\n",
      "0.7489460547841772\n",
      "enfr 4 5\n",
      "0.74992659088049\n",
      "enfr 5 0\n",
      "0.7445939426989387\n",
      "enfr 5 1\n",
      "0.7446044297160116\n",
      "enfr 5 2\n",
      "0.7471737488988632\n",
      "enfr 5 3\n",
      "0.7493288309073367\n",
      "enfr 5 4\n",
      "0.7512741725743529\n",
      "enfr 5 5\n",
      "0.7521393514828643\n",
      "enit 0 0\n",
      "0.6756007659856306\n",
      "enit 0 1\n",
      "0.6756079650986998\n",
      "enit 0 2\n",
      "0.6823751313838136\n",
      "enit 0 3\n",
      "0.6872345327055707\n",
      "enit 0 4\n",
      "0.6903877442299109\n",
      "enit 0 5\n",
      "0.6924754870199992\n",
      "enit 1 0\n",
      "0.7016903517486646\n",
      "enit 1 1\n",
      "0.7016975508617338\n",
      "enit 1 2\n",
      "0.7069601025153701\n",
      "enit 1 3\n",
      "0.7112939685830706\n",
      "enit 1 4\n",
      "0.7137272688004838\n",
      "enit 1 5\n",
      "0.7156854275553252\n",
      "enit 2 0\n",
      "0.7102788936403035\n",
      "enit 2 1\n",
      "0.7102788936403035\n",
      "enit 2 2\n",
      "0.7138640519487999\n",
      "enit 2 3\n",
      "0.7173988164658114\n",
      "enit 2 4\n",
      "0.7196737361957007\n",
      "enit 2 5\n",
      "0.7214519171238103\n",
      "enit 3 0\n",
      "0.717067657264625\n",
      "enit 3 1\n",
      "0.717067657264625\n",
      "enit 3 2\n",
      "0.7201704749974803\n",
      "enit 3 3\n",
      "0.7233956776525132\n",
      "enit 3 4\n",
      "0.725281845276662\n",
      "enit 3 5\n",
      "0.7269880350740788\n",
      "enit 4 0\n",
      "0.7232588945041971\n",
      "enit 4 1\n",
      "0.7232588945041971\n",
      "enit 4 2\n",
      "0.7259729601313119\n",
      "enit 4 3\n",
      "0.7285934372885261\n",
      "enit 4 4\n",
      "0.7303356226512894\n",
      "enit 4 5\n",
      "0.7319410248657365\n",
      "enit 5 0\n",
      "0.7278375304162528\n",
      "enit 5 1\n",
      "0.7278375304162528\n",
      "enit 5 2\n",
      "0.7304292111211899\n",
      "enit 5 3\n",
      "0.7325025556851396\n",
      "enit 5 4\n",
      "0.734035966768894\n",
      "enit 5 5\n",
      "0.7355621787395793\n",
      "enja 0 0\n",
      "0.5356384842053206\n",
      "enja 0 1\n",
      "0.5359352139957552\n",
      "enja 0 2\n",
      "0.5461476642832122\n",
      "enja 0 3\n",
      "0.5522471099754785\n",
      "enja 0 4\n",
      "0.5551855591501988\n",
      "enja 0 5\n",
      "0.556426054524099\n",
      "enja 1 0\n",
      "0.56909476807682\n",
      "enja 1 1\n",
      "0.569362649137629\n",
      "enja 1 2\n",
      "0.5776092645634568\n",
      "enja 1 3\n",
      "0.5827319746955428\n",
      "enja 1 4\n",
      "0.5855303014692246\n",
      "enja 1 5\n",
      "0.5867213418780522\n",
      "enja 2 0\n",
      "0.5838117414329577\n",
      "enja 2 1\n",
      "0.5840796224937667\n",
      "enja 2 2\n",
      "0.5907107090605618\n",
      "enja 2 3\n",
      "0.5950009272805951\n",
      "enja 2 4\n",
      "0.5975684642172722\n",
      "enja 2 5\n",
      "0.5986399884605081\n",
      "enja 3 0\n",
      "0.5917039296090997\n",
      "enja 3 1\n",
      "0.5919718106699087\n",
      "enja 3 2\n",
      "0.5979228914669579\n",
      "enja 3 3\n",
      "0.601685590059552\n",
      "enja 3 4\n",
      "0.6041995507840673\n",
      "enja 3 5\n",
      "0.6052092563209627\n",
      "enja 4 0\n",
      "0.5952770508355828\n",
      "enja 4 1\n",
      "0.5955408106493025\n",
      "enja 4 2\n",
      "0.6011333429495765\n",
      "enja 4 3\n",
      "0.6046858579406128\n",
      "enja 4 4\n",
      "0.6071173937233407\n",
      "enja 4 5\n",
      "0.6080982505306106\n",
      "enja 5 0\n",
      "0.596628819880896\n",
      "enja 5 1\n",
      "0.5968925796946156\n",
      "enja 5 2\n",
      "0.6024274145356385\n",
      "enja 5 3\n",
      "0.6058686558552618\n",
      "enja 5 4\n",
      "0.6082631004141853\n",
      "enja 5 5\n",
      "0.6092274722330977\n",
      "enko 0 0\n",
      "0.5748556051457075\n",
      "enko 0 1\n",
      "0.5748665441498206\n",
      "enko 0 2\n",
      "0.5765511507832327\n",
      "enko 0 3\n",
      "0.5774590881246171\n",
      "enko 0 4\n",
      "0.5781154283714011\n",
      "enko 0 5\n",
      "0.5782357574166448\n",
      "enko 1 0\n",
      "0.584438172748753\n",
      "enko 1 1\n",
      "0.5844491117528661\n",
      "enko 1 2\n",
      "0.5856961582217555\n",
      "enko 1 3\n",
      "0.5865712785508007\n",
      "enko 1 4\n",
      "0.5870525947317756\n",
      "enko 1 5\n",
      "0.5871619847729063\n",
      "enko 2 0\n",
      "0.5880480441060646\n",
      "enko 2 1\n",
      "0.5880589831101777\n",
      "enko 2 2\n",
      "0.5892294565502757\n",
      "enko 2 3\n",
      "0.589951430821738\n",
      "enko 2 4\n",
      "0.5904327470027129\n",
      "enko 2 5\n",
      "0.5905311980397304\n",
      "enko 3 0\n",
      "0.5912203552988536\n",
      "enko 3 1\n",
      "0.5912312943029666\n",
      "enko 3 2\n",
      "0.5923251947142733\n",
      "enko 3 3\n",
      "0.5930362299816224\n",
      "enko 3 4\n",
      "0.5935066071584842\n",
      "enko 3 5\n",
      "0.5936050581955019\n",
      "enko 4 0\n",
      "0.5926971208541174\n",
      "enko 4 1\n",
      "0.5927080598582305\n",
      "enko 4 2\n",
      "0.593791021265424\n",
      "enko 4 3\n",
      "0.5944692395204341\n",
      "enko 4 4\n",
      "0.5949286776931828\n",
      "enko 4 5\n",
      "0.5950271287302004\n",
      "enko 5 0\n",
      "0.5940644963682506\n",
      "enko 5 1\n",
      "0.5940754353723637\n",
      "enko 5 2\n",
      "0.5951037017589919\n",
      "enko 5 3\n",
      "0.5957709810098889\n",
      "enko 5 4\n",
      "0.5962304191826376\n",
      "enko 5 5\n",
      "0.5963288702196552\n",
      "enpt 0 0\n",
      "0.7112302160690883\n",
      "enpt 0 1\n",
      "0.7112638193487685\n",
      "enpt 0 2\n",
      "0.7185221277596694\n",
      "enpt 0 3\n",
      "0.723260190194563\n",
      "enpt 0 4\n",
      "0.7249739574582479\n",
      "enpt 0 5\n",
      "0.7257972378104103\n",
      "enpt 1 0\n",
      "0.7376759971773245\n",
      "enpt 1 1\n",
      "0.7376927988171645\n",
      "enpt 1 2\n",
      "0.7431365301253402\n",
      "enpt 1 3\n",
      "0.7467656843307907\n",
      "enpt 1 4\n",
      "0.7483618401155953\n",
      "enpt 1 5\n",
      "0.7491347155482375\n",
      "enpt 2 0\n",
      "0.7473369400853523\n",
      "enpt 2 1\n",
      "0.7473537417251924\n",
      "enpt 2 2\n",
      "0.7512853254477637\n",
      "enpt 2 3\n",
      "0.7544776370173729\n",
      "enpt 2 4\n",
      "0.7559561813232971\n",
      "enpt 2 5\n",
      "0.7566450485567391\n",
      "enpt 3 0\n",
      "0.7526798615544877\n",
      "enpt 3 1\n",
      "0.7526966631943278\n",
      "enpt 3 2\n",
      "0.7558721731240969\n",
      "enpt 3 3\n",
      "0.7584260223797843\n",
      "enpt 3 4\n",
      "0.7596861453677879\n",
      "enpt 3 5\n",
      "0.7602910044020297\n",
      "enpt 4 0\n",
      "0.7573339157901812\n",
      "enpt 4 1\n",
      "0.7573507174300211\n",
      "enpt 4 2\n",
      "0.759702947007628\n",
      "enpt 4 3\n",
      "0.7620383749453947\n",
      "enpt 4 4\n",
      "0.7628784569373971\n",
      "enpt 4 5\n",
      "0.7634329110521186\n",
      "enpt 5 0\n",
      "0.7599381699653887\n",
      "enpt 5 1\n",
      "0.7599549716052286\n",
      "enpt 5 2\n",
      "0.7621055815047548\n",
      "enpt 5 3\n",
      "0.7644410094425216\n",
      "enpt 5 4\n",
      "0.7652474881548439\n",
      "enpt 5 5\n",
      "0.7657515373500454\n",
      "enzh 0 0\n",
      "0.590495387151778\n",
      "enzh 0 1\n",
      "0.5905518479623294\n",
      "enzh 0 2\n",
      "0.6004889506193751\n",
      "enzh 0 3\n",
      "0.6064060435651614\n",
      "enzh 0 4\n",
      "0.6100590580078368\n",
      "enzh 0 5\n",
      "0.613266032047156\n",
      "enzh 1 0\n",
      "0.6279684271147397\n",
      "enzh 1 1\n",
      "0.628019241844236\n",
      "enzh 1 2\n",
      "0.635827771943494\n",
      "enzh 1 3\n",
      "0.640801969353072\n",
      "enzh 1 4\n",
      "0.6441331571756044\n",
      "enzh 1 5\n",
      "0.6472215635127658\n",
      "enzh 2 0\n",
      "0.6395033707103899\n",
      "enzh 2 1\n",
      "0.6395541854398862\n",
      "enzh 2 2\n",
      "0.6461036394638482\n",
      "enzh 2 3\n",
      "0.6506487347132356\n",
      "enzh 2 4\n",
      "0.6537371410503969\n",
      "enzh 2 5\n",
      "0.6567182718475106\n",
      "enzh 3 0\n",
      "0.6465779102724799\n",
      "enzh 3 1\n",
      "0.6466287250019761\n",
      "enzh 3 2\n",
      "0.652607924839369\n",
      "enzh 3 3\n",
      "0.6567690865770069\n",
      "enzh 3 4\n",
      "0.6596768183204038\n",
      "enzh 3 5\n",
      "0.6623361224973746\n",
      "enzh 4 0\n",
      "0.6510834829544813\n",
      "enzh 4 1\n",
      "0.6511230055218673\n",
      "enzh 4 2\n",
      "0.6569441150897162\n",
      "enzh 4 3\n",
      "0.6607326354777149\n",
      "enzh 4 4\n",
      "0.6635443838431745\n",
      "enzh 4 5\n",
      "0.6658366927515611\n",
      "enzh 5 0\n",
      "0.6543977325338483\n",
      "enzh 5 1\n",
      "0.6544372551012342\n",
      "enzh 5 2\n",
      "0.660088982237429\n",
      "enzh 5 3\n",
      "0.6637758731664352\n",
      "enzh 5 4\n",
      "0.6663900086949648\n",
      "enzh 5 5\n",
      "0.6686315028738553\n",
      "enzt 0 0\n",
      "0.5642852066671404\n",
      "enzt 0 1\n",
      "0.5643562732674783\n",
      "enzt 0 2\n",
      "0.5864798526188042\n",
      "enzt 0 3\n",
      "0.5915693145353065\n",
      "enzt 0 4\n",
      "0.5970851760538357\n",
      "enzt 0 5\n",
      "0.600217573130265\n",
      "enzt 1 0\n"
     ]
    },
    {
     "name": "stdout",
     "output_type": "stream",
     "text": [
      "0.5950789112596828\n",
      "enzt 1 1\n",
      "0.5951499778600207\n",
      "enzt 1 2\n",
      "0.6139990269342416\n",
      "enzt 1 3\n",
      "0.6184598227708321\n",
      "enzt 1 4\n",
      "0.6230846184543561\n",
      "enzt 1 5\n",
      "0.6257195493284207\n",
      "enzt 2 0\n",
      "0.6047057022746779\n",
      "enzt 2 1\n",
      "0.6047767688750157\n",
      "enzt 2 2\n",
      "0.6223138191737688\n",
      "enzt 2 3\n",
      "0.6263536820698967\n",
      "enzt 2 4\n",
      "0.6308035445833584\n",
      "enzt 2 5\n",
      "0.6327551427618667\n",
      "enzt 3 0\n",
      "0.6151087592318247\n",
      "enzt 3 1\n",
      "0.6151743591705982\n",
      "enzt 3 2\n",
      "0.6309784777534208\n",
      "enzt 3 3\n",
      "0.6346739409709884\n",
      "enzt 3 4\n",
      "0.6385880706511341\n",
      "enzt 3 5\n",
      "0.6404904688755624\n",
      "enzt 4 0\n",
      "0.6281686137092939\n",
      "enzt 4 1\n",
      "0.6282342136480673\n",
      "enzt 4 2\n",
      "0.638708337205552\n",
      "enzt 4 3\n",
      "0.6422343339146217\n",
      "enzt 4 4\n",
      "0.6458477972087227\n",
      "enzt 4 5\n",
      "0.6476572621865553\n",
      "enzt 5 0\n",
      "0.6327442094387379\n",
      "enzt 5 1\n",
      "0.6328098093775113\n",
      "enzt 5 2\n",
      "0.6430160665183379\n",
      "enzt 5 3\n",
      "0.6462687301491852\n",
      "enzt 5 4\n",
      "0.6497619268888682\n",
      "enzt 5 5\n",
      "0.6515276585741854\n"
     ]
    }
   ],
   "source": [
    "langpair_to_num_src_trg_synonyms_prefix_nextword_to_accuracy = {}\n",
    "\n",
    "for langpair_arg in langpair_list:\n",
    "  langpair_to_num_src_trg_synonyms_prefix_nextword_to_accuracy[langpair_arg] = {}\n",
    "  translation_dict = msgpack.load(open('translation_dict/' + langpair_arg + '.msgpack', 'rb'), raw=False, strict_map_key=False)\n",
    "  output_list = msgpack.load(open('simulation_output_list/' + langpair_arg + '.msgpack', 'rb'), raw=False, strict_map_key=False)\n",
    "  for num_synonyms_sourcelang in range(6):\n",
    "    for num_synonyms_targetlang in range(6):\n",
    "      if (num_synonyms_sourcelang, num_synonyms_targetlang) in langpair_to_num_src_trg_synonyms_prefix_nextword_to_accuracy[langpair_arg]:\n",
    "        continue\n",
    "      src_lang = langpair_arg[0:2]\n",
    "      trg_lang = langpair_arg[2:]\n",
    "      print(langpair_arg, num_synonyms_sourcelang, num_synonyms_targetlang)\n",
    "      words_correct = 0\n",
    "      words_total = 0\n",
    "      #cache_db = langpair_to_cache_db[langpair_arg]\n",
    "      #translation_cache_db = langpair_to_translation_db[langpair_arg]\n",
    "      for src_sentence,trg_sentence,output,google_translate in output_list:\n",
    "        word_set = set()\n",
    "        for word in segment_sentence(src_sentence, src_lang).tokens:\n",
    "          for synonym in lookup_synonyms(word, src_lang, trg_lang, num_synonyms_sourcelang): # source to target synonyms\n",
    "            word_set.add(synonym)\n",
    "        for word_prediction_info in output:\n",
    "          #[elapsed_time, is_mt_recompute_needed, next_actual_word, next_predicted_word, is_next_actual_word_anywhere_in_suffix] = word_prediction_info\n",
    "          [elapsed_time, is_mt_recompute_needed, next_actual_word, next_predicted_words, next_predicted_delimiters] = word_prediction_info\n",
    "          next_predicted_word = None\n",
    "          if len(next_predicted_words) > 0:\n",
    "            next_predicted_word = next_predicted_words[0]\n",
    "          words_total += 1\n",
    "          is_correct = False\n",
    "          if next_actual_word == next_predicted_word:\n",
    "            is_correct = True\n",
    "          if next_actual_word in word_set:\n",
    "            is_correct = True\n",
    "          if not is_correct:\n",
    "            for next_word in [next_predicted_word]:\n",
    "              for synonym in lookup_synonyms(next_word, trg_lang, trg_lang, num_synonyms_targetlang):\n",
    "                if synonym == next_actual_word:\n",
    "                  is_correct = True\n",
    "            #for synonym in lookup_synonyms(next_predicted_word, trg_lang, trg_lang, num_synonyms_targetlang): # target to target synonyms\n",
    "            #  if synonym == next_actual_word:\n",
    "            #    is_correct = True\n",
    "          if is_correct:\n",
    "            words_correct += 1\n",
    "      print(words_correct / words_total)\n",
    "      langpair_to_num_src_trg_synonyms_prefix_nextword_to_accuracy[langpair_arg][(num_synonyms_sourcelang, num_synonyms_targetlang)] = words_correct / words_total\n"
   ]
  },
  {
   "cell_type": "code",
   "execution_count": 12,
   "metadata": {},
   "outputs": [
    {
     "name": "stdout",
     "output_type": "stream",
     "text": [
      "ende 0 0\n",
      "0.6347744272474949\n",
      "ende 0 1\n",
      "0.634877922566684\n",
      "ende 0 2\n",
      "0.6461024603659971\n",
      "ende 0 3\n",
      "0.6527920214517571\n",
      "ende 0 4\n",
      "0.656367314296467\n",
      "ende 0 5\n",
      "0.6605729877216917\n",
      "ende 1 0\n",
      "0.6542127299242603\n",
      "ende 1 1\n",
      "0.6542691819165452\n",
      "ende 1 2\n",
      "0.662548807451663\n",
      "ende 1 3\n",
      "0.667911746718728\n",
      "ende 1 4\n",
      "0.6709601543021122\n",
      "ende 1 5\n",
      "0.674648351131392\n",
      "ende 2 0\n",
      "0.6657853883426635\n",
      "ende 2 1\n",
      "0.6658324316695676\n",
      "ende 2 2\n",
      "0.6709413369713506\n",
      "ende 2 3\n",
      "0.6755798090040928\n",
      "ende 2 4\n",
      "0.678223643976102\n",
      "ende 2 5\n",
      "0.6807357576327798\n",
      "ende 3 0\n",
      "0.6728230700475137\n",
      "ende 3 1\n",
      "0.6728701133744178\n",
      "ende 3 2\n",
      "0.6769722914804535\n",
      "ende 3 3\n",
      "0.6801994637060733\n",
      "ende 3 4\n",
      "0.682513995389754\n",
      "ende 3 5\n",
      "0.6847250317542457\n",
      "ende 4 0\n",
      "0.6782989132991485\n",
      "ende 4 1\n",
      "0.6783459566260526\n",
      "ende 4 2\n",
      "0.6822223267629487\n",
      "ende 4 3\n",
      "0.6846873970927224\n",
      "ende 4 4\n",
      "0.6868607987956908\n",
      "ende 4 5\n",
      "0.6886860798795691\n",
      "ende 5 0\n",
      "0.682768029355036\n",
      "ende 5 1\n",
      "0.6828150726819401\n",
      "ende 5 2\n",
      "0.6865220868419815\n",
      "ende 5 3\n",
      "0.6888554358564237\n",
      "ende 5 4\n",
      "0.6908688902479183\n",
      "ende 5 5\n",
      "0.6924401373665146\n",
      "enes 0 0\n",
      "0.7300859296747324\n",
      "enes 0 1\n",
      "0.7301235850974899\n",
      "enes 0 2\n",
      "0.7422034447180739\n",
      "enes 0 3\n",
      "0.7494106926338462\n",
      "enes 0 4\n",
      "0.753048206472214\n",
      "enes 0 5\n",
      "0.7572731449055978\n",
      "enes 1 0\n",
      "0.7452384717923228\n",
      "enes 1 1\n",
      "0.7452535339614258\n",
      "enes 1 2\n",
      "0.753899219026532\n",
      "enes 1 3\n",
      "0.7596830919620735\n",
      "enes 1 4\n",
      "0.7630494867565878\n",
      "enes 1 5\n",
      "0.7668526844550884\n",
      "enes 2 0\n",
      "0.7563694147594195\n",
      "enes 2 1\n",
      "0.7563844769285225\n",
      "enes 2 2\n",
      "0.7616336428609084\n",
      "enes 2 3\n",
      "0.7662953841982784\n",
      "enes 2 4\n",
      "0.7691195409050857\n",
      "enes 2 5\n",
      "0.7727645858280051\n",
      "enes 3 0\n",
      "0.763749877619876\n",
      "enes 3 1\n",
      "0.763764939788979\n",
      "enes 3 2\n",
      "0.7682308729280104\n",
      "enes 3 3\n",
      "0.7720491327956139\n",
      "enes 3 4\n",
      "0.7742858649074054\n",
      "enes 3 5\n",
      "0.7767108741329839\n",
      "enes 4 0\n",
      "0.7677036970094063\n",
      "enes 4 1\n",
      "0.7677187591785093\n",
      "enes 4 2\n",
      "0.7715219568770099\n",
      "enes 4 3\n",
      "0.7747226678113915\n",
      "enes 4 4\n",
      "0.7762138225525858\n",
      "enes 4 5\n",
      "0.7785936452708555\n",
      "enes 5 0\n",
      "0.7701061129813305\n",
      "enes 5 1\n",
      "0.7701211751504334\n",
      "enes 5 2\n",
      "0.773645722720529\n",
      "enes 5 3\n",
      "0.7761535738761739\n",
      "enes 5 4\n",
      "0.777441389334478\n",
      "enes 5 5\n",
      "0.7797082457844754\n",
      "enfr 0 0\n",
      "0.7208618230630479\n",
      "enfr 0 1\n",
      "0.7209090146398759\n",
      "enfr 0 2\n",
      "0.7334986786358488\n",
      "enfr 0 3\n",
      "0.7411437140819666\n",
      "enfr 0 4\n",
      "0.7476351776500693\n",
      "enfr 0 5\n",
      "0.7500629221024372\n",
      "enfr 1 0\n",
      "0.736912202693066\n",
      "enfr 1 1\n",
      "0.736948907252821\n",
      "enfr 1 2\n",
      "0.7461827257854776\n",
      "enfr 1 3\n",
      "0.7526741893535802\n",
      "enfr 1 4\n",
      "0.7580540291119594\n",
      "enfr 1 5\n",
      "0.7600413188472671\n",
      "enfr 2 0\n",
      "0.7464029531440077\n",
      "enfr 2 1\n",
      "0.7464134401610806\n",
      "enfr 2 2\n",
      "0.7514891564243467\n",
      "enfr 2 3\n",
      "0.7576293049205084\n",
      "enfr 2 4\n",
      "0.7623327320776878\n",
      "enfr 2 5\n",
      "0.7642518562020219\n",
      "enfr 3 0\n",
      "0.7543730861193843\n",
      "enfr 3 1\n",
      "0.7543835731364571\n",
      "enfr 3 2\n",
      "0.7582899869960988\n",
      "enfr 3 3\n",
      "0.7629357355593774\n",
      "enfr 3 4\n",
      "0.7666953311799991\n",
      "enfr 3 5\n",
      "0.7685515332018961\n",
      "enfr 4 0\n",
      "0.7607177314484668\n",
      "enfr 4 1\n",
      "0.7607282184655396\n",
      "enfr 4 2\n",
      "0.7644720835605521\n",
      "enfr 4 3\n",
      "0.7679223121775243\n",
      "enfr 4 4\n",
      "0.7702346994420907\n",
      "enfr 4 5\n",
      "0.7718392130542389\n",
      "enfr 5 0\n",
      "0.7631926674776627\n",
      "enfr 5 1\n",
      "0.7632031544947355\n",
      "enfr 5 2\n",
      "0.7665694869751248\n",
      "enfr 5 3\n",
      "0.7698886278786862\n",
      "enfr 5 4\n",
      "0.7720699274298418\n",
      "enfr 5 5\n",
      "0.7734856747346784\n",
      "enit 0 0\n",
      "0.7121002692468288\n",
      "enit 0 1\n",
      "0.712107468359898\n",
      "enit 0 2\n",
      "0.7218478683426202\n",
      "enit 0 3\n",
      "0.7297236980404014\n",
      "enit 0 4\n",
      "0.7348206700934445\n",
      "enit 0 5\n",
      "0.7378874922609534\n",
      "enit 1 0\n",
      "0.7267936590212086\n",
      "enit 1 1\n",
      "0.7268008581342779\n",
      "enit 1 2\n",
      "0.7344463162138425\n",
      "enit 1 3\n",
      "0.7415014470217269\n",
      "enit 1 4\n",
      "0.7453457734007171\n",
      "enit 1 5\n",
      "0.7481678257238709\n",
      "enit 2 0\n",
      "0.7339135818467165\n",
      "enit 2 1\n",
      "0.7339135818467165\n",
      "enit 2 2\n",
      "0.7394209033447079\n",
      "enit 2 3\n",
      "0.7455185521143796\n",
      "enit 2 4\n",
      "0.7489741263876291\n",
      "enit 2 5\n",
      "0.7515730062056355\n",
      "enit 3 0\n",
      "0.7391977308395605\n",
      "enit 3 1\n",
      "0.7391977308395605\n",
      "enit 3 2\n",
      "0.7439275481260709\n",
      "enit 3 3\n",
      "0.7495572545462399\n",
      "enit 3 4\n",
      "0.7525016917915712\n",
      "enit 3 5\n",
      "0.7549421911220537\n",
      "enit 4 0\n",
      "0.7443738931363656\n",
      "enit 4 1\n",
      "0.7443738931363656\n",
      "enit 4 2\n",
      "0.7483190070983254\n",
      "enit 4 3\n",
      "0.7531136164024592\n",
      "enit 4 4\n",
      "0.7558348811426432\n",
      "enit 4 5\n",
      "0.7580378097418398\n",
      "enit 5 0\n",
      "0.7483550026636718\n",
      "enit 5 1\n",
      "0.7483550026636718\n",
      "enit 5 2\n",
      "0.7520481476682073\n",
      "enit 5 3\n",
      "0.7560724518739291\n",
      "enit 5 4\n",
      "0.758361769829957\n",
      "enit 5 5\n",
      "0.7604783090723223\n",
      "enja 0 0\n",
      "0.6128747759071895\n",
      "enja 0 1\n",
      "0.6134517504997012\n",
      "enja 0 2\n",
      "0.6273444744379649\n",
      "enja 0 3\n",
      "0.6366337653774032\n",
      "enja 0 4\n",
      "0.6412866533413011\n",
      "enja 0 5\n",
      "0.644802077108533\n",
      "enja 1 0\n",
      "0.6365224917059902\n",
      "enja 1 1\n",
      "0.6370458900863402\n",
      "enja 1 2\n",
      "0.6486595643841827\n",
      "enja 1 3\n",
      "0.6559953842032599\n",
      "enja 1 4\n",
      "0.6604545735539574\n",
      "enja 1 5\n",
      "0.6633641739990521\n",
      "enja 2 0\n",
      "0.6479754373673473\n",
      "enja 2 1\n",
      "0.6483875620762842\n",
      "enja 2 2\n",
      "0.657458426919986\n",
      "enja 2 3\n",
      "0.6636815100249336\n",
      "enja 2 4\n",
      "0.6678316058439284\n",
      "enja 2 5\n",
      "0.6706381751117888\n",
      "enja 3 0\n",
      "0.6540954892950607\n",
      "enja 3 1\n",
      "0.6544911290156401\n",
      "enja 3 2\n",
      "0.6626347132642337\n",
      "enja 3 3\n",
      "0.6682684580354015\n",
      "enja 3 4\n",
      "0.6723196439242515\n",
      "enja 3 5\n",
      "0.6749572420614478\n",
      "enja 4 0\n",
      "0.6571740608708195\n",
      "enja 4 1\n",
      "0.6575655793443096\n",
      "enja 4 2\n",
      "0.6652887963897876\n",
      "enja 4 3\n",
      "0.6706876300768613\n",
      "enja 4 4\n",
      "0.6746192998001195\n",
      "enja 4 5\n",
      "0.6771992004780647\n",
      "enja 5 0\n",
      "0.6583197675616641\n",
      "enja 5 1\n",
      "0.6587112860351543\n",
      "enja 5 2\n",
      "0.6663726843742916\n",
      "enja 5 3\n",
      "0.6716396381545056\n",
      "enja 5 4\n",
      "0.6755259741597808\n",
      "enja 5 5\n",
      "0.6780976323435471\n",
      "enko 0 0\n",
      "0.5985276100463813\n",
      "enko 0 1\n",
      "0.5986151220792859\n",
      "enko 0 2\n",
      "0.6004966307867332\n",
      "enko 0 3\n",
      "0.6015358361774744\n",
      "enko 0 4\n",
      "0.6023125054695021\n",
      "enko 0 5\n",
      "0.6025094075435372\n",
      "enko 1 0\n",
      "0.6060974008926228\n",
      "enko 1 1\n",
      "0.6061630349173012\n",
      "enko 1 2\n",
      "0.6075632274437736\n",
      "enko 1 3\n",
      "0.6085586768180625\n",
      "enko 1 4\n",
      "0.609149383040168\n",
      "enko 1 5\n",
      "0.609324407105977\n",
      "enko 2 0\n",
      "0.6088540299291153\n",
      "enko 2 1\n",
      "0.6089196639537936\n",
      "enko 2 2\n",
      "0.6102432834514746\n",
      "enko 2 3\n",
      "0.6110746477640676\n",
      "enko 2 4\n",
      "0.611665353986173\n",
      "enko 2 5\n",
      "0.6118294390478691\n",
      "enko 3 0\n",
      "0.6115012689244771\n",
      "enko 3 1\n",
      "0.6115669029491555\n",
      "enko 3 2\n",
      "0.6127920714098188\n",
      "enko 3 3\n",
      "0.6136015577141857\n",
      "enko 3 4\n",
      "0.614170385928065\n",
      "enko 3 5\n",
      "0.6143344709897611\n",
      "enko 4 0\n",
      "0.6128030104139319\n",
      "enko 4 1\n",
      "0.6128686444386103\n",
      "enko 4 2\n",
      "0.6140828738951606\n",
      "enko 4 3\n",
      "0.6148595431871883\n",
      "enko 4 4\n",
      "0.6154174323969546\n",
      "enko 4 5\n",
      "0.6155815174586505\n",
      "enko 5 0\n",
      "0.613995361862256\n",
      "enko 5 1\n",
      "0.6140609958869344\n",
      "enko 5 2\n",
      "0.6152205303229195\n",
      "enko 5 3\n",
      "0.615986260610834\n",
      "enko 5 4\n",
      "0.6165441498206004\n",
      "enko 5 5\n",
      "0.6167082348822963\n",
      "enpt 0 0\n",
      "0.752427836956887\n",
      "enpt 0 1\n",
      "0.7524614402365671\n",
      "enpt 0 2\n",
      "0.7626936388991565\n",
      "enpt 0 3\n",
      "0.7691622702375752\n",
      "enpt 0 4\n",
      "0.7714304916159818\n",
      "enpt 0 5\n",
      "0.7726570113243052\n",
      "enpt 1 0\n",
      "0.7672636849356497\n",
      "enpt 1 1\n",
      "0.7672804865754898\n",
      "enpt 1 2\n",
      "0.7749252327027117\n",
      "enpt 1 3\n",
      "0.7801337410531268\n",
      "enpt 1 4\n",
      "0.782284350952653\n",
      "enpt 1 5\n",
      "0.7834100608219362\n",
      "enpt 2 0\n",
      "0.7747572163043113\n",
      "enpt 2 1\n",
      "0.7747740179441513\n",
      "enpt 2 2\n",
      "0.7803353607312074\n",
      "enpt 2 3\n",
      "0.7849054067677005\n",
      "enpt 2 4\n",
      "0.786820793709466\n",
      "enpt 2 5\n",
      "0.7878792970193891\n",
      "enpt 3 0\n",
      "0.7793272623408045\n",
      "enpt 3 1\n",
      "0.7793440639806445\n",
      "enpt 3 2\n",
      "0.7836116805000168\n",
      "enpt 3 3\n",
      "0.787140024866427\n",
      "enpt 3 4\n",
      "0.7887697839309117\n",
      "enpt 3 5\n",
      "0.7897274774017944\n",
      "enpt 4 0\n",
      "0.7832588460633758\n",
      "enpt 4 1\n",
      "0.7832756477032158\n",
      "enpt 4 2\n",
      "0.7862327363150643\n",
      "enpt 4 3\n",
      "0.7894754528041937\n",
      "enpt 4 4\n",
      "0.7905675593937969\n",
      "enpt 4 5\n",
      "0.7914916495849995\n",
      "enpt 5 0\n",
      "0.7855102658019423\n",
      "enpt 5 1\n",
      "0.7855270674417824\n",
      "enpt 5 2\n",
      "0.7882489330958702\n",
      "enpt 5 3\n",
      "0.7914748479451594\n",
      "enpt 5 4\n",
      "0.7925333512550825\n",
      "enpt 5 5\n",
      "0.793407036526765\n",
      "enzh 0 0\n",
      "0.6385887055794573\n",
      "enzh 0 1\n",
      "0.6386451663900087\n",
      "enzh 0 2\n",
      "0.6506205043079598\n",
      "enzh 0 3\n",
      "0.6578587802206488\n",
      "enzh 0 4\n",
      "0.6625393814153596\n",
      "enzh 0 5\n",
      "0.6667852343688246\n",
      "enzh 1 0\n",
      "0.6648881511342977\n",
      "enzh 1 1\n",
      "0.664938965863794\n",
      "enzh 1 2\n",
      "0.6744639046038144\n",
      "enzh 1 3\n",
      "0.6805560260623101\n",
      "enzh 1 4\n",
      "0.6848075250968303\n",
      "enzh 1 5\n",
      "0.6887428435922626\n",
      "enzh 2 0\n",
      "0.6744413202795939\n",
      "enzh 2 1\n",
      "0.6744921350090902\n",
      "enzh 2 2\n",
      "0.6823797102431203\n",
      "enzh 2 3\n",
      "0.6879749765687636\n",
      "enzh 2 4\n",
      "0.6918764185778651\n",
      "enzh 2 5\n",
      "0.6956818772090292\n",
      "enzh 3 0\n",
      "0.6804318122790971\n",
      "enzh 3 1\n",
      "0.6804826270085933\n",
      "enzh 3 2\n",
      "0.6876475038675656\n",
      "enzh 3 3\n",
      "0.6927572072224669\n",
      "enzh 3 4\n",
      "0.6964553903135834\n",
      "enzh 3 5\n",
      "0.6999051458382737\n",
      "enzh 4 0\n",
      "0.684310669963978\n",
      "enzh 4 1\n",
      "0.684350192531364\n",
      "enzh 4 2\n",
      "0.6913231026344614\n",
      "enzh 4 3\n",
      "0.6959641812617862\n",
      "enzh 4 4\n",
      "0.699555088812855\n",
      "enzh 4 5\n",
      "0.7025136352857482\n",
      "enzh 5 0\n",
      "0.687303092923202\n",
      "enzh 5 1\n",
      "0.687342615490588\n",
      "enzh 5 2\n",
      "0.6941122666757004\n",
      "enzh 5 3\n",
      "0.6986347776008672\n",
      "enzh 5 4\n",
      "0.701982903666565\n",
      "enzh 5 5\n",
      "0.7048793432478516\n",
      "enzt 0 0\n",
      "0.6083300988919077\n",
      "enzt 0 1\n",
      "0.6084011654922455\n",
      "enzt 0 2\n",
      "0.6337719418128543\n",
      "enzt 0 3\n",
      "0.6400695359350997\n",
      "enzt 0 4\n",
      "0.6466513964586966\n",
      "enzt 0 5\n",
      "0.6503140597068776\n",
      "enzt 1 0\n"
     ]
    },
    {
     "name": "stdout",
     "output_type": "stream",
     "text": [
      "0.6313119441088522\n",
      "enzt 1 1\n",
      "0.63138301070919\n",
      "enzt 1 2\n",
      "0.6528451240112176\n",
      "enzt 1 3\n",
      "0.6583391188834891\n",
      "enzt 1 4\n",
      "0.6638932470329695\n",
      "enzt 1 5\n",
      "0.6669217775396743\n",
      "enzt 2 0\n",
      "0.6400422026272775\n",
      "enzt 2 1\n",
      "0.6401132692276154\n",
      "enzt 2 2\n",
      "0.660006450660646\n",
      "enzt 2 3\n",
      "0.6650084459921171\n",
      "enzt 2 4\n",
      "0.6703439076790195\n",
      "enzt 2 5\n",
      "0.6726453721976526\n",
      "enzt 3 0\n",
      "0.6492644606865033\n",
      "enzt 3 1\n",
      "0.6493300606252768\n",
      "enzt 3 2\n",
      "0.6671841772947679\n",
      "enzt 3 3\n",
      "0.671737906377954\n",
      "enzt 3 4\n",
      "0.6764611019696382\n",
      "enzt 3 5\n",
      "0.6786969665494978\n",
      "enzt 4 0\n",
      "0.6617120490687542\n",
      "enzt 4 1\n",
      "0.6617776490075276\n",
      "enzt 4 2\n",
      "0.673891771034347\n",
      "enzt 4 3\n",
      "0.6782487003012131\n",
      "enzt 4 4\n",
      "0.6826766961684169\n",
      "enzt 4 5\n",
      "0.6848250941632454\n",
      "enzt 5 0\n",
      "0.6657355119801888\n",
      "enzt 5 1\n",
      "0.6658011119189622\n",
      "enzt 5 2\n",
      "0.6776091008981725\n",
      "enzt 5 3\n",
      "0.6816544304558649\n",
      "enzt 5 4\n",
      "0.6859293597992642\n",
      "enzt 5 5\n",
      "0.6880230911784483\n"
     ]
    }
   ],
   "source": [
    "langpair_to_num_src_trg_synonyms_prefix_oracle_to_accuracy = {}\n",
    "\n",
    "for langpair_arg in langpair_list:\n",
    "  langpair_to_num_src_trg_synonyms_prefix_oracle_to_accuracy[langpair_arg] = {}\n",
    "  translation_dict = msgpack.load(open('translation_dict/' + langpair_arg + '.msgpack', 'rb'), raw=False, strict_map_key=False)\n",
    "  output_list = msgpack.load(open('simulation_output_list/' + langpair_arg + '.msgpack', 'rb'), raw=False, strict_map_key=False)\n",
    "  for num_synonyms_sourcelang in range(6):\n",
    "    for num_synonyms_targetlang in range(6):\n",
    "      if (num_synonyms_sourcelang, num_synonyms_targetlang) in langpair_to_num_src_trg_synonyms_prefix_oracle_to_accuracy[langpair_arg]:\n",
    "        continue\n",
    "      src_lang = langpair_arg[0:2]\n",
    "      trg_lang = langpair_arg[2:]\n",
    "      print(langpair_arg, num_synonyms_sourcelang, num_synonyms_targetlang)\n",
    "      words_correct = 0\n",
    "      words_total = 0\n",
    "      #cache_db = langpair_to_cache_db[langpair_arg]\n",
    "      #translation_cache_db = langpair_to_translation_db[langpair_arg]\n",
    "      for src_sentence,trg_sentence,output,google_translate in output_list:\n",
    "        word_set = set()\n",
    "        for word in segment_sentence(src_sentence, src_lang).tokens:\n",
    "          for synonym in lookup_synonyms(word, src_lang, trg_lang, num_synonyms_sourcelang): # source to target synonyms\n",
    "            word_set.add(synonym)\n",
    "        for word_prediction_info in output:\n",
    "          #[elapsed_time, is_mt_recompute_needed, next_actual_word, next_predicted_word, is_next_actual_word_anywhere_in_suffix] = word_prediction_info\n",
    "          [elapsed_time, is_mt_recompute_needed, next_actual_word, next_predicted_words, next_predicted_delimiters] = word_prediction_info\n",
    "          next_predicted_word = None\n",
    "          if len(next_predicted_words) > 0:\n",
    "            next_predicted_word = next_predicted_words[0]\n",
    "          words_total += 1\n",
    "          is_correct = False\n",
    "          for next_word in next_predicted_words:\n",
    "            if next_word == next_actual_word:\n",
    "              is_correct = True\n",
    "          #if is_next_actual_word_anywhere_in_suffix:\n",
    "          #  is_correct = True\n",
    "          if next_actual_word in word_set:\n",
    "            is_correct = True\n",
    "          if not is_correct:\n",
    "            for next_word in next_predicted_words:\n",
    "              for synonym in lookup_synonyms(next_word, trg_lang, trg_lang, num_synonyms_targetlang):\n",
    "                if synonym == next_actual_word:\n",
    "                  is_correct = True\n",
    "          if is_correct:\n",
    "            words_correct += 1\n",
    "      print(words_correct / words_total)\n",
    "      langpair_to_num_src_trg_synonyms_prefix_oracle_to_accuracy[langpair_arg][(num_synonyms_sourcelang, num_synonyms_targetlang)] = words_correct / words_total\n"
   ]
  },
  {
   "cell_type": "code",
   "execution_count": 13,
   "metadata": {},
   "outputs": [
    {
     "name": "stdout",
     "output_type": "stream",
     "text": [
      "ende 0 0\n",
      "0.6347744272474949\n",
      "ende 0 1\n",
      "0.634877922566684\n",
      "ende 0 2\n",
      "0.6461024603659971\n",
      "ende 0 3\n",
      "0.6527920214517571\n",
      "ende 0 4\n",
      "0.656367314296467\n",
      "ende 0 5\n",
      "0.6605729877216917\n",
      "ende 1 0\n",
      "0.6542127299242603\n",
      "ende 1 1\n",
      "0.6542691819165452\n",
      "ende 1 2\n",
      "0.662548807451663\n",
      "ende 1 3\n",
      "0.667911746718728\n",
      "ende 1 4\n",
      "0.6709601543021122\n",
      "ende 1 5\n",
      "0.674648351131392\n",
      "ende 2 0\n",
      "0.6657853883426635\n",
      "ende 2 1\n",
      "0.6658324316695676\n",
      "ende 2 2\n",
      "0.6709413369713506\n",
      "ende 2 3\n",
      "0.6755798090040928\n",
      "ende 2 4\n",
      "0.678223643976102\n",
      "ende 2 5\n",
      "0.6807357576327798\n",
      "ende 3 0\n",
      "0.6728230700475137\n",
      "ende 3 1\n",
      "0.6728701133744178\n",
      "ende 3 2\n",
      "0.6769722914804535\n",
      "ende 3 3\n",
      "0.6801994637060733\n",
      "ende 3 4\n",
      "0.682513995389754\n",
      "ende 3 5\n",
      "0.6847250317542457\n",
      "ende 4 0\n",
      "0.6782989132991485\n",
      "ende 4 1\n",
      "0.6783459566260526\n",
      "ende 4 2\n",
      "0.6822223267629487\n",
      "ende 4 3\n",
      "0.6846873970927224\n",
      "ende 4 4\n",
      "0.6868607987956908\n",
      "ende 4 5\n",
      "0.6886860798795691\n",
      "ende 5 0\n",
      "0.682768029355036\n",
      "ende 5 1\n",
      "0.6828150726819401\n",
      "ende 5 2\n",
      "0.6865220868419815\n",
      "ende 5 3\n",
      "0.6888554358564237\n",
      "ende 5 4\n",
      "0.6908688902479183\n",
      "ende 5 5\n",
      "0.6924401373665146\n",
      "enes 0 0\n",
      "0.7300859296747324\n",
      "enes 0 1\n",
      "0.7301235850974899\n",
      "enes 0 2\n",
      "0.7422034447180739\n",
      "enes 0 3\n",
      "0.7494106926338462\n",
      "enes 0 4\n",
      "0.753048206472214\n",
      "enes 0 5\n",
      "0.7572731449055978\n",
      "enes 1 0\n",
      "0.7452384717923228\n",
      "enes 1 1\n",
      "0.7452535339614258\n",
      "enes 1 2\n",
      "0.753899219026532\n",
      "enes 1 3\n",
      "0.7596830919620735\n",
      "enes 1 4\n",
      "0.7630494867565878\n",
      "enes 1 5\n",
      "0.7668526844550884\n",
      "enes 2 0\n",
      "0.7563694147594195\n",
      "enes 2 1\n",
      "0.7563844769285225\n",
      "enes 2 2\n",
      "0.7616336428609084\n",
      "enes 2 3\n",
      "0.7662953841982784\n",
      "enes 2 4\n",
      "0.7691195409050857\n",
      "enes 2 5\n",
      "0.7727645858280051\n",
      "enes 3 0\n",
      "0.763749877619876\n",
      "enes 3 1\n",
      "0.763764939788979\n",
      "enes 3 2\n",
      "0.7682308729280104\n",
      "enes 3 3\n",
      "0.7720491327956139\n",
      "enes 3 4\n",
      "0.7742858649074054\n",
      "enes 3 5\n",
      "0.7767108741329839\n",
      "enes 4 0\n",
      "0.7677036970094063\n",
      "enes 4 1\n",
      "0.7677187591785093\n",
      "enes 4 2\n",
      "0.7715219568770099\n",
      "enes 4 3\n",
      "0.7747226678113915\n",
      "enes 4 4\n",
      "0.7762138225525858\n",
      "enes 4 5\n",
      "0.7785936452708555\n",
      "enes 5 0\n",
      "0.7701061129813305\n",
      "enes 5 1\n",
      "0.7701211751504334\n",
      "enes 5 2\n",
      "0.773645722720529\n",
      "enes 5 3\n",
      "0.7761535738761739\n",
      "enes 5 4\n",
      "0.777441389334478\n",
      "enes 5 5\n",
      "0.7797082457844754\n",
      "enfr 0 0\n",
      "0.7208618230630479\n",
      "enfr 0 1\n",
      "0.7209090146398759\n",
      "enfr 0 2\n",
      "0.7334986786358488\n",
      "enfr 0 3\n",
      "0.7411437140819666\n",
      "enfr 0 4\n",
      "0.7476351776500693\n",
      "enfr 0 5\n",
      "0.7500629221024372\n",
      "enfr 1 0\n",
      "0.736912202693066\n",
      "enfr 1 1\n",
      "0.736948907252821\n",
      "enfr 1 2\n",
      "0.7461827257854776\n",
      "enfr 1 3\n",
      "0.7526741893535802\n",
      "enfr 1 4\n",
      "0.7580540291119594\n",
      "enfr 1 5\n",
      "0.7600413188472671\n",
      "enfr 2 0\n",
      "0.7464029531440077\n",
      "enfr 2 1\n",
      "0.7464134401610806\n",
      "enfr 2 2\n",
      "0.7514891564243467\n",
      "enfr 2 3\n",
      "0.7576293049205084\n",
      "enfr 2 4\n",
      "0.7623327320776878\n",
      "enfr 2 5\n",
      "0.7642518562020219\n",
      "enfr 3 0\n",
      "0.7543730861193843\n",
      "enfr 3 1\n",
      "0.7543835731364571\n",
      "enfr 3 2\n",
      "0.7582899869960988\n",
      "enfr 3 3\n",
      "0.7629357355593774\n",
      "enfr 3 4\n",
      "0.7666953311799991\n",
      "enfr 3 5\n",
      "0.7685515332018961\n",
      "enfr 4 0\n",
      "0.7607177314484668\n",
      "enfr 4 1\n",
      "0.7607282184655396\n",
      "enfr 4 2\n",
      "0.7644720835605521\n",
      "enfr 4 3\n",
      "0.7679223121775243\n",
      "enfr 4 4\n",
      "0.7702346994420907\n",
      "enfr 4 5\n",
      "0.7718392130542389\n",
      "enfr 5 0\n",
      "0.7631926674776627\n",
      "enfr 5 1\n",
      "0.7632031544947355\n",
      "enfr 5 2\n",
      "0.7665694869751248\n",
      "enfr 5 3\n",
      "0.7698886278786862\n",
      "enfr 5 4\n",
      "0.7720699274298418\n",
      "enfr 5 5\n",
      "0.7734856747346784\n",
      "enit 0 0\n",
      "0.7121002692468288\n",
      "enit 0 1\n",
      "0.712107468359898\n",
      "enit 0 2\n",
      "0.7218478683426202\n",
      "enit 0 3\n",
      "0.7297236980404014\n",
      "enit 0 4\n",
      "0.7348206700934445\n",
      "enit 0 5\n",
      "0.7378874922609534\n",
      "enit 1 0\n",
      "0.7267936590212086\n",
      "enit 1 1\n",
      "0.7268008581342779\n",
      "enit 1 2\n",
      "0.7344463162138425\n",
      "enit 1 3\n",
      "0.7415014470217269\n",
      "enit 1 4\n",
      "0.7453457734007171\n",
      "enit 1 5\n",
      "0.7481678257238709\n",
      "enit 2 0\n",
      "0.7339135818467165\n",
      "enit 2 1\n",
      "0.7339135818467165\n",
      "enit 2 2\n",
      "0.7394209033447079\n",
      "enit 2 3\n",
      "0.7455185521143796\n",
      "enit 2 4\n",
      "0.7489741263876291\n",
      "enit 2 5\n",
      "0.7515730062056355\n",
      "enit 3 0\n",
      "0.7391977308395605\n",
      "enit 3 1\n",
      "0.7391977308395605\n",
      "enit 3 2\n",
      "0.7439275481260709\n",
      "enit 3 3\n",
      "0.7495572545462399\n",
      "enit 3 4\n",
      "0.7525016917915712\n",
      "enit 3 5\n",
      "0.7549421911220537\n",
      "enit 4 0\n",
      "0.7443738931363656\n",
      "enit 4 1\n",
      "0.7443738931363656\n",
      "enit 4 2\n",
      "0.7483190070983254\n",
      "enit 4 3\n",
      "0.7531136164024592\n",
      "enit 4 4\n",
      "0.7558348811426432\n",
      "enit 4 5\n",
      "0.7580378097418398\n",
      "enit 5 0\n",
      "0.7483550026636718\n",
      "enit 5 1\n",
      "0.7483550026636718\n",
      "enit 5 2\n",
      "0.7520481476682073\n",
      "enit 5 3\n",
      "0.7560724518739291\n",
      "enit 5 4\n",
      "0.758361769829957\n",
      "enit 5 5\n",
      "0.7604783090723223\n",
      "enja 0 0\n",
      "0.6128747759071895\n",
      "enja 0 1\n",
      "0.6134517504997012\n",
      "enja 0 2\n",
      "0.6273444744379649\n",
      "enja 0 3\n",
      "0.6366337653774032\n",
      "enja 0 4\n",
      "0.6412866533413011\n",
      "enja 0 5\n",
      "0.644802077108533\n",
      "enja 1 0\n",
      "0.6365224917059902\n",
      "enja 1 1\n",
      "0.6370458900863402\n",
      "enja 1 2\n",
      "0.6486595643841827\n",
      "enja 1 3\n",
      "0.6559953842032599\n",
      "enja 1 4\n",
      "0.6604545735539574\n",
      "enja 1 5\n",
      "0.6633641739990521\n",
      "enja 2 0\n",
      "0.6479754373673473\n",
      "enja 2 1\n",
      "0.6483875620762842\n",
      "enja 2 2\n",
      "0.657458426919986\n",
      "enja 2 3\n",
      "0.6636815100249336\n",
      "enja 2 4\n",
      "0.6678316058439284\n",
      "enja 2 5\n",
      "0.6706381751117888\n",
      "enja 3 0\n",
      "0.6540954892950607\n",
      "enja 3 1\n",
      "0.6544911290156401\n",
      "enja 3 2\n",
      "0.6626347132642337\n",
      "enja 3 3\n",
      "0.6682684580354015\n",
      "enja 3 4\n",
      "0.6723196439242515\n",
      "enja 3 5\n",
      "0.6749572420614478\n",
      "enja 4 0\n",
      "0.6571740608708195\n",
      "enja 4 1\n",
      "0.6575655793443096\n",
      "enja 4 2\n",
      "0.6652887963897876\n",
      "enja 4 3\n",
      "0.6706876300768613\n",
      "enja 4 4\n",
      "0.6746192998001195\n",
      "enja 4 5\n",
      "0.6771992004780647\n",
      "enja 5 0\n",
      "0.6583197675616641\n",
      "enja 5 1\n",
      "0.6587112860351543\n",
      "enja 5 2\n",
      "0.6663726843742916\n",
      "enja 5 3\n",
      "0.6716396381545056\n",
      "enja 5 4\n",
      "0.6755259741597808\n",
      "enja 5 5\n",
      "0.6780976323435471\n",
      "enko 0 0\n",
      "0.5985276100463813\n",
      "enko 0 1\n",
      "0.5986151220792859\n",
      "enko 0 2\n",
      "0.6004966307867332\n",
      "enko 0 3\n",
      "0.6015358361774744\n",
      "enko 0 4\n",
      "0.6023125054695021\n",
      "enko 0 5\n",
      "0.6025094075435372\n",
      "enko 1 0\n",
      "0.6060974008926228\n",
      "enko 1 1\n",
      "0.6061630349173012\n",
      "enko 1 2\n",
      "0.6075632274437736\n",
      "enko 1 3\n",
      "0.6085586768180625\n",
      "enko 1 4\n",
      "0.609149383040168\n",
      "enko 1 5\n",
      "0.609324407105977\n",
      "enko 2 0\n",
      "0.6088540299291153\n",
      "enko 2 1\n",
      "0.6089196639537936\n",
      "enko 2 2\n",
      "0.6102432834514746\n",
      "enko 2 3\n",
      "0.6110746477640676\n",
      "enko 2 4\n",
      "0.611665353986173\n",
      "enko 2 5\n",
      "0.6118294390478691\n",
      "enko 3 0\n",
      "0.6115012689244771\n",
      "enko 3 1\n",
      "0.6115669029491555\n",
      "enko 3 2\n",
      "0.6127920714098188\n",
      "enko 3 3\n",
      "0.6136015577141857\n",
      "enko 3 4\n",
      "0.614170385928065\n",
      "enko 3 5\n",
      "0.6143344709897611\n",
      "enko 4 0\n",
      "0.6128030104139319\n",
      "enko 4 1\n",
      "0.6128686444386103\n",
      "enko 4 2\n",
      "0.6140828738951606\n",
      "enko 4 3\n",
      "0.6148595431871883\n",
      "enko 4 4\n",
      "0.6154174323969546\n",
      "enko 4 5\n",
      "0.6155815174586505\n",
      "enko 5 0\n",
      "0.613995361862256\n",
      "enko 5 1\n",
      "0.6140609958869344\n",
      "enko 5 2\n",
      "0.6152205303229195\n",
      "enko 5 3\n",
      "0.615986260610834\n",
      "enko 5 4\n",
      "0.6165441498206004\n",
      "enko 5 5\n",
      "0.6167082348822963\n",
      "enpt 0 0\n",
      "0.752427836956887\n",
      "enpt 0 1\n",
      "0.7524614402365671\n",
      "enpt 0 2\n",
      "0.7626936388991565\n",
      "enpt 0 3\n",
      "0.7691622702375752\n",
      "enpt 0 4\n",
      "0.7714304916159818\n",
      "enpt 0 5\n",
      "0.7726570113243052\n",
      "enpt 1 0\n",
      "0.7672636849356497\n",
      "enpt 1 1\n",
      "0.7672804865754898\n",
      "enpt 1 2\n",
      "0.7749252327027117\n",
      "enpt 1 3\n",
      "0.7801337410531268\n",
      "enpt 1 4\n",
      "0.782284350952653\n",
      "enpt 1 5\n",
      "0.7834100608219362\n",
      "enpt 2 0\n",
      "0.7747572163043113\n",
      "enpt 2 1\n",
      "0.7747740179441513\n",
      "enpt 2 2\n",
      "0.7803353607312074\n",
      "enpt 2 3\n",
      "0.7849054067677005\n",
      "enpt 2 4\n",
      "0.786820793709466\n",
      "enpt 2 5\n",
      "0.7878792970193891\n",
      "enpt 3 0\n",
      "0.7793272623408045\n",
      "enpt 3 1\n",
      "0.7793440639806445\n",
      "enpt 3 2\n",
      "0.7836116805000168\n",
      "enpt 3 3\n",
      "0.787140024866427\n",
      "enpt 3 4\n",
      "0.7887697839309117\n",
      "enpt 3 5\n",
      "0.7897274774017944\n",
      "enpt 4 0\n",
      "0.7832588460633758\n",
      "enpt 4 1\n",
      "0.7832756477032158\n",
      "enpt 4 2\n",
      "0.7862327363150643\n",
      "enpt 4 3\n",
      "0.7894754528041937\n",
      "enpt 4 4\n",
      "0.7905675593937969\n",
      "enpt 4 5\n",
      "0.7914916495849995\n",
      "enpt 5 0\n",
      "0.7855102658019423\n",
      "enpt 5 1\n",
      "0.7855270674417824\n",
      "enpt 5 2\n",
      "0.7882489330958702\n",
      "enpt 5 3\n",
      "0.7914748479451594\n",
      "enpt 5 4\n",
      "0.7925333512550825\n",
      "enpt 5 5\n",
      "0.793407036526765\n",
      "enzh 0 0\n",
      "0.6385887055794573\n",
      "enzh 0 1\n",
      "0.6386451663900087\n",
      "enzh 0 2\n",
      "0.6506205043079598\n",
      "enzh 0 3\n",
      "0.6578587802206488\n",
      "enzh 0 4\n",
      "0.6625393814153596\n",
      "enzh 0 5\n",
      "0.6667852343688246\n",
      "enzh 1 0\n",
      "0.6648881511342977\n",
      "enzh 1 1\n",
      "0.664938965863794\n",
      "enzh 1 2\n",
      "0.6744639046038144\n",
      "enzh 1 3\n",
      "0.6805560260623101\n",
      "enzh 1 4\n",
      "0.6848075250968303\n",
      "enzh 1 5\n",
      "0.6887428435922626\n",
      "enzh 2 0\n",
      "0.6744413202795939\n",
      "enzh 2 1\n",
      "0.6744921350090902\n",
      "enzh 2 2\n",
      "0.6823797102431203\n",
      "enzh 2 3\n",
      "0.6879749765687636\n",
      "enzh 2 4\n",
      "0.6918764185778651\n",
      "enzh 2 5\n",
      "0.6956818772090292\n",
      "enzh 3 0\n",
      "0.6804318122790971\n",
      "enzh 3 1\n",
      "0.6804826270085933\n",
      "enzh 3 2\n",
      "0.6876475038675656\n",
      "enzh 3 3\n",
      "0.6927572072224669\n",
      "enzh 3 4\n",
      "0.6964553903135834\n",
      "enzh 3 5\n",
      "0.6999051458382737\n",
      "enzh 4 0\n",
      "0.684310669963978\n",
      "enzh 4 1\n",
      "0.684350192531364\n",
      "enzh 4 2\n",
      "0.6913231026344614\n",
      "enzh 4 3\n",
      "0.6959641812617862\n",
      "enzh 4 4\n",
      "0.699555088812855\n",
      "enzh 4 5\n",
      "0.7025136352857482\n",
      "enzh 5 0\n",
      "0.687303092923202\n",
      "enzh 5 1\n",
      "0.687342615490588\n",
      "enzh 5 2\n",
      "0.6941122666757004\n",
      "enzh 5 3\n",
      "0.6986347776008672\n",
      "enzh 5 4\n",
      "0.701982903666565\n",
      "enzh 5 5\n",
      "0.7048793432478516\n",
      "enzt 0 0\n",
      "0.6083300988919077\n",
      "enzt 0 1\n",
      "0.6084011654922455\n",
      "enzt 0 2\n",
      "0.6337719418128543\n",
      "enzt 0 3\n",
      "0.6400695359350997\n",
      "enzt 0 4\n",
      "0.6466513964586966\n",
      "enzt 0 5\n",
      "0.6503140597068776\n",
      "enzt 1 0\n"
     ]
    },
    {
     "name": "stdout",
     "output_type": "stream",
     "text": [
      "0.6313119441088522\n",
      "enzt 1 1\n",
      "0.63138301070919\n",
      "enzt 1 2\n",
      "0.6528451240112176\n",
      "enzt 1 3\n",
      "0.6583391188834891\n",
      "enzt 1 4\n",
      "0.6638932470329695\n",
      "enzt 1 5\n",
      "0.6669217775396743\n",
      "enzt 2 0\n",
      "0.6400422026272775\n",
      "enzt 2 1\n",
      "0.6401132692276154\n",
      "enzt 2 2\n",
      "0.660006450660646\n",
      "enzt 2 3\n",
      "0.6650084459921171\n",
      "enzt 2 4\n",
      "0.6703439076790195\n",
      "enzt 2 5\n",
      "0.6726453721976526\n",
      "enzt 3 0\n",
      "0.6492644606865033\n",
      "enzt 3 1\n",
      "0.6493300606252768\n",
      "enzt 3 2\n",
      "0.6671841772947679\n",
      "enzt 3 3\n",
      "0.671737906377954\n",
      "enzt 3 4\n",
      "0.6764611019696382\n",
      "enzt 3 5\n",
      "0.6786969665494978\n",
      "enzt 4 0\n",
      "0.6617120490687542\n",
      "enzt 4 1\n",
      "0.6617776490075276\n",
      "enzt 4 2\n",
      "0.673891771034347\n",
      "enzt 4 3\n",
      "0.6782487003012131\n",
      "enzt 4 4\n",
      "0.6826766961684169\n",
      "enzt 4 5\n",
      "0.6848250941632454\n",
      "enzt 5 0\n",
      "0.6657355119801888\n",
      "enzt 5 1\n",
      "0.6658011119189622\n",
      "enzt 5 2\n",
      "0.6776091008981725\n",
      "enzt 5 3\n",
      "0.6816544304558649\n",
      "enzt 5 4\n",
      "0.6859293597992642\n",
      "enzt 5 5\n",
      "0.6880230911784483\n"
     ]
    }
   ],
   "source": [
    "langpair_to_num_src_trg_synonyms_prefix_oracle_allsyn_to_accuracy = {}\n",
    "\n",
    "for langpair_arg in langpair_list:\n",
    "  langpair_to_num_src_trg_synonyms_prefix_oracle_allsyn_to_accuracy[langpair_arg] = {}\n",
    "  translation_dict = msgpack.load(open('translation_dict/' + langpair_arg + '.msgpack', 'rb'), raw=False, strict_map_key=False)\n",
    "  output_list = msgpack.load(open('simulation_output_list/' + langpair_arg + '.msgpack', 'rb'), raw=False, strict_map_key=False)\n",
    "  for num_synonyms_sourcelang in range(6):\n",
    "    for num_synonyms_targetlang in range(6):\n",
    "      if (num_synonyms_sourcelang, num_synonyms_targetlang) in langpair_to_num_src_trg_synonyms_prefix_oracle_allsyn_to_accuracy[langpair_arg]:\n",
    "        continue\n",
    "      src_lang = langpair_arg[0:2]\n",
    "      trg_lang = langpair_arg[2:]\n",
    "      print(langpair_arg, num_synonyms_sourcelang, num_synonyms_targetlang)\n",
    "      words_correct = 0\n",
    "      words_total = 0\n",
    "      #cache_db = langpair_to_cache_db[langpair_arg]\n",
    "      #translation_cache_db = langpair_to_translation_db[langpair_arg]\n",
    "      for src_sentence,trg_sentence,output,google_translate in output_list:\n",
    "        #word_list,delimiter_list = translation_dict[src_sentence]\n",
    "        #cached_result = translation_cache_db.get(key)\n",
    "        #word_set = set(word_list)\n",
    "        word_set = set()\n",
    "        #for word in word_list:\n",
    "        #  for synonym in lookup_synonyms(word, trg_lang, trg_lang, num_synonyms_targetlang): # target to target synonyms\n",
    "        #    word_set.add(synonym)\n",
    "        for word in segment_sentence(src_sentence, src_lang).tokens:\n",
    "          for synonym in lookup_synonyms(word, src_lang, trg_lang, num_synonyms_sourcelang): # source to target synonyms\n",
    "            word_set.add(synonym)\n",
    "        for word_prediction_info in output:\n",
    "          #[elapsed_time, is_mt_recompute_needed, next_actual_word, next_predicted_word, is_next_actual_word_anywhere_in_suffix] = word_prediction_info\n",
    "          [elapsed_time, is_mt_recompute_needed, next_actual_word, next_predicted_words, next_predicted_delimiters] = word_prediction_info\n",
    "          next_predicted_word = None\n",
    "          if len(next_predicted_words) > 0:\n",
    "            next_predicted_word = next_predicted_words[0]\n",
    "          words_total += 1\n",
    "          is_correct = False\n",
    "          for next_word in next_predicted_words:\n",
    "            if next_word == next_actual_word:\n",
    "              is_correct = True\n",
    "          if next_actual_word in word_set:\n",
    "            is_correct = True\n",
    "          if not is_correct:\n",
    "            for next_word in next_predicted_words:\n",
    "              for synonym in lookup_synonyms(next_word, trg_lang, trg_lang, num_synonyms_targetlang):\n",
    "                if synonym == next_actual_word:\n",
    "                  is_correct = True\n",
    "          if is_correct:\n",
    "            words_correct += 1\n",
    "      print(words_correct / words_total)\n",
    "      langpair_to_num_src_trg_synonyms_prefix_oracle_allsyn_to_accuracy[langpair_arg][(num_synonyms_sourcelang, num_synonyms_targetlang)] = words_correct / words_total\n"
   ]
  },
  {
   "cell_type": "code",
   "execution_count": 14,
   "metadata": {},
   "outputs": [
    {
     "name": "stdout",
     "output_type": "stream",
     "text": [
      "ende 0 0\n",
      "0.0\n",
      "ende 1 0\n",
      "0.19182386978407112\n",
      "ende 2 0\n",
      "0.2482100014112998\n",
      "ende 3 0\n",
      "0.2708002069906384\n",
      "ende 4 0\n",
      "0.28817801194900505\n",
      "ende 5 0\n",
      "0.3002022863056875\n",
      "enes 0 0\n",
      "0.0\n",
      "enes 1 0\n",
      "0.21672955122267157\n",
      "enes 2 0\n",
      "0.28456202977790834\n",
      "enes 3 0\n",
      "0.3308781997695488\n",
      "enes 4 0\n",
      "0.3462642055082352\n",
      "enes 5 0\n",
      "0.3528614355753372\n",
      "enfr 0 0\n",
      "0.0\n",
      "enfr 1 0\n",
      "0.20868115273291665\n",
      "enfr 2 0\n",
      "0.26281513486303953\n",
      "enfr 3 0\n",
      "0.30180062083141074\n",
      "enfr 4 0\n",
      "0.3357995301816351\n",
      "enfr 5 0\n",
      "0.34735097948739463\n",
      "enit 0 0\n",
      "0.0\n",
      "enit 1 0\n",
      "0.2158006133644335\n",
      "enit 2 0\n",
      "0.25034195787079033\n",
      "enit 3 0\n",
      "0.27504211481145524\n",
      "enit 4 0\n",
      "0.29522842785768794\n",
      "enit 5 0\n",
      "0.30867637107108403\n",
      "enja 0 0\n",
      "0.0\n",
      "enja 1 0\n",
      "0.07547239794761895\n",
      "enja 2 0\n",
      "0.10604380885655999\n",
      "enja 3 0\n",
      "0.12057120484658658\n",
      "enja 4 0\n",
      "0.12730120134352654\n",
      "enja 5 0\n",
      "0.1300006181870634\n",
      "enko 0 0\n",
      "0.0\n",
      "enko 1 0\n",
      "0.04693926664916426\n",
      "enko 2 0\n",
      "0.06471514833289577\n",
      "enko 3 0\n",
      "0.07473527610046381\n",
      "enko 4 0\n",
      "0.07893585367988099\n",
      "enko 5 0\n",
      "0.08222849391791372\n",
      "enpt 0 0\n",
      "0.0\n",
      "enpt 1 0\n",
      "0.22672132800161296\n",
      "enpt 2 0\n",
      "0.2687086259618939\n",
      "enpt 3 0\n",
      "0.28752646258274805\n",
      "enpt 4 0\n",
      "0.30224469908263046\n",
      "enpt 5 0\n",
      "0.30997345340905275\n",
      "enzh 0 0\n",
      "0.0\n",
      "enzh 1 0\n",
      "0.12349673091906907\n",
      "enzh 2 0\n",
      "0.1534604830786951\n",
      "enzh 3 0\n",
      "0.17107060988967557\n",
      "enzh 4 0\n",
      "0.18051650349492418\n",
      "enzh 5 0\n",
      "0.18671025441241235\n",
      "enzt 0 0\n",
      "0.0\n",
      "enzt 1 0\n",
      "0.08016859184264762\n",
      "enzt 2 0\n",
      "0.09833977488287678\n",
      "enzt 3 0\n",
      "0.11751135698940014\n",
      "enzt 4 0\n",
      "0.13506480727284653\n",
      "enzt 5 0\n",
      "0.14300786652599123\n"
     ]
    }
   ],
   "source": [
    "# noexport\n",
    "\n",
    "langpair_to_num_src_trg_synonyms_nomt_to_accuracy = {}\n",
    "for langpair_arg in langpair_list:\n",
    "  translation_dict = msgpack.load(open('translation_dict/' + langpair_arg + '.msgpack', 'rb'), raw=False, strict_map_key=False)\n",
    "  output_list = msgpack.load(open('simulation_output_list/' + langpair_arg + '.msgpack', 'rb'), raw=False, strict_map_key=False)\n",
    "  langpair_to_num_src_trg_synonyms_nomt_to_accuracy[langpair_arg] = {}\n",
    "  for num_synonyms_sourcelang in range(6):\n",
    "    for num_synonyms_targetlang in range(1):\n",
    "      if (num_synonyms_sourcelang, num_synonyms_targetlang) in langpair_to_num_src_trg_synonyms_nomt_to_accuracy[langpair_arg]:\n",
    "        continue\n",
    "      src_lang = langpair_arg[0:2]\n",
    "      trg_lang = langpair_arg[2:]\n",
    "      print(langpair_arg, num_synonyms_sourcelang, num_synonyms_targetlang)\n",
    "      words_correct = 0\n",
    "      words_total = 0\n",
    "      #cache_db = langpair_to_cache_db[langpair_arg]\n",
    "      #translation_cache_db = langpair_to_translation_db[langpair_arg]\n",
    "      for src_sentence,trg_sentence,output,google_translate in output_list:\n",
    "        word_set = set()\n",
    "        for word in segment_sentence(src_sentence, src_lang).tokens:\n",
    "          for synonym in lookup_synonyms(word, src_lang, trg_lang, num_synonyms_sourcelang): # source to target synonyms\n",
    "            word_set.add(synonym)\n",
    "        for word_info in output:\n",
    "          word_ref = word_info[2]\n",
    "          if word_ref in word_set:\n",
    "            words_correct += 1\n",
    "          words_total += 1\n",
    "      print(words_correct / words_total)\n",
    "      langpair_to_num_src_trg_synonyms_nomt_to_accuracy[langpair_arg][(num_synonyms_sourcelang, num_synonyms_targetlang)] = words_correct / words_total\n",
    "\n"
   ]
  },
  {
   "cell_type": "code",
   "execution_count": 17,
   "metadata": {},
   "outputs": [
    {
     "name": "stdout",
     "output_type": "stream",
     "text": [
      "ende\n",
      "num samples for frac_correct_predictions_list 9531\n",
      "mean over predictions word-weighted 0.6044597073905067\n",
      "mean over fast predictions word-weighted 0.38615985322482005\n",
      "median for frac_correct_predictions_list 0.6060606060606061\n",
      "enes\n",
      "num samples for frac_correct_predictions_list 10173\n",
      "mean over predictions word-weighted 0.6861345202322586\n",
      "mean over fast predictions word-weighted 0.49983055059759157\n",
      "median for frac_correct_predictions_list 0.6666666666666666\n",
      "enfr\n",
      "num samples for frac_correct_predictions_list 13538\n",
      "mean over predictions word-weighted 0.6824583665422207\n",
      "mean over fast predictions word-weighted 0.4939647216745669\n",
      "median for frac_correct_predictions_list 0.7\n",
      "enit\n",
      "num samples for frac_correct_predictions_list 11295\n",
      "mean over predictions word-weighted 0.6756007659856306\n",
      "mean over fast predictions word-weighted 0.4839747743078053\n",
      "median for frac_correct_predictions_list 0.6666666666666666\n",
      "enja\n",
      "num samples for frac_correct_predictions_list 12042\n",
      "mean over predictions word-weighted 0.5356384842053206\n",
      "mean over fast predictions word-weighted 0.37382183848832656\n",
      "median for frac_correct_predictions_list 0.5\n",
      "enko\n",
      "num samples for frac_correct_predictions_list 10578\n",
      "mean over predictions word-weighted 0.5748556051457075\n",
      "mean over fast predictions word-weighted 0.38739389166010324\n",
      "median for frac_correct_predictions_list 0.5909090909090909\n",
      "enpt\n",
      "num samples for frac_correct_predictions_list 5173\n",
      "mean over predictions word-weighted 0.7112302160690883\n",
      "mean over fast predictions word-weighted 0.5094929265096273\n",
      "median for frac_correct_predictions_list 0.7222222222222222\n",
      "enzh\n",
      "num samples for frac_correct_predictions_list 11202\n",
      "mean over predictions word-weighted 0.590495387151778\n",
      "mean over fast predictions word-weighted 0.4169687320031166\n",
      "median for frac_correct_predictions_list 0.5625\n",
      "enzt\n",
      "num samples for frac_correct_predictions_list 11075\n",
      "mean over predictions word-weighted 0.5642852066671404\n",
      "mean over fast predictions word-weighted 0.4040026895974897\n",
      "median for frac_correct_predictions_list 0.5\n"
     ]
    }
   ],
   "source": [
    "# noexport\n",
    "\n",
    "lang_to_google_translate_accuracy_with_oracle = {}\n",
    "lang_to_baseline_accuracy_with_oracle = {}\n",
    "lang_to_baseline_accuracy = {}\n",
    "lang_to_baseline_accuracy_fast = {}\n",
    "for langpair_arg in langpair_list:\n",
    "  print(langpair_arg)\n",
    "  output_list = msgpack.load(open('simulation_output_list/' + langpair_arg + '.msgpack', 'rb'), raw=False, strict_map_key=False)\n",
    "  frac_correct_predictions_list = []\n",
    "  frac_fast_correct_predictions_list = []\n",
    "  total_time_on_mt_needed_list = []\n",
    "  word_prediction_time_needed_list = []\n",
    "  total_num_correct_predictions_all = 0\n",
    "  total_num_fast_correct_predictions_all = 0\n",
    "  total_num_predictions_all = 0\n",
    "  total_num_predictions_correct_anywhere_in_suffix = 0\n",
    "  total_num_predictions_correct_google_translate = 0\n",
    "  for src_sentence,trg_sentence,output,google_translate in output_list:\n",
    "    num_total_predictions = len(output)\n",
    "    if num_total_predictions == 0:\n",
    "      continue\n",
    "    #num_correct_predictions = sum([1 for x in output if x[2] == x[3]])\n",
    "    num_correct_predictions = 0\n",
    "    for word_prediction_info in output:\n",
    "      [elapsed_time, is_mt_recompute_needed, next_actual_word, next_predicted_words, next_predicted_delimiters] = word_prediction_info\n",
    "      next_predicted_word = None\n",
    "      if len(next_predicted_words) > 0:\n",
    "        next_predicted_word = next_predicted_words[0]\n",
    "      if next_predicted_word == next_actual_word:\n",
    "        num_correct_predictions += 1\n",
    "    frac_correct_predictions = num_correct_predictions / num_total_predictions\n",
    "    total_num_correct_predictions_all += num_correct_predictions\n",
    "    total_num_predictions_all += num_total_predictions\n",
    "    \n",
    "    for word_prediction_info in output:\n",
    "      #[elapsed_time, is_mt_recompute_needed, next_actual_word, next_predicted_word, is_next_actual_word_anywhere_in_suffix] = word_prediction_info\n",
    "      [elapsed_time, is_mt_recompute_needed, next_actual_word, next_predicted_words, next_predicted_delimiters] = word_prediction_info\n",
    "      next_predicted_word = None\n",
    "      if len(next_predicted_words) > 0:\n",
    "        next_predicted_word = next_predicted_words[0]\n",
    "      is_next_actual_word_anywhere_in_suffix = False\n",
    "      for next_word in next_predicted_words:\n",
    "        if next_word == next_actual_word:\n",
    "          is_next_actual_word_anywhere_in_suffix = True\n",
    "      if is_next_actual_word_anywhere_in_suffix:\n",
    "        total_num_predictions_correct_anywhere_in_suffix += 1\n",
    "      if next_actual_word in google_translate:\n",
    "        total_num_predictions_correct_google_translate += 1\n",
    "\n",
    "    num_fast_correct_predictions = 0\n",
    "    for word_prediction_info in output:\n",
    "      [elapsed_time, is_mt_recompute_needed, next_actual_word, next_predicted_words, next_predicted_delimiters] = word_prediction_info\n",
    "      next_predicted_word = None\n",
    "      if len(next_predicted_words) > 0:\n",
    "        next_predicted_word = next_predicted_words[0]\n",
    "      if next_predicted_word == next_actual_word:\n",
    "        if is_mt_recompute_needed and elapsed_time > 0.1: # too slow\n",
    "          continue\n",
    "        num_fast_correct_predictions += 1\n",
    "    #for x in [y for y in output if y[2] == y[3]]:\n",
    "    #  mt_needed = x[1]\n",
    "    #  if mt_needed and x[0] > 0.1: # too slow\n",
    "    #    continue\n",
    "    #  num_fast_correct_predictions += 1\n",
    "    frac_fast_correct_predictions = num_fast_correct_predictions / num_total_predictions\n",
    "    total_num_fast_correct_predictions_all += num_fast_correct_predictions\n",
    "\n",
    "    frac_fast_correct_predictions_list.append(frac_fast_correct_predictions)\n",
    "    frac_correct_predictions_list.append(frac_correct_predictions)\n",
    "    total_time_on_mt_needed = sum([x[0] for x in output if x[1]])\n",
    "    total_time_on_mt_needed_list.append(total_time_on_mt_needed)\n",
    "    for word_prediction_time_needed in [x[0] for x in output if x[1]]:\n",
    "      word_prediction_time_needed_list.append(word_prediction_time_needed)\n",
    "  \n",
    "  lang_to_google_translate_accuracy_with_oracle[langpair_arg] = total_num_predictions_correct_google_translate / total_num_predictions_all\n",
    "  lang_to_baseline_accuracy_with_oracle[langpair_arg] = total_num_predictions_correct_anywhere_in_suffix / total_num_predictions_all\n",
    "  lang_to_baseline_accuracy[langpair_arg] = total_num_correct_predictions_all / total_num_predictions_all\n",
    "  lang_to_baseline_accuracy_fast[langpair_arg] = total_num_fast_correct_predictions_all / total_num_predictions_all\n",
    "  print('num samples for frac_correct_predictions_list', len(frac_correct_predictions_list))\n",
    "  print('mean over predictions word-weighted', total_num_correct_predictions_all / total_num_predictions_all)\n",
    "  print('mean over fast predictions word-weighted', total_num_fast_correct_predictions_all / total_num_predictions_all)\n",
    "  print('median for frac_correct_predictions_list', np.median(frac_correct_predictions_list))\n",
    "  #plot_histogram(frac_correct_predictions_list)"
   ]
  },
  {
   "cell_type": "code",
   "execution_count": 31,
   "metadata": {},
   "outputs": [
    {
     "data": {
      "application/vnd.plotly.v1+json": {
       "config": {
        "plotlyServerURL": "https://plot.ly"
       },
       "data": [
        {
         "name": "prefix-constrained MT",
         "type": "bar",
         "x": [
          "ende",
          "enes",
          "enfr",
          "enit",
          "enja",
          "enko",
          "enpt",
          "enzh",
          "enzt"
         ],
         "y": [
          0.6044597073905067,
          0.6861345202322586,
          0.6824583665422207,
          0.6756007659856306,
          0.5356384842053206,
          0.5748556051457075,
          0.7112302160690883,
          0.590495387151778,
          0.5642852066671404
         ]
        },
        {
         "name": "prefix-constrained MT with oracle",
         "type": "bar",
         "x": [
          "ende",
          "enes",
          "enfr",
          "enit",
          "enja",
          "enko",
          "enpt",
          "enzh",
          "enzt"
         ],
         "y": [
          0.6347744272474949,
          0.7300859296747324,
          0.7208618230630479,
          0.7121002692468288,
          0.6128747759071895,
          0.5985276100463813,
          0.752427836956887,
          0.6385887055794573,
          0.6083300988919077
         ]
        },
        {
         "name": "fixed MT with oracle",
         "type": "bar",
         "x": [
          "ende",
          "enes",
          "enfr",
          "enit",
          "enja",
          "enko",
          "enpt",
          "enzh",
          "enzt"
         ],
         "y": [
          0.5545373288798984,
          0.6831371485807671,
          0.6465246025420529,
          0.6487336760111154,
          0.5634898720352779,
          0.5361534085936817,
          0.7005107698511375,
          0.6442347866345969,
          0.6186456892640233
         ]
        },
        {
         "name": "google translate with oracle",
         "type": "bar",
         "x": [
          "ende",
          "enes",
          "enfr",
          "enit",
          "enja",
          "enko",
          "enpt",
          "enzh",
          "enzt"
         ],
         "y": [
          0.6262313590817142,
          0.7147902969506639,
          0.6903393598724779,
          0.7041668466444934,
          0.7189185847637495,
          0.5062789883608996,
          0.7422796464934978,
          0.7734622898246327,
          0.658399252160698
         ]
        }
       ],
       "layout": {
        "barmode": "group",
        "template": {
         "data": {
          "bar": [
           {
            "error_x": {
             "color": "#2a3f5f"
            },
            "error_y": {
             "color": "#2a3f5f"
            },
            "marker": {
             "line": {
              "color": "#E5ECF6",
              "width": 0.5
             }
            },
            "type": "bar"
           }
          ],
          "barpolar": [
           {
            "marker": {
             "line": {
              "color": "#E5ECF6",
              "width": 0.5
             }
            },
            "type": "barpolar"
           }
          ],
          "carpet": [
           {
            "aaxis": {
             "endlinecolor": "#2a3f5f",
             "gridcolor": "white",
             "linecolor": "white",
             "minorgridcolor": "white",
             "startlinecolor": "#2a3f5f"
            },
            "baxis": {
             "endlinecolor": "#2a3f5f",
             "gridcolor": "white",
             "linecolor": "white",
             "minorgridcolor": "white",
             "startlinecolor": "#2a3f5f"
            },
            "type": "carpet"
           }
          ],
          "choropleth": [
           {
            "colorbar": {
             "outlinewidth": 0,
             "ticks": ""
            },
            "type": "choropleth"
           }
          ],
          "contour": [
           {
            "colorbar": {
             "outlinewidth": 0,
             "ticks": ""
            },
            "colorscale": [
             [
              0,
              "#0d0887"
             ],
             [
              0.1111111111111111,
              "#46039f"
             ],
             [
              0.2222222222222222,
              "#7201a8"
             ],
             [
              0.3333333333333333,
              "#9c179e"
             ],
             [
              0.4444444444444444,
              "#bd3786"
             ],
             [
              0.5555555555555556,
              "#d8576b"
             ],
             [
              0.6666666666666666,
              "#ed7953"
             ],
             [
              0.7777777777777778,
              "#fb9f3a"
             ],
             [
              0.8888888888888888,
              "#fdca26"
             ],
             [
              1,
              "#f0f921"
             ]
            ],
            "type": "contour"
           }
          ],
          "contourcarpet": [
           {
            "colorbar": {
             "outlinewidth": 0,
             "ticks": ""
            },
            "type": "contourcarpet"
           }
          ],
          "heatmap": [
           {
            "colorbar": {
             "outlinewidth": 0,
             "ticks": ""
            },
            "colorscale": [
             [
              0,
              "#0d0887"
             ],
             [
              0.1111111111111111,
              "#46039f"
             ],
             [
              0.2222222222222222,
              "#7201a8"
             ],
             [
              0.3333333333333333,
              "#9c179e"
             ],
             [
              0.4444444444444444,
              "#bd3786"
             ],
             [
              0.5555555555555556,
              "#d8576b"
             ],
             [
              0.6666666666666666,
              "#ed7953"
             ],
             [
              0.7777777777777778,
              "#fb9f3a"
             ],
             [
              0.8888888888888888,
              "#fdca26"
             ],
             [
              1,
              "#f0f921"
             ]
            ],
            "type": "heatmap"
           }
          ],
          "heatmapgl": [
           {
            "colorbar": {
             "outlinewidth": 0,
             "ticks": ""
            },
            "colorscale": [
             [
              0,
              "#0d0887"
             ],
             [
              0.1111111111111111,
              "#46039f"
             ],
             [
              0.2222222222222222,
              "#7201a8"
             ],
             [
              0.3333333333333333,
              "#9c179e"
             ],
             [
              0.4444444444444444,
              "#bd3786"
             ],
             [
              0.5555555555555556,
              "#d8576b"
             ],
             [
              0.6666666666666666,
              "#ed7953"
             ],
             [
              0.7777777777777778,
              "#fb9f3a"
             ],
             [
              0.8888888888888888,
              "#fdca26"
             ],
             [
              1,
              "#f0f921"
             ]
            ],
            "type": "heatmapgl"
           }
          ],
          "histogram": [
           {
            "marker": {
             "colorbar": {
              "outlinewidth": 0,
              "ticks": ""
             }
            },
            "type": "histogram"
           }
          ],
          "histogram2d": [
           {
            "colorbar": {
             "outlinewidth": 0,
             "ticks": ""
            },
            "colorscale": [
             [
              0,
              "#0d0887"
             ],
             [
              0.1111111111111111,
              "#46039f"
             ],
             [
              0.2222222222222222,
              "#7201a8"
             ],
             [
              0.3333333333333333,
              "#9c179e"
             ],
             [
              0.4444444444444444,
              "#bd3786"
             ],
             [
              0.5555555555555556,
              "#d8576b"
             ],
             [
              0.6666666666666666,
              "#ed7953"
             ],
             [
              0.7777777777777778,
              "#fb9f3a"
             ],
             [
              0.8888888888888888,
              "#fdca26"
             ],
             [
              1,
              "#f0f921"
             ]
            ],
            "type": "histogram2d"
           }
          ],
          "histogram2dcontour": [
           {
            "colorbar": {
             "outlinewidth": 0,
             "ticks": ""
            },
            "colorscale": [
             [
              0,
              "#0d0887"
             ],
             [
              0.1111111111111111,
              "#46039f"
             ],
             [
              0.2222222222222222,
              "#7201a8"
             ],
             [
              0.3333333333333333,
              "#9c179e"
             ],
             [
              0.4444444444444444,
              "#bd3786"
             ],
             [
              0.5555555555555556,
              "#d8576b"
             ],
             [
              0.6666666666666666,
              "#ed7953"
             ],
             [
              0.7777777777777778,
              "#fb9f3a"
             ],
             [
              0.8888888888888888,
              "#fdca26"
             ],
             [
              1,
              "#f0f921"
             ]
            ],
            "type": "histogram2dcontour"
           }
          ],
          "mesh3d": [
           {
            "colorbar": {
             "outlinewidth": 0,
             "ticks": ""
            },
            "type": "mesh3d"
           }
          ],
          "parcoords": [
           {
            "line": {
             "colorbar": {
              "outlinewidth": 0,
              "ticks": ""
             }
            },
            "type": "parcoords"
           }
          ],
          "pie": [
           {
            "automargin": true,
            "type": "pie"
           }
          ],
          "scatter": [
           {
            "marker": {
             "colorbar": {
              "outlinewidth": 0,
              "ticks": ""
             }
            },
            "type": "scatter"
           }
          ],
          "scatter3d": [
           {
            "line": {
             "colorbar": {
              "outlinewidth": 0,
              "ticks": ""
             }
            },
            "marker": {
             "colorbar": {
              "outlinewidth": 0,
              "ticks": ""
             }
            },
            "type": "scatter3d"
           }
          ],
          "scattercarpet": [
           {
            "marker": {
             "colorbar": {
              "outlinewidth": 0,
              "ticks": ""
             }
            },
            "type": "scattercarpet"
           }
          ],
          "scattergeo": [
           {
            "marker": {
             "colorbar": {
              "outlinewidth": 0,
              "ticks": ""
             }
            },
            "type": "scattergeo"
           }
          ],
          "scattergl": [
           {
            "marker": {
             "colorbar": {
              "outlinewidth": 0,
              "ticks": ""
             }
            },
            "type": "scattergl"
           }
          ],
          "scattermapbox": [
           {
            "marker": {
             "colorbar": {
              "outlinewidth": 0,
              "ticks": ""
             }
            },
            "type": "scattermapbox"
           }
          ],
          "scatterpolar": [
           {
            "marker": {
             "colorbar": {
              "outlinewidth": 0,
              "ticks": ""
             }
            },
            "type": "scatterpolar"
           }
          ],
          "scatterpolargl": [
           {
            "marker": {
             "colorbar": {
              "outlinewidth": 0,
              "ticks": ""
             }
            },
            "type": "scatterpolargl"
           }
          ],
          "scatterternary": [
           {
            "marker": {
             "colorbar": {
              "outlinewidth": 0,
              "ticks": ""
             }
            },
            "type": "scatterternary"
           }
          ],
          "surface": [
           {
            "colorbar": {
             "outlinewidth": 0,
             "ticks": ""
            },
            "colorscale": [
             [
              0,
              "#0d0887"
             ],
             [
              0.1111111111111111,
              "#46039f"
             ],
             [
              0.2222222222222222,
              "#7201a8"
             ],
             [
              0.3333333333333333,
              "#9c179e"
             ],
             [
              0.4444444444444444,
              "#bd3786"
             ],
             [
              0.5555555555555556,
              "#d8576b"
             ],
             [
              0.6666666666666666,
              "#ed7953"
             ],
             [
              0.7777777777777778,
              "#fb9f3a"
             ],
             [
              0.8888888888888888,
              "#fdca26"
             ],
             [
              1,
              "#f0f921"
             ]
            ],
            "type": "surface"
           }
          ],
          "table": [
           {
            "cells": {
             "fill": {
              "color": "#EBF0F8"
             },
             "line": {
              "color": "white"
             }
            },
            "header": {
             "fill": {
              "color": "#C8D4E3"
             },
             "line": {
              "color": "white"
             }
            },
            "type": "table"
           }
          ]
         },
         "layout": {
          "annotationdefaults": {
           "arrowcolor": "#2a3f5f",
           "arrowhead": 0,
           "arrowwidth": 1
          },
          "autotypenumbers": "strict",
          "coloraxis": {
           "colorbar": {
            "outlinewidth": 0,
            "ticks": ""
           }
          },
          "colorscale": {
           "diverging": [
            [
             0,
             "#8e0152"
            ],
            [
             0.1,
             "#c51b7d"
            ],
            [
             0.2,
             "#de77ae"
            ],
            [
             0.3,
             "#f1b6da"
            ],
            [
             0.4,
             "#fde0ef"
            ],
            [
             0.5,
             "#f7f7f7"
            ],
            [
             0.6,
             "#e6f5d0"
            ],
            [
             0.7,
             "#b8e186"
            ],
            [
             0.8,
             "#7fbc41"
            ],
            [
             0.9,
             "#4d9221"
            ],
            [
             1,
             "#276419"
            ]
           ],
           "sequential": [
            [
             0,
             "#0d0887"
            ],
            [
             0.1111111111111111,
             "#46039f"
            ],
            [
             0.2222222222222222,
             "#7201a8"
            ],
            [
             0.3333333333333333,
             "#9c179e"
            ],
            [
             0.4444444444444444,
             "#bd3786"
            ],
            [
             0.5555555555555556,
             "#d8576b"
            ],
            [
             0.6666666666666666,
             "#ed7953"
            ],
            [
             0.7777777777777778,
             "#fb9f3a"
            ],
            [
             0.8888888888888888,
             "#fdca26"
            ],
            [
             1,
             "#f0f921"
            ]
           ],
           "sequentialminus": [
            [
             0,
             "#0d0887"
            ],
            [
             0.1111111111111111,
             "#46039f"
            ],
            [
             0.2222222222222222,
             "#7201a8"
            ],
            [
             0.3333333333333333,
             "#9c179e"
            ],
            [
             0.4444444444444444,
             "#bd3786"
            ],
            [
             0.5555555555555556,
             "#d8576b"
            ],
            [
             0.6666666666666666,
             "#ed7953"
            ],
            [
             0.7777777777777778,
             "#fb9f3a"
            ],
            [
             0.8888888888888888,
             "#fdca26"
            ],
            [
             1,
             "#f0f921"
            ]
           ]
          },
          "colorway": [
           "#636efa",
           "#EF553B",
           "#00cc96",
           "#ab63fa",
           "#FFA15A",
           "#19d3f3",
           "#FF6692",
           "#B6E880",
           "#FF97FF",
           "#FECB52"
          ],
          "font": {
           "color": "#2a3f5f"
          },
          "geo": {
           "bgcolor": "white",
           "lakecolor": "white",
           "landcolor": "#E5ECF6",
           "showlakes": true,
           "showland": true,
           "subunitcolor": "white"
          },
          "hoverlabel": {
           "align": "left"
          },
          "hovermode": "closest",
          "mapbox": {
           "style": "light"
          },
          "paper_bgcolor": "white",
          "plot_bgcolor": "#E5ECF6",
          "polar": {
           "angularaxis": {
            "gridcolor": "white",
            "linecolor": "white",
            "ticks": ""
           },
           "bgcolor": "#E5ECF6",
           "radialaxis": {
            "gridcolor": "white",
            "linecolor": "white",
            "ticks": ""
           }
          },
          "scene": {
           "xaxis": {
            "backgroundcolor": "#E5ECF6",
            "gridcolor": "white",
            "gridwidth": 2,
            "linecolor": "white",
            "showbackground": true,
            "ticks": "",
            "zerolinecolor": "white"
           },
           "yaxis": {
            "backgroundcolor": "#E5ECF6",
            "gridcolor": "white",
            "gridwidth": 2,
            "linecolor": "white",
            "showbackground": true,
            "ticks": "",
            "zerolinecolor": "white"
           },
           "zaxis": {
            "backgroundcolor": "#E5ECF6",
            "gridcolor": "white",
            "gridwidth": 2,
            "linecolor": "white",
            "showbackground": true,
            "ticks": "",
            "zerolinecolor": "white"
           }
          },
          "shapedefaults": {
           "line": {
            "color": "#2a3f5f"
           }
          },
          "ternary": {
           "aaxis": {
            "gridcolor": "white",
            "linecolor": "white",
            "ticks": ""
           },
           "baxis": {
            "gridcolor": "white",
            "linecolor": "white",
            "ticks": ""
           },
           "bgcolor": "#E5ECF6",
           "caxis": {
            "gridcolor": "white",
            "linecolor": "white",
            "ticks": ""
           }
          },
          "title": {
           "x": 0.05
          },
          "xaxis": {
           "automargin": true,
           "gridcolor": "white",
           "linecolor": "white",
           "ticks": "",
           "title": {
            "standoff": 15
           },
           "zerolinecolor": "white",
           "zerolinewidth": 2
          },
          "yaxis": {
           "automargin": true,
           "gridcolor": "white",
           "linecolor": "white",
           "ticks": "",
           "title": {
            "standoff": 15
           },
           "zerolinecolor": "white",
           "zerolinewidth": 2
          }
         }
        }
       }
      },
      "text/html": [
       "<div>                            <div id=\"761a44ff-0935-46a2-8ce2-d0eea4d63a6a\" class=\"plotly-graph-div\" style=\"height:525px; width:100%;\"></div>            <script type=\"text/javascript\">                require([\"plotly\"], function(Plotly) {                    window.PLOTLYENV=window.PLOTLYENV || {};                                    if (document.getElementById(\"761a44ff-0935-46a2-8ce2-d0eea4d63a6a\")) {                    Plotly.newPlot(                        \"761a44ff-0935-46a2-8ce2-d0eea4d63a6a\",                        [{\"name\": \"prefix-constrained MT\", \"type\": \"bar\", \"x\": [\"ende\", \"enes\", \"enfr\", \"enit\", \"enja\", \"enko\", \"enpt\", \"enzh\", \"enzt\"], \"y\": [0.6044597073905067, 0.6861345202322586, 0.6824583665422207, 0.6756007659856306, 0.5356384842053206, 0.5748556051457075, 0.7112302160690883, 0.590495387151778, 0.5642852066671404]}, {\"name\": \"prefix-constrained MT with oracle\", \"type\": \"bar\", \"x\": [\"ende\", \"enes\", \"enfr\", \"enit\", \"enja\", \"enko\", \"enpt\", \"enzh\", \"enzt\"], \"y\": [0.6347744272474949, 0.7300859296747324, 0.7208618230630479, 0.7121002692468288, 0.6128747759071895, 0.5985276100463813, 0.752427836956887, 0.6385887055794573, 0.6083300988919077]}, {\"name\": \"fixed MT with oracle\", \"type\": \"bar\", \"x\": [\"ende\", \"enes\", \"enfr\", \"enit\", \"enja\", \"enko\", \"enpt\", \"enzh\", \"enzt\"], \"y\": [0.5545373288798984, 0.6831371485807671, 0.6465246025420529, 0.6487336760111154, 0.5634898720352779, 0.5361534085936817, 0.7005107698511375, 0.6442347866345969, 0.6186456892640233]}, {\"name\": \"google translate with oracle\", \"type\": \"bar\", \"x\": [\"ende\", \"enes\", \"enfr\", \"enit\", \"enja\", \"enko\", \"enpt\", \"enzh\", \"enzt\"], \"y\": [0.6262313590817142, 0.7147902969506639, 0.6903393598724779, 0.7041668466444934, 0.7189185847637495, 0.5062789883608996, 0.7422796464934978, 0.7734622898246327, 0.658399252160698]}],                        {\"barmode\": \"group\", \"template\": {\"data\": {\"bar\": [{\"error_x\": {\"color\": \"#2a3f5f\"}, \"error_y\": {\"color\": \"#2a3f5f\"}, \"marker\": {\"line\": {\"color\": \"#E5ECF6\", \"width\": 0.5}}, \"type\": \"bar\"}], \"barpolar\": [{\"marker\": {\"line\": {\"color\": \"#E5ECF6\", \"width\": 0.5}}, \"type\": \"barpolar\"}], \"carpet\": [{\"aaxis\": {\"endlinecolor\": \"#2a3f5f\", \"gridcolor\": \"white\", \"linecolor\": \"white\", \"minorgridcolor\": \"white\", \"startlinecolor\": \"#2a3f5f\"}, \"baxis\": {\"endlinecolor\": \"#2a3f5f\", \"gridcolor\": \"white\", \"linecolor\": \"white\", \"minorgridcolor\": \"white\", \"startlinecolor\": \"#2a3f5f\"}, \"type\": \"carpet\"}], \"choropleth\": [{\"colorbar\": {\"outlinewidth\": 0, \"ticks\": \"\"}, \"type\": \"choropleth\"}], \"contour\": [{\"colorbar\": {\"outlinewidth\": 0, \"ticks\": \"\"}, \"colorscale\": [[0.0, \"#0d0887\"], [0.1111111111111111, \"#46039f\"], [0.2222222222222222, \"#7201a8\"], [0.3333333333333333, \"#9c179e\"], [0.4444444444444444, \"#bd3786\"], [0.5555555555555556, \"#d8576b\"], [0.6666666666666666, \"#ed7953\"], [0.7777777777777778, \"#fb9f3a\"], [0.8888888888888888, \"#fdca26\"], [1.0, \"#f0f921\"]], \"type\": \"contour\"}], \"contourcarpet\": [{\"colorbar\": {\"outlinewidth\": 0, \"ticks\": \"\"}, \"type\": \"contourcarpet\"}], \"heatmap\": [{\"colorbar\": {\"outlinewidth\": 0, \"ticks\": \"\"}, \"colorscale\": [[0.0, \"#0d0887\"], [0.1111111111111111, \"#46039f\"], [0.2222222222222222, \"#7201a8\"], [0.3333333333333333, \"#9c179e\"], [0.4444444444444444, \"#bd3786\"], [0.5555555555555556, \"#d8576b\"], [0.6666666666666666, \"#ed7953\"], [0.7777777777777778, \"#fb9f3a\"], [0.8888888888888888, \"#fdca26\"], [1.0, \"#f0f921\"]], \"type\": \"heatmap\"}], \"heatmapgl\": [{\"colorbar\": {\"outlinewidth\": 0, \"ticks\": \"\"}, \"colorscale\": [[0.0, \"#0d0887\"], [0.1111111111111111, \"#46039f\"], [0.2222222222222222, \"#7201a8\"], [0.3333333333333333, \"#9c179e\"], [0.4444444444444444, \"#bd3786\"], [0.5555555555555556, \"#d8576b\"], [0.6666666666666666, \"#ed7953\"], [0.7777777777777778, \"#fb9f3a\"], [0.8888888888888888, \"#fdca26\"], [1.0, \"#f0f921\"]], \"type\": \"heatmapgl\"}], \"histogram\": [{\"marker\": {\"colorbar\": {\"outlinewidth\": 0, \"ticks\": \"\"}}, \"type\": \"histogram\"}], \"histogram2d\": [{\"colorbar\": {\"outlinewidth\": 0, \"ticks\": \"\"}, \"colorscale\": [[0.0, \"#0d0887\"], [0.1111111111111111, \"#46039f\"], [0.2222222222222222, \"#7201a8\"], [0.3333333333333333, \"#9c179e\"], [0.4444444444444444, \"#bd3786\"], [0.5555555555555556, \"#d8576b\"], [0.6666666666666666, \"#ed7953\"], [0.7777777777777778, \"#fb9f3a\"], [0.8888888888888888, \"#fdca26\"], [1.0, \"#f0f921\"]], \"type\": \"histogram2d\"}], \"histogram2dcontour\": [{\"colorbar\": {\"outlinewidth\": 0, \"ticks\": \"\"}, \"colorscale\": [[0.0, \"#0d0887\"], [0.1111111111111111, \"#46039f\"], [0.2222222222222222, \"#7201a8\"], [0.3333333333333333, \"#9c179e\"], [0.4444444444444444, \"#bd3786\"], [0.5555555555555556, \"#d8576b\"], [0.6666666666666666, \"#ed7953\"], [0.7777777777777778, \"#fb9f3a\"], [0.8888888888888888, \"#fdca26\"], [1.0, \"#f0f921\"]], \"type\": \"histogram2dcontour\"}], \"mesh3d\": [{\"colorbar\": {\"outlinewidth\": 0, \"ticks\": \"\"}, \"type\": \"mesh3d\"}], \"parcoords\": [{\"line\": {\"colorbar\": {\"outlinewidth\": 0, \"ticks\": \"\"}}, \"type\": \"parcoords\"}], \"pie\": [{\"automargin\": true, \"type\": \"pie\"}], \"scatter\": [{\"marker\": {\"colorbar\": {\"outlinewidth\": 0, \"ticks\": \"\"}}, \"type\": \"scatter\"}], \"scatter3d\": [{\"line\": {\"colorbar\": {\"outlinewidth\": 0, \"ticks\": \"\"}}, \"marker\": {\"colorbar\": {\"outlinewidth\": 0, \"ticks\": \"\"}}, \"type\": \"scatter3d\"}], \"scattercarpet\": [{\"marker\": {\"colorbar\": {\"outlinewidth\": 0, \"ticks\": \"\"}}, \"type\": \"scattercarpet\"}], \"scattergeo\": [{\"marker\": {\"colorbar\": {\"outlinewidth\": 0, \"ticks\": \"\"}}, \"type\": \"scattergeo\"}], \"scattergl\": [{\"marker\": {\"colorbar\": {\"outlinewidth\": 0, \"ticks\": \"\"}}, \"type\": \"scattergl\"}], \"scattermapbox\": [{\"marker\": {\"colorbar\": {\"outlinewidth\": 0, \"ticks\": \"\"}}, \"type\": \"scattermapbox\"}], \"scatterpolar\": [{\"marker\": {\"colorbar\": {\"outlinewidth\": 0, \"ticks\": \"\"}}, \"type\": \"scatterpolar\"}], \"scatterpolargl\": [{\"marker\": {\"colorbar\": {\"outlinewidth\": 0, \"ticks\": \"\"}}, \"type\": \"scatterpolargl\"}], \"scatterternary\": [{\"marker\": {\"colorbar\": {\"outlinewidth\": 0, \"ticks\": \"\"}}, \"type\": \"scatterternary\"}], \"surface\": [{\"colorbar\": {\"outlinewidth\": 0, \"ticks\": \"\"}, \"colorscale\": [[0.0, \"#0d0887\"], [0.1111111111111111, \"#46039f\"], [0.2222222222222222, \"#7201a8\"], [0.3333333333333333, \"#9c179e\"], [0.4444444444444444, \"#bd3786\"], [0.5555555555555556, \"#d8576b\"], [0.6666666666666666, \"#ed7953\"], [0.7777777777777778, \"#fb9f3a\"], [0.8888888888888888, \"#fdca26\"], [1.0, \"#f0f921\"]], \"type\": \"surface\"}], \"table\": [{\"cells\": {\"fill\": {\"color\": \"#EBF0F8\"}, \"line\": {\"color\": \"white\"}}, \"header\": {\"fill\": {\"color\": \"#C8D4E3\"}, \"line\": {\"color\": \"white\"}}, \"type\": \"table\"}]}, \"layout\": {\"annotationdefaults\": {\"arrowcolor\": \"#2a3f5f\", \"arrowhead\": 0, \"arrowwidth\": 1}, \"autotypenumbers\": \"strict\", \"coloraxis\": {\"colorbar\": {\"outlinewidth\": 0, \"ticks\": \"\"}}, \"colorscale\": {\"diverging\": [[0, \"#8e0152\"], [0.1, \"#c51b7d\"], [0.2, \"#de77ae\"], [0.3, \"#f1b6da\"], [0.4, \"#fde0ef\"], [0.5, \"#f7f7f7\"], [0.6, \"#e6f5d0\"], [0.7, \"#b8e186\"], [0.8, \"#7fbc41\"], [0.9, \"#4d9221\"], [1, \"#276419\"]], \"sequential\": [[0.0, \"#0d0887\"], [0.1111111111111111, \"#46039f\"], [0.2222222222222222, \"#7201a8\"], [0.3333333333333333, \"#9c179e\"], [0.4444444444444444, \"#bd3786\"], [0.5555555555555556, \"#d8576b\"], [0.6666666666666666, \"#ed7953\"], [0.7777777777777778, \"#fb9f3a\"], [0.8888888888888888, \"#fdca26\"], [1.0, \"#f0f921\"]], \"sequentialminus\": [[0.0, \"#0d0887\"], [0.1111111111111111, \"#46039f\"], [0.2222222222222222, \"#7201a8\"], [0.3333333333333333, \"#9c179e\"], [0.4444444444444444, \"#bd3786\"], [0.5555555555555556, \"#d8576b\"], [0.6666666666666666, \"#ed7953\"], [0.7777777777777778, \"#fb9f3a\"], [0.8888888888888888, \"#fdca26\"], [1.0, \"#f0f921\"]]}, \"colorway\": [\"#636efa\", \"#EF553B\", \"#00cc96\", \"#ab63fa\", \"#FFA15A\", \"#19d3f3\", \"#FF6692\", \"#B6E880\", \"#FF97FF\", \"#FECB52\"], \"font\": {\"color\": \"#2a3f5f\"}, \"geo\": {\"bgcolor\": \"white\", \"lakecolor\": \"white\", \"landcolor\": \"#E5ECF6\", \"showlakes\": true, \"showland\": true, \"subunitcolor\": \"white\"}, \"hoverlabel\": {\"align\": \"left\"}, \"hovermode\": \"closest\", \"mapbox\": {\"style\": \"light\"}, \"paper_bgcolor\": \"white\", \"plot_bgcolor\": \"#E5ECF6\", \"polar\": {\"angularaxis\": {\"gridcolor\": \"white\", \"linecolor\": \"white\", \"ticks\": \"\"}, \"bgcolor\": \"#E5ECF6\", \"radialaxis\": {\"gridcolor\": \"white\", \"linecolor\": \"white\", \"ticks\": \"\"}}, \"scene\": {\"xaxis\": {\"backgroundcolor\": \"#E5ECF6\", \"gridcolor\": \"white\", \"gridwidth\": 2, \"linecolor\": \"white\", \"showbackground\": true, \"ticks\": \"\", \"zerolinecolor\": \"white\"}, \"yaxis\": {\"backgroundcolor\": \"#E5ECF6\", \"gridcolor\": \"white\", \"gridwidth\": 2, \"linecolor\": \"white\", \"showbackground\": true, \"ticks\": \"\", \"zerolinecolor\": \"white\"}, \"zaxis\": {\"backgroundcolor\": \"#E5ECF6\", \"gridcolor\": \"white\", \"gridwidth\": 2, \"linecolor\": \"white\", \"showbackground\": true, \"ticks\": \"\", \"zerolinecolor\": \"white\"}}, \"shapedefaults\": {\"line\": {\"color\": \"#2a3f5f\"}}, \"ternary\": {\"aaxis\": {\"gridcolor\": \"white\", \"linecolor\": \"white\", \"ticks\": \"\"}, \"baxis\": {\"gridcolor\": \"white\", \"linecolor\": \"white\", \"ticks\": \"\"}, \"bgcolor\": \"#E5ECF6\", \"caxis\": {\"gridcolor\": \"white\", \"linecolor\": \"white\", \"ticks\": \"\"}}, \"title\": {\"x\": 0.05}, \"xaxis\": {\"automargin\": true, \"gridcolor\": \"white\", \"linecolor\": \"white\", \"ticks\": \"\", \"title\": {\"standoff\": 15}, \"zerolinecolor\": \"white\", \"zerolinewidth\": 2}, \"yaxis\": {\"automargin\": true, \"gridcolor\": \"white\", \"linecolor\": \"white\", \"ticks\": \"\", \"title\": {\"standoff\": 15}, \"zerolinecolor\": \"white\", \"zerolinewidth\": 2}}}},                        {\"responsive\": true}                    ).then(function(){\n",
       "                            \n",
       "var gd = document.getElementById('761a44ff-0935-46a2-8ce2-d0eea4d63a6a');\n",
       "var x = new MutationObserver(function (mutations, observer) {{\n",
       "        var display = window.getComputedStyle(gd).display;\n",
       "        if (!display || display === 'none') {{\n",
       "            console.log([gd, 'removed!']);\n",
       "            Plotly.purge(gd);\n",
       "            observer.disconnect();\n",
       "        }}\n",
       "}});\n",
       "\n",
       "// Listen for the removal of the full notebook cells\n",
       "var notebookContainer = gd.closest('#notebook-container');\n",
       "if (notebookContainer) {{\n",
       "    x.observe(notebookContainer, {childList: true});\n",
       "}}\n",
       "\n",
       "// Listen for the clearing of the current output cell\n",
       "var outputEl = gd.closest('.output');\n",
       "if (outputEl) {{\n",
       "    x.observe(outputEl, {childList: true});\n",
       "}}\n",
       "\n",
       "                        })                };                });            </script>        </div>"
      ]
     },
     "metadata": {},
     "output_type": "display_data"
    }
   ],
   "source": [
    "# noexport\n",
    "\n",
    "import plotly.graph_objects as go\n",
    "\n",
    "fig = go.Figure(data=[\n",
    "    #go.Bar(name='no MT, 5 src syn for each word', x=langpair_list, y=[langpair_to_num_src_trg_synonyms_nomt_to_accuracy[lang][(5, 0)] for lang in langpair_list]),\n",
    "    go.Bar(name='prefix-constrained MT', x=langpair_list, y=[lang_to_baseline_accuracy[lang] for lang in langpair_list]),\n",
    "    #go.Bar(name='prefix-constrained MT, plus 5 src syn for each word', x=langpair_list, y=[langpair_to_num_src_trg_synonyms_prefix_nextword_to_accuracy[lang][(5,0)] for lang in langpair_list]),\n",
    "    #go.Bar(name='prefix-constrained MT, plus 5 trg syn for *next* word', x=langpair_list, y=[langpair_to_num_src_trg_synonyms_prefix_nextword_to_accuracy[lang][(0,5)] for lang in langpair_list]),\n",
    "    #go.Bar(name='prefix-constrained MT, plus 5 src syn for each word + 5 trg syn for each word', x=langpair_list, y=[langpair_to_num_src_trg_synonyms_prefix_oracle_allsyn_to_accuracy[lang][(5,5)] for lang in langpair_list]),\n",
    "    go.Bar(name='prefix-constrained MT with oracle', x=langpair_list, y=[lang_to_baseline_accuracy_with_oracle[lang] for lang in langpair_list]),\n",
    "    #go.Bar(name='prefix-constrained MT with oracle, plus 5 src syn for each word', x=langpair_list, y=[langpair_to_num_src_trg_synonyms_prefix_oracle_to_accuracy[lang][(5,0)] for lang in langpair_list]),\n",
    "    #go.Bar(name='prefix-constrained MT with oracle, plus 5 trg syn for *next* word', x=langpair_list, y=[langpair_to_num_src_trg_synonyms_prefix_oracle_to_accuracy[lang][(0,5)] for lang in langpair_list]),\n",
    "    #go.Bar(name='prefix-constrained MT with oracle, plus 5 src syn for each word + 5 trg syn for each word', x=langpair_list, y=[langpair_to_num_src_trg_synonyms_prefix_oracle_allsyn_to_accuracy[lang][(5,5)] for lang in langpair_list]),\n",
    "    go.Bar(name='fixed MT with oracle', x=langpair_list, y=[langpair_to_oracle_accuracy[lang] for lang in langpair_list]),\n",
    "    #go.Bar(name='fixed MT with oracle, plus 5 src syn for each word', x=langpair_list, y=[langpair_to_num_src_trg_synonyms_to_accuracy[lang][(5,0)] for lang in langpair_list]),\n",
    "    #go.Bar(name='fixed MT with oracle, plus 5 trg syn for each word', x=langpair_list, y=[langpair_to_num_src_trg_synonyms_to_accuracy[lang][(0,5)] for lang in langpair_list]),\n",
    "    #go.Bar(name='fixed MT with oracle, plus 5 src syn + 5 trg syn for each word', x=langpair_list, y=[langpair_to_num_src_trg_synonyms_to_accuracy[lang][(5,5)] for lang in langpair_list]),\n",
    "    #go.Bar(name='google translate with oracle', x=langpair_list, y=[lang_to_google_translate_accuracy_with_oracle[lang] for lang in langpair_list]),\n",
    "    go.Bar(name='google translate with oracle', x=langpair_list, y=[langpair_to_num_src_trg_synonyms_googtrans_to_accuracy[lang][(0,0)] for lang in langpair_list]),\n",
    "    #go.Bar(name='google translate with oracle, plus 5 src syn for each word', x=langpair_list, y=[langpair_to_num_src_trg_synonyms_googtrans_to_accuracy[lang][(5,0)] for lang in langpair_list]),\n",
    "    #go.Bar(name='google translate with oracle, plus 5 trg syn for each word', x=langpair_list, y=[langpair_to_num_src_trg_synonyms_googtrans_to_accuracy[lang][(0,5)] for lang in langpair_list]),\n",
    "    #go.Bar(name='google translate with oracle, plus 5 src syn + 5 trg syn for each word', x=langpair_list, y=[langpair_to_num_src_trg_synonyms_googtrans_to_accuracy[lang][(5,5)] for lang in langpair_list]),\n",
    "])\n",
    "# Change the bar mode\n",
    "fig.update_layout(barmode='group')\n",
    "fig.show()"
   ]
  },
  {
   "cell_type": "code",
   "execution_count": 64,
   "metadata": {},
   "outputs": [
    {
     "data": {
      "application/vnd.plotly.v1+json": {
       "config": {
        "plotlyServerURL": "https://plot.ly"
       },
       "data": [
        {
         "name": "prefix-constrained MT",
         "type": "bar",
         "x": [
          "ende",
          "enes",
          "enfr",
          "enit",
          "enja",
          "enko",
          "enpt",
          "enzh",
          "enzt"
         ],
         "y": [
          0.6044597073905067,
          0.6861345202322586,
          0.6824583665422207,
          0.6756007659856306,
          0.5356384842053206,
          0.5748556051457075,
          0.7112302160690883,
          0.590495387151778,
          0.5642852066671404
         ]
        },
        {
         "name": "fixed MT with heuristic v3",
         "type": "bar",
         "x": [
          "ende",
          "enes",
          "enfr",
          "enit",
          "enja",
          "enko",
          "enpt",
          "enzh",
          "enzt"
         ],
         "y": [
          0.41983346662275955,
          0.5237793994713179,
          0.48752569319182854,
          0.5041034944494838,
          0.3981371963156051,
          0.43181718736326247,
          0.5549749655566383,
          0.5758720372189663,
          0.5693309352911271
         ]
        },
        {
         "name": "google translate with heuristic v3",
         "type": "bar",
         "x": [
          "ende",
          "enes",
          "enfr",
          "enit",
          "enja",
          "enko",
          "enpt",
          "enzh",
          "enzt"
         ],
         "y": [
          0.5082278778755234,
          0.5589119089040012,
          0.5496927303997651,
          0.5712136264812175,
          0.5711553916215046,
          0.3800975759166885,
          0.6091266507611143,
          0.7423128606434274,
          0.6308964778299541
         ]
        }
       ],
       "layout": {
        "barmode": "group",
        "template": {
         "data": {
          "bar": [
           {
            "error_x": {
             "color": "#2a3f5f"
            },
            "error_y": {
             "color": "#2a3f5f"
            },
            "marker": {
             "line": {
              "color": "#E5ECF6",
              "width": 0.5
             }
            },
            "type": "bar"
           }
          ],
          "barpolar": [
           {
            "marker": {
             "line": {
              "color": "#E5ECF6",
              "width": 0.5
             }
            },
            "type": "barpolar"
           }
          ],
          "carpet": [
           {
            "aaxis": {
             "endlinecolor": "#2a3f5f",
             "gridcolor": "white",
             "linecolor": "white",
             "minorgridcolor": "white",
             "startlinecolor": "#2a3f5f"
            },
            "baxis": {
             "endlinecolor": "#2a3f5f",
             "gridcolor": "white",
             "linecolor": "white",
             "minorgridcolor": "white",
             "startlinecolor": "#2a3f5f"
            },
            "type": "carpet"
           }
          ],
          "choropleth": [
           {
            "colorbar": {
             "outlinewidth": 0,
             "ticks": ""
            },
            "type": "choropleth"
           }
          ],
          "contour": [
           {
            "colorbar": {
             "outlinewidth": 0,
             "ticks": ""
            },
            "colorscale": [
             [
              0,
              "#0d0887"
             ],
             [
              0.1111111111111111,
              "#46039f"
             ],
             [
              0.2222222222222222,
              "#7201a8"
             ],
             [
              0.3333333333333333,
              "#9c179e"
             ],
             [
              0.4444444444444444,
              "#bd3786"
             ],
             [
              0.5555555555555556,
              "#d8576b"
             ],
             [
              0.6666666666666666,
              "#ed7953"
             ],
             [
              0.7777777777777778,
              "#fb9f3a"
             ],
             [
              0.8888888888888888,
              "#fdca26"
             ],
             [
              1,
              "#f0f921"
             ]
            ],
            "type": "contour"
           }
          ],
          "contourcarpet": [
           {
            "colorbar": {
             "outlinewidth": 0,
             "ticks": ""
            },
            "type": "contourcarpet"
           }
          ],
          "heatmap": [
           {
            "colorbar": {
             "outlinewidth": 0,
             "ticks": ""
            },
            "colorscale": [
             [
              0,
              "#0d0887"
             ],
             [
              0.1111111111111111,
              "#46039f"
             ],
             [
              0.2222222222222222,
              "#7201a8"
             ],
             [
              0.3333333333333333,
              "#9c179e"
             ],
             [
              0.4444444444444444,
              "#bd3786"
             ],
             [
              0.5555555555555556,
              "#d8576b"
             ],
             [
              0.6666666666666666,
              "#ed7953"
             ],
             [
              0.7777777777777778,
              "#fb9f3a"
             ],
             [
              0.8888888888888888,
              "#fdca26"
             ],
             [
              1,
              "#f0f921"
             ]
            ],
            "type": "heatmap"
           }
          ],
          "heatmapgl": [
           {
            "colorbar": {
             "outlinewidth": 0,
             "ticks": ""
            },
            "colorscale": [
             [
              0,
              "#0d0887"
             ],
             [
              0.1111111111111111,
              "#46039f"
             ],
             [
              0.2222222222222222,
              "#7201a8"
             ],
             [
              0.3333333333333333,
              "#9c179e"
             ],
             [
              0.4444444444444444,
              "#bd3786"
             ],
             [
              0.5555555555555556,
              "#d8576b"
             ],
             [
              0.6666666666666666,
              "#ed7953"
             ],
             [
              0.7777777777777778,
              "#fb9f3a"
             ],
             [
              0.8888888888888888,
              "#fdca26"
             ],
             [
              1,
              "#f0f921"
             ]
            ],
            "type": "heatmapgl"
           }
          ],
          "histogram": [
           {
            "marker": {
             "colorbar": {
              "outlinewidth": 0,
              "ticks": ""
             }
            },
            "type": "histogram"
           }
          ],
          "histogram2d": [
           {
            "colorbar": {
             "outlinewidth": 0,
             "ticks": ""
            },
            "colorscale": [
             [
              0,
              "#0d0887"
             ],
             [
              0.1111111111111111,
              "#46039f"
             ],
             [
              0.2222222222222222,
              "#7201a8"
             ],
             [
              0.3333333333333333,
              "#9c179e"
             ],
             [
              0.4444444444444444,
              "#bd3786"
             ],
             [
              0.5555555555555556,
              "#d8576b"
             ],
             [
              0.6666666666666666,
              "#ed7953"
             ],
             [
              0.7777777777777778,
              "#fb9f3a"
             ],
             [
              0.8888888888888888,
              "#fdca26"
             ],
             [
              1,
              "#f0f921"
             ]
            ],
            "type": "histogram2d"
           }
          ],
          "histogram2dcontour": [
           {
            "colorbar": {
             "outlinewidth": 0,
             "ticks": ""
            },
            "colorscale": [
             [
              0,
              "#0d0887"
             ],
             [
              0.1111111111111111,
              "#46039f"
             ],
             [
              0.2222222222222222,
              "#7201a8"
             ],
             [
              0.3333333333333333,
              "#9c179e"
             ],
             [
              0.4444444444444444,
              "#bd3786"
             ],
             [
              0.5555555555555556,
              "#d8576b"
             ],
             [
              0.6666666666666666,
              "#ed7953"
             ],
             [
              0.7777777777777778,
              "#fb9f3a"
             ],
             [
              0.8888888888888888,
              "#fdca26"
             ],
             [
              1,
              "#f0f921"
             ]
            ],
            "type": "histogram2dcontour"
           }
          ],
          "mesh3d": [
           {
            "colorbar": {
             "outlinewidth": 0,
             "ticks": ""
            },
            "type": "mesh3d"
           }
          ],
          "parcoords": [
           {
            "line": {
             "colorbar": {
              "outlinewidth": 0,
              "ticks": ""
             }
            },
            "type": "parcoords"
           }
          ],
          "pie": [
           {
            "automargin": true,
            "type": "pie"
           }
          ],
          "scatter": [
           {
            "marker": {
             "colorbar": {
              "outlinewidth": 0,
              "ticks": ""
             }
            },
            "type": "scatter"
           }
          ],
          "scatter3d": [
           {
            "line": {
             "colorbar": {
              "outlinewidth": 0,
              "ticks": ""
             }
            },
            "marker": {
             "colorbar": {
              "outlinewidth": 0,
              "ticks": ""
             }
            },
            "type": "scatter3d"
           }
          ],
          "scattercarpet": [
           {
            "marker": {
             "colorbar": {
              "outlinewidth": 0,
              "ticks": ""
             }
            },
            "type": "scattercarpet"
           }
          ],
          "scattergeo": [
           {
            "marker": {
             "colorbar": {
              "outlinewidth": 0,
              "ticks": ""
             }
            },
            "type": "scattergeo"
           }
          ],
          "scattergl": [
           {
            "marker": {
             "colorbar": {
              "outlinewidth": 0,
              "ticks": ""
             }
            },
            "type": "scattergl"
           }
          ],
          "scattermapbox": [
           {
            "marker": {
             "colorbar": {
              "outlinewidth": 0,
              "ticks": ""
             }
            },
            "type": "scattermapbox"
           }
          ],
          "scatterpolar": [
           {
            "marker": {
             "colorbar": {
              "outlinewidth": 0,
              "ticks": ""
             }
            },
            "type": "scatterpolar"
           }
          ],
          "scatterpolargl": [
           {
            "marker": {
             "colorbar": {
              "outlinewidth": 0,
              "ticks": ""
             }
            },
            "type": "scatterpolargl"
           }
          ],
          "scatterternary": [
           {
            "marker": {
             "colorbar": {
              "outlinewidth": 0,
              "ticks": ""
             }
            },
            "type": "scatterternary"
           }
          ],
          "surface": [
           {
            "colorbar": {
             "outlinewidth": 0,
             "ticks": ""
            },
            "colorscale": [
             [
              0,
              "#0d0887"
             ],
             [
              0.1111111111111111,
              "#46039f"
             ],
             [
              0.2222222222222222,
              "#7201a8"
             ],
             [
              0.3333333333333333,
              "#9c179e"
             ],
             [
              0.4444444444444444,
              "#bd3786"
             ],
             [
              0.5555555555555556,
              "#d8576b"
             ],
             [
              0.6666666666666666,
              "#ed7953"
             ],
             [
              0.7777777777777778,
              "#fb9f3a"
             ],
             [
              0.8888888888888888,
              "#fdca26"
             ],
             [
              1,
              "#f0f921"
             ]
            ],
            "type": "surface"
           }
          ],
          "table": [
           {
            "cells": {
             "fill": {
              "color": "#EBF0F8"
             },
             "line": {
              "color": "white"
             }
            },
            "header": {
             "fill": {
              "color": "#C8D4E3"
             },
             "line": {
              "color": "white"
             }
            },
            "type": "table"
           }
          ]
         },
         "layout": {
          "annotationdefaults": {
           "arrowcolor": "#2a3f5f",
           "arrowhead": 0,
           "arrowwidth": 1
          },
          "autotypenumbers": "strict",
          "coloraxis": {
           "colorbar": {
            "outlinewidth": 0,
            "ticks": ""
           }
          },
          "colorscale": {
           "diverging": [
            [
             0,
             "#8e0152"
            ],
            [
             0.1,
             "#c51b7d"
            ],
            [
             0.2,
             "#de77ae"
            ],
            [
             0.3,
             "#f1b6da"
            ],
            [
             0.4,
             "#fde0ef"
            ],
            [
             0.5,
             "#f7f7f7"
            ],
            [
             0.6,
             "#e6f5d0"
            ],
            [
             0.7,
             "#b8e186"
            ],
            [
             0.8,
             "#7fbc41"
            ],
            [
             0.9,
             "#4d9221"
            ],
            [
             1,
             "#276419"
            ]
           ],
           "sequential": [
            [
             0,
             "#0d0887"
            ],
            [
             0.1111111111111111,
             "#46039f"
            ],
            [
             0.2222222222222222,
             "#7201a8"
            ],
            [
             0.3333333333333333,
             "#9c179e"
            ],
            [
             0.4444444444444444,
             "#bd3786"
            ],
            [
             0.5555555555555556,
             "#d8576b"
            ],
            [
             0.6666666666666666,
             "#ed7953"
            ],
            [
             0.7777777777777778,
             "#fb9f3a"
            ],
            [
             0.8888888888888888,
             "#fdca26"
            ],
            [
             1,
             "#f0f921"
            ]
           ],
           "sequentialminus": [
            [
             0,
             "#0d0887"
            ],
            [
             0.1111111111111111,
             "#46039f"
            ],
            [
             0.2222222222222222,
             "#7201a8"
            ],
            [
             0.3333333333333333,
             "#9c179e"
            ],
            [
             0.4444444444444444,
             "#bd3786"
            ],
            [
             0.5555555555555556,
             "#d8576b"
            ],
            [
             0.6666666666666666,
             "#ed7953"
            ],
            [
             0.7777777777777778,
             "#fb9f3a"
            ],
            [
             0.8888888888888888,
             "#fdca26"
            ],
            [
             1,
             "#f0f921"
            ]
           ]
          },
          "colorway": [
           "#636efa",
           "#EF553B",
           "#00cc96",
           "#ab63fa",
           "#FFA15A",
           "#19d3f3",
           "#FF6692",
           "#B6E880",
           "#FF97FF",
           "#FECB52"
          ],
          "font": {
           "color": "#2a3f5f"
          },
          "geo": {
           "bgcolor": "white",
           "lakecolor": "white",
           "landcolor": "#E5ECF6",
           "showlakes": true,
           "showland": true,
           "subunitcolor": "white"
          },
          "hoverlabel": {
           "align": "left"
          },
          "hovermode": "closest",
          "mapbox": {
           "style": "light"
          },
          "paper_bgcolor": "white",
          "plot_bgcolor": "#E5ECF6",
          "polar": {
           "angularaxis": {
            "gridcolor": "white",
            "linecolor": "white",
            "ticks": ""
           },
           "bgcolor": "#E5ECF6",
           "radialaxis": {
            "gridcolor": "white",
            "linecolor": "white",
            "ticks": ""
           }
          },
          "scene": {
           "xaxis": {
            "backgroundcolor": "#E5ECF6",
            "gridcolor": "white",
            "gridwidth": 2,
            "linecolor": "white",
            "showbackground": true,
            "ticks": "",
            "zerolinecolor": "white"
           },
           "yaxis": {
            "backgroundcolor": "#E5ECF6",
            "gridcolor": "white",
            "gridwidth": 2,
            "linecolor": "white",
            "showbackground": true,
            "ticks": "",
            "zerolinecolor": "white"
           },
           "zaxis": {
            "backgroundcolor": "#E5ECF6",
            "gridcolor": "white",
            "gridwidth": 2,
            "linecolor": "white",
            "showbackground": true,
            "ticks": "",
            "zerolinecolor": "white"
           }
          },
          "shapedefaults": {
           "line": {
            "color": "#2a3f5f"
           }
          },
          "ternary": {
           "aaxis": {
            "gridcolor": "white",
            "linecolor": "white",
            "ticks": ""
           },
           "baxis": {
            "gridcolor": "white",
            "linecolor": "white",
            "ticks": ""
           },
           "bgcolor": "#E5ECF6",
           "caxis": {
            "gridcolor": "white",
            "linecolor": "white",
            "ticks": ""
           }
          },
          "title": {
           "x": 0.05
          },
          "xaxis": {
           "automargin": true,
           "gridcolor": "white",
           "linecolor": "white",
           "ticks": "",
           "title": {
            "standoff": 15
           },
           "zerolinecolor": "white",
           "zerolinewidth": 2
          },
          "yaxis": {
           "automargin": true,
           "gridcolor": "white",
           "linecolor": "white",
           "ticks": "",
           "title": {
            "standoff": 15
           },
           "zerolinecolor": "white",
           "zerolinewidth": 2
          }
         }
        }
       }
      },
      "text/html": [
       "<div>                            <div id=\"ad4c657e-83ab-4846-8f89-1ddfd88a60cf\" class=\"plotly-graph-div\" style=\"height:525px; width:100%;\"></div>            <script type=\"text/javascript\">                require([\"plotly\"], function(Plotly) {                    window.PLOTLYENV=window.PLOTLYENV || {};                                    if (document.getElementById(\"ad4c657e-83ab-4846-8f89-1ddfd88a60cf\")) {                    Plotly.newPlot(                        \"ad4c657e-83ab-4846-8f89-1ddfd88a60cf\",                        [{\"name\": \"prefix-constrained MT\", \"type\": \"bar\", \"x\": [\"ende\", \"enes\", \"enfr\", \"enit\", \"enja\", \"enko\", \"enpt\", \"enzh\", \"enzt\"], \"y\": [0.6044597073905067, 0.6861345202322586, 0.6824583665422207, 0.6756007659856306, 0.5356384842053206, 0.5748556051457075, 0.7112302160690883, 0.590495387151778, 0.5642852066671404]}, {\"name\": \"fixed MT with heuristic v3\", \"type\": \"bar\", \"x\": [\"ende\", \"enes\", \"enfr\", \"enit\", \"enja\", \"enko\", \"enpt\", \"enzh\", \"enzt\"], \"y\": [0.41983346662275955, 0.5237793994713179, 0.48752569319182854, 0.5041034944494838, 0.3981371963156051, 0.43181718736326247, 0.5549749655566383, 0.5758720372189663, 0.5693309352911271]}, {\"name\": \"google translate with heuristic v3\", \"type\": \"bar\", \"x\": [\"ende\", \"enes\", \"enfr\", \"enit\", \"enja\", \"enko\", \"enpt\", \"enzh\", \"enzt\"], \"y\": [0.5082278778755234, 0.5589119089040012, 0.5496927303997651, 0.5712136264812175, 0.5711553916215046, 0.3800975759166885, 0.6091266507611143, 0.7423128606434274, 0.6308964778299541]}],                        {\"barmode\": \"group\", \"template\": {\"data\": {\"bar\": [{\"error_x\": {\"color\": \"#2a3f5f\"}, \"error_y\": {\"color\": \"#2a3f5f\"}, \"marker\": {\"line\": {\"color\": \"#E5ECF6\", \"width\": 0.5}}, \"type\": \"bar\"}], \"barpolar\": [{\"marker\": {\"line\": {\"color\": \"#E5ECF6\", \"width\": 0.5}}, \"type\": \"barpolar\"}], \"carpet\": [{\"aaxis\": {\"endlinecolor\": \"#2a3f5f\", \"gridcolor\": \"white\", \"linecolor\": \"white\", \"minorgridcolor\": \"white\", \"startlinecolor\": \"#2a3f5f\"}, \"baxis\": {\"endlinecolor\": \"#2a3f5f\", \"gridcolor\": \"white\", \"linecolor\": \"white\", \"minorgridcolor\": \"white\", \"startlinecolor\": \"#2a3f5f\"}, \"type\": \"carpet\"}], \"choropleth\": [{\"colorbar\": {\"outlinewidth\": 0, \"ticks\": \"\"}, \"type\": \"choropleth\"}], \"contour\": [{\"colorbar\": {\"outlinewidth\": 0, \"ticks\": \"\"}, \"colorscale\": [[0.0, \"#0d0887\"], [0.1111111111111111, \"#46039f\"], [0.2222222222222222, \"#7201a8\"], [0.3333333333333333, \"#9c179e\"], [0.4444444444444444, \"#bd3786\"], [0.5555555555555556, \"#d8576b\"], [0.6666666666666666, \"#ed7953\"], [0.7777777777777778, \"#fb9f3a\"], [0.8888888888888888, \"#fdca26\"], [1.0, \"#f0f921\"]], \"type\": \"contour\"}], \"contourcarpet\": [{\"colorbar\": {\"outlinewidth\": 0, \"ticks\": \"\"}, \"type\": \"contourcarpet\"}], \"heatmap\": [{\"colorbar\": {\"outlinewidth\": 0, \"ticks\": \"\"}, \"colorscale\": [[0.0, \"#0d0887\"], [0.1111111111111111, \"#46039f\"], [0.2222222222222222, \"#7201a8\"], [0.3333333333333333, \"#9c179e\"], [0.4444444444444444, \"#bd3786\"], [0.5555555555555556, \"#d8576b\"], [0.6666666666666666, \"#ed7953\"], [0.7777777777777778, \"#fb9f3a\"], [0.8888888888888888, \"#fdca26\"], [1.0, \"#f0f921\"]], \"type\": \"heatmap\"}], \"heatmapgl\": [{\"colorbar\": {\"outlinewidth\": 0, \"ticks\": \"\"}, \"colorscale\": [[0.0, \"#0d0887\"], [0.1111111111111111, \"#46039f\"], [0.2222222222222222, \"#7201a8\"], [0.3333333333333333, \"#9c179e\"], [0.4444444444444444, \"#bd3786\"], [0.5555555555555556, \"#d8576b\"], [0.6666666666666666, \"#ed7953\"], [0.7777777777777778, \"#fb9f3a\"], [0.8888888888888888, \"#fdca26\"], [1.0, \"#f0f921\"]], \"type\": \"heatmapgl\"}], \"histogram\": [{\"marker\": {\"colorbar\": {\"outlinewidth\": 0, \"ticks\": \"\"}}, \"type\": \"histogram\"}], \"histogram2d\": [{\"colorbar\": {\"outlinewidth\": 0, \"ticks\": \"\"}, \"colorscale\": [[0.0, \"#0d0887\"], [0.1111111111111111, \"#46039f\"], [0.2222222222222222, \"#7201a8\"], [0.3333333333333333, \"#9c179e\"], [0.4444444444444444, \"#bd3786\"], [0.5555555555555556, \"#d8576b\"], [0.6666666666666666, \"#ed7953\"], [0.7777777777777778, \"#fb9f3a\"], [0.8888888888888888, \"#fdca26\"], [1.0, \"#f0f921\"]], \"type\": \"histogram2d\"}], \"histogram2dcontour\": [{\"colorbar\": {\"outlinewidth\": 0, \"ticks\": \"\"}, \"colorscale\": [[0.0, \"#0d0887\"], [0.1111111111111111, \"#46039f\"], [0.2222222222222222, \"#7201a8\"], [0.3333333333333333, \"#9c179e\"], [0.4444444444444444, \"#bd3786\"], [0.5555555555555556, \"#d8576b\"], [0.6666666666666666, \"#ed7953\"], [0.7777777777777778, \"#fb9f3a\"], [0.8888888888888888, \"#fdca26\"], [1.0, \"#f0f921\"]], \"type\": \"histogram2dcontour\"}], \"mesh3d\": [{\"colorbar\": {\"outlinewidth\": 0, \"ticks\": \"\"}, \"type\": \"mesh3d\"}], \"parcoords\": [{\"line\": {\"colorbar\": {\"outlinewidth\": 0, \"ticks\": \"\"}}, \"type\": \"parcoords\"}], \"pie\": [{\"automargin\": true, \"type\": \"pie\"}], \"scatter\": [{\"marker\": {\"colorbar\": {\"outlinewidth\": 0, \"ticks\": \"\"}}, \"type\": \"scatter\"}], \"scatter3d\": [{\"line\": {\"colorbar\": {\"outlinewidth\": 0, \"ticks\": \"\"}}, \"marker\": {\"colorbar\": {\"outlinewidth\": 0, \"ticks\": \"\"}}, \"type\": \"scatter3d\"}], \"scattercarpet\": [{\"marker\": {\"colorbar\": {\"outlinewidth\": 0, \"ticks\": \"\"}}, \"type\": \"scattercarpet\"}], \"scattergeo\": [{\"marker\": {\"colorbar\": {\"outlinewidth\": 0, \"ticks\": \"\"}}, \"type\": \"scattergeo\"}], \"scattergl\": [{\"marker\": {\"colorbar\": {\"outlinewidth\": 0, \"ticks\": \"\"}}, \"type\": \"scattergl\"}], \"scattermapbox\": [{\"marker\": {\"colorbar\": {\"outlinewidth\": 0, \"ticks\": \"\"}}, \"type\": \"scattermapbox\"}], \"scatterpolar\": [{\"marker\": {\"colorbar\": {\"outlinewidth\": 0, \"ticks\": \"\"}}, \"type\": \"scatterpolar\"}], \"scatterpolargl\": [{\"marker\": {\"colorbar\": {\"outlinewidth\": 0, \"ticks\": \"\"}}, \"type\": \"scatterpolargl\"}], \"scatterternary\": [{\"marker\": {\"colorbar\": {\"outlinewidth\": 0, \"ticks\": \"\"}}, \"type\": \"scatterternary\"}], \"surface\": [{\"colorbar\": {\"outlinewidth\": 0, \"ticks\": \"\"}, \"colorscale\": [[0.0, \"#0d0887\"], [0.1111111111111111, \"#46039f\"], [0.2222222222222222, \"#7201a8\"], [0.3333333333333333, \"#9c179e\"], [0.4444444444444444, \"#bd3786\"], [0.5555555555555556, \"#d8576b\"], [0.6666666666666666, \"#ed7953\"], [0.7777777777777778, \"#fb9f3a\"], [0.8888888888888888, \"#fdca26\"], [1.0, \"#f0f921\"]], \"type\": \"surface\"}], \"table\": [{\"cells\": {\"fill\": {\"color\": \"#EBF0F8\"}, \"line\": {\"color\": \"white\"}}, \"header\": {\"fill\": {\"color\": \"#C8D4E3\"}, \"line\": {\"color\": \"white\"}}, \"type\": \"table\"}]}, \"layout\": {\"annotationdefaults\": {\"arrowcolor\": \"#2a3f5f\", \"arrowhead\": 0, \"arrowwidth\": 1}, \"autotypenumbers\": \"strict\", \"coloraxis\": {\"colorbar\": {\"outlinewidth\": 0, \"ticks\": \"\"}}, \"colorscale\": {\"diverging\": [[0, \"#8e0152\"], [0.1, \"#c51b7d\"], [0.2, \"#de77ae\"], [0.3, \"#f1b6da\"], [0.4, \"#fde0ef\"], [0.5, \"#f7f7f7\"], [0.6, \"#e6f5d0\"], [0.7, \"#b8e186\"], [0.8, \"#7fbc41\"], [0.9, \"#4d9221\"], [1, \"#276419\"]], \"sequential\": [[0.0, \"#0d0887\"], [0.1111111111111111, \"#46039f\"], [0.2222222222222222, \"#7201a8\"], [0.3333333333333333, \"#9c179e\"], [0.4444444444444444, \"#bd3786\"], [0.5555555555555556, \"#d8576b\"], [0.6666666666666666, \"#ed7953\"], [0.7777777777777778, \"#fb9f3a\"], [0.8888888888888888, \"#fdca26\"], [1.0, \"#f0f921\"]], \"sequentialminus\": [[0.0, \"#0d0887\"], [0.1111111111111111, \"#46039f\"], [0.2222222222222222, \"#7201a8\"], [0.3333333333333333, \"#9c179e\"], [0.4444444444444444, \"#bd3786\"], [0.5555555555555556, \"#d8576b\"], [0.6666666666666666, \"#ed7953\"], [0.7777777777777778, \"#fb9f3a\"], [0.8888888888888888, \"#fdca26\"], [1.0, \"#f0f921\"]]}, \"colorway\": [\"#636efa\", \"#EF553B\", \"#00cc96\", \"#ab63fa\", \"#FFA15A\", \"#19d3f3\", \"#FF6692\", \"#B6E880\", \"#FF97FF\", \"#FECB52\"], \"font\": {\"color\": \"#2a3f5f\"}, \"geo\": {\"bgcolor\": \"white\", \"lakecolor\": \"white\", \"landcolor\": \"#E5ECF6\", \"showlakes\": true, \"showland\": true, \"subunitcolor\": \"white\"}, \"hoverlabel\": {\"align\": \"left\"}, \"hovermode\": \"closest\", \"mapbox\": {\"style\": \"light\"}, \"paper_bgcolor\": \"white\", \"plot_bgcolor\": \"#E5ECF6\", \"polar\": {\"angularaxis\": {\"gridcolor\": \"white\", \"linecolor\": \"white\", \"ticks\": \"\"}, \"bgcolor\": \"#E5ECF6\", \"radialaxis\": {\"gridcolor\": \"white\", \"linecolor\": \"white\", \"ticks\": \"\"}}, \"scene\": {\"xaxis\": {\"backgroundcolor\": \"#E5ECF6\", \"gridcolor\": \"white\", \"gridwidth\": 2, \"linecolor\": \"white\", \"showbackground\": true, \"ticks\": \"\", \"zerolinecolor\": \"white\"}, \"yaxis\": {\"backgroundcolor\": \"#E5ECF6\", \"gridcolor\": \"white\", \"gridwidth\": 2, \"linecolor\": \"white\", \"showbackground\": true, \"ticks\": \"\", \"zerolinecolor\": \"white\"}, \"zaxis\": {\"backgroundcolor\": \"#E5ECF6\", \"gridcolor\": \"white\", \"gridwidth\": 2, \"linecolor\": \"white\", \"showbackground\": true, \"ticks\": \"\", \"zerolinecolor\": \"white\"}}, \"shapedefaults\": {\"line\": {\"color\": \"#2a3f5f\"}}, \"ternary\": {\"aaxis\": {\"gridcolor\": \"white\", \"linecolor\": \"white\", \"ticks\": \"\"}, \"baxis\": {\"gridcolor\": \"white\", \"linecolor\": \"white\", \"ticks\": \"\"}, \"bgcolor\": \"#E5ECF6\", \"caxis\": {\"gridcolor\": \"white\", \"linecolor\": \"white\", \"ticks\": \"\"}}, \"title\": {\"x\": 0.05}, \"xaxis\": {\"automargin\": true, \"gridcolor\": \"white\", \"linecolor\": \"white\", \"ticks\": \"\", \"title\": {\"standoff\": 15}, \"zerolinecolor\": \"white\", \"zerolinewidth\": 2}, \"yaxis\": {\"automargin\": true, \"gridcolor\": \"white\", \"linecolor\": \"white\", \"ticks\": \"\", \"title\": {\"standoff\": 15}, \"zerolinecolor\": \"white\", \"zerolinewidth\": 2}}}},                        {\"responsive\": true}                    ).then(function(){\n",
       "                            \n",
       "var gd = document.getElementById('ad4c657e-83ab-4846-8f89-1ddfd88a60cf');\n",
       "var x = new MutationObserver(function (mutations, observer) {{\n",
       "        var display = window.getComputedStyle(gd).display;\n",
       "        if (!display || display === 'none') {{\n",
       "            console.log([gd, 'removed!']);\n",
       "            Plotly.purge(gd);\n",
       "            observer.disconnect();\n",
       "        }}\n",
       "}});\n",
       "\n",
       "// Listen for the removal of the full notebook cells\n",
       "var notebookContainer = gd.closest('#notebook-container');\n",
       "if (notebookContainer) {{\n",
       "    x.observe(notebookContainer, {childList: true});\n",
       "}}\n",
       "\n",
       "// Listen for the clearing of the current output cell\n",
       "var outputEl = gd.closest('.output');\n",
       "if (outputEl) {{\n",
       "    x.observe(outputEl, {childList: true});\n",
       "}}\n",
       "\n",
       "                        })                };                });            </script>        </div>"
      ]
     },
     "metadata": {},
     "output_type": "display_data"
    }
   ],
   "source": [
    "# noexport\n",
    "\n",
    "import plotly.graph_objects as go\n",
    "\n",
    "fig = go.Figure(data=[\n",
    "    #go.Bar(name='no MT, 5 src syn for each word', x=langpair_list, y=[langpair_to_num_src_trg_synonyms_nomt_to_accuracy[lang][(5, 0)] for lang in langpair_list]),\n",
    "    go.Bar(name='prefix-constrained MT', x=langpair_list, y=[lang_to_baseline_accuracy[lang] for lang in langpair_list]),\n",
    "    #go.Bar(name='prefix-constrained MT, plus 5 src syn for each word', x=langpair_list, y=[langpair_to_num_src_trg_synonyms_prefix_nextword_to_accuracy[lang][(5,0)] for lang in langpair_list]),\n",
    "    #go.Bar(name='prefix-constrained MT, plus 5 trg syn for *next* word', x=langpair_list, y=[langpair_to_num_src_trg_synonyms_prefix_nextword_to_accuracy[lang][(0,5)] for lang in langpair_list]),\n",
    "    #go.Bar(name='prefix-constrained MT, plus 5 src syn for each word + 5 trg syn for each word', x=langpair_list, y=[langpair_to_num_src_trg_synonyms_prefix_oracle_allsyn_to_accuracy[lang][(5,5)] for lang in langpair_list]),\n",
    "    #go.Bar(name='prefix-constrained MT with oracle', x=langpair_list, y=[lang_to_baseline_accuracy_with_oracle[lang] for lang in langpair_list]),\n",
    "    #go.Bar(name='prefix-constrained MT with oracle, plus 5 src syn for each word', x=langpair_list, y=[langpair_to_num_src_trg_synonyms_prefix_oracle_to_accuracy[lang][(5,0)] for lang in langpair_list]),\n",
    "    #go.Bar(name='prefix-constrained MT with oracle, plus 5 trg syn for *next* word', x=langpair_list, y=[langpair_to_num_src_trg_synonyms_prefix_oracle_to_accuracy[lang][(0,5)] for lang in langpair_list]),\n",
    "    #go.Bar(name='prefix-constrained MT with oracle, plus 5 src syn for each word + 5 trg syn for each word', x=langpair_list, y=[langpair_to_num_src_trg_synonyms_prefix_oracle_allsyn_to_accuracy[lang][(5,5)] for lang in langpair_list]),\n",
    "    go.Bar(name='fixed MT with heuristic v3', x=langpair_list, y=[langpair_to_lilt_fixedmt_heuristic_v3_accuracy[lang] for lang in langpair_list]),\n",
    "    #go.Bar(name='fixed MT with oracle', x=langpair_list, y=[langpair_to_oracle_accuracy[lang] for lang in langpair_list]),\n",
    "    #go.Bar(name='fixed MT with oracle, plus 5 src syn for each word', x=langpair_list, y=[langpair_to_num_src_trg_synonyms_to_accuracy[lang][(5,0)] for lang in langpair_list]),\n",
    "    #go.Bar(name='fixed MT with oracle, plus 5 trg syn for each word', x=langpair_list, y=[langpair_to_num_src_trg_synonyms_to_accuracy[lang][(0,5)] for lang in langpair_list]),\n",
    "    #go.Bar(name='fixed MT with oracle, plus 5 src syn + 5 trg syn for each word', x=langpair_list, y=[langpair_to_num_src_trg_synonyms_to_accuracy[lang][(5,5)] for lang in langpair_list]),\n",
    "    #go.Bar(name='google translate with oracle', x=langpair_list, y=[lang_to_google_translate_accuracy_with_oracle[lang] for lang in langpair_list]),\n",
    "    #go.Bar(name='google translate with heuristic', x=langpair_list, y=[langpair_to_google_heuristic_accuracy[lang] for lang in langpair_list]),\n",
    "    #go.Bar(name='google translate with heuristic v2', x=langpair_list, y=[langpair_to_google_heuristic_v2_accuracy[lang] for lang in langpair_list]),\n",
    "    #go.Bar(name='google translate with heuristic v3', x=langpair_list, y=[langpair_to_google_heuristic_v3_accuracy[lang] for lang in langpair_list]),\n",
    "    go.Bar(name='google translate with heuristic v3', x=langpair_list, y=[langpair_to_google_heuristic_v3_accuracy[lang] for lang in langpair_list]),\n",
    "    #go.Bar(name='google translate with oracle', x=langpair_list, y=[langpair_to_num_src_trg_synonyms_googtrans_to_accuracy[lang][(0,0)] for lang in langpair_list]),\n",
    "    #go.Bar(name='google translate with oracle, plus 5 src syn for each word', x=langpair_list, y=[langpair_to_num_src_trg_synonyms_googtrans_to_accuracy[lang][(5,0)] for lang in langpair_list]),\n",
    "    #go.Bar(name='google translate with oracle, plus 5 trg syn for each word', x=langpair_list, y=[langpair_to_num_src_trg_synonyms_googtrans_to_accuracy[lang][(0,5)] for lang in langpair_list]),\n",
    "    #go.Bar(name='google translate with oracle, plus 5 src syn + 5 trg syn for each word', x=langpair_list, y=[langpair_to_num_src_trg_synonyms_googtrans_to_accuracy[lang][(5,5)] for lang in langpair_list]),\n",
    "])\n",
    "# Change the bar mode\n",
    "fig.update_layout(barmode='group')\n",
    "fig.show()"
   ]
  },
  {
   "cell_type": "code",
   "execution_count": 65,
   "metadata": {},
   "outputs": [
    {
     "data": {
      "application/vnd.plotly.v1+json": {
       "config": {
        "plotlyServerURL": "https://plot.ly"
       },
       "data": [
        {
         "name": "prefix-constrained MT",
         "type": "bar",
         "x": [
          "ende",
          "enes",
          "enfr",
          "enit",
          "enja",
          "enko",
          "enpt",
          "enzh",
          "enzt"
         ],
         "y": [
          0.6044597073905067,
          0.6861345202322586,
          0.6824583665422207,
          0.6756007659856306,
          0.5356384842053206,
          0.5748556051457075,
          0.7112302160690883,
          0.590495387151778,
          0.5642852066671404
         ]
        },
        {
         "name": "prefix-constrained MT with oracle",
         "type": "bar",
         "x": [
          "ende",
          "enes",
          "enfr",
          "enit",
          "enja",
          "enko",
          "enpt",
          "enzh",
          "enzt"
         ],
         "y": [
          0.6347744272474949,
          0.7300859296747324,
          0.7208618230630479,
          0.7121002692468288,
          0.6128747759071895,
          0.5985276100463813,
          0.752427836956887,
          0.6385887055794573,
          0.6083300988919077
         ]
        },
        {
         "name": "fixed MT with heuristic v3",
         "type": "bar",
         "x": [
          "ende",
          "enes",
          "enfr",
          "enit",
          "enja",
          "enko",
          "enpt",
          "enzh",
          "enzt"
         ],
         "y": [
          0.41983346662275955,
          0.5237793994713179,
          0.48752569319182854,
          0.5041034944494838,
          0.3981371963156051,
          0.43181718736326247,
          0.5549749655566383,
          0.5758720372189663,
          0.5693309352911271
         ]
        },
        {
         "name": "fixed MT with oracle",
         "type": "bar",
         "x": [
          "ende",
          "enes",
          "enfr",
          "enit",
          "enja",
          "enko",
          "enpt",
          "enzh",
          "enzt"
         ],
         "y": [
          0.5545373288798984,
          0.6831371485807671,
          0.6465246025420529,
          0.6487336760111154,
          0.5634898720352779,
          0.5361534085936817,
          0.7005107698511375,
          0.6442347866345969,
          0.6186456892640233
         ]
        },
        {
         "name": "google translate with heuristic v3",
         "type": "bar",
         "x": [
          "ende",
          "enes",
          "enfr",
          "enit",
          "enja",
          "enko",
          "enpt",
          "enzh",
          "enzt"
         ],
         "y": [
          0.5082278778755234,
          0.5589119089040012,
          0.5496927303997651,
          0.5712136264812175,
          0.5711553916215046,
          0.3800975759166885,
          0.6091266507611143,
          0.7423128606434274,
          0.6308964778299541
         ]
        },
        {
         "name": "google translate with oracle",
         "type": "bar",
         "x": [
          "ende",
          "enes",
          "enfr",
          "enit",
          "enja",
          "enko",
          "enpt",
          "enzh",
          "enzt"
         ],
         "y": [
          0.6262313590817142,
          0.7147902969506639,
          0.6903393598724779,
          0.7041668466444934,
          0.7189185847637495,
          0.5062789883608996,
          0.7422796464934978,
          0.7734622898246327,
          0.658399252160698
         ]
        }
       ],
       "layout": {
        "barmode": "group",
        "template": {
         "data": {
          "bar": [
           {
            "error_x": {
             "color": "#2a3f5f"
            },
            "error_y": {
             "color": "#2a3f5f"
            },
            "marker": {
             "line": {
              "color": "#E5ECF6",
              "width": 0.5
             }
            },
            "type": "bar"
           }
          ],
          "barpolar": [
           {
            "marker": {
             "line": {
              "color": "#E5ECF6",
              "width": 0.5
             }
            },
            "type": "barpolar"
           }
          ],
          "carpet": [
           {
            "aaxis": {
             "endlinecolor": "#2a3f5f",
             "gridcolor": "white",
             "linecolor": "white",
             "minorgridcolor": "white",
             "startlinecolor": "#2a3f5f"
            },
            "baxis": {
             "endlinecolor": "#2a3f5f",
             "gridcolor": "white",
             "linecolor": "white",
             "minorgridcolor": "white",
             "startlinecolor": "#2a3f5f"
            },
            "type": "carpet"
           }
          ],
          "choropleth": [
           {
            "colorbar": {
             "outlinewidth": 0,
             "ticks": ""
            },
            "type": "choropleth"
           }
          ],
          "contour": [
           {
            "colorbar": {
             "outlinewidth": 0,
             "ticks": ""
            },
            "colorscale": [
             [
              0,
              "#0d0887"
             ],
             [
              0.1111111111111111,
              "#46039f"
             ],
             [
              0.2222222222222222,
              "#7201a8"
             ],
             [
              0.3333333333333333,
              "#9c179e"
             ],
             [
              0.4444444444444444,
              "#bd3786"
             ],
             [
              0.5555555555555556,
              "#d8576b"
             ],
             [
              0.6666666666666666,
              "#ed7953"
             ],
             [
              0.7777777777777778,
              "#fb9f3a"
             ],
             [
              0.8888888888888888,
              "#fdca26"
             ],
             [
              1,
              "#f0f921"
             ]
            ],
            "type": "contour"
           }
          ],
          "contourcarpet": [
           {
            "colorbar": {
             "outlinewidth": 0,
             "ticks": ""
            },
            "type": "contourcarpet"
           }
          ],
          "heatmap": [
           {
            "colorbar": {
             "outlinewidth": 0,
             "ticks": ""
            },
            "colorscale": [
             [
              0,
              "#0d0887"
             ],
             [
              0.1111111111111111,
              "#46039f"
             ],
             [
              0.2222222222222222,
              "#7201a8"
             ],
             [
              0.3333333333333333,
              "#9c179e"
             ],
             [
              0.4444444444444444,
              "#bd3786"
             ],
             [
              0.5555555555555556,
              "#d8576b"
             ],
             [
              0.6666666666666666,
              "#ed7953"
             ],
             [
              0.7777777777777778,
              "#fb9f3a"
             ],
             [
              0.8888888888888888,
              "#fdca26"
             ],
             [
              1,
              "#f0f921"
             ]
            ],
            "type": "heatmap"
           }
          ],
          "heatmapgl": [
           {
            "colorbar": {
             "outlinewidth": 0,
             "ticks": ""
            },
            "colorscale": [
             [
              0,
              "#0d0887"
             ],
             [
              0.1111111111111111,
              "#46039f"
             ],
             [
              0.2222222222222222,
              "#7201a8"
             ],
             [
              0.3333333333333333,
              "#9c179e"
             ],
             [
              0.4444444444444444,
              "#bd3786"
             ],
             [
              0.5555555555555556,
              "#d8576b"
             ],
             [
              0.6666666666666666,
              "#ed7953"
             ],
             [
              0.7777777777777778,
              "#fb9f3a"
             ],
             [
              0.8888888888888888,
              "#fdca26"
             ],
             [
              1,
              "#f0f921"
             ]
            ],
            "type": "heatmapgl"
           }
          ],
          "histogram": [
           {
            "marker": {
             "colorbar": {
              "outlinewidth": 0,
              "ticks": ""
             }
            },
            "type": "histogram"
           }
          ],
          "histogram2d": [
           {
            "colorbar": {
             "outlinewidth": 0,
             "ticks": ""
            },
            "colorscale": [
             [
              0,
              "#0d0887"
             ],
             [
              0.1111111111111111,
              "#46039f"
             ],
             [
              0.2222222222222222,
              "#7201a8"
             ],
             [
              0.3333333333333333,
              "#9c179e"
             ],
             [
              0.4444444444444444,
              "#bd3786"
             ],
             [
              0.5555555555555556,
              "#d8576b"
             ],
             [
              0.6666666666666666,
              "#ed7953"
             ],
             [
              0.7777777777777778,
              "#fb9f3a"
             ],
             [
              0.8888888888888888,
              "#fdca26"
             ],
             [
              1,
              "#f0f921"
             ]
            ],
            "type": "histogram2d"
           }
          ],
          "histogram2dcontour": [
           {
            "colorbar": {
             "outlinewidth": 0,
             "ticks": ""
            },
            "colorscale": [
             [
              0,
              "#0d0887"
             ],
             [
              0.1111111111111111,
              "#46039f"
             ],
             [
              0.2222222222222222,
              "#7201a8"
             ],
             [
              0.3333333333333333,
              "#9c179e"
             ],
             [
              0.4444444444444444,
              "#bd3786"
             ],
             [
              0.5555555555555556,
              "#d8576b"
             ],
             [
              0.6666666666666666,
              "#ed7953"
             ],
             [
              0.7777777777777778,
              "#fb9f3a"
             ],
             [
              0.8888888888888888,
              "#fdca26"
             ],
             [
              1,
              "#f0f921"
             ]
            ],
            "type": "histogram2dcontour"
           }
          ],
          "mesh3d": [
           {
            "colorbar": {
             "outlinewidth": 0,
             "ticks": ""
            },
            "type": "mesh3d"
           }
          ],
          "parcoords": [
           {
            "line": {
             "colorbar": {
              "outlinewidth": 0,
              "ticks": ""
             }
            },
            "type": "parcoords"
           }
          ],
          "pie": [
           {
            "automargin": true,
            "type": "pie"
           }
          ],
          "scatter": [
           {
            "marker": {
             "colorbar": {
              "outlinewidth": 0,
              "ticks": ""
             }
            },
            "type": "scatter"
           }
          ],
          "scatter3d": [
           {
            "line": {
             "colorbar": {
              "outlinewidth": 0,
              "ticks": ""
             }
            },
            "marker": {
             "colorbar": {
              "outlinewidth": 0,
              "ticks": ""
             }
            },
            "type": "scatter3d"
           }
          ],
          "scattercarpet": [
           {
            "marker": {
             "colorbar": {
              "outlinewidth": 0,
              "ticks": ""
             }
            },
            "type": "scattercarpet"
           }
          ],
          "scattergeo": [
           {
            "marker": {
             "colorbar": {
              "outlinewidth": 0,
              "ticks": ""
             }
            },
            "type": "scattergeo"
           }
          ],
          "scattergl": [
           {
            "marker": {
             "colorbar": {
              "outlinewidth": 0,
              "ticks": ""
             }
            },
            "type": "scattergl"
           }
          ],
          "scattermapbox": [
           {
            "marker": {
             "colorbar": {
              "outlinewidth": 0,
              "ticks": ""
             }
            },
            "type": "scattermapbox"
           }
          ],
          "scatterpolar": [
           {
            "marker": {
             "colorbar": {
              "outlinewidth": 0,
              "ticks": ""
             }
            },
            "type": "scatterpolar"
           }
          ],
          "scatterpolargl": [
           {
            "marker": {
             "colorbar": {
              "outlinewidth": 0,
              "ticks": ""
             }
            },
            "type": "scatterpolargl"
           }
          ],
          "scatterternary": [
           {
            "marker": {
             "colorbar": {
              "outlinewidth": 0,
              "ticks": ""
             }
            },
            "type": "scatterternary"
           }
          ],
          "surface": [
           {
            "colorbar": {
             "outlinewidth": 0,
             "ticks": ""
            },
            "colorscale": [
             [
              0,
              "#0d0887"
             ],
             [
              0.1111111111111111,
              "#46039f"
             ],
             [
              0.2222222222222222,
              "#7201a8"
             ],
             [
              0.3333333333333333,
              "#9c179e"
             ],
             [
              0.4444444444444444,
              "#bd3786"
             ],
             [
              0.5555555555555556,
              "#d8576b"
             ],
             [
              0.6666666666666666,
              "#ed7953"
             ],
             [
              0.7777777777777778,
              "#fb9f3a"
             ],
             [
              0.8888888888888888,
              "#fdca26"
             ],
             [
              1,
              "#f0f921"
             ]
            ],
            "type": "surface"
           }
          ],
          "table": [
           {
            "cells": {
             "fill": {
              "color": "#EBF0F8"
             },
             "line": {
              "color": "white"
             }
            },
            "header": {
             "fill": {
              "color": "#C8D4E3"
             },
             "line": {
              "color": "white"
             }
            },
            "type": "table"
           }
          ]
         },
         "layout": {
          "annotationdefaults": {
           "arrowcolor": "#2a3f5f",
           "arrowhead": 0,
           "arrowwidth": 1
          },
          "autotypenumbers": "strict",
          "coloraxis": {
           "colorbar": {
            "outlinewidth": 0,
            "ticks": ""
           }
          },
          "colorscale": {
           "diverging": [
            [
             0,
             "#8e0152"
            ],
            [
             0.1,
             "#c51b7d"
            ],
            [
             0.2,
             "#de77ae"
            ],
            [
             0.3,
             "#f1b6da"
            ],
            [
             0.4,
             "#fde0ef"
            ],
            [
             0.5,
             "#f7f7f7"
            ],
            [
             0.6,
             "#e6f5d0"
            ],
            [
             0.7,
             "#b8e186"
            ],
            [
             0.8,
             "#7fbc41"
            ],
            [
             0.9,
             "#4d9221"
            ],
            [
             1,
             "#276419"
            ]
           ],
           "sequential": [
            [
             0,
             "#0d0887"
            ],
            [
             0.1111111111111111,
             "#46039f"
            ],
            [
             0.2222222222222222,
             "#7201a8"
            ],
            [
             0.3333333333333333,
             "#9c179e"
            ],
            [
             0.4444444444444444,
             "#bd3786"
            ],
            [
             0.5555555555555556,
             "#d8576b"
            ],
            [
             0.6666666666666666,
             "#ed7953"
            ],
            [
             0.7777777777777778,
             "#fb9f3a"
            ],
            [
             0.8888888888888888,
             "#fdca26"
            ],
            [
             1,
             "#f0f921"
            ]
           ],
           "sequentialminus": [
            [
             0,
             "#0d0887"
            ],
            [
             0.1111111111111111,
             "#46039f"
            ],
            [
             0.2222222222222222,
             "#7201a8"
            ],
            [
             0.3333333333333333,
             "#9c179e"
            ],
            [
             0.4444444444444444,
             "#bd3786"
            ],
            [
             0.5555555555555556,
             "#d8576b"
            ],
            [
             0.6666666666666666,
             "#ed7953"
            ],
            [
             0.7777777777777778,
             "#fb9f3a"
            ],
            [
             0.8888888888888888,
             "#fdca26"
            ],
            [
             1,
             "#f0f921"
            ]
           ]
          },
          "colorway": [
           "#636efa",
           "#EF553B",
           "#00cc96",
           "#ab63fa",
           "#FFA15A",
           "#19d3f3",
           "#FF6692",
           "#B6E880",
           "#FF97FF",
           "#FECB52"
          ],
          "font": {
           "color": "#2a3f5f"
          },
          "geo": {
           "bgcolor": "white",
           "lakecolor": "white",
           "landcolor": "#E5ECF6",
           "showlakes": true,
           "showland": true,
           "subunitcolor": "white"
          },
          "hoverlabel": {
           "align": "left"
          },
          "hovermode": "closest",
          "mapbox": {
           "style": "light"
          },
          "paper_bgcolor": "white",
          "plot_bgcolor": "#E5ECF6",
          "polar": {
           "angularaxis": {
            "gridcolor": "white",
            "linecolor": "white",
            "ticks": ""
           },
           "bgcolor": "#E5ECF6",
           "radialaxis": {
            "gridcolor": "white",
            "linecolor": "white",
            "ticks": ""
           }
          },
          "scene": {
           "xaxis": {
            "backgroundcolor": "#E5ECF6",
            "gridcolor": "white",
            "gridwidth": 2,
            "linecolor": "white",
            "showbackground": true,
            "ticks": "",
            "zerolinecolor": "white"
           },
           "yaxis": {
            "backgroundcolor": "#E5ECF6",
            "gridcolor": "white",
            "gridwidth": 2,
            "linecolor": "white",
            "showbackground": true,
            "ticks": "",
            "zerolinecolor": "white"
           },
           "zaxis": {
            "backgroundcolor": "#E5ECF6",
            "gridcolor": "white",
            "gridwidth": 2,
            "linecolor": "white",
            "showbackground": true,
            "ticks": "",
            "zerolinecolor": "white"
           }
          },
          "shapedefaults": {
           "line": {
            "color": "#2a3f5f"
           }
          },
          "ternary": {
           "aaxis": {
            "gridcolor": "white",
            "linecolor": "white",
            "ticks": ""
           },
           "baxis": {
            "gridcolor": "white",
            "linecolor": "white",
            "ticks": ""
           },
           "bgcolor": "#E5ECF6",
           "caxis": {
            "gridcolor": "white",
            "linecolor": "white",
            "ticks": ""
           }
          },
          "title": {
           "x": 0.05
          },
          "xaxis": {
           "automargin": true,
           "gridcolor": "white",
           "linecolor": "white",
           "ticks": "",
           "title": {
            "standoff": 15
           },
           "zerolinecolor": "white",
           "zerolinewidth": 2
          },
          "yaxis": {
           "automargin": true,
           "gridcolor": "white",
           "linecolor": "white",
           "ticks": "",
           "title": {
            "standoff": 15
           },
           "zerolinecolor": "white",
           "zerolinewidth": 2
          }
         }
        }
       }
      },
      "text/html": [
       "<div>                            <div id=\"720532d3-7120-4d08-8d50-c94dbe242fa7\" class=\"plotly-graph-div\" style=\"height:525px; width:100%;\"></div>            <script type=\"text/javascript\">                require([\"plotly\"], function(Plotly) {                    window.PLOTLYENV=window.PLOTLYENV || {};                                    if (document.getElementById(\"720532d3-7120-4d08-8d50-c94dbe242fa7\")) {                    Plotly.newPlot(                        \"720532d3-7120-4d08-8d50-c94dbe242fa7\",                        [{\"name\": \"prefix-constrained MT\", \"type\": \"bar\", \"x\": [\"ende\", \"enes\", \"enfr\", \"enit\", \"enja\", \"enko\", \"enpt\", \"enzh\", \"enzt\"], \"y\": [0.6044597073905067, 0.6861345202322586, 0.6824583665422207, 0.6756007659856306, 0.5356384842053206, 0.5748556051457075, 0.7112302160690883, 0.590495387151778, 0.5642852066671404]}, {\"name\": \"prefix-constrained MT with oracle\", \"type\": \"bar\", \"x\": [\"ende\", \"enes\", \"enfr\", \"enit\", \"enja\", \"enko\", \"enpt\", \"enzh\", \"enzt\"], \"y\": [0.6347744272474949, 0.7300859296747324, 0.7208618230630479, 0.7121002692468288, 0.6128747759071895, 0.5985276100463813, 0.752427836956887, 0.6385887055794573, 0.6083300988919077]}, {\"name\": \"fixed MT with heuristic v3\", \"type\": \"bar\", \"x\": [\"ende\", \"enes\", \"enfr\", \"enit\", \"enja\", \"enko\", \"enpt\", \"enzh\", \"enzt\"], \"y\": [0.41983346662275955, 0.5237793994713179, 0.48752569319182854, 0.5041034944494838, 0.3981371963156051, 0.43181718736326247, 0.5549749655566383, 0.5758720372189663, 0.5693309352911271]}, {\"name\": \"fixed MT with oracle\", \"type\": \"bar\", \"x\": [\"ende\", \"enes\", \"enfr\", \"enit\", \"enja\", \"enko\", \"enpt\", \"enzh\", \"enzt\"], \"y\": [0.5545373288798984, 0.6831371485807671, 0.6465246025420529, 0.6487336760111154, 0.5634898720352779, 0.5361534085936817, 0.7005107698511375, 0.6442347866345969, 0.6186456892640233]}, {\"name\": \"google translate with heuristic v3\", \"type\": \"bar\", \"x\": [\"ende\", \"enes\", \"enfr\", \"enit\", \"enja\", \"enko\", \"enpt\", \"enzh\", \"enzt\"], \"y\": [0.5082278778755234, 0.5589119089040012, 0.5496927303997651, 0.5712136264812175, 0.5711553916215046, 0.3800975759166885, 0.6091266507611143, 0.7423128606434274, 0.6308964778299541]}, {\"name\": \"google translate with oracle\", \"type\": \"bar\", \"x\": [\"ende\", \"enes\", \"enfr\", \"enit\", \"enja\", \"enko\", \"enpt\", \"enzh\", \"enzt\"], \"y\": [0.6262313590817142, 0.7147902969506639, 0.6903393598724779, 0.7041668466444934, 0.7189185847637495, 0.5062789883608996, 0.7422796464934978, 0.7734622898246327, 0.658399252160698]}],                        {\"barmode\": \"group\", \"template\": {\"data\": {\"bar\": [{\"error_x\": {\"color\": \"#2a3f5f\"}, \"error_y\": {\"color\": \"#2a3f5f\"}, \"marker\": {\"line\": {\"color\": \"#E5ECF6\", \"width\": 0.5}}, \"type\": \"bar\"}], \"barpolar\": [{\"marker\": {\"line\": {\"color\": \"#E5ECF6\", \"width\": 0.5}}, \"type\": \"barpolar\"}], \"carpet\": [{\"aaxis\": {\"endlinecolor\": \"#2a3f5f\", \"gridcolor\": \"white\", \"linecolor\": \"white\", \"minorgridcolor\": \"white\", \"startlinecolor\": \"#2a3f5f\"}, \"baxis\": {\"endlinecolor\": \"#2a3f5f\", \"gridcolor\": \"white\", \"linecolor\": \"white\", \"minorgridcolor\": \"white\", \"startlinecolor\": \"#2a3f5f\"}, \"type\": \"carpet\"}], \"choropleth\": [{\"colorbar\": {\"outlinewidth\": 0, \"ticks\": \"\"}, \"type\": \"choropleth\"}], \"contour\": [{\"colorbar\": {\"outlinewidth\": 0, \"ticks\": \"\"}, \"colorscale\": [[0.0, \"#0d0887\"], [0.1111111111111111, \"#46039f\"], [0.2222222222222222, \"#7201a8\"], [0.3333333333333333, \"#9c179e\"], [0.4444444444444444, \"#bd3786\"], [0.5555555555555556, \"#d8576b\"], [0.6666666666666666, \"#ed7953\"], [0.7777777777777778, \"#fb9f3a\"], [0.8888888888888888, \"#fdca26\"], [1.0, \"#f0f921\"]], \"type\": \"contour\"}], \"contourcarpet\": [{\"colorbar\": {\"outlinewidth\": 0, \"ticks\": \"\"}, \"type\": \"contourcarpet\"}], \"heatmap\": [{\"colorbar\": {\"outlinewidth\": 0, \"ticks\": \"\"}, \"colorscale\": [[0.0, \"#0d0887\"], [0.1111111111111111, \"#46039f\"], [0.2222222222222222, \"#7201a8\"], [0.3333333333333333, \"#9c179e\"], [0.4444444444444444, \"#bd3786\"], [0.5555555555555556, \"#d8576b\"], [0.6666666666666666, \"#ed7953\"], [0.7777777777777778, \"#fb9f3a\"], [0.8888888888888888, \"#fdca26\"], [1.0, \"#f0f921\"]], \"type\": \"heatmap\"}], \"heatmapgl\": [{\"colorbar\": {\"outlinewidth\": 0, \"ticks\": \"\"}, \"colorscale\": [[0.0, \"#0d0887\"], [0.1111111111111111, \"#46039f\"], [0.2222222222222222, \"#7201a8\"], [0.3333333333333333, \"#9c179e\"], [0.4444444444444444, \"#bd3786\"], [0.5555555555555556, \"#d8576b\"], [0.6666666666666666, \"#ed7953\"], [0.7777777777777778, \"#fb9f3a\"], [0.8888888888888888, \"#fdca26\"], [1.0, \"#f0f921\"]], \"type\": \"heatmapgl\"}], \"histogram\": [{\"marker\": {\"colorbar\": {\"outlinewidth\": 0, \"ticks\": \"\"}}, \"type\": \"histogram\"}], \"histogram2d\": [{\"colorbar\": {\"outlinewidth\": 0, \"ticks\": \"\"}, \"colorscale\": [[0.0, \"#0d0887\"], [0.1111111111111111, \"#46039f\"], [0.2222222222222222, \"#7201a8\"], [0.3333333333333333, \"#9c179e\"], [0.4444444444444444, \"#bd3786\"], [0.5555555555555556, \"#d8576b\"], [0.6666666666666666, \"#ed7953\"], [0.7777777777777778, \"#fb9f3a\"], [0.8888888888888888, \"#fdca26\"], [1.0, \"#f0f921\"]], \"type\": \"histogram2d\"}], \"histogram2dcontour\": [{\"colorbar\": {\"outlinewidth\": 0, \"ticks\": \"\"}, \"colorscale\": [[0.0, \"#0d0887\"], [0.1111111111111111, \"#46039f\"], [0.2222222222222222, \"#7201a8\"], [0.3333333333333333, \"#9c179e\"], [0.4444444444444444, \"#bd3786\"], [0.5555555555555556, \"#d8576b\"], [0.6666666666666666, \"#ed7953\"], [0.7777777777777778, \"#fb9f3a\"], [0.8888888888888888, \"#fdca26\"], [1.0, \"#f0f921\"]], \"type\": \"histogram2dcontour\"}], \"mesh3d\": [{\"colorbar\": {\"outlinewidth\": 0, \"ticks\": \"\"}, \"type\": \"mesh3d\"}], \"parcoords\": [{\"line\": {\"colorbar\": {\"outlinewidth\": 0, \"ticks\": \"\"}}, \"type\": \"parcoords\"}], \"pie\": [{\"automargin\": true, \"type\": \"pie\"}], \"scatter\": [{\"marker\": {\"colorbar\": {\"outlinewidth\": 0, \"ticks\": \"\"}}, \"type\": \"scatter\"}], \"scatter3d\": [{\"line\": {\"colorbar\": {\"outlinewidth\": 0, \"ticks\": \"\"}}, \"marker\": {\"colorbar\": {\"outlinewidth\": 0, \"ticks\": \"\"}}, \"type\": \"scatter3d\"}], \"scattercarpet\": [{\"marker\": {\"colorbar\": {\"outlinewidth\": 0, \"ticks\": \"\"}}, \"type\": \"scattercarpet\"}], \"scattergeo\": [{\"marker\": {\"colorbar\": {\"outlinewidth\": 0, \"ticks\": \"\"}}, \"type\": \"scattergeo\"}], \"scattergl\": [{\"marker\": {\"colorbar\": {\"outlinewidth\": 0, \"ticks\": \"\"}}, \"type\": \"scattergl\"}], \"scattermapbox\": [{\"marker\": {\"colorbar\": {\"outlinewidth\": 0, \"ticks\": \"\"}}, \"type\": \"scattermapbox\"}], \"scatterpolar\": [{\"marker\": {\"colorbar\": {\"outlinewidth\": 0, \"ticks\": \"\"}}, \"type\": \"scatterpolar\"}], \"scatterpolargl\": [{\"marker\": {\"colorbar\": {\"outlinewidth\": 0, \"ticks\": \"\"}}, \"type\": \"scatterpolargl\"}], \"scatterternary\": [{\"marker\": {\"colorbar\": {\"outlinewidth\": 0, \"ticks\": \"\"}}, \"type\": \"scatterternary\"}], \"surface\": [{\"colorbar\": {\"outlinewidth\": 0, \"ticks\": \"\"}, \"colorscale\": [[0.0, \"#0d0887\"], [0.1111111111111111, \"#46039f\"], [0.2222222222222222, \"#7201a8\"], [0.3333333333333333, \"#9c179e\"], [0.4444444444444444, \"#bd3786\"], [0.5555555555555556, \"#d8576b\"], [0.6666666666666666, \"#ed7953\"], [0.7777777777777778, \"#fb9f3a\"], [0.8888888888888888, \"#fdca26\"], [1.0, \"#f0f921\"]], \"type\": \"surface\"}], \"table\": [{\"cells\": {\"fill\": {\"color\": \"#EBF0F8\"}, \"line\": {\"color\": \"white\"}}, \"header\": {\"fill\": {\"color\": \"#C8D4E3\"}, \"line\": {\"color\": \"white\"}}, \"type\": \"table\"}]}, \"layout\": {\"annotationdefaults\": {\"arrowcolor\": \"#2a3f5f\", \"arrowhead\": 0, \"arrowwidth\": 1}, \"autotypenumbers\": \"strict\", \"coloraxis\": {\"colorbar\": {\"outlinewidth\": 0, \"ticks\": \"\"}}, \"colorscale\": {\"diverging\": [[0, \"#8e0152\"], [0.1, \"#c51b7d\"], [0.2, \"#de77ae\"], [0.3, \"#f1b6da\"], [0.4, \"#fde0ef\"], [0.5, \"#f7f7f7\"], [0.6, \"#e6f5d0\"], [0.7, \"#b8e186\"], [0.8, \"#7fbc41\"], [0.9, \"#4d9221\"], [1, \"#276419\"]], \"sequential\": [[0.0, \"#0d0887\"], [0.1111111111111111, \"#46039f\"], [0.2222222222222222, \"#7201a8\"], [0.3333333333333333, \"#9c179e\"], [0.4444444444444444, \"#bd3786\"], [0.5555555555555556, \"#d8576b\"], [0.6666666666666666, \"#ed7953\"], [0.7777777777777778, \"#fb9f3a\"], [0.8888888888888888, \"#fdca26\"], [1.0, \"#f0f921\"]], \"sequentialminus\": [[0.0, \"#0d0887\"], [0.1111111111111111, \"#46039f\"], [0.2222222222222222, \"#7201a8\"], [0.3333333333333333, \"#9c179e\"], [0.4444444444444444, \"#bd3786\"], [0.5555555555555556, \"#d8576b\"], [0.6666666666666666, \"#ed7953\"], [0.7777777777777778, \"#fb9f3a\"], [0.8888888888888888, \"#fdca26\"], [1.0, \"#f0f921\"]]}, \"colorway\": [\"#636efa\", \"#EF553B\", \"#00cc96\", \"#ab63fa\", \"#FFA15A\", \"#19d3f3\", \"#FF6692\", \"#B6E880\", \"#FF97FF\", \"#FECB52\"], \"font\": {\"color\": \"#2a3f5f\"}, \"geo\": {\"bgcolor\": \"white\", \"lakecolor\": \"white\", \"landcolor\": \"#E5ECF6\", \"showlakes\": true, \"showland\": true, \"subunitcolor\": \"white\"}, \"hoverlabel\": {\"align\": \"left\"}, \"hovermode\": \"closest\", \"mapbox\": {\"style\": \"light\"}, \"paper_bgcolor\": \"white\", \"plot_bgcolor\": \"#E5ECF6\", \"polar\": {\"angularaxis\": {\"gridcolor\": \"white\", \"linecolor\": \"white\", \"ticks\": \"\"}, \"bgcolor\": \"#E5ECF6\", \"radialaxis\": {\"gridcolor\": \"white\", \"linecolor\": \"white\", \"ticks\": \"\"}}, \"scene\": {\"xaxis\": {\"backgroundcolor\": \"#E5ECF6\", \"gridcolor\": \"white\", \"gridwidth\": 2, \"linecolor\": \"white\", \"showbackground\": true, \"ticks\": \"\", \"zerolinecolor\": \"white\"}, \"yaxis\": {\"backgroundcolor\": \"#E5ECF6\", \"gridcolor\": \"white\", \"gridwidth\": 2, \"linecolor\": \"white\", \"showbackground\": true, \"ticks\": \"\", \"zerolinecolor\": \"white\"}, \"zaxis\": {\"backgroundcolor\": \"#E5ECF6\", \"gridcolor\": \"white\", \"gridwidth\": 2, \"linecolor\": \"white\", \"showbackground\": true, \"ticks\": \"\", \"zerolinecolor\": \"white\"}}, \"shapedefaults\": {\"line\": {\"color\": \"#2a3f5f\"}}, \"ternary\": {\"aaxis\": {\"gridcolor\": \"white\", \"linecolor\": \"white\", \"ticks\": \"\"}, \"baxis\": {\"gridcolor\": \"white\", \"linecolor\": \"white\", \"ticks\": \"\"}, \"bgcolor\": \"#E5ECF6\", \"caxis\": {\"gridcolor\": \"white\", \"linecolor\": \"white\", \"ticks\": \"\"}}, \"title\": {\"x\": 0.05}, \"xaxis\": {\"automargin\": true, \"gridcolor\": \"white\", \"linecolor\": \"white\", \"ticks\": \"\", \"title\": {\"standoff\": 15}, \"zerolinecolor\": \"white\", \"zerolinewidth\": 2}, \"yaxis\": {\"automargin\": true, \"gridcolor\": \"white\", \"linecolor\": \"white\", \"ticks\": \"\", \"title\": {\"standoff\": 15}, \"zerolinecolor\": \"white\", \"zerolinewidth\": 2}}}},                        {\"responsive\": true}                    ).then(function(){\n",
       "                            \n",
       "var gd = document.getElementById('720532d3-7120-4d08-8d50-c94dbe242fa7');\n",
       "var x = new MutationObserver(function (mutations, observer) {{\n",
       "        var display = window.getComputedStyle(gd).display;\n",
       "        if (!display || display === 'none') {{\n",
       "            console.log([gd, 'removed!']);\n",
       "            Plotly.purge(gd);\n",
       "            observer.disconnect();\n",
       "        }}\n",
       "}});\n",
       "\n",
       "// Listen for the removal of the full notebook cells\n",
       "var notebookContainer = gd.closest('#notebook-container');\n",
       "if (notebookContainer) {{\n",
       "    x.observe(notebookContainer, {childList: true});\n",
       "}}\n",
       "\n",
       "// Listen for the clearing of the current output cell\n",
       "var outputEl = gd.closest('.output');\n",
       "if (outputEl) {{\n",
       "    x.observe(outputEl, {childList: true});\n",
       "}}\n",
       "\n",
       "                        })                };                });            </script>        </div>"
      ]
     },
     "metadata": {},
     "output_type": "display_data"
    }
   ],
   "source": [
    "# noexport\n",
    "\n",
    "import plotly.graph_objects as go\n",
    "\n",
    "fig = go.Figure(data=[\n",
    "    #go.Bar(name='no MT, 5 src syn for each word', x=langpair_list, y=[langpair_to_num_src_trg_synonyms_nomt_to_accuracy[lang][(5, 0)] for lang in langpair_list]),\n",
    "    go.Bar(name='prefix-constrained MT', x=langpair_list, y=[lang_to_baseline_accuracy[lang] for lang in langpair_list]),\n",
    "    #go.Bar(name='prefix-constrained MT, plus 5 src syn for each word', x=langpair_list, y=[langpair_to_num_src_trg_synonyms_prefix_nextword_to_accuracy[lang][(5,0)] for lang in langpair_list]),\n",
    "    #go.Bar(name='prefix-constrained MT, plus 5 trg syn for *next* word', x=langpair_list, y=[langpair_to_num_src_trg_synonyms_prefix_nextword_to_accuracy[lang][(0,5)] for lang in langpair_list]),\n",
    "    #go.Bar(name='prefix-constrained MT, plus 5 src syn for each word + 5 trg syn for each word', x=langpair_list, y=[langpair_to_num_src_trg_synonyms_prefix_oracle_allsyn_to_accuracy[lang][(5,5)] for lang in langpair_list]),\n",
    "    go.Bar(name='prefix-constrained MT with oracle', x=langpair_list, y=[lang_to_baseline_accuracy_with_oracle[lang] for lang in langpair_list]),\n",
    "    #go.Bar(name='prefix-constrained MT with oracle, plus 5 src syn for each word', x=langpair_list, y=[langpair_to_num_src_trg_synonyms_prefix_oracle_to_accuracy[lang][(5,0)] for lang in langpair_list]),\n",
    "    #go.Bar(name='prefix-constrained MT with oracle, plus 5 trg syn for *next* word', x=langpair_list, y=[langpair_to_num_src_trg_synonyms_prefix_oracle_to_accuracy[lang][(0,5)] for lang in langpair_list]),\n",
    "    #go.Bar(name='prefix-constrained MT with oracle, plus 5 src syn for each word + 5 trg syn for each word', x=langpair_list, y=[langpair_to_num_src_trg_synonyms_prefix_oracle_allsyn_to_accuracy[lang][(5,5)] for lang in langpair_list]),\n",
    "    go.Bar(name='fixed MT with heuristic v3', x=langpair_list, y=[langpair_to_lilt_fixedmt_heuristic_v3_accuracy[lang] for lang in langpair_list]),\n",
    "    go.Bar(name='fixed MT with oracle', x=langpair_list, y=[langpair_to_oracle_accuracy[lang] for lang in langpair_list]),\n",
    "    #go.Bar(name='fixed MT with oracle, plus 5 src syn for each word', x=langpair_list, y=[langpair_to_num_src_trg_synonyms_to_accuracy[lang][(5,0)] for lang in langpair_list]),\n",
    "    #go.Bar(name='fixed MT with oracle, plus 5 trg syn for each word', x=langpair_list, y=[langpair_to_num_src_trg_synonyms_to_accuracy[lang][(0,5)] for lang in langpair_list]),\n",
    "    #go.Bar(name='fixed MT with oracle, plus 5 src syn + 5 trg syn for each word', x=langpair_list, y=[langpair_to_num_src_trg_synonyms_to_accuracy[lang][(5,5)] for lang in langpair_list]),\n",
    "    #go.Bar(name='google translate with oracle', x=langpair_list, y=[lang_to_google_translate_accuracy_with_oracle[lang] for lang in langpair_list]),\n",
    "    go.Bar(name='google translate with heuristic v3', x=langpair_list, y=[langpair_to_google_heuristic_v3_accuracy[lang] for lang in langpair_list]),\n",
    "    go.Bar(name='google translate with oracle', x=langpair_list, y=[langpair_to_num_src_trg_synonyms_googtrans_to_accuracy[lang][(0,0)] for lang in langpair_list]),\n",
    "    #go.Bar(name='google translate with oracle, plus 5 src syn for each word', x=langpair_list, y=[langpair_to_num_src_trg_synonyms_googtrans_to_accuracy[lang][(5,0)] for lang in langpair_list]),\n",
    "    #go.Bar(name='google translate with oracle, plus 5 trg syn for each word', x=langpair_list, y=[langpair_to_num_src_trg_synonyms_googtrans_to_accuracy[lang][(0,5)] for lang in langpair_list]),\n",
    "    #go.Bar(name='google translate with oracle, plus 5 src syn + 5 trg syn for each word', x=langpair_list, y=[langpair_to_num_src_trg_synonyms_googtrans_to_accuracy[lang][(5,5)] for lang in langpair_list]),\n",
    "])\n",
    "# Change the bar mode\n",
    "fig.update_layout(barmode='group')\n",
    "fig.show()"
   ]
  },
  {
   "cell_type": "code",
   "execution_count": 26,
   "metadata": {},
   "outputs": [
    {
     "data": {
      "application/vnd.plotly.v1+json": {
       "config": {
        "plotlyServerURL": "https://plot.ly"
       },
       "data": [
        {
         "name": "prefix-constrained MT",
         "type": "bar",
         "x": [
          "ende",
          "enes",
          "enfr",
          "enit",
          "enja",
          "enko",
          "enpt",
          "enzh",
          "enzt"
         ],
         "y": [
          0.6044597073905067,
          0.6861345202322586,
          0.6824583665422207,
          0.6756007659856306,
          0.5356384842053206,
          0.5748556051457075,
          0.7112302160690883,
          0.590495387151778,
          0.5642852066671404
         ]
        },
        {
         "name": "prefix-constrained MT +5 trg syn for next word",
         "type": "bar",
         "x": [
          "ende",
          "enes",
          "enfr",
          "enit",
          "enja",
          "enko",
          "enpt",
          "enzh",
          "enzt"
         ],
         "y": [
          0.6230888648445218,
          0.7053086615003427,
          0.7049372876379043,
          0.6924754870199992,
          0.556426054524099,
          0.5782357574166448,
          0.7257972378104103,
          0.613266032047156,
          0.600217573130265
         ]
        },
        {
         "name": "prefix-constrained MT with oracle",
         "type": "bar",
         "x": [
          "ende",
          "enes",
          "enfr",
          "enit",
          "enja",
          "enko",
          "enpt",
          "enzh",
          "enzt"
         ],
         "y": [
          0.6347744272474949,
          0.7300859296747324,
          0.7208618230630479,
          0.7121002692468288,
          0.6128747759071895,
          0.5985276100463813,
          0.752427836956887,
          0.6385887055794573,
          0.6083300988919077
         ]
        },
        {
         "name": "prefix-constrained MT with oracle +5src&5trg syn",
         "type": "bar",
         "x": [
          "ende",
          "enes",
          "enfr",
          "enit",
          "enja",
          "enko",
          "enpt",
          "enzh",
          "enzt"
         ],
         "y": [
          0.6924401373665146,
          0.7797082457844754,
          0.7734856747346784,
          0.7604783090723223,
          0.6780976323435471,
          0.6167082348822963,
          0.793407036526765,
          0.7048793432478516,
          0.6880230911784483
         ]
        },
        {
         "name": "fixed MT with oracle",
         "type": "bar",
         "x": [
          "ende",
          "enes",
          "enfr",
          "enit",
          "enja",
          "enko",
          "enpt",
          "enzh",
          "enzt"
         ],
         "y": [
          0.5545373288798984,
          0.6831371485807671,
          0.6465246025420529,
          0.6487336760111154,
          0.5634898720352779,
          0.5361534085936817,
          0.7005107698511375,
          0.6442347866345969,
          0.6186456892640233
         ]
        },
        {
         "name": "fixed MT with oracle +5src&5trg syn",
         "type": "bar",
         "x": [
          "ende",
          "enes",
          "enfr",
          "enit",
          "enja",
          "enko",
          "enpt",
          "enzh",
          "enzt"
         ],
         "y": [
          0.6266923836853743,
          0.7368864990247246,
          0.7111403582365032,
          0.7067657264624998,
          0.626631498691504,
          0.5562264811411569,
          0.7477905843610336,
          0.7070135618866944,
          0.696113750293833
         ]
        },
        {
         "name": "google translate with oracle",
         "type": "bar",
         "x": [
          "ende",
          "enes",
          "enfr",
          "enit",
          "enja",
          "enko",
          "enpt",
          "enzh",
          "enzt"
         ],
         "y": [
          0.6262313590817142,
          0.7147902969506639,
          0.6903393598724779,
          0.7041668466444934,
          0.7189185847637495,
          0.5062789883608996,
          0.7422796464934978,
          0.7734622898246327,
          0.658399252160698
         ]
        },
        {
         "name": "google translate with oracle +5src&5trg syn",
         "type": "bar",
         "x": [
          "ende",
          "enes",
          "enfr",
          "enit",
          "enja",
          "enko",
          "enpt",
          "enzh",
          "enzt"
         ],
         "y": [
          0.6890247918332785,
          0.7683513702808341,
          0.7435452409916523,
          0.7561444430046218,
          0.7673514805580168,
          0.5262754878795834,
          0.7825363755502537,
          0.8112458642456271,
          0.7286239866176125
         ]
        }
       ],
       "layout": {
        "barmode": "group",
        "template": {
         "data": {
          "bar": [
           {
            "error_x": {
             "color": "#2a3f5f"
            },
            "error_y": {
             "color": "#2a3f5f"
            },
            "marker": {
             "line": {
              "color": "#E5ECF6",
              "width": 0.5
             }
            },
            "type": "bar"
           }
          ],
          "barpolar": [
           {
            "marker": {
             "line": {
              "color": "#E5ECF6",
              "width": 0.5
             }
            },
            "type": "barpolar"
           }
          ],
          "carpet": [
           {
            "aaxis": {
             "endlinecolor": "#2a3f5f",
             "gridcolor": "white",
             "linecolor": "white",
             "minorgridcolor": "white",
             "startlinecolor": "#2a3f5f"
            },
            "baxis": {
             "endlinecolor": "#2a3f5f",
             "gridcolor": "white",
             "linecolor": "white",
             "minorgridcolor": "white",
             "startlinecolor": "#2a3f5f"
            },
            "type": "carpet"
           }
          ],
          "choropleth": [
           {
            "colorbar": {
             "outlinewidth": 0,
             "ticks": ""
            },
            "type": "choropleth"
           }
          ],
          "contour": [
           {
            "colorbar": {
             "outlinewidth": 0,
             "ticks": ""
            },
            "colorscale": [
             [
              0,
              "#0d0887"
             ],
             [
              0.1111111111111111,
              "#46039f"
             ],
             [
              0.2222222222222222,
              "#7201a8"
             ],
             [
              0.3333333333333333,
              "#9c179e"
             ],
             [
              0.4444444444444444,
              "#bd3786"
             ],
             [
              0.5555555555555556,
              "#d8576b"
             ],
             [
              0.6666666666666666,
              "#ed7953"
             ],
             [
              0.7777777777777778,
              "#fb9f3a"
             ],
             [
              0.8888888888888888,
              "#fdca26"
             ],
             [
              1,
              "#f0f921"
             ]
            ],
            "type": "contour"
           }
          ],
          "contourcarpet": [
           {
            "colorbar": {
             "outlinewidth": 0,
             "ticks": ""
            },
            "type": "contourcarpet"
           }
          ],
          "heatmap": [
           {
            "colorbar": {
             "outlinewidth": 0,
             "ticks": ""
            },
            "colorscale": [
             [
              0,
              "#0d0887"
             ],
             [
              0.1111111111111111,
              "#46039f"
             ],
             [
              0.2222222222222222,
              "#7201a8"
             ],
             [
              0.3333333333333333,
              "#9c179e"
             ],
             [
              0.4444444444444444,
              "#bd3786"
             ],
             [
              0.5555555555555556,
              "#d8576b"
             ],
             [
              0.6666666666666666,
              "#ed7953"
             ],
             [
              0.7777777777777778,
              "#fb9f3a"
             ],
             [
              0.8888888888888888,
              "#fdca26"
             ],
             [
              1,
              "#f0f921"
             ]
            ],
            "type": "heatmap"
           }
          ],
          "heatmapgl": [
           {
            "colorbar": {
             "outlinewidth": 0,
             "ticks": ""
            },
            "colorscale": [
             [
              0,
              "#0d0887"
             ],
             [
              0.1111111111111111,
              "#46039f"
             ],
             [
              0.2222222222222222,
              "#7201a8"
             ],
             [
              0.3333333333333333,
              "#9c179e"
             ],
             [
              0.4444444444444444,
              "#bd3786"
             ],
             [
              0.5555555555555556,
              "#d8576b"
             ],
             [
              0.6666666666666666,
              "#ed7953"
             ],
             [
              0.7777777777777778,
              "#fb9f3a"
             ],
             [
              0.8888888888888888,
              "#fdca26"
             ],
             [
              1,
              "#f0f921"
             ]
            ],
            "type": "heatmapgl"
           }
          ],
          "histogram": [
           {
            "marker": {
             "colorbar": {
              "outlinewidth": 0,
              "ticks": ""
             }
            },
            "type": "histogram"
           }
          ],
          "histogram2d": [
           {
            "colorbar": {
             "outlinewidth": 0,
             "ticks": ""
            },
            "colorscale": [
             [
              0,
              "#0d0887"
             ],
             [
              0.1111111111111111,
              "#46039f"
             ],
             [
              0.2222222222222222,
              "#7201a8"
             ],
             [
              0.3333333333333333,
              "#9c179e"
             ],
             [
              0.4444444444444444,
              "#bd3786"
             ],
             [
              0.5555555555555556,
              "#d8576b"
             ],
             [
              0.6666666666666666,
              "#ed7953"
             ],
             [
              0.7777777777777778,
              "#fb9f3a"
             ],
             [
              0.8888888888888888,
              "#fdca26"
             ],
             [
              1,
              "#f0f921"
             ]
            ],
            "type": "histogram2d"
           }
          ],
          "histogram2dcontour": [
           {
            "colorbar": {
             "outlinewidth": 0,
             "ticks": ""
            },
            "colorscale": [
             [
              0,
              "#0d0887"
             ],
             [
              0.1111111111111111,
              "#46039f"
             ],
             [
              0.2222222222222222,
              "#7201a8"
             ],
             [
              0.3333333333333333,
              "#9c179e"
             ],
             [
              0.4444444444444444,
              "#bd3786"
             ],
             [
              0.5555555555555556,
              "#d8576b"
             ],
             [
              0.6666666666666666,
              "#ed7953"
             ],
             [
              0.7777777777777778,
              "#fb9f3a"
             ],
             [
              0.8888888888888888,
              "#fdca26"
             ],
             [
              1,
              "#f0f921"
             ]
            ],
            "type": "histogram2dcontour"
           }
          ],
          "mesh3d": [
           {
            "colorbar": {
             "outlinewidth": 0,
             "ticks": ""
            },
            "type": "mesh3d"
           }
          ],
          "parcoords": [
           {
            "line": {
             "colorbar": {
              "outlinewidth": 0,
              "ticks": ""
             }
            },
            "type": "parcoords"
           }
          ],
          "pie": [
           {
            "automargin": true,
            "type": "pie"
           }
          ],
          "scatter": [
           {
            "marker": {
             "colorbar": {
              "outlinewidth": 0,
              "ticks": ""
             }
            },
            "type": "scatter"
           }
          ],
          "scatter3d": [
           {
            "line": {
             "colorbar": {
              "outlinewidth": 0,
              "ticks": ""
             }
            },
            "marker": {
             "colorbar": {
              "outlinewidth": 0,
              "ticks": ""
             }
            },
            "type": "scatter3d"
           }
          ],
          "scattercarpet": [
           {
            "marker": {
             "colorbar": {
              "outlinewidth": 0,
              "ticks": ""
             }
            },
            "type": "scattercarpet"
           }
          ],
          "scattergeo": [
           {
            "marker": {
             "colorbar": {
              "outlinewidth": 0,
              "ticks": ""
             }
            },
            "type": "scattergeo"
           }
          ],
          "scattergl": [
           {
            "marker": {
             "colorbar": {
              "outlinewidth": 0,
              "ticks": ""
             }
            },
            "type": "scattergl"
           }
          ],
          "scattermapbox": [
           {
            "marker": {
             "colorbar": {
              "outlinewidth": 0,
              "ticks": ""
             }
            },
            "type": "scattermapbox"
           }
          ],
          "scatterpolar": [
           {
            "marker": {
             "colorbar": {
              "outlinewidth": 0,
              "ticks": ""
             }
            },
            "type": "scatterpolar"
           }
          ],
          "scatterpolargl": [
           {
            "marker": {
             "colorbar": {
              "outlinewidth": 0,
              "ticks": ""
             }
            },
            "type": "scatterpolargl"
           }
          ],
          "scatterternary": [
           {
            "marker": {
             "colorbar": {
              "outlinewidth": 0,
              "ticks": ""
             }
            },
            "type": "scatterternary"
           }
          ],
          "surface": [
           {
            "colorbar": {
             "outlinewidth": 0,
             "ticks": ""
            },
            "colorscale": [
             [
              0,
              "#0d0887"
             ],
             [
              0.1111111111111111,
              "#46039f"
             ],
             [
              0.2222222222222222,
              "#7201a8"
             ],
             [
              0.3333333333333333,
              "#9c179e"
             ],
             [
              0.4444444444444444,
              "#bd3786"
             ],
             [
              0.5555555555555556,
              "#d8576b"
             ],
             [
              0.6666666666666666,
              "#ed7953"
             ],
             [
              0.7777777777777778,
              "#fb9f3a"
             ],
             [
              0.8888888888888888,
              "#fdca26"
             ],
             [
              1,
              "#f0f921"
             ]
            ],
            "type": "surface"
           }
          ],
          "table": [
           {
            "cells": {
             "fill": {
              "color": "#EBF0F8"
             },
             "line": {
              "color": "white"
             }
            },
            "header": {
             "fill": {
              "color": "#C8D4E3"
             },
             "line": {
              "color": "white"
             }
            },
            "type": "table"
           }
          ]
         },
         "layout": {
          "annotationdefaults": {
           "arrowcolor": "#2a3f5f",
           "arrowhead": 0,
           "arrowwidth": 1
          },
          "autotypenumbers": "strict",
          "coloraxis": {
           "colorbar": {
            "outlinewidth": 0,
            "ticks": ""
           }
          },
          "colorscale": {
           "diverging": [
            [
             0,
             "#8e0152"
            ],
            [
             0.1,
             "#c51b7d"
            ],
            [
             0.2,
             "#de77ae"
            ],
            [
             0.3,
             "#f1b6da"
            ],
            [
             0.4,
             "#fde0ef"
            ],
            [
             0.5,
             "#f7f7f7"
            ],
            [
             0.6,
             "#e6f5d0"
            ],
            [
             0.7,
             "#b8e186"
            ],
            [
             0.8,
             "#7fbc41"
            ],
            [
             0.9,
             "#4d9221"
            ],
            [
             1,
             "#276419"
            ]
           ],
           "sequential": [
            [
             0,
             "#0d0887"
            ],
            [
             0.1111111111111111,
             "#46039f"
            ],
            [
             0.2222222222222222,
             "#7201a8"
            ],
            [
             0.3333333333333333,
             "#9c179e"
            ],
            [
             0.4444444444444444,
             "#bd3786"
            ],
            [
             0.5555555555555556,
             "#d8576b"
            ],
            [
             0.6666666666666666,
             "#ed7953"
            ],
            [
             0.7777777777777778,
             "#fb9f3a"
            ],
            [
             0.8888888888888888,
             "#fdca26"
            ],
            [
             1,
             "#f0f921"
            ]
           ],
           "sequentialminus": [
            [
             0,
             "#0d0887"
            ],
            [
             0.1111111111111111,
             "#46039f"
            ],
            [
             0.2222222222222222,
             "#7201a8"
            ],
            [
             0.3333333333333333,
             "#9c179e"
            ],
            [
             0.4444444444444444,
             "#bd3786"
            ],
            [
             0.5555555555555556,
             "#d8576b"
            ],
            [
             0.6666666666666666,
             "#ed7953"
            ],
            [
             0.7777777777777778,
             "#fb9f3a"
            ],
            [
             0.8888888888888888,
             "#fdca26"
            ],
            [
             1,
             "#f0f921"
            ]
           ]
          },
          "colorway": [
           "#636efa",
           "#EF553B",
           "#00cc96",
           "#ab63fa",
           "#FFA15A",
           "#19d3f3",
           "#FF6692",
           "#B6E880",
           "#FF97FF",
           "#FECB52"
          ],
          "font": {
           "color": "#2a3f5f"
          },
          "geo": {
           "bgcolor": "white",
           "lakecolor": "white",
           "landcolor": "#E5ECF6",
           "showlakes": true,
           "showland": true,
           "subunitcolor": "white"
          },
          "hoverlabel": {
           "align": "left"
          },
          "hovermode": "closest",
          "mapbox": {
           "style": "light"
          },
          "paper_bgcolor": "white",
          "plot_bgcolor": "#E5ECF6",
          "polar": {
           "angularaxis": {
            "gridcolor": "white",
            "linecolor": "white",
            "ticks": ""
           },
           "bgcolor": "#E5ECF6",
           "radialaxis": {
            "gridcolor": "white",
            "linecolor": "white",
            "ticks": ""
           }
          },
          "scene": {
           "xaxis": {
            "backgroundcolor": "#E5ECF6",
            "gridcolor": "white",
            "gridwidth": 2,
            "linecolor": "white",
            "showbackground": true,
            "ticks": "",
            "zerolinecolor": "white"
           },
           "yaxis": {
            "backgroundcolor": "#E5ECF6",
            "gridcolor": "white",
            "gridwidth": 2,
            "linecolor": "white",
            "showbackground": true,
            "ticks": "",
            "zerolinecolor": "white"
           },
           "zaxis": {
            "backgroundcolor": "#E5ECF6",
            "gridcolor": "white",
            "gridwidth": 2,
            "linecolor": "white",
            "showbackground": true,
            "ticks": "",
            "zerolinecolor": "white"
           }
          },
          "shapedefaults": {
           "line": {
            "color": "#2a3f5f"
           }
          },
          "ternary": {
           "aaxis": {
            "gridcolor": "white",
            "linecolor": "white",
            "ticks": ""
           },
           "baxis": {
            "gridcolor": "white",
            "linecolor": "white",
            "ticks": ""
           },
           "bgcolor": "#E5ECF6",
           "caxis": {
            "gridcolor": "white",
            "linecolor": "white",
            "ticks": ""
           }
          },
          "title": {
           "x": 0.05
          },
          "xaxis": {
           "automargin": true,
           "gridcolor": "white",
           "linecolor": "white",
           "ticks": "",
           "title": {
            "standoff": 15
           },
           "zerolinecolor": "white",
           "zerolinewidth": 2
          },
          "yaxis": {
           "automargin": true,
           "gridcolor": "white",
           "linecolor": "white",
           "ticks": "",
           "title": {
            "standoff": 15
           },
           "zerolinecolor": "white",
           "zerolinewidth": 2
          }
         }
        }
       }
      },
      "text/html": [
       "<div>                            <div id=\"c27bd2d1-018b-4197-8bd2-78627e00ac32\" class=\"plotly-graph-div\" style=\"height:525px; width:100%;\"></div>            <script type=\"text/javascript\">                require([\"plotly\"], function(Plotly) {                    window.PLOTLYENV=window.PLOTLYENV || {};                                    if (document.getElementById(\"c27bd2d1-018b-4197-8bd2-78627e00ac32\")) {                    Plotly.newPlot(                        \"c27bd2d1-018b-4197-8bd2-78627e00ac32\",                        [{\"name\": \"prefix-constrained MT\", \"type\": \"bar\", \"x\": [\"ende\", \"enes\", \"enfr\", \"enit\", \"enja\", \"enko\", \"enpt\", \"enzh\", \"enzt\"], \"y\": [0.6044597073905067, 0.6861345202322586, 0.6824583665422207, 0.6756007659856306, 0.5356384842053206, 0.5748556051457075, 0.7112302160690883, 0.590495387151778, 0.5642852066671404]}, {\"name\": \"prefix-constrained MT +5 trg syn for next word\", \"type\": \"bar\", \"x\": [\"ende\", \"enes\", \"enfr\", \"enit\", \"enja\", \"enko\", \"enpt\", \"enzh\", \"enzt\"], \"y\": [0.6230888648445218, 0.7053086615003427, 0.7049372876379043, 0.6924754870199992, 0.556426054524099, 0.5782357574166448, 0.7257972378104103, 0.613266032047156, 0.600217573130265]}, {\"name\": \"prefix-constrained MT with oracle\", \"type\": \"bar\", \"x\": [\"ende\", \"enes\", \"enfr\", \"enit\", \"enja\", \"enko\", \"enpt\", \"enzh\", \"enzt\"], \"y\": [0.6347744272474949, 0.7300859296747324, 0.7208618230630479, 0.7121002692468288, 0.6128747759071895, 0.5985276100463813, 0.752427836956887, 0.6385887055794573, 0.6083300988919077]}, {\"name\": \"prefix-constrained MT with oracle +5src&5trg syn\", \"type\": \"bar\", \"x\": [\"ende\", \"enes\", \"enfr\", \"enit\", \"enja\", \"enko\", \"enpt\", \"enzh\", \"enzt\"], \"y\": [0.6924401373665146, 0.7797082457844754, 0.7734856747346784, 0.7604783090723223, 0.6780976323435471, 0.6167082348822963, 0.793407036526765, 0.7048793432478516, 0.6880230911784483]}, {\"name\": \"fixed MT with oracle\", \"type\": \"bar\", \"x\": [\"ende\", \"enes\", \"enfr\", \"enit\", \"enja\", \"enko\", \"enpt\", \"enzh\", \"enzt\"], \"y\": [0.5545373288798984, 0.6831371485807671, 0.6465246025420529, 0.6487336760111154, 0.5634898720352779, 0.5361534085936817, 0.7005107698511375, 0.6442347866345969, 0.6186456892640233]}, {\"name\": \"fixed MT with oracle +5src&5trg syn\", \"type\": \"bar\", \"x\": [\"ende\", \"enes\", \"enfr\", \"enit\", \"enja\", \"enko\", \"enpt\", \"enzh\", \"enzt\"], \"y\": [0.6266923836853743, 0.7368864990247246, 0.7111403582365032, 0.7067657264624998, 0.626631498691504, 0.5562264811411569, 0.7477905843610336, 0.7070135618866944, 0.696113750293833]}, {\"name\": \"google translate with oracle\", \"type\": \"bar\", \"x\": [\"ende\", \"enes\", \"enfr\", \"enit\", \"enja\", \"enko\", \"enpt\", \"enzh\", \"enzt\"], \"y\": [0.6262313590817142, 0.7147902969506639, 0.6903393598724779, 0.7041668466444934, 0.7189185847637495, 0.5062789883608996, 0.7422796464934978, 0.7734622898246327, 0.658399252160698]}, {\"name\": \"google translate with oracle +5src&5trg syn\", \"type\": \"bar\", \"x\": [\"ende\", \"enes\", \"enfr\", \"enit\", \"enja\", \"enko\", \"enpt\", \"enzh\", \"enzt\"], \"y\": [0.6890247918332785, 0.7683513702808341, 0.7435452409916523, 0.7561444430046218, 0.7673514805580168, 0.5262754878795834, 0.7825363755502537, 0.8112458642456271, 0.7286239866176125]}],                        {\"barmode\": \"group\", \"template\": {\"data\": {\"bar\": [{\"error_x\": {\"color\": \"#2a3f5f\"}, \"error_y\": {\"color\": \"#2a3f5f\"}, \"marker\": {\"line\": {\"color\": \"#E5ECF6\", \"width\": 0.5}}, \"type\": \"bar\"}], \"barpolar\": [{\"marker\": {\"line\": {\"color\": \"#E5ECF6\", \"width\": 0.5}}, \"type\": \"barpolar\"}], \"carpet\": [{\"aaxis\": {\"endlinecolor\": \"#2a3f5f\", \"gridcolor\": \"white\", \"linecolor\": \"white\", \"minorgridcolor\": \"white\", \"startlinecolor\": \"#2a3f5f\"}, \"baxis\": {\"endlinecolor\": \"#2a3f5f\", \"gridcolor\": \"white\", \"linecolor\": \"white\", \"minorgridcolor\": \"white\", \"startlinecolor\": \"#2a3f5f\"}, \"type\": \"carpet\"}], \"choropleth\": [{\"colorbar\": {\"outlinewidth\": 0, \"ticks\": \"\"}, \"type\": \"choropleth\"}], \"contour\": [{\"colorbar\": {\"outlinewidth\": 0, \"ticks\": \"\"}, \"colorscale\": [[0.0, \"#0d0887\"], [0.1111111111111111, \"#46039f\"], [0.2222222222222222, \"#7201a8\"], [0.3333333333333333, \"#9c179e\"], [0.4444444444444444, \"#bd3786\"], [0.5555555555555556, \"#d8576b\"], [0.6666666666666666, \"#ed7953\"], [0.7777777777777778, \"#fb9f3a\"], [0.8888888888888888, \"#fdca26\"], [1.0, \"#f0f921\"]], \"type\": \"contour\"}], \"contourcarpet\": [{\"colorbar\": {\"outlinewidth\": 0, \"ticks\": \"\"}, \"type\": \"contourcarpet\"}], \"heatmap\": [{\"colorbar\": {\"outlinewidth\": 0, \"ticks\": \"\"}, \"colorscale\": [[0.0, \"#0d0887\"], [0.1111111111111111, \"#46039f\"], [0.2222222222222222, \"#7201a8\"], [0.3333333333333333, \"#9c179e\"], [0.4444444444444444, \"#bd3786\"], [0.5555555555555556, \"#d8576b\"], [0.6666666666666666, \"#ed7953\"], [0.7777777777777778, \"#fb9f3a\"], [0.8888888888888888, \"#fdca26\"], [1.0, \"#f0f921\"]], \"type\": \"heatmap\"}], \"heatmapgl\": [{\"colorbar\": {\"outlinewidth\": 0, \"ticks\": \"\"}, \"colorscale\": [[0.0, \"#0d0887\"], [0.1111111111111111, \"#46039f\"], [0.2222222222222222, \"#7201a8\"], [0.3333333333333333, \"#9c179e\"], [0.4444444444444444, \"#bd3786\"], [0.5555555555555556, \"#d8576b\"], [0.6666666666666666, \"#ed7953\"], [0.7777777777777778, \"#fb9f3a\"], [0.8888888888888888, \"#fdca26\"], [1.0, \"#f0f921\"]], \"type\": \"heatmapgl\"}], \"histogram\": [{\"marker\": {\"colorbar\": {\"outlinewidth\": 0, \"ticks\": \"\"}}, \"type\": \"histogram\"}], \"histogram2d\": [{\"colorbar\": {\"outlinewidth\": 0, \"ticks\": \"\"}, \"colorscale\": [[0.0, \"#0d0887\"], [0.1111111111111111, \"#46039f\"], [0.2222222222222222, \"#7201a8\"], [0.3333333333333333, \"#9c179e\"], [0.4444444444444444, \"#bd3786\"], [0.5555555555555556, \"#d8576b\"], [0.6666666666666666, \"#ed7953\"], [0.7777777777777778, \"#fb9f3a\"], [0.8888888888888888, \"#fdca26\"], [1.0, \"#f0f921\"]], \"type\": \"histogram2d\"}], \"histogram2dcontour\": [{\"colorbar\": {\"outlinewidth\": 0, \"ticks\": \"\"}, \"colorscale\": [[0.0, \"#0d0887\"], [0.1111111111111111, \"#46039f\"], [0.2222222222222222, \"#7201a8\"], [0.3333333333333333, \"#9c179e\"], [0.4444444444444444, \"#bd3786\"], [0.5555555555555556, \"#d8576b\"], [0.6666666666666666, \"#ed7953\"], [0.7777777777777778, \"#fb9f3a\"], [0.8888888888888888, \"#fdca26\"], [1.0, \"#f0f921\"]], \"type\": \"histogram2dcontour\"}], \"mesh3d\": [{\"colorbar\": {\"outlinewidth\": 0, \"ticks\": \"\"}, \"type\": \"mesh3d\"}], \"parcoords\": [{\"line\": {\"colorbar\": {\"outlinewidth\": 0, \"ticks\": \"\"}}, \"type\": \"parcoords\"}], \"pie\": [{\"automargin\": true, \"type\": \"pie\"}], \"scatter\": [{\"marker\": {\"colorbar\": {\"outlinewidth\": 0, \"ticks\": \"\"}}, \"type\": \"scatter\"}], \"scatter3d\": [{\"line\": {\"colorbar\": {\"outlinewidth\": 0, \"ticks\": \"\"}}, \"marker\": {\"colorbar\": {\"outlinewidth\": 0, \"ticks\": \"\"}}, \"type\": \"scatter3d\"}], \"scattercarpet\": [{\"marker\": {\"colorbar\": {\"outlinewidth\": 0, \"ticks\": \"\"}}, \"type\": \"scattercarpet\"}], \"scattergeo\": [{\"marker\": {\"colorbar\": {\"outlinewidth\": 0, \"ticks\": \"\"}}, \"type\": \"scattergeo\"}], \"scattergl\": [{\"marker\": {\"colorbar\": {\"outlinewidth\": 0, \"ticks\": \"\"}}, \"type\": \"scattergl\"}], \"scattermapbox\": [{\"marker\": {\"colorbar\": {\"outlinewidth\": 0, \"ticks\": \"\"}}, \"type\": \"scattermapbox\"}], \"scatterpolar\": [{\"marker\": {\"colorbar\": {\"outlinewidth\": 0, \"ticks\": \"\"}}, \"type\": \"scatterpolar\"}], \"scatterpolargl\": [{\"marker\": {\"colorbar\": {\"outlinewidth\": 0, \"ticks\": \"\"}}, \"type\": \"scatterpolargl\"}], \"scatterternary\": [{\"marker\": {\"colorbar\": {\"outlinewidth\": 0, \"ticks\": \"\"}}, \"type\": \"scatterternary\"}], \"surface\": [{\"colorbar\": {\"outlinewidth\": 0, \"ticks\": \"\"}, \"colorscale\": [[0.0, \"#0d0887\"], [0.1111111111111111, \"#46039f\"], [0.2222222222222222, \"#7201a8\"], [0.3333333333333333, \"#9c179e\"], [0.4444444444444444, \"#bd3786\"], [0.5555555555555556, \"#d8576b\"], [0.6666666666666666, \"#ed7953\"], [0.7777777777777778, \"#fb9f3a\"], [0.8888888888888888, \"#fdca26\"], [1.0, \"#f0f921\"]], \"type\": \"surface\"}], \"table\": [{\"cells\": {\"fill\": {\"color\": \"#EBF0F8\"}, \"line\": {\"color\": \"white\"}}, \"header\": {\"fill\": {\"color\": \"#C8D4E3\"}, \"line\": {\"color\": \"white\"}}, \"type\": \"table\"}]}, \"layout\": {\"annotationdefaults\": {\"arrowcolor\": \"#2a3f5f\", \"arrowhead\": 0, \"arrowwidth\": 1}, \"autotypenumbers\": \"strict\", \"coloraxis\": {\"colorbar\": {\"outlinewidth\": 0, \"ticks\": \"\"}}, \"colorscale\": {\"diverging\": [[0, \"#8e0152\"], [0.1, \"#c51b7d\"], [0.2, \"#de77ae\"], [0.3, \"#f1b6da\"], [0.4, \"#fde0ef\"], [0.5, \"#f7f7f7\"], [0.6, \"#e6f5d0\"], [0.7, \"#b8e186\"], [0.8, \"#7fbc41\"], [0.9, \"#4d9221\"], [1, \"#276419\"]], \"sequential\": [[0.0, \"#0d0887\"], [0.1111111111111111, \"#46039f\"], [0.2222222222222222, \"#7201a8\"], [0.3333333333333333, \"#9c179e\"], [0.4444444444444444, \"#bd3786\"], [0.5555555555555556, \"#d8576b\"], [0.6666666666666666, \"#ed7953\"], [0.7777777777777778, \"#fb9f3a\"], [0.8888888888888888, \"#fdca26\"], [1.0, \"#f0f921\"]], \"sequentialminus\": [[0.0, \"#0d0887\"], [0.1111111111111111, \"#46039f\"], [0.2222222222222222, \"#7201a8\"], [0.3333333333333333, \"#9c179e\"], [0.4444444444444444, \"#bd3786\"], [0.5555555555555556, \"#d8576b\"], [0.6666666666666666, \"#ed7953\"], [0.7777777777777778, \"#fb9f3a\"], [0.8888888888888888, \"#fdca26\"], [1.0, \"#f0f921\"]]}, \"colorway\": [\"#636efa\", \"#EF553B\", \"#00cc96\", \"#ab63fa\", \"#FFA15A\", \"#19d3f3\", \"#FF6692\", \"#B6E880\", \"#FF97FF\", \"#FECB52\"], \"font\": {\"color\": \"#2a3f5f\"}, \"geo\": {\"bgcolor\": \"white\", \"lakecolor\": \"white\", \"landcolor\": \"#E5ECF6\", \"showlakes\": true, \"showland\": true, \"subunitcolor\": \"white\"}, \"hoverlabel\": {\"align\": \"left\"}, \"hovermode\": \"closest\", \"mapbox\": {\"style\": \"light\"}, \"paper_bgcolor\": \"white\", \"plot_bgcolor\": \"#E5ECF6\", \"polar\": {\"angularaxis\": {\"gridcolor\": \"white\", \"linecolor\": \"white\", \"ticks\": \"\"}, \"bgcolor\": \"#E5ECF6\", \"radialaxis\": {\"gridcolor\": \"white\", \"linecolor\": \"white\", \"ticks\": \"\"}}, \"scene\": {\"xaxis\": {\"backgroundcolor\": \"#E5ECF6\", \"gridcolor\": \"white\", \"gridwidth\": 2, \"linecolor\": \"white\", \"showbackground\": true, \"ticks\": \"\", \"zerolinecolor\": \"white\"}, \"yaxis\": {\"backgroundcolor\": \"#E5ECF6\", \"gridcolor\": \"white\", \"gridwidth\": 2, \"linecolor\": \"white\", \"showbackground\": true, \"ticks\": \"\", \"zerolinecolor\": \"white\"}, \"zaxis\": {\"backgroundcolor\": \"#E5ECF6\", \"gridcolor\": \"white\", \"gridwidth\": 2, \"linecolor\": \"white\", \"showbackground\": true, \"ticks\": \"\", \"zerolinecolor\": \"white\"}}, \"shapedefaults\": {\"line\": {\"color\": \"#2a3f5f\"}}, \"ternary\": {\"aaxis\": {\"gridcolor\": \"white\", \"linecolor\": \"white\", \"ticks\": \"\"}, \"baxis\": {\"gridcolor\": \"white\", \"linecolor\": \"white\", \"ticks\": \"\"}, \"bgcolor\": \"#E5ECF6\", \"caxis\": {\"gridcolor\": \"white\", \"linecolor\": \"white\", \"ticks\": \"\"}}, \"title\": {\"x\": 0.05}, \"xaxis\": {\"automargin\": true, \"gridcolor\": \"white\", \"linecolor\": \"white\", \"ticks\": \"\", \"title\": {\"standoff\": 15}, \"zerolinecolor\": \"white\", \"zerolinewidth\": 2}, \"yaxis\": {\"automargin\": true, \"gridcolor\": \"white\", \"linecolor\": \"white\", \"ticks\": \"\", \"title\": {\"standoff\": 15}, \"zerolinecolor\": \"white\", \"zerolinewidth\": 2}}}},                        {\"responsive\": true}                    ).then(function(){\n",
       "                            \n",
       "var gd = document.getElementById('c27bd2d1-018b-4197-8bd2-78627e00ac32');\n",
       "var x = new MutationObserver(function (mutations, observer) {{\n",
       "        var display = window.getComputedStyle(gd).display;\n",
       "        if (!display || display === 'none') {{\n",
       "            console.log([gd, 'removed!']);\n",
       "            Plotly.purge(gd);\n",
       "            observer.disconnect();\n",
       "        }}\n",
       "}});\n",
       "\n",
       "// Listen for the removal of the full notebook cells\n",
       "var notebookContainer = gd.closest('#notebook-container');\n",
       "if (notebookContainer) {{\n",
       "    x.observe(notebookContainer, {childList: true});\n",
       "}}\n",
       "\n",
       "// Listen for the clearing of the current output cell\n",
       "var outputEl = gd.closest('.output');\n",
       "if (outputEl) {{\n",
       "    x.observe(outputEl, {childList: true});\n",
       "}}\n",
       "\n",
       "                        })                };                });            </script>        </div>"
      ]
     },
     "metadata": {},
     "output_type": "display_data"
    }
   ],
   "source": [
    "# noexport\n",
    "\n",
    "import plotly.graph_objects as go\n",
    "\n",
    "fig = go.Figure(data=[\n",
    "    #go.Bar(name='no MT, 5 src syn for each word', x=langpair_list, y=[langpair_to_num_src_trg_synonyms_nomt_to_accuracy[lang][(5, 0)] for lang in langpair_list]),\n",
    "    go.Bar(name='prefix-constrained MT', x=langpair_list, y=[lang_to_baseline_accuracy[lang] for lang in langpair_list]),\n",
    "    #go.Bar(name='prefix-constrained MT, plus 5 src syn for each word', x=langpair_list, y=[langpair_to_num_src_trg_synonyms_prefix_nextword_to_accuracy[lang][(5,0)] for lang in langpair_list]),\n",
    "    go.Bar(name='prefix-constrained MT +5 trg syn for next word', x=langpair_list, y=[langpair_to_num_src_trg_synonyms_prefix_nextword_to_accuracy[lang][(0,5)] for lang in langpair_list]),\n",
    "    #go.Bar(name='prefix-constrained MT +5src&5trg syn', x=langpair_list, y=[langpair_to_num_src_trg_synonyms_prefix_oracle_allsyn_to_accuracy[lang][(5,5)] for lang in langpair_list]),\n",
    "    go.Bar(name='prefix-constrained MT with oracle', x=langpair_list, y=[lang_to_baseline_accuracy_with_oracle[lang] for lang in langpair_list]),\n",
    "    #go.Bar(name='prefix-constrained MT with oracle, plus 5 src syn for each word', x=langpair_list, y=[langpair_to_num_src_trg_synonyms_prefix_oracle_to_accuracy[lang][(5,0)] for lang in langpair_list]),\n",
    "    #go.Bar(name='prefix-constrained MT with oracle, plus 5 trg syn for *next* word', x=langpair_list, y=[langpair_to_num_src_trg_synonyms_prefix_oracle_to_accuracy[lang][(0,5)] for lang in langpair_list]),\n",
    "    go.Bar(name='prefix-constrained MT with oracle +5src&5trg syn', x=langpair_list, y=[langpair_to_num_src_trg_synonyms_prefix_oracle_allsyn_to_accuracy[lang][(5,5)] for lang in langpair_list]),\n",
    "    go.Bar(name='fixed MT with oracle', x=langpair_list, y=[langpair_to_oracle_accuracy[lang] for lang in langpair_list]),\n",
    "    #go.Bar(name='fixed MT with oracle, plus 5 src syn for each word', x=langpair_list, y=[langpair_to_num_src_trg_synonyms_to_accuracy[lang][(5,0)] for lang in langpair_list]),\n",
    "    #go.Bar(name='fixed MT with oracle, plus 5 trg syn for each word', x=langpair_list, y=[langpair_to_num_src_trg_synonyms_to_accuracy[lang][(0,5)] for lang in langpair_list]),\n",
    "    go.Bar(name='fixed MT with oracle +5src&5trg syn', x=langpair_list, y=[langpair_to_num_src_trg_synonyms_to_accuracy[lang][(5,5)] for lang in langpair_list]),\n",
    "    #go.Bar(name='google translate with oracle', x=langpair_list, y=[lang_to_google_translate_accuracy_with_oracle[lang] for lang in langpair_list]),\n",
    "    go.Bar(name='google translate with oracle', x=langpair_list, y=[langpair_to_num_src_trg_synonyms_googtrans_to_accuracy[lang][(0,0)] for lang in langpair_list]),\n",
    "    #go.Bar(name='google translate with oracle, plus 5 src syn for each word', x=langpair_list, y=[langpair_to_num_src_trg_synonyms_googtrans_to_accuracy[lang][(5,0)] for lang in langpair_list]),\n",
    "    #go.Bar(name='google translate with oracle, plus 5 trg syn for each word', x=langpair_list, y=[langpair_to_num_src_trg_synonyms_googtrans_to_accuracy[lang][(0,5)] for lang in langpair_list]),\n",
    "    go.Bar(name='google translate with oracle +5src&5trg syn', x=langpair_list, y=[langpair_to_num_src_trg_synonyms_googtrans_to_accuracy[lang][(5,5)] for lang in langpair_list]),\n",
    "])\n",
    "# Change the bar mode\n",
    "fig.update_layout(barmode='group')\n",
    "fig.show()"
   ]
  },
  {
   "cell_type": "code",
   "execution_count": 27,
   "metadata": {},
   "outputs": [
    {
     "data": {
      "application/vnd.plotly.v1+json": {
       "config": {
        "plotlyServerURL": "https://plot.ly"
       },
       "data": [
        {
         "name": "0 src 0 trg syn",
         "type": "bar",
         "x": [
          "ende",
          "enes",
          "enfr",
          "enit",
          "enja",
          "enko",
          "enpt",
          "enzh",
          "enzt"
         ],
         "y": [
          0.6044597073905067,
          0.6861345202322586,
          0.6824583665422207,
          0.6756007659856306,
          0.5356384842053206,
          0.5748556051457075,
          0.7112302160690883,
          0.590495387151778,
          0.5642852066671404
         ]
        },
        {
         "name": "0 src 1 trg syn",
         "type": "bar",
         "x": [
          "ende",
          "enes",
          "enfr",
          "enit",
          "enja",
          "enko",
          "enpt",
          "enzh",
          "enzt"
         ],
         "y": [
          0.6045349767135532,
          0.6861571134859131,
          0.682510801627585,
          0.6756079650986998,
          0.5359352139957552,
          0.5748665441498206,
          0.7112638193487685,
          0.5905518479623294,
          0.5643562732674783
         ]
        },
        {
         "name": "0 src 2 trg syn",
         "type": "bar",
         "x": [
          "ende",
          "enes",
          "enfr",
          "enit",
          "enja",
          "enko",
          "enpt",
          "enzh",
          "enzt"
         ],
         "y": [
          0.6120807263489674,
          0.6954655339915501,
          0.691713159109023,
          0.6823751313838136,
          0.5461476642832122,
          0.5765511507832327,
          0.7185221277596694,
          0.6004889506193751,
          0.5864798526188042
         ]
        },
        {
         "name": "0 src 3 trg syn",
         "type": "bar",
         "x": [
          "ende",
          "enes",
          "enfr",
          "enit",
          "enja",
          "enko",
          "enpt",
          "enzh",
          "enzt"
         ],
         "y": [
          0.6174718916121749,
          0.700202586174435,
          0.6970038592222828,
          0.6872345327055707,
          0.5522471099754785,
          0.5774590881246171,
          0.723260190194563,
          0.6064060435651614,
          0.5915693145353065
         ]
        },
        {
         "name": "0 src 4 trg syn",
         "type": "bar",
         "x": [
          "ende",
          "enes",
          "enfr",
          "enit",
          "enja",
          "enko",
          "enpt",
          "enzh",
          "enzt"
         ],
         "y": [
          0.6200969092534224,
          0.7024242561171234,
          0.7034009396367298,
          0.6903877442299109,
          0.5551855591501988,
          0.5781154283714011,
          0.7249739574582479,
          0.6100590580078368,
          0.5970851760538357
         ]
        },
        {
         "name": "0 src 5 trg syn",
         "type": "bar",
         "x": [
          "ende",
          "enes",
          "enfr",
          "enit",
          "enja",
          "enko",
          "enpt",
          "enzh",
          "enzt"
         ],
         "y": [
          0.6230888648445218,
          0.7053086615003427,
          0.7049372876379043,
          0.6924754870199992,
          0.556426054524099,
          0.5782357574166448,
          0.7257972378104103,
          0.613266032047156,
          0.600217573130265
         ]
        }
       ],
       "layout": {
        "barmode": "group",
        "template": {
         "data": {
          "bar": [
           {
            "error_x": {
             "color": "#2a3f5f"
            },
            "error_y": {
             "color": "#2a3f5f"
            },
            "marker": {
             "line": {
              "color": "#E5ECF6",
              "width": 0.5
             }
            },
            "type": "bar"
           }
          ],
          "barpolar": [
           {
            "marker": {
             "line": {
              "color": "#E5ECF6",
              "width": 0.5
             }
            },
            "type": "barpolar"
           }
          ],
          "carpet": [
           {
            "aaxis": {
             "endlinecolor": "#2a3f5f",
             "gridcolor": "white",
             "linecolor": "white",
             "minorgridcolor": "white",
             "startlinecolor": "#2a3f5f"
            },
            "baxis": {
             "endlinecolor": "#2a3f5f",
             "gridcolor": "white",
             "linecolor": "white",
             "minorgridcolor": "white",
             "startlinecolor": "#2a3f5f"
            },
            "type": "carpet"
           }
          ],
          "choropleth": [
           {
            "colorbar": {
             "outlinewidth": 0,
             "ticks": ""
            },
            "type": "choropleth"
           }
          ],
          "contour": [
           {
            "colorbar": {
             "outlinewidth": 0,
             "ticks": ""
            },
            "colorscale": [
             [
              0,
              "#0d0887"
             ],
             [
              0.1111111111111111,
              "#46039f"
             ],
             [
              0.2222222222222222,
              "#7201a8"
             ],
             [
              0.3333333333333333,
              "#9c179e"
             ],
             [
              0.4444444444444444,
              "#bd3786"
             ],
             [
              0.5555555555555556,
              "#d8576b"
             ],
             [
              0.6666666666666666,
              "#ed7953"
             ],
             [
              0.7777777777777778,
              "#fb9f3a"
             ],
             [
              0.8888888888888888,
              "#fdca26"
             ],
             [
              1,
              "#f0f921"
             ]
            ],
            "type": "contour"
           }
          ],
          "contourcarpet": [
           {
            "colorbar": {
             "outlinewidth": 0,
             "ticks": ""
            },
            "type": "contourcarpet"
           }
          ],
          "heatmap": [
           {
            "colorbar": {
             "outlinewidth": 0,
             "ticks": ""
            },
            "colorscale": [
             [
              0,
              "#0d0887"
             ],
             [
              0.1111111111111111,
              "#46039f"
             ],
             [
              0.2222222222222222,
              "#7201a8"
             ],
             [
              0.3333333333333333,
              "#9c179e"
             ],
             [
              0.4444444444444444,
              "#bd3786"
             ],
             [
              0.5555555555555556,
              "#d8576b"
             ],
             [
              0.6666666666666666,
              "#ed7953"
             ],
             [
              0.7777777777777778,
              "#fb9f3a"
             ],
             [
              0.8888888888888888,
              "#fdca26"
             ],
             [
              1,
              "#f0f921"
             ]
            ],
            "type": "heatmap"
           }
          ],
          "heatmapgl": [
           {
            "colorbar": {
             "outlinewidth": 0,
             "ticks": ""
            },
            "colorscale": [
             [
              0,
              "#0d0887"
             ],
             [
              0.1111111111111111,
              "#46039f"
             ],
             [
              0.2222222222222222,
              "#7201a8"
             ],
             [
              0.3333333333333333,
              "#9c179e"
             ],
             [
              0.4444444444444444,
              "#bd3786"
             ],
             [
              0.5555555555555556,
              "#d8576b"
             ],
             [
              0.6666666666666666,
              "#ed7953"
             ],
             [
              0.7777777777777778,
              "#fb9f3a"
             ],
             [
              0.8888888888888888,
              "#fdca26"
             ],
             [
              1,
              "#f0f921"
             ]
            ],
            "type": "heatmapgl"
           }
          ],
          "histogram": [
           {
            "marker": {
             "colorbar": {
              "outlinewidth": 0,
              "ticks": ""
             }
            },
            "type": "histogram"
           }
          ],
          "histogram2d": [
           {
            "colorbar": {
             "outlinewidth": 0,
             "ticks": ""
            },
            "colorscale": [
             [
              0,
              "#0d0887"
             ],
             [
              0.1111111111111111,
              "#46039f"
             ],
             [
              0.2222222222222222,
              "#7201a8"
             ],
             [
              0.3333333333333333,
              "#9c179e"
             ],
             [
              0.4444444444444444,
              "#bd3786"
             ],
             [
              0.5555555555555556,
              "#d8576b"
             ],
             [
              0.6666666666666666,
              "#ed7953"
             ],
             [
              0.7777777777777778,
              "#fb9f3a"
             ],
             [
              0.8888888888888888,
              "#fdca26"
             ],
             [
              1,
              "#f0f921"
             ]
            ],
            "type": "histogram2d"
           }
          ],
          "histogram2dcontour": [
           {
            "colorbar": {
             "outlinewidth": 0,
             "ticks": ""
            },
            "colorscale": [
             [
              0,
              "#0d0887"
             ],
             [
              0.1111111111111111,
              "#46039f"
             ],
             [
              0.2222222222222222,
              "#7201a8"
             ],
             [
              0.3333333333333333,
              "#9c179e"
             ],
             [
              0.4444444444444444,
              "#bd3786"
             ],
             [
              0.5555555555555556,
              "#d8576b"
             ],
             [
              0.6666666666666666,
              "#ed7953"
             ],
             [
              0.7777777777777778,
              "#fb9f3a"
             ],
             [
              0.8888888888888888,
              "#fdca26"
             ],
             [
              1,
              "#f0f921"
             ]
            ],
            "type": "histogram2dcontour"
           }
          ],
          "mesh3d": [
           {
            "colorbar": {
             "outlinewidth": 0,
             "ticks": ""
            },
            "type": "mesh3d"
           }
          ],
          "parcoords": [
           {
            "line": {
             "colorbar": {
              "outlinewidth": 0,
              "ticks": ""
             }
            },
            "type": "parcoords"
           }
          ],
          "pie": [
           {
            "automargin": true,
            "type": "pie"
           }
          ],
          "scatter": [
           {
            "marker": {
             "colorbar": {
              "outlinewidth": 0,
              "ticks": ""
             }
            },
            "type": "scatter"
           }
          ],
          "scatter3d": [
           {
            "line": {
             "colorbar": {
              "outlinewidth": 0,
              "ticks": ""
             }
            },
            "marker": {
             "colorbar": {
              "outlinewidth": 0,
              "ticks": ""
             }
            },
            "type": "scatter3d"
           }
          ],
          "scattercarpet": [
           {
            "marker": {
             "colorbar": {
              "outlinewidth": 0,
              "ticks": ""
             }
            },
            "type": "scattercarpet"
           }
          ],
          "scattergeo": [
           {
            "marker": {
             "colorbar": {
              "outlinewidth": 0,
              "ticks": ""
             }
            },
            "type": "scattergeo"
           }
          ],
          "scattergl": [
           {
            "marker": {
             "colorbar": {
              "outlinewidth": 0,
              "ticks": ""
             }
            },
            "type": "scattergl"
           }
          ],
          "scattermapbox": [
           {
            "marker": {
             "colorbar": {
              "outlinewidth": 0,
              "ticks": ""
             }
            },
            "type": "scattermapbox"
           }
          ],
          "scatterpolar": [
           {
            "marker": {
             "colorbar": {
              "outlinewidth": 0,
              "ticks": ""
             }
            },
            "type": "scatterpolar"
           }
          ],
          "scatterpolargl": [
           {
            "marker": {
             "colorbar": {
              "outlinewidth": 0,
              "ticks": ""
             }
            },
            "type": "scatterpolargl"
           }
          ],
          "scatterternary": [
           {
            "marker": {
             "colorbar": {
              "outlinewidth": 0,
              "ticks": ""
             }
            },
            "type": "scatterternary"
           }
          ],
          "surface": [
           {
            "colorbar": {
             "outlinewidth": 0,
             "ticks": ""
            },
            "colorscale": [
             [
              0,
              "#0d0887"
             ],
             [
              0.1111111111111111,
              "#46039f"
             ],
             [
              0.2222222222222222,
              "#7201a8"
             ],
             [
              0.3333333333333333,
              "#9c179e"
             ],
             [
              0.4444444444444444,
              "#bd3786"
             ],
             [
              0.5555555555555556,
              "#d8576b"
             ],
             [
              0.6666666666666666,
              "#ed7953"
             ],
             [
              0.7777777777777778,
              "#fb9f3a"
             ],
             [
              0.8888888888888888,
              "#fdca26"
             ],
             [
              1,
              "#f0f921"
             ]
            ],
            "type": "surface"
           }
          ],
          "table": [
           {
            "cells": {
             "fill": {
              "color": "#EBF0F8"
             },
             "line": {
              "color": "white"
             }
            },
            "header": {
             "fill": {
              "color": "#C8D4E3"
             },
             "line": {
              "color": "white"
             }
            },
            "type": "table"
           }
          ]
         },
         "layout": {
          "annotationdefaults": {
           "arrowcolor": "#2a3f5f",
           "arrowhead": 0,
           "arrowwidth": 1
          },
          "autotypenumbers": "strict",
          "coloraxis": {
           "colorbar": {
            "outlinewidth": 0,
            "ticks": ""
           }
          },
          "colorscale": {
           "diverging": [
            [
             0,
             "#8e0152"
            ],
            [
             0.1,
             "#c51b7d"
            ],
            [
             0.2,
             "#de77ae"
            ],
            [
             0.3,
             "#f1b6da"
            ],
            [
             0.4,
             "#fde0ef"
            ],
            [
             0.5,
             "#f7f7f7"
            ],
            [
             0.6,
             "#e6f5d0"
            ],
            [
             0.7,
             "#b8e186"
            ],
            [
             0.8,
             "#7fbc41"
            ],
            [
             0.9,
             "#4d9221"
            ],
            [
             1,
             "#276419"
            ]
           ],
           "sequential": [
            [
             0,
             "#0d0887"
            ],
            [
             0.1111111111111111,
             "#46039f"
            ],
            [
             0.2222222222222222,
             "#7201a8"
            ],
            [
             0.3333333333333333,
             "#9c179e"
            ],
            [
             0.4444444444444444,
             "#bd3786"
            ],
            [
             0.5555555555555556,
             "#d8576b"
            ],
            [
             0.6666666666666666,
             "#ed7953"
            ],
            [
             0.7777777777777778,
             "#fb9f3a"
            ],
            [
             0.8888888888888888,
             "#fdca26"
            ],
            [
             1,
             "#f0f921"
            ]
           ],
           "sequentialminus": [
            [
             0,
             "#0d0887"
            ],
            [
             0.1111111111111111,
             "#46039f"
            ],
            [
             0.2222222222222222,
             "#7201a8"
            ],
            [
             0.3333333333333333,
             "#9c179e"
            ],
            [
             0.4444444444444444,
             "#bd3786"
            ],
            [
             0.5555555555555556,
             "#d8576b"
            ],
            [
             0.6666666666666666,
             "#ed7953"
            ],
            [
             0.7777777777777778,
             "#fb9f3a"
            ],
            [
             0.8888888888888888,
             "#fdca26"
            ],
            [
             1,
             "#f0f921"
            ]
           ]
          },
          "colorway": [
           "#636efa",
           "#EF553B",
           "#00cc96",
           "#ab63fa",
           "#FFA15A",
           "#19d3f3",
           "#FF6692",
           "#B6E880",
           "#FF97FF",
           "#FECB52"
          ],
          "font": {
           "color": "#2a3f5f"
          },
          "geo": {
           "bgcolor": "white",
           "lakecolor": "white",
           "landcolor": "#E5ECF6",
           "showlakes": true,
           "showland": true,
           "subunitcolor": "white"
          },
          "hoverlabel": {
           "align": "left"
          },
          "hovermode": "closest",
          "mapbox": {
           "style": "light"
          },
          "paper_bgcolor": "white",
          "plot_bgcolor": "#E5ECF6",
          "polar": {
           "angularaxis": {
            "gridcolor": "white",
            "linecolor": "white",
            "ticks": ""
           },
           "bgcolor": "#E5ECF6",
           "radialaxis": {
            "gridcolor": "white",
            "linecolor": "white",
            "ticks": ""
           }
          },
          "scene": {
           "xaxis": {
            "backgroundcolor": "#E5ECF6",
            "gridcolor": "white",
            "gridwidth": 2,
            "linecolor": "white",
            "showbackground": true,
            "ticks": "",
            "zerolinecolor": "white"
           },
           "yaxis": {
            "backgroundcolor": "#E5ECF6",
            "gridcolor": "white",
            "gridwidth": 2,
            "linecolor": "white",
            "showbackground": true,
            "ticks": "",
            "zerolinecolor": "white"
           },
           "zaxis": {
            "backgroundcolor": "#E5ECF6",
            "gridcolor": "white",
            "gridwidth": 2,
            "linecolor": "white",
            "showbackground": true,
            "ticks": "",
            "zerolinecolor": "white"
           }
          },
          "shapedefaults": {
           "line": {
            "color": "#2a3f5f"
           }
          },
          "ternary": {
           "aaxis": {
            "gridcolor": "white",
            "linecolor": "white",
            "ticks": ""
           },
           "baxis": {
            "gridcolor": "white",
            "linecolor": "white",
            "ticks": ""
           },
           "bgcolor": "#E5ECF6",
           "caxis": {
            "gridcolor": "white",
            "linecolor": "white",
            "ticks": ""
           }
          },
          "title": {
           "x": 0.05
          },
          "xaxis": {
           "automargin": true,
           "gridcolor": "white",
           "linecolor": "white",
           "ticks": "",
           "title": {
            "standoff": 15
           },
           "zerolinecolor": "white",
           "zerolinewidth": 2
          },
          "yaxis": {
           "automargin": true,
           "gridcolor": "white",
           "linecolor": "white",
           "ticks": "",
           "title": {
            "standoff": 15
           },
           "zerolinecolor": "white",
           "zerolinewidth": 2
          }
         }
        }
       }
      },
      "text/html": [
       "<div>                            <div id=\"9e6690c2-4c70-4deb-9db5-62363f7e00b0\" class=\"plotly-graph-div\" style=\"height:525px; width:100%;\"></div>            <script type=\"text/javascript\">                require([\"plotly\"], function(Plotly) {                    window.PLOTLYENV=window.PLOTLYENV || {};                                    if (document.getElementById(\"9e6690c2-4c70-4deb-9db5-62363f7e00b0\")) {                    Plotly.newPlot(                        \"9e6690c2-4c70-4deb-9db5-62363f7e00b0\",                        [{\"name\": \"0 src 0 trg syn\", \"type\": \"bar\", \"x\": [\"ende\", \"enes\", \"enfr\", \"enit\", \"enja\", \"enko\", \"enpt\", \"enzh\", \"enzt\"], \"y\": [0.6044597073905067, 0.6861345202322586, 0.6824583665422207, 0.6756007659856306, 0.5356384842053206, 0.5748556051457075, 0.7112302160690883, 0.590495387151778, 0.5642852066671404]}, {\"name\": \"0 src 1 trg syn\", \"type\": \"bar\", \"x\": [\"ende\", \"enes\", \"enfr\", \"enit\", \"enja\", \"enko\", \"enpt\", \"enzh\", \"enzt\"], \"y\": [0.6045349767135532, 0.6861571134859131, 0.682510801627585, 0.6756079650986998, 0.5359352139957552, 0.5748665441498206, 0.7112638193487685, 0.5905518479623294, 0.5643562732674783]}, {\"name\": \"0 src 2 trg syn\", \"type\": \"bar\", \"x\": [\"ende\", \"enes\", \"enfr\", \"enit\", \"enja\", \"enko\", \"enpt\", \"enzh\", \"enzt\"], \"y\": [0.6120807263489674, 0.6954655339915501, 0.691713159109023, 0.6823751313838136, 0.5461476642832122, 0.5765511507832327, 0.7185221277596694, 0.6004889506193751, 0.5864798526188042]}, {\"name\": \"0 src 3 trg syn\", \"type\": \"bar\", \"x\": [\"ende\", \"enes\", \"enfr\", \"enit\", \"enja\", \"enko\", \"enpt\", \"enzh\", \"enzt\"], \"y\": [0.6174718916121749, 0.700202586174435, 0.6970038592222828, 0.6872345327055707, 0.5522471099754785, 0.5774590881246171, 0.723260190194563, 0.6064060435651614, 0.5915693145353065]}, {\"name\": \"0 src 4 trg syn\", \"type\": \"bar\", \"x\": [\"ende\", \"enes\", \"enfr\", \"enit\", \"enja\", \"enko\", \"enpt\", \"enzh\", \"enzt\"], \"y\": [0.6200969092534224, 0.7024242561171234, 0.7034009396367298, 0.6903877442299109, 0.5551855591501988, 0.5781154283714011, 0.7249739574582479, 0.6100590580078368, 0.5970851760538357]}, {\"name\": \"0 src 5 trg syn\", \"type\": \"bar\", \"x\": [\"ende\", \"enes\", \"enfr\", \"enit\", \"enja\", \"enko\", \"enpt\", \"enzh\", \"enzt\"], \"y\": [0.6230888648445218, 0.7053086615003427, 0.7049372876379043, 0.6924754870199992, 0.556426054524099, 0.5782357574166448, 0.7257972378104103, 0.613266032047156, 0.600217573130265]}],                        {\"barmode\": \"group\", \"template\": {\"data\": {\"bar\": [{\"error_x\": {\"color\": \"#2a3f5f\"}, \"error_y\": {\"color\": \"#2a3f5f\"}, \"marker\": {\"line\": {\"color\": \"#E5ECF6\", \"width\": 0.5}}, \"type\": \"bar\"}], \"barpolar\": [{\"marker\": {\"line\": {\"color\": \"#E5ECF6\", \"width\": 0.5}}, \"type\": \"barpolar\"}], \"carpet\": [{\"aaxis\": {\"endlinecolor\": \"#2a3f5f\", \"gridcolor\": \"white\", \"linecolor\": \"white\", \"minorgridcolor\": \"white\", \"startlinecolor\": \"#2a3f5f\"}, \"baxis\": {\"endlinecolor\": \"#2a3f5f\", \"gridcolor\": \"white\", \"linecolor\": \"white\", \"minorgridcolor\": \"white\", \"startlinecolor\": \"#2a3f5f\"}, \"type\": \"carpet\"}], \"choropleth\": [{\"colorbar\": {\"outlinewidth\": 0, \"ticks\": \"\"}, \"type\": \"choropleth\"}], \"contour\": [{\"colorbar\": {\"outlinewidth\": 0, \"ticks\": \"\"}, \"colorscale\": [[0.0, \"#0d0887\"], [0.1111111111111111, \"#46039f\"], [0.2222222222222222, \"#7201a8\"], [0.3333333333333333, \"#9c179e\"], [0.4444444444444444, \"#bd3786\"], [0.5555555555555556, \"#d8576b\"], [0.6666666666666666, \"#ed7953\"], [0.7777777777777778, \"#fb9f3a\"], [0.8888888888888888, \"#fdca26\"], [1.0, \"#f0f921\"]], \"type\": \"contour\"}], \"contourcarpet\": [{\"colorbar\": {\"outlinewidth\": 0, \"ticks\": \"\"}, \"type\": \"contourcarpet\"}], \"heatmap\": [{\"colorbar\": {\"outlinewidth\": 0, \"ticks\": \"\"}, \"colorscale\": [[0.0, \"#0d0887\"], [0.1111111111111111, \"#46039f\"], [0.2222222222222222, \"#7201a8\"], [0.3333333333333333, \"#9c179e\"], [0.4444444444444444, \"#bd3786\"], [0.5555555555555556, \"#d8576b\"], [0.6666666666666666, \"#ed7953\"], [0.7777777777777778, \"#fb9f3a\"], [0.8888888888888888, \"#fdca26\"], [1.0, \"#f0f921\"]], \"type\": \"heatmap\"}], \"heatmapgl\": [{\"colorbar\": {\"outlinewidth\": 0, \"ticks\": \"\"}, \"colorscale\": [[0.0, \"#0d0887\"], [0.1111111111111111, \"#46039f\"], [0.2222222222222222, \"#7201a8\"], [0.3333333333333333, \"#9c179e\"], [0.4444444444444444, \"#bd3786\"], [0.5555555555555556, \"#d8576b\"], [0.6666666666666666, \"#ed7953\"], [0.7777777777777778, \"#fb9f3a\"], [0.8888888888888888, \"#fdca26\"], [1.0, \"#f0f921\"]], \"type\": \"heatmapgl\"}], \"histogram\": [{\"marker\": {\"colorbar\": {\"outlinewidth\": 0, \"ticks\": \"\"}}, \"type\": \"histogram\"}], \"histogram2d\": [{\"colorbar\": {\"outlinewidth\": 0, \"ticks\": \"\"}, \"colorscale\": [[0.0, \"#0d0887\"], [0.1111111111111111, \"#46039f\"], [0.2222222222222222, \"#7201a8\"], [0.3333333333333333, \"#9c179e\"], [0.4444444444444444, \"#bd3786\"], [0.5555555555555556, \"#d8576b\"], [0.6666666666666666, \"#ed7953\"], [0.7777777777777778, \"#fb9f3a\"], [0.8888888888888888, \"#fdca26\"], [1.0, \"#f0f921\"]], \"type\": \"histogram2d\"}], \"histogram2dcontour\": [{\"colorbar\": {\"outlinewidth\": 0, \"ticks\": \"\"}, \"colorscale\": [[0.0, \"#0d0887\"], [0.1111111111111111, \"#46039f\"], [0.2222222222222222, \"#7201a8\"], [0.3333333333333333, \"#9c179e\"], [0.4444444444444444, \"#bd3786\"], [0.5555555555555556, \"#d8576b\"], [0.6666666666666666, \"#ed7953\"], [0.7777777777777778, \"#fb9f3a\"], [0.8888888888888888, \"#fdca26\"], [1.0, \"#f0f921\"]], \"type\": \"histogram2dcontour\"}], \"mesh3d\": [{\"colorbar\": {\"outlinewidth\": 0, \"ticks\": \"\"}, \"type\": \"mesh3d\"}], \"parcoords\": [{\"line\": {\"colorbar\": {\"outlinewidth\": 0, \"ticks\": \"\"}}, \"type\": \"parcoords\"}], \"pie\": [{\"automargin\": true, \"type\": \"pie\"}], \"scatter\": [{\"marker\": {\"colorbar\": {\"outlinewidth\": 0, \"ticks\": \"\"}}, \"type\": \"scatter\"}], \"scatter3d\": [{\"line\": {\"colorbar\": {\"outlinewidth\": 0, \"ticks\": \"\"}}, \"marker\": {\"colorbar\": {\"outlinewidth\": 0, \"ticks\": \"\"}}, \"type\": \"scatter3d\"}], \"scattercarpet\": [{\"marker\": {\"colorbar\": {\"outlinewidth\": 0, \"ticks\": \"\"}}, \"type\": \"scattercarpet\"}], \"scattergeo\": [{\"marker\": {\"colorbar\": {\"outlinewidth\": 0, \"ticks\": \"\"}}, \"type\": \"scattergeo\"}], \"scattergl\": [{\"marker\": {\"colorbar\": {\"outlinewidth\": 0, \"ticks\": \"\"}}, \"type\": \"scattergl\"}], \"scattermapbox\": [{\"marker\": {\"colorbar\": {\"outlinewidth\": 0, \"ticks\": \"\"}}, \"type\": \"scattermapbox\"}], \"scatterpolar\": [{\"marker\": {\"colorbar\": {\"outlinewidth\": 0, \"ticks\": \"\"}}, \"type\": \"scatterpolar\"}], \"scatterpolargl\": [{\"marker\": {\"colorbar\": {\"outlinewidth\": 0, \"ticks\": \"\"}}, \"type\": \"scatterpolargl\"}], \"scatterternary\": [{\"marker\": {\"colorbar\": {\"outlinewidth\": 0, \"ticks\": \"\"}}, \"type\": \"scatterternary\"}], \"surface\": [{\"colorbar\": {\"outlinewidth\": 0, \"ticks\": \"\"}, \"colorscale\": [[0.0, \"#0d0887\"], [0.1111111111111111, \"#46039f\"], [0.2222222222222222, \"#7201a8\"], [0.3333333333333333, \"#9c179e\"], [0.4444444444444444, \"#bd3786\"], [0.5555555555555556, \"#d8576b\"], [0.6666666666666666, \"#ed7953\"], [0.7777777777777778, \"#fb9f3a\"], [0.8888888888888888, \"#fdca26\"], [1.0, \"#f0f921\"]], \"type\": \"surface\"}], \"table\": [{\"cells\": {\"fill\": {\"color\": \"#EBF0F8\"}, \"line\": {\"color\": \"white\"}}, \"header\": {\"fill\": {\"color\": \"#C8D4E3\"}, \"line\": {\"color\": \"white\"}}, \"type\": \"table\"}]}, \"layout\": {\"annotationdefaults\": {\"arrowcolor\": \"#2a3f5f\", \"arrowhead\": 0, \"arrowwidth\": 1}, \"autotypenumbers\": \"strict\", \"coloraxis\": {\"colorbar\": {\"outlinewidth\": 0, \"ticks\": \"\"}}, \"colorscale\": {\"diverging\": [[0, \"#8e0152\"], [0.1, \"#c51b7d\"], [0.2, \"#de77ae\"], [0.3, \"#f1b6da\"], [0.4, \"#fde0ef\"], [0.5, \"#f7f7f7\"], [0.6, \"#e6f5d0\"], [0.7, \"#b8e186\"], [0.8, \"#7fbc41\"], [0.9, \"#4d9221\"], [1, \"#276419\"]], \"sequential\": [[0.0, \"#0d0887\"], [0.1111111111111111, \"#46039f\"], [0.2222222222222222, \"#7201a8\"], [0.3333333333333333, \"#9c179e\"], [0.4444444444444444, \"#bd3786\"], [0.5555555555555556, \"#d8576b\"], [0.6666666666666666, \"#ed7953\"], [0.7777777777777778, \"#fb9f3a\"], [0.8888888888888888, \"#fdca26\"], [1.0, \"#f0f921\"]], \"sequentialminus\": [[0.0, \"#0d0887\"], [0.1111111111111111, \"#46039f\"], [0.2222222222222222, \"#7201a8\"], [0.3333333333333333, \"#9c179e\"], [0.4444444444444444, \"#bd3786\"], [0.5555555555555556, \"#d8576b\"], [0.6666666666666666, \"#ed7953\"], [0.7777777777777778, \"#fb9f3a\"], [0.8888888888888888, \"#fdca26\"], [1.0, \"#f0f921\"]]}, \"colorway\": [\"#636efa\", \"#EF553B\", \"#00cc96\", \"#ab63fa\", \"#FFA15A\", \"#19d3f3\", \"#FF6692\", \"#B6E880\", \"#FF97FF\", \"#FECB52\"], \"font\": {\"color\": \"#2a3f5f\"}, \"geo\": {\"bgcolor\": \"white\", \"lakecolor\": \"white\", \"landcolor\": \"#E5ECF6\", \"showlakes\": true, \"showland\": true, \"subunitcolor\": \"white\"}, \"hoverlabel\": {\"align\": \"left\"}, \"hovermode\": \"closest\", \"mapbox\": {\"style\": \"light\"}, \"paper_bgcolor\": \"white\", \"plot_bgcolor\": \"#E5ECF6\", \"polar\": {\"angularaxis\": {\"gridcolor\": \"white\", \"linecolor\": \"white\", \"ticks\": \"\"}, \"bgcolor\": \"#E5ECF6\", \"radialaxis\": {\"gridcolor\": \"white\", \"linecolor\": \"white\", \"ticks\": \"\"}}, \"scene\": {\"xaxis\": {\"backgroundcolor\": \"#E5ECF6\", \"gridcolor\": \"white\", \"gridwidth\": 2, \"linecolor\": \"white\", \"showbackground\": true, \"ticks\": \"\", \"zerolinecolor\": \"white\"}, \"yaxis\": {\"backgroundcolor\": \"#E5ECF6\", \"gridcolor\": \"white\", \"gridwidth\": 2, \"linecolor\": \"white\", \"showbackground\": true, \"ticks\": \"\", \"zerolinecolor\": \"white\"}, \"zaxis\": {\"backgroundcolor\": \"#E5ECF6\", \"gridcolor\": \"white\", \"gridwidth\": 2, \"linecolor\": \"white\", \"showbackground\": true, \"ticks\": \"\", \"zerolinecolor\": \"white\"}}, \"shapedefaults\": {\"line\": {\"color\": \"#2a3f5f\"}}, \"ternary\": {\"aaxis\": {\"gridcolor\": \"white\", \"linecolor\": \"white\", \"ticks\": \"\"}, \"baxis\": {\"gridcolor\": \"white\", \"linecolor\": \"white\", \"ticks\": \"\"}, \"bgcolor\": \"#E5ECF6\", \"caxis\": {\"gridcolor\": \"white\", \"linecolor\": \"white\", \"ticks\": \"\"}}, \"title\": {\"x\": 0.05}, \"xaxis\": {\"automargin\": true, \"gridcolor\": \"white\", \"linecolor\": \"white\", \"ticks\": \"\", \"title\": {\"standoff\": 15}, \"zerolinecolor\": \"white\", \"zerolinewidth\": 2}, \"yaxis\": {\"automargin\": true, \"gridcolor\": \"white\", \"linecolor\": \"white\", \"ticks\": \"\", \"title\": {\"standoff\": 15}, \"zerolinecolor\": \"white\", \"zerolinewidth\": 2}}}},                        {\"responsive\": true}                    ).then(function(){\n",
       "                            \n",
       "var gd = document.getElementById('9e6690c2-4c70-4deb-9db5-62363f7e00b0');\n",
       "var x = new MutationObserver(function (mutations, observer) {{\n",
       "        var display = window.getComputedStyle(gd).display;\n",
       "        if (!display || display === 'none') {{\n",
       "            console.log([gd, 'removed!']);\n",
       "            Plotly.purge(gd);\n",
       "            observer.disconnect();\n",
       "        }}\n",
       "}});\n",
       "\n",
       "// Listen for the removal of the full notebook cells\n",
       "var notebookContainer = gd.closest('#notebook-container');\n",
       "if (notebookContainer) {{\n",
       "    x.observe(notebookContainer, {childList: true});\n",
       "}}\n",
       "\n",
       "// Listen for the clearing of the current output cell\n",
       "var outputEl = gd.closest('.output');\n",
       "if (outputEl) {{\n",
       "    x.observe(outputEl, {childList: true});\n",
       "}}\n",
       "\n",
       "                        })                };                });            </script>        </div>"
      ]
     },
     "metadata": {},
     "output_type": "display_data"
    }
   ],
   "source": [
    "datalist = []\n",
    "for num_synonyms_sourcelang in range(1):\n",
    "  for num_synonyms_targetlang in range(6):\n",
    "    yvals = [langpair_to_num_src_trg_synonyms_prefix_nextword_to_accuracy[lang][(num_synonyms_sourcelang, num_synonyms_targetlang)] for lang in langpair_list]\n",
    "    dataitem = go.Bar(name=f'{num_synonyms_sourcelang} src {num_synonyms_targetlang} trg syn', x=langpair_list, y=yvals)\n",
    "    datalist.append(dataitem)\n",
    "fig = go.Figure(data=datalist)\n",
    "# Change the bar mode\n",
    "fig.update_layout(barmode='group')\n",
    "fig.show()"
   ]
  },
  {
   "cell_type": "code",
   "execution_count": 28,
   "metadata": {},
   "outputs": [
    {
     "data": {
      "application/vnd.plotly.v1+json": {
       "config": {
        "plotlyServerURL": "https://plot.ly"
       },
       "data": [
        {
         "name": "0 src 0 trg syn",
         "type": "bar",
         "x": [
          "ende",
          "enes",
          "enfr",
          "enit",
          "enja",
          "enko",
          "enpt",
          "enzh",
          "enzt"
         ],
         "y": [
          0.5545373288798984,
          0.6831371485807671,
          0.6465246025420529,
          0.6487336760111154,
          0.5634898720352779,
          0.5361534085936817,
          0.7005107698511375,
          0.6442347866345969,
          0.6186456892640233
         ]
        },
        {
         "name": "0 src 1 trg syn",
         "type": "bar",
         "x": [
          "ende",
          "enes",
          "enfr",
          "enit",
          "enja",
          "enko",
          "enpt",
          "enzh",
          "enzt"
         ],
         "y": [
          0.5546690501952298,
          0.6832802391872453,
          0.6465927681530266,
          0.6487408751241847,
          0.5642069690288282,
          0.5362409206265861,
          0.7005947780503378,
          0.6443081856883137,
          0.6187222225259257
         ]
        },
        {
         "name": "0 src 2 trg syn",
         "type": "bar",
         "x": [
          "ende",
          "enes",
          "enfr",
          "enit",
          "enja",
          "enko",
          "enpt",
          "enzh",
          "enzt"
         ],
         "y": [
          0.5718492731805993,
          0.6984101880511813,
          0.6656371911573472,
          0.6630167163405468,
          0.5780378742607513,
          0.5384505994574253,
          0.71527941127054,
          0.6574014476551825,
          0.6464545966423765
         ]
        },
        {
         "name": "0 src 3 trg syn",
         "type": "bar",
         "x": [
          "ende",
          "enes",
          "enfr",
          "enit",
          "enja",
          "enko",
          "enpt",
          "enzh",
          "enzt"
         ],
         "y": [
          0.5807592792962318,
          0.7080349141079807,
          0.6771938839716432,
          0.6744345096684089,
          0.588637721774609,
          0.539555438872845,
          0.7238146443092845,
          0.6664408234244611,
          0.6531293904125689
         ]
        },
        {
         "name": "0 src 4 trg syn",
         "type": "bar",
         "x": [
          "ende",
          "enes",
          "enfr",
          "enit",
          "enja",
          "enko",
          "enpt",
          "enzh",
          "enzt"
         ],
         "y": [
          0.5871948064167097,
          0.7127117176144536,
          0.68478124082386,
          0.6813096626495616,
          0.593649158235282,
          0.5403758641813249,
          0.7272253771968145,
          0.671573111103583,
          0.6605257835092687
         ]
        },
        {
         "name": "0 src 5 trg syn",
         "type": "bar",
         "x": [
          "ende",
          "enes",
          "enfr",
          "enit",
          "enja",
          "enko",
          "enpt",
          "enzh",
          "enzt"
         ],
         "y": [
          0.5934045255680481,
          0.7186010257337159,
          0.6881108687444943,
          0.6850388032194433,
          0.5962661501370314,
          0.5406055832676994,
          0.7290231526596996,
          0.6769030116196348,
          0.6644289798662855
         ]
        },
        {
         "name": "1 src 0 trg syn",
         "type": "bar",
         "x": [
          "ende",
          "enes",
          "enfr",
          "enit",
          "enja",
          "enko",
          "enpt",
          "enzh",
          "enzt"
         ],
         "y": [
          0.5776920543820859,
          0.6975215200741058,
          0.6654064767817442,
          0.6645213309720243,
          0.585357209091471,
          0.544729587818325,
          0.7153298161900602,
          0.6653906523482052,
          0.6374783383535508
         ]
        },
        {
         "name": "1 src 1 trg syn",
         "type": "bar",
         "x": [
          "ende",
          "enes",
          "enfr",
          "enit",
          "enja",
          "enko",
          "enpt",
          "enzh",
          "enzt"
         ],
         "y": [
          0.5777673237051324,
          0.6975591754968633,
          0.6654484248500356,
          0.6645285300850935,
          0.5860166086257702,
          0.5447952218430034,
          0.7153802211095803,
          0.6654584053208668,
          0.6375548716154532
         ]
        },
        {
         "name": "1 src 2 trg syn",
         "type": "bar",
         "x": [
          "ende",
          "enes",
          "enfr",
          "enit",
          "enja",
          "enko",
          "enpt",
          "enzh",
          "enzt"
         ],
         "y": [
          0.5902996659923789,
          0.7088633334086442,
          0.6793070179118251,
          0.6755575713072149,
          0.5976467679119701,
          0.5464141944517371,
          0.7268389394804933,
          0.6764513251352237,
          0.6612309828510827
         ]
        },
        {
         "name": "1 src 3 trg syn",
         "type": "bar",
         "x": [
          "ende",
          "enes",
          "enfr",
          "enit",
          "enja",
          "enko",
          "enpt",
          "enzh",
          "enzt"
         ],
         "y": [
          0.5972244437126594,
          0.7166580059194324,
          0.6894165023700659,
          0.6857443163002318,
          0.6061076881864452,
          0.5474752778507045,
          0.7337948183742733,
          0.6844235915850808,
          0.6672169772641545
         ]
        },
        {
         "name": "1 src 4 trg syn",
         "type": "bar",
         "x": [
          "ende",
          "enes",
          "enfr",
          "enit",
          "enja",
          "enko",
          "enpt",
          "enzh",
          "enzt"
         ],
         "y": [
          0.6023333490144424,
          0.721078752551155,
          0.6959971055832879,
          0.6910428635192144,
          0.6108100311154155,
          0.5480878620810361,
          0.7370543365032427,
          0.6891380692661224,
          0.6733997714935466
         ]
        },
        {
         "name": "1 src 5 trg syn",
         "type": "bar",
         "x": [
          "ende",
          "enes",
          "enfr",
          "enit",
          "enja",
          "enko",
          "enpt",
          "enzh",
          "enzt"
         ],
         "y": [
          0.6076962882815072,
          0.7263806360754013,
          0.6988233566844246,
          0.6946064244885031,
          0.6132003544272497,
          0.5482957031591844,
          0.7386672939278873,
          0.694055805865149,
          0.6767125684016029
         ]
        },
        {
         "name": "2 src 0 trg syn",
         "type": "bar",
         "x": [
          "ende",
          "enes",
          "enfr",
          "enit",
          "enja",
          "enko",
          "enpt",
          "enzh",
          "enzt"
         ],
         "y": [
          0.5913534365150304,
          0.7088934577468501,
          0.6768950039850665,
          0.6724619526874289,
          0.5958663891693626,
          0.5476284239082874,
          0.7233105951140831,
          0.673718621904536,
          0.6463124634417008
         ]
        },
        {
         "name": "2 src 1 trg syn",
         "type": "bar",
         "x": [
          "ende",
          "enes",
          "enfr",
          "enit",
          "enja",
          "enko",
          "enpt",
          "enzh",
          "enzt"
         ],
         "y": [
          0.591419297172696,
          0.7089311131696076,
          0.6769317085448215,
          0.6724691518004982,
          0.5964474850089637,
          0.5476940579329658,
          0.7233610000336033,
          0.6737863748771977,
          0.6463780633804742
         ]
        },
        {
         "name": "2 src 2 trg syn",
         "type": "bar",
         "x": [
          "ende",
          "enes",
          "enfr",
          "enit",
          "enja",
          "enko",
          "enpt",
          "enzh",
          "enzt"
         ],
         "y": [
          0.5992661241002963,
          0.7161910786772403,
          0.6846239355677671,
          0.6808417203000591,
          0.6061406581631602,
          0.5492364575129081,
          0.731610605195067,
          0.6827579976738146,
          0.6682556429613999
         ]
        },
        {
         "name": "2 src 3 trg syn",
         "type": "bar",
         "x": [
          "ende",
          "enes",
          "enfr",
          "enit",
          "enja",
          "enko",
          "enpt",
          "enzh",
          "enzt"
         ],
         "y": [
          0.6052312179517335,
          0.7226527492224155,
          0.6943296698687026,
          0.6899342001065468,
          0.6133116280986627,
          0.5501334558501794,
          0.7378944184952452,
          0.6901204873697167,
          0.6737879044646224
         ]
        },
        {
         "name": "2 src 4 trg syn",
         "type": "bar",
         "x": [
          "ende",
          "enes",
          "enfr",
          "enit",
          "enja",
          "enko",
          "enpt",
          "enzh",
          "enzt"
         ],
         "y": [
          0.609446300042339,
          0.7261772967925111,
          0.7001289903099962,
          0.6946208227146415,
          0.617634816295411,
          0.5507460400805111,
          0.7408683087469337,
          0.6944849080253396,
          0.6796645656464054
         ]
        },
        {
         "name": "2 src 5 trg syn",
         "type": "bar",
         "x": [
          "ende",
          "enes",
          "enfr",
          "enit",
          "enja",
          "enko",
          "enpt",
          "enzh",
          "enzt"
         ],
         "y": [
          0.6131627228677612,
          0.7313360897102792,
          0.7028293972062587,
          0.6978820209350208,
          0.6199056234416535,
          0.5509538811586593,
          0.7424644645317383,
          0.6992106778684914,
          0.6822010966123099
         ]
        },
        {
         "name": "3 src 0 trg syn",
         "type": "bar",
         "x": [
          "ende",
          "enes",
          "enfr",
          "enit",
          "enja",
          "enko",
          "enpt",
          "enzh",
          "enzt"
         ],
         "y": [
          0.6001693559768547,
          0.7168086276104622,
          0.6863595368933261,
          0.6784660129872,
          0.6011910404088278,
          0.55024284589131,
          0.7292415739776202,
          0.6793421186354551,
          0.6555019215315399
         ]
        },
        {
         "name": "3 src 1 trg syn",
         "type": "bar",
         "x": [
          "ende",
          "enes",
          "enfr",
          "enit",
          "enja",
          "enko",
          "enpt",
          "enzh",
          "enzt"
         ],
         "y": [
          0.6002352166345204,
          0.7168462830332196,
          0.6863962414530811,
          0.6784732121002692,
          0.6017556512600712,
          0.5503084799159884,
          0.7292919788971404,
          0.6794098716081168,
          0.6555620548087489
         ]
        },
        {
         "name": "3 src 2 trg syn",
         "type": "bar",
         "x": [
          "ende",
          "enes",
          "enfr",
          "enit",
          "enja",
          "enko",
          "enpt",
          "enzh",
          "enzt"
         ],
         "y": [
          0.6065954744319518,
          0.7230142412808869,
          0.6921483703175468,
          0.6857083207348854,
          0.6106245749963939,
          0.5517633674630261,
          0.7354581807184382,
          0.6874781214359114,
          0.6750397699628814
         ]
        },
        {
         "name": "3 src 3 trg syn",
         "type": "bar",
         "x": [
          "ende",
          "enes",
          "enfr",
          "enit",
          "enja",
          "enko",
          "enpt",
          "enzh",
          "enzt"
         ],
         "y": [
          0.6106976525379875,
          0.728173034198655,
          0.6996728050673267,
          0.6940952874605849,
          0.6171196604092398,
          0.5526384877920714,
          0.740297052992372,
          0.6943211716747406,
          0.6800144319865301
         ]
        },
        {
         "name": "3 src 4 trg syn",
         "type": "bar",
         "x": [
          "ende",
          "enes",
          "enfr",
          "enit",
          "enja",
          "enko",
          "enpt",
          "enzh",
          "enzt"
         ],
         "y": [
          0.6143199887096016,
          0.7308465692144326,
          0.7042084399513402,
          0.6981843836839301,
          0.6213315749345752,
          0.55324013301829,
          0.7430189186464599,
          0.6984428108449925,
          0.6849125607482767
         ]
        },
        {
         "name": "3 src 5 trg syn",
         "type": "bar",
         "x": [
          "ende",
          "enes",
          "enfr",
          "enit",
          "enja",
          "enko",
          "enpt",
          "enzh",
          "enzt"
         ],
         "y": [
          0.617613021592887,
          0.7340999977406746,
          0.706840681236629,
          0.701193612946885,
          0.6234540171856003,
          0.5534370350923252,
          0.7443294465539837,
          0.7027564167711192,
          0.6873670917907143
         ]
        },
        {
         "name": "4 src 0 trg syn",
         "type": "bar",
         "x": [
          "ende",
          "enes",
          "enfr",
          "enit",
          "enja",
          "enko",
          "enpt",
          "enzh",
          "enzt"
         ],
         "y": [
          0.6074328456508444,
          0.7214101202714203,
          0.6932757246528798,
          0.6849524138626121,
          0.604286096972944,
          0.5519165135206091,
          0.7335595954165126,
          0.6830628860507921,
          0.6678401766825017
         ]
        },
        {
         "name": "4 src 1 trg syn",
         "type": "bar",
         "x": [
          "ende",
          "enes",
          "enfr",
          "enit",
          "enja",
          "enko",
          "enpt",
          "enzh",
          "enzt"
         ],
         "y": [
          0.6074987063085101,
          0.7214477756941777,
          0.6933124292126348,
          0.6849596129756814,
          0.6048301015887407,
          0.5519821475452875,
          0.7336100003360327,
          0.6831193468613436,
          0.6679003099597107
         ]
        },
        {
         "name": "4 src 2 trg syn",
         "type": "bar",
         "x": [
          "ende",
          "enes",
          "enfr",
          "enit",
          "enja",
          "enko",
          "enpt",
          "enzh",
          "enzt"
         ],
         "y": [
          0.61337912217152,
          0.7266291618656002,
          0.6988600612441797,
          0.6905821202827812,
          0.6132621731335902,
          0.553415157084099,
          0.7381632447326859,
          0.6909335230416568,
          0.6811624309150645
         ]
        },
        {
         "name": "4 src 3 trg syn",
         "type": "bar",
         "x": [
          "ende",
          "enes",
          "enfr",
          "enit",
          "enja",
          "enko",
          "enpt",
          "enzh",
          "enzt"
         ],
         "y": [
          0.6166345203932823,
          0.730914348975396,
          0.7037365241830613,
          0.6978748218219515,
          0.6195965299099507,
          0.5542793384090312,
          0.7426828858496589,
          0.6971103357159796,
          0.6858746931836197
         ]
        },
        {
         "name": "4 src 4 trg syn",
         "type": "bar",
         "x": [
          "ende",
          "enes",
          "enfr",
          "enit",
          "enja",
          "enko",
          "enpt",
          "enzh",
          "enzt"
         ],
         "y": [
          0.6199557792727102,
          0.7327519336059586,
          0.706961281932967,
          0.7016615552963875,
          0.6236971707638731,
          0.5548700446311368,
          0.7445982727914244,
          0.7011134071840736,
          0.6905650888059172
         ]
        },
        {
         "name": "4 src 5 trg syn",
         "type": "bar",
         "x": [
          "ende",
          "enes",
          "enfr",
          "enit",
          "enja",
          "enko",
          "enpt",
          "enzh",
          "enzt"
         ],
         "y": [
          0.6224961189255304,
          0.7358698026102739,
          0.7093365912999706,
          0.7042748333405324,
          0.6257495518143791,
          0.555066946705172,
          0.7458919990591082,
          0.7049470962205133,
          0.6929266866017592
         ]
        },
        {
         "name": "5 src 0 trg syn",
         "type": "bar",
         "x": [
          "ende",
          "enes",
          "enfr",
          "enit",
          "enja",
          "enko",
          "enpt",
          "enzh",
          "enzt"
         ],
         "y": [
          0.6128240109140518,
          0.7241815593863672,
          0.696568648013759,
          0.6896246382445683,
          0.6054977436172185,
          0.5531307429771594,
          0.7358782217144393,
          0.6858915726594171,
          0.6716559064544874
         ]
        },
        {
         "name": "5 src 1 trg syn",
         "type": "bar",
         "x": [
          "ende",
          "enes",
          "enfr",
          "enit",
          "enja",
          "enko",
          "enpt",
          "enzh",
          "enzt"
         ],
         "y": [
          0.6128898715717176,
          0.7242192148091247,
          0.696605352573514,
          0.6896318373576376,
          0.6060417482330153,
          0.5531963770018378,
          0.7359286266339595,
          0.6859480334699685,
          0.6717160397316962
         ]
        },
        {
         "name": "5 src 2 trg syn",
         "type": "bar",
         "x": [
          "ende",
          "enes",
          "enfr",
          "enit",
          "enja",
          "enko",
          "enpt",
          "enzh",
          "enzt"
         ],
         "y": [
          0.6183563061579715,
          0.7289939224147669,
          0.7014241369184949,
          0.6947792032021655,
          0.614420243565703,
          0.5545856305241971,
          0.7401962431533318,
          0.6935194281649107,
          0.6846720276394409
         ]
        },
        {
         "name": "5 src 3 trg syn",
         "type": "bar",
         "x": [
          "ende",
          "enes",
          "enfr",
          "enit",
          "enja",
          "enko",
          "enpt",
          "enzh",
          "enzt"
         ],
         "y": [
          0.6214235310721175,
          0.7322925374483179,
          0.7060646419732372,
          0.7011288209292615,
          0.6205732654701313,
          0.5554388728450161,
          0.7446654793507846,
          0.6995212123265242,
          0.6892968233229649
         ]
        },
        {
         "name": "5 src 4 trg syn",
         "type": "bar",
         "x": [
          "ende",
          "enes",
          "enfr",
          "enit",
          "enja",
          "enko",
          "enpt",
          "enzh",
          "enzt"
         ],
         "y": [
          0.6244907559862634,
          0.7339117206268875,
          0.7090849028902219,
          0.7042676342274632,
          0.624599723876445,
          0.5560295790671217,
          0.7465472630128701,
          0.7033040866334677,
          0.6938068191136355
         ]
        },
        {
         "name": "5 src 5 trg syn",
         "type": "bar",
         "x": [
          "ende",
          "enes",
          "enfr",
          "enit",
          "enja",
          "enko",
          "enpt",
          "enzh",
          "enzt"
         ],
         "y": [
          0.6266923836853743,
          0.7368864990247246,
          0.7111403582365032,
          0.7067657264624998,
          0.626631498691504,
          0.5562264811411569,
          0.7477905843610336,
          0.7070135618866944,
          0.696113750293833
         ]
        }
       ],
       "layout": {
        "barmode": "group",
        "template": {
         "data": {
          "bar": [
           {
            "error_x": {
             "color": "#2a3f5f"
            },
            "error_y": {
             "color": "#2a3f5f"
            },
            "marker": {
             "line": {
              "color": "#E5ECF6",
              "width": 0.5
             }
            },
            "type": "bar"
           }
          ],
          "barpolar": [
           {
            "marker": {
             "line": {
              "color": "#E5ECF6",
              "width": 0.5
             }
            },
            "type": "barpolar"
           }
          ],
          "carpet": [
           {
            "aaxis": {
             "endlinecolor": "#2a3f5f",
             "gridcolor": "white",
             "linecolor": "white",
             "minorgridcolor": "white",
             "startlinecolor": "#2a3f5f"
            },
            "baxis": {
             "endlinecolor": "#2a3f5f",
             "gridcolor": "white",
             "linecolor": "white",
             "minorgridcolor": "white",
             "startlinecolor": "#2a3f5f"
            },
            "type": "carpet"
           }
          ],
          "choropleth": [
           {
            "colorbar": {
             "outlinewidth": 0,
             "ticks": ""
            },
            "type": "choropleth"
           }
          ],
          "contour": [
           {
            "colorbar": {
             "outlinewidth": 0,
             "ticks": ""
            },
            "colorscale": [
             [
              0,
              "#0d0887"
             ],
             [
              0.1111111111111111,
              "#46039f"
             ],
             [
              0.2222222222222222,
              "#7201a8"
             ],
             [
              0.3333333333333333,
              "#9c179e"
             ],
             [
              0.4444444444444444,
              "#bd3786"
             ],
             [
              0.5555555555555556,
              "#d8576b"
             ],
             [
              0.6666666666666666,
              "#ed7953"
             ],
             [
              0.7777777777777778,
              "#fb9f3a"
             ],
             [
              0.8888888888888888,
              "#fdca26"
             ],
             [
              1,
              "#f0f921"
             ]
            ],
            "type": "contour"
           }
          ],
          "contourcarpet": [
           {
            "colorbar": {
             "outlinewidth": 0,
             "ticks": ""
            },
            "type": "contourcarpet"
           }
          ],
          "heatmap": [
           {
            "colorbar": {
             "outlinewidth": 0,
             "ticks": ""
            },
            "colorscale": [
             [
              0,
              "#0d0887"
             ],
             [
              0.1111111111111111,
              "#46039f"
             ],
             [
              0.2222222222222222,
              "#7201a8"
             ],
             [
              0.3333333333333333,
              "#9c179e"
             ],
             [
              0.4444444444444444,
              "#bd3786"
             ],
             [
              0.5555555555555556,
              "#d8576b"
             ],
             [
              0.6666666666666666,
              "#ed7953"
             ],
             [
              0.7777777777777778,
              "#fb9f3a"
             ],
             [
              0.8888888888888888,
              "#fdca26"
             ],
             [
              1,
              "#f0f921"
             ]
            ],
            "type": "heatmap"
           }
          ],
          "heatmapgl": [
           {
            "colorbar": {
             "outlinewidth": 0,
             "ticks": ""
            },
            "colorscale": [
             [
              0,
              "#0d0887"
             ],
             [
              0.1111111111111111,
              "#46039f"
             ],
             [
              0.2222222222222222,
              "#7201a8"
             ],
             [
              0.3333333333333333,
              "#9c179e"
             ],
             [
              0.4444444444444444,
              "#bd3786"
             ],
             [
              0.5555555555555556,
              "#d8576b"
             ],
             [
              0.6666666666666666,
              "#ed7953"
             ],
             [
              0.7777777777777778,
              "#fb9f3a"
             ],
             [
              0.8888888888888888,
              "#fdca26"
             ],
             [
              1,
              "#f0f921"
             ]
            ],
            "type": "heatmapgl"
           }
          ],
          "histogram": [
           {
            "marker": {
             "colorbar": {
              "outlinewidth": 0,
              "ticks": ""
             }
            },
            "type": "histogram"
           }
          ],
          "histogram2d": [
           {
            "colorbar": {
             "outlinewidth": 0,
             "ticks": ""
            },
            "colorscale": [
             [
              0,
              "#0d0887"
             ],
             [
              0.1111111111111111,
              "#46039f"
             ],
             [
              0.2222222222222222,
              "#7201a8"
             ],
             [
              0.3333333333333333,
              "#9c179e"
             ],
             [
              0.4444444444444444,
              "#bd3786"
             ],
             [
              0.5555555555555556,
              "#d8576b"
             ],
             [
              0.6666666666666666,
              "#ed7953"
             ],
             [
              0.7777777777777778,
              "#fb9f3a"
             ],
             [
              0.8888888888888888,
              "#fdca26"
             ],
             [
              1,
              "#f0f921"
             ]
            ],
            "type": "histogram2d"
           }
          ],
          "histogram2dcontour": [
           {
            "colorbar": {
             "outlinewidth": 0,
             "ticks": ""
            },
            "colorscale": [
             [
              0,
              "#0d0887"
             ],
             [
              0.1111111111111111,
              "#46039f"
             ],
             [
              0.2222222222222222,
              "#7201a8"
             ],
             [
              0.3333333333333333,
              "#9c179e"
             ],
             [
              0.4444444444444444,
              "#bd3786"
             ],
             [
              0.5555555555555556,
              "#d8576b"
             ],
             [
              0.6666666666666666,
              "#ed7953"
             ],
             [
              0.7777777777777778,
              "#fb9f3a"
             ],
             [
              0.8888888888888888,
              "#fdca26"
             ],
             [
              1,
              "#f0f921"
             ]
            ],
            "type": "histogram2dcontour"
           }
          ],
          "mesh3d": [
           {
            "colorbar": {
             "outlinewidth": 0,
             "ticks": ""
            },
            "type": "mesh3d"
           }
          ],
          "parcoords": [
           {
            "line": {
             "colorbar": {
              "outlinewidth": 0,
              "ticks": ""
             }
            },
            "type": "parcoords"
           }
          ],
          "pie": [
           {
            "automargin": true,
            "type": "pie"
           }
          ],
          "scatter": [
           {
            "marker": {
             "colorbar": {
              "outlinewidth": 0,
              "ticks": ""
             }
            },
            "type": "scatter"
           }
          ],
          "scatter3d": [
           {
            "line": {
             "colorbar": {
              "outlinewidth": 0,
              "ticks": ""
             }
            },
            "marker": {
             "colorbar": {
              "outlinewidth": 0,
              "ticks": ""
             }
            },
            "type": "scatter3d"
           }
          ],
          "scattercarpet": [
           {
            "marker": {
             "colorbar": {
              "outlinewidth": 0,
              "ticks": ""
             }
            },
            "type": "scattercarpet"
           }
          ],
          "scattergeo": [
           {
            "marker": {
             "colorbar": {
              "outlinewidth": 0,
              "ticks": ""
             }
            },
            "type": "scattergeo"
           }
          ],
          "scattergl": [
           {
            "marker": {
             "colorbar": {
              "outlinewidth": 0,
              "ticks": ""
             }
            },
            "type": "scattergl"
           }
          ],
          "scattermapbox": [
           {
            "marker": {
             "colorbar": {
              "outlinewidth": 0,
              "ticks": ""
             }
            },
            "type": "scattermapbox"
           }
          ],
          "scatterpolar": [
           {
            "marker": {
             "colorbar": {
              "outlinewidth": 0,
              "ticks": ""
             }
            },
            "type": "scatterpolar"
           }
          ],
          "scatterpolargl": [
           {
            "marker": {
             "colorbar": {
              "outlinewidth": 0,
              "ticks": ""
             }
            },
            "type": "scatterpolargl"
           }
          ],
          "scatterternary": [
           {
            "marker": {
             "colorbar": {
              "outlinewidth": 0,
              "ticks": ""
             }
            },
            "type": "scatterternary"
           }
          ],
          "surface": [
           {
            "colorbar": {
             "outlinewidth": 0,
             "ticks": ""
            },
            "colorscale": [
             [
              0,
              "#0d0887"
             ],
             [
              0.1111111111111111,
              "#46039f"
             ],
             [
              0.2222222222222222,
              "#7201a8"
             ],
             [
              0.3333333333333333,
              "#9c179e"
             ],
             [
              0.4444444444444444,
              "#bd3786"
             ],
             [
              0.5555555555555556,
              "#d8576b"
             ],
             [
              0.6666666666666666,
              "#ed7953"
             ],
             [
              0.7777777777777778,
              "#fb9f3a"
             ],
             [
              0.8888888888888888,
              "#fdca26"
             ],
             [
              1,
              "#f0f921"
             ]
            ],
            "type": "surface"
           }
          ],
          "table": [
           {
            "cells": {
             "fill": {
              "color": "#EBF0F8"
             },
             "line": {
              "color": "white"
             }
            },
            "header": {
             "fill": {
              "color": "#C8D4E3"
             },
             "line": {
              "color": "white"
             }
            },
            "type": "table"
           }
          ]
         },
         "layout": {
          "annotationdefaults": {
           "arrowcolor": "#2a3f5f",
           "arrowhead": 0,
           "arrowwidth": 1
          },
          "autotypenumbers": "strict",
          "coloraxis": {
           "colorbar": {
            "outlinewidth": 0,
            "ticks": ""
           }
          },
          "colorscale": {
           "diverging": [
            [
             0,
             "#8e0152"
            ],
            [
             0.1,
             "#c51b7d"
            ],
            [
             0.2,
             "#de77ae"
            ],
            [
             0.3,
             "#f1b6da"
            ],
            [
             0.4,
             "#fde0ef"
            ],
            [
             0.5,
             "#f7f7f7"
            ],
            [
             0.6,
             "#e6f5d0"
            ],
            [
             0.7,
             "#b8e186"
            ],
            [
             0.8,
             "#7fbc41"
            ],
            [
             0.9,
             "#4d9221"
            ],
            [
             1,
             "#276419"
            ]
           ],
           "sequential": [
            [
             0,
             "#0d0887"
            ],
            [
             0.1111111111111111,
             "#46039f"
            ],
            [
             0.2222222222222222,
             "#7201a8"
            ],
            [
             0.3333333333333333,
             "#9c179e"
            ],
            [
             0.4444444444444444,
             "#bd3786"
            ],
            [
             0.5555555555555556,
             "#d8576b"
            ],
            [
             0.6666666666666666,
             "#ed7953"
            ],
            [
             0.7777777777777778,
             "#fb9f3a"
            ],
            [
             0.8888888888888888,
             "#fdca26"
            ],
            [
             1,
             "#f0f921"
            ]
           ],
           "sequentialminus": [
            [
             0,
             "#0d0887"
            ],
            [
             0.1111111111111111,
             "#46039f"
            ],
            [
             0.2222222222222222,
             "#7201a8"
            ],
            [
             0.3333333333333333,
             "#9c179e"
            ],
            [
             0.4444444444444444,
             "#bd3786"
            ],
            [
             0.5555555555555556,
             "#d8576b"
            ],
            [
             0.6666666666666666,
             "#ed7953"
            ],
            [
             0.7777777777777778,
             "#fb9f3a"
            ],
            [
             0.8888888888888888,
             "#fdca26"
            ],
            [
             1,
             "#f0f921"
            ]
           ]
          },
          "colorway": [
           "#636efa",
           "#EF553B",
           "#00cc96",
           "#ab63fa",
           "#FFA15A",
           "#19d3f3",
           "#FF6692",
           "#B6E880",
           "#FF97FF",
           "#FECB52"
          ],
          "font": {
           "color": "#2a3f5f"
          },
          "geo": {
           "bgcolor": "white",
           "lakecolor": "white",
           "landcolor": "#E5ECF6",
           "showlakes": true,
           "showland": true,
           "subunitcolor": "white"
          },
          "hoverlabel": {
           "align": "left"
          },
          "hovermode": "closest",
          "mapbox": {
           "style": "light"
          },
          "paper_bgcolor": "white",
          "plot_bgcolor": "#E5ECF6",
          "polar": {
           "angularaxis": {
            "gridcolor": "white",
            "linecolor": "white",
            "ticks": ""
           },
           "bgcolor": "#E5ECF6",
           "radialaxis": {
            "gridcolor": "white",
            "linecolor": "white",
            "ticks": ""
           }
          },
          "scene": {
           "xaxis": {
            "backgroundcolor": "#E5ECF6",
            "gridcolor": "white",
            "gridwidth": 2,
            "linecolor": "white",
            "showbackground": true,
            "ticks": "",
            "zerolinecolor": "white"
           },
           "yaxis": {
            "backgroundcolor": "#E5ECF6",
            "gridcolor": "white",
            "gridwidth": 2,
            "linecolor": "white",
            "showbackground": true,
            "ticks": "",
            "zerolinecolor": "white"
           },
           "zaxis": {
            "backgroundcolor": "#E5ECF6",
            "gridcolor": "white",
            "gridwidth": 2,
            "linecolor": "white",
            "showbackground": true,
            "ticks": "",
            "zerolinecolor": "white"
           }
          },
          "shapedefaults": {
           "line": {
            "color": "#2a3f5f"
           }
          },
          "ternary": {
           "aaxis": {
            "gridcolor": "white",
            "linecolor": "white",
            "ticks": ""
           },
           "baxis": {
            "gridcolor": "white",
            "linecolor": "white",
            "ticks": ""
           },
           "bgcolor": "#E5ECF6",
           "caxis": {
            "gridcolor": "white",
            "linecolor": "white",
            "ticks": ""
           }
          },
          "title": {
           "x": 0.05
          },
          "xaxis": {
           "automargin": true,
           "gridcolor": "white",
           "linecolor": "white",
           "ticks": "",
           "title": {
            "standoff": 15
           },
           "zerolinecolor": "white",
           "zerolinewidth": 2
          },
          "yaxis": {
           "automargin": true,
           "gridcolor": "white",
           "linecolor": "white",
           "ticks": "",
           "title": {
            "standoff": 15
           },
           "zerolinecolor": "white",
           "zerolinewidth": 2
          }
         }
        }
       }
      },
      "text/html": [
       "<div>                            <div id=\"0c5868e2-a793-4dbe-9f7c-3053a8c8a008\" class=\"plotly-graph-div\" style=\"height:525px; width:100%;\"></div>            <script type=\"text/javascript\">                require([\"plotly\"], function(Plotly) {                    window.PLOTLYENV=window.PLOTLYENV || {};                                    if (document.getElementById(\"0c5868e2-a793-4dbe-9f7c-3053a8c8a008\")) {                    Plotly.newPlot(                        \"0c5868e2-a793-4dbe-9f7c-3053a8c8a008\",                        [{\"name\": \"0 src 0 trg syn\", \"type\": \"bar\", \"x\": [\"ende\", \"enes\", \"enfr\", \"enit\", \"enja\", \"enko\", \"enpt\", \"enzh\", \"enzt\"], \"y\": [0.5545373288798984, 0.6831371485807671, 0.6465246025420529, 0.6487336760111154, 0.5634898720352779, 0.5361534085936817, 0.7005107698511375, 0.6442347866345969, 0.6186456892640233]}, {\"name\": \"0 src 1 trg syn\", \"type\": \"bar\", \"x\": [\"ende\", \"enes\", \"enfr\", \"enit\", \"enja\", \"enko\", \"enpt\", \"enzh\", \"enzt\"], \"y\": [0.5546690501952298, 0.6832802391872453, 0.6465927681530266, 0.6487408751241847, 0.5642069690288282, 0.5362409206265861, 0.7005947780503378, 0.6443081856883137, 0.6187222225259257]}, {\"name\": \"0 src 2 trg syn\", \"type\": \"bar\", \"x\": [\"ende\", \"enes\", \"enfr\", \"enit\", \"enja\", \"enko\", \"enpt\", \"enzh\", \"enzt\"], \"y\": [0.5718492731805993, 0.6984101880511813, 0.6656371911573472, 0.6630167163405468, 0.5780378742607513, 0.5384505994574253, 0.71527941127054, 0.6574014476551825, 0.6464545966423765]}, {\"name\": \"0 src 3 trg syn\", \"type\": \"bar\", \"x\": [\"ende\", \"enes\", \"enfr\", \"enit\", \"enja\", \"enko\", \"enpt\", \"enzh\", \"enzt\"], \"y\": [0.5807592792962318, 0.7080349141079807, 0.6771938839716432, 0.6744345096684089, 0.588637721774609, 0.539555438872845, 0.7238146443092845, 0.6664408234244611, 0.6531293904125689]}, {\"name\": \"0 src 4 trg syn\", \"type\": \"bar\", \"x\": [\"ende\", \"enes\", \"enfr\", \"enit\", \"enja\", \"enko\", \"enpt\", \"enzh\", \"enzt\"], \"y\": [0.5871948064167097, 0.7127117176144536, 0.68478124082386, 0.6813096626495616, 0.593649158235282, 0.5403758641813249, 0.7272253771968145, 0.671573111103583, 0.6605257835092687]}, {\"name\": \"0 src 5 trg syn\", \"type\": \"bar\", \"x\": [\"ende\", \"enes\", \"enfr\", \"enit\", \"enja\", \"enko\", \"enpt\", \"enzh\", \"enzt\"], \"y\": [0.5934045255680481, 0.7186010257337159, 0.6881108687444943, 0.6850388032194433, 0.5962661501370314, 0.5406055832676994, 0.7290231526596996, 0.6769030116196348, 0.6644289798662855]}, {\"name\": \"1 src 0 trg syn\", \"type\": \"bar\", \"x\": [\"ende\", \"enes\", \"enfr\", \"enit\", \"enja\", \"enko\", \"enpt\", \"enzh\", \"enzt\"], \"y\": [0.5776920543820859, 0.6975215200741058, 0.6654064767817442, 0.6645213309720243, 0.585357209091471, 0.544729587818325, 0.7153298161900602, 0.6653906523482052, 0.6374783383535508]}, {\"name\": \"1 src 1 trg syn\", \"type\": \"bar\", \"x\": [\"ende\", \"enes\", \"enfr\", \"enit\", \"enja\", \"enko\", \"enpt\", \"enzh\", \"enzt\"], \"y\": [0.5777673237051324, 0.6975591754968633, 0.6654484248500356, 0.6645285300850935, 0.5860166086257702, 0.5447952218430034, 0.7153802211095803, 0.6654584053208668, 0.6375548716154532]}, {\"name\": \"1 src 2 trg syn\", \"type\": \"bar\", \"x\": [\"ende\", \"enes\", \"enfr\", \"enit\", \"enja\", \"enko\", \"enpt\", \"enzh\", \"enzt\"], \"y\": [0.5902996659923789, 0.7088633334086442, 0.6793070179118251, 0.6755575713072149, 0.5976467679119701, 0.5464141944517371, 0.7268389394804933, 0.6764513251352237, 0.6612309828510827]}, {\"name\": \"1 src 3 trg syn\", \"type\": \"bar\", \"x\": [\"ende\", \"enes\", \"enfr\", \"enit\", \"enja\", \"enko\", \"enpt\", \"enzh\", \"enzt\"], \"y\": [0.5972244437126594, 0.7166580059194324, 0.6894165023700659, 0.6857443163002318, 0.6061076881864452, 0.5474752778507045, 0.7337948183742733, 0.6844235915850808, 0.6672169772641545]}, {\"name\": \"1 src 4 trg syn\", \"type\": \"bar\", \"x\": [\"ende\", \"enes\", \"enfr\", \"enit\", \"enja\", \"enko\", \"enpt\", \"enzh\", \"enzt\"], \"y\": [0.6023333490144424, 0.721078752551155, 0.6959971055832879, 0.6910428635192144, 0.6108100311154155, 0.5480878620810361, 0.7370543365032427, 0.6891380692661224, 0.6733997714935466]}, {\"name\": \"1 src 5 trg syn\", \"type\": \"bar\", \"x\": [\"ende\", \"enes\", \"enfr\", \"enit\", \"enja\", \"enko\", \"enpt\", \"enzh\", \"enzt\"], \"y\": [0.6076962882815072, 0.7263806360754013, 0.6988233566844246, 0.6946064244885031, 0.6132003544272497, 0.5482957031591844, 0.7386672939278873, 0.694055805865149, 0.6767125684016029]}, {\"name\": \"2 src 0 trg syn\", \"type\": \"bar\", \"x\": [\"ende\", \"enes\", \"enfr\", \"enit\", \"enja\", \"enko\", \"enpt\", \"enzh\", \"enzt\"], \"y\": [0.5913534365150304, 0.7088934577468501, 0.6768950039850665, 0.6724619526874289, 0.5958663891693626, 0.5476284239082874, 0.7233105951140831, 0.673718621904536, 0.6463124634417008]}, {\"name\": \"2 src 1 trg syn\", \"type\": \"bar\", \"x\": [\"ende\", \"enes\", \"enfr\", \"enit\", \"enja\", \"enko\", \"enpt\", \"enzh\", \"enzt\"], \"y\": [0.591419297172696, 0.7089311131696076, 0.6769317085448215, 0.6724691518004982, 0.5964474850089637, 0.5476940579329658, 0.7233610000336033, 0.6737863748771977, 0.6463780633804742]}, {\"name\": \"2 src 2 trg syn\", \"type\": \"bar\", \"x\": [\"ende\", \"enes\", \"enfr\", \"enit\", \"enja\", \"enko\", \"enpt\", \"enzh\", \"enzt\"], \"y\": [0.5992661241002963, 0.7161910786772403, 0.6846239355677671, 0.6808417203000591, 0.6061406581631602, 0.5492364575129081, 0.731610605195067, 0.6827579976738146, 0.6682556429613999]}, {\"name\": \"2 src 3 trg syn\", \"type\": \"bar\", \"x\": [\"ende\", \"enes\", \"enfr\", \"enit\", \"enja\", \"enko\", \"enpt\", \"enzh\", \"enzt\"], \"y\": [0.6052312179517335, 0.7226527492224155, 0.6943296698687026, 0.6899342001065468, 0.6133116280986627, 0.5501334558501794, 0.7378944184952452, 0.6901204873697167, 0.6737879044646224]}, {\"name\": \"2 src 4 trg syn\", \"type\": \"bar\", \"x\": [\"ende\", \"enes\", \"enfr\", \"enit\", \"enja\", \"enko\", \"enpt\", \"enzh\", \"enzt\"], \"y\": [0.609446300042339, 0.7261772967925111, 0.7001289903099962, 0.6946208227146415, 0.617634816295411, 0.5507460400805111, 0.7408683087469337, 0.6944849080253396, 0.6796645656464054]}, {\"name\": \"2 src 5 trg syn\", \"type\": \"bar\", \"x\": [\"ende\", \"enes\", \"enfr\", \"enit\", \"enja\", \"enko\", \"enpt\", \"enzh\", \"enzt\"], \"y\": [0.6131627228677612, 0.7313360897102792, 0.7028293972062587, 0.6978820209350208, 0.6199056234416535, 0.5509538811586593, 0.7424644645317383, 0.6992106778684914, 0.6822010966123099]}, {\"name\": \"3 src 0 trg syn\", \"type\": \"bar\", \"x\": [\"ende\", \"enes\", \"enfr\", \"enit\", \"enja\", \"enko\", \"enpt\", \"enzh\", \"enzt\"], \"y\": [0.6001693559768547, 0.7168086276104622, 0.6863595368933261, 0.6784660129872, 0.6011910404088278, 0.55024284589131, 0.7292415739776202, 0.6793421186354551, 0.6555019215315399]}, {\"name\": \"3 src 1 trg syn\", \"type\": \"bar\", \"x\": [\"ende\", \"enes\", \"enfr\", \"enit\", \"enja\", \"enko\", \"enpt\", \"enzh\", \"enzt\"], \"y\": [0.6002352166345204, 0.7168462830332196, 0.6863962414530811, 0.6784732121002692, 0.6017556512600712, 0.5503084799159884, 0.7292919788971404, 0.6794098716081168, 0.6555620548087489]}, {\"name\": \"3 src 2 trg syn\", \"type\": \"bar\", \"x\": [\"ende\", \"enes\", \"enfr\", \"enit\", \"enja\", \"enko\", \"enpt\", \"enzh\", \"enzt\"], \"y\": [0.6065954744319518, 0.7230142412808869, 0.6921483703175468, 0.6857083207348854, 0.6106245749963939, 0.5517633674630261, 0.7354581807184382, 0.6874781214359114, 0.6750397699628814]}, {\"name\": \"3 src 3 trg syn\", \"type\": \"bar\", \"x\": [\"ende\", \"enes\", \"enfr\", \"enit\", \"enja\", \"enko\", \"enpt\", \"enzh\", \"enzt\"], \"y\": [0.6106976525379875, 0.728173034198655, 0.6996728050673267, 0.6940952874605849, 0.6171196604092398, 0.5526384877920714, 0.740297052992372, 0.6943211716747406, 0.6800144319865301]}, {\"name\": \"3 src 4 trg syn\", \"type\": \"bar\", \"x\": [\"ende\", \"enes\", \"enfr\", \"enit\", \"enja\", \"enko\", \"enpt\", \"enzh\", \"enzt\"], \"y\": [0.6143199887096016, 0.7308465692144326, 0.7042084399513402, 0.6981843836839301, 0.6213315749345752, 0.55324013301829, 0.7430189186464599, 0.6984428108449925, 0.6849125607482767]}, {\"name\": \"3 src 5 trg syn\", \"type\": \"bar\", \"x\": [\"ende\", \"enes\", \"enfr\", \"enit\", \"enja\", \"enko\", \"enpt\", \"enzh\", \"enzt\"], \"y\": [0.617613021592887, 0.7340999977406746, 0.706840681236629, 0.701193612946885, 0.6234540171856003, 0.5534370350923252, 0.7443294465539837, 0.7027564167711192, 0.6873670917907143]}, {\"name\": \"4 src 0 trg syn\", \"type\": \"bar\", \"x\": [\"ende\", \"enes\", \"enfr\", \"enit\", \"enja\", \"enko\", \"enpt\", \"enzh\", \"enzt\"], \"y\": [0.6074328456508444, 0.7214101202714203, 0.6932757246528798, 0.6849524138626121, 0.604286096972944, 0.5519165135206091, 0.7335595954165126, 0.6830628860507921, 0.6678401766825017]}, {\"name\": \"4 src 1 trg syn\", \"type\": \"bar\", \"x\": [\"ende\", \"enes\", \"enfr\", \"enit\", \"enja\", \"enko\", \"enpt\", \"enzh\", \"enzt\"], \"y\": [0.6074987063085101, 0.7214477756941777, 0.6933124292126348, 0.6849596129756814, 0.6048301015887407, 0.5519821475452875, 0.7336100003360327, 0.6831193468613436, 0.6679003099597107]}, {\"name\": \"4 src 2 trg syn\", \"type\": \"bar\", \"x\": [\"ende\", \"enes\", \"enfr\", \"enit\", \"enja\", \"enko\", \"enpt\", \"enzh\", \"enzt\"], \"y\": [0.61337912217152, 0.7266291618656002, 0.6988600612441797, 0.6905821202827812, 0.6132621731335902, 0.553415157084099, 0.7381632447326859, 0.6909335230416568, 0.6811624309150645]}, {\"name\": \"4 src 3 trg syn\", \"type\": \"bar\", \"x\": [\"ende\", \"enes\", \"enfr\", \"enit\", \"enja\", \"enko\", \"enpt\", \"enzh\", \"enzt\"], \"y\": [0.6166345203932823, 0.730914348975396, 0.7037365241830613, 0.6978748218219515, 0.6195965299099507, 0.5542793384090312, 0.7426828858496589, 0.6971103357159796, 0.6858746931836197]}, {\"name\": \"4 src 4 trg syn\", \"type\": \"bar\", \"x\": [\"ende\", \"enes\", \"enfr\", \"enit\", \"enja\", \"enko\", \"enpt\", \"enzh\", \"enzt\"], \"y\": [0.6199557792727102, 0.7327519336059586, 0.706961281932967, 0.7016615552963875, 0.6236971707638731, 0.5548700446311368, 0.7445982727914244, 0.7011134071840736, 0.6905650888059172]}, {\"name\": \"4 src 5 trg syn\", \"type\": \"bar\", \"x\": [\"ende\", \"enes\", \"enfr\", \"enit\", \"enja\", \"enko\", \"enpt\", \"enzh\", \"enzt\"], \"y\": [0.6224961189255304, 0.7358698026102739, 0.7093365912999706, 0.7042748333405324, 0.6257495518143791, 0.555066946705172, 0.7458919990591082, 0.7049470962205133, 0.6929266866017592]}, {\"name\": \"5 src 0 trg syn\", \"type\": \"bar\", \"x\": [\"ende\", \"enes\", \"enfr\", \"enit\", \"enja\", \"enko\", \"enpt\", \"enzh\", \"enzt\"], \"y\": [0.6128240109140518, 0.7241815593863672, 0.696568648013759, 0.6896246382445683, 0.6054977436172185, 0.5531307429771594, 0.7358782217144393, 0.6858915726594171, 0.6716559064544874]}, {\"name\": \"5 src 1 trg syn\", \"type\": \"bar\", \"x\": [\"ende\", \"enes\", \"enfr\", \"enit\", \"enja\", \"enko\", \"enpt\", \"enzh\", \"enzt\"], \"y\": [0.6128898715717176, 0.7242192148091247, 0.696605352573514, 0.6896318373576376, 0.6060417482330153, 0.5531963770018378, 0.7359286266339595, 0.6859480334699685, 0.6717160397316962]}, {\"name\": \"5 src 2 trg syn\", \"type\": \"bar\", \"x\": [\"ende\", \"enes\", \"enfr\", \"enit\", \"enja\", \"enko\", \"enpt\", \"enzh\", \"enzt\"], \"y\": [0.6183563061579715, 0.7289939224147669, 0.7014241369184949, 0.6947792032021655, 0.614420243565703, 0.5545856305241971, 0.7401962431533318, 0.6935194281649107, 0.6846720276394409]}, {\"name\": \"5 src 3 trg syn\", \"type\": \"bar\", \"x\": [\"ende\", \"enes\", \"enfr\", \"enit\", \"enja\", \"enko\", \"enpt\", \"enzh\", \"enzt\"], \"y\": [0.6214235310721175, 0.7322925374483179, 0.7060646419732372, 0.7011288209292615, 0.6205732654701313, 0.5554388728450161, 0.7446654793507846, 0.6995212123265242, 0.6892968233229649]}, {\"name\": \"5 src 4 trg syn\", \"type\": \"bar\", \"x\": [\"ende\", \"enes\", \"enfr\", \"enit\", \"enja\", \"enko\", \"enpt\", \"enzh\", \"enzt\"], \"y\": [0.6244907559862634, 0.7339117206268875, 0.7090849028902219, 0.7042676342274632, 0.624599723876445, 0.5560295790671217, 0.7465472630128701, 0.7033040866334677, 0.6938068191136355]}, {\"name\": \"5 src 5 trg syn\", \"type\": \"bar\", \"x\": [\"ende\", \"enes\", \"enfr\", \"enit\", \"enja\", \"enko\", \"enpt\", \"enzh\", \"enzt\"], \"y\": [0.6266923836853743, 0.7368864990247246, 0.7111403582365032, 0.7067657264624998, 0.626631498691504, 0.5562264811411569, 0.7477905843610336, 0.7070135618866944, 0.696113750293833]}],                        {\"barmode\": \"group\", \"template\": {\"data\": {\"bar\": [{\"error_x\": {\"color\": \"#2a3f5f\"}, \"error_y\": {\"color\": \"#2a3f5f\"}, \"marker\": {\"line\": {\"color\": \"#E5ECF6\", \"width\": 0.5}}, \"type\": \"bar\"}], \"barpolar\": [{\"marker\": {\"line\": {\"color\": \"#E5ECF6\", \"width\": 0.5}}, \"type\": \"barpolar\"}], \"carpet\": [{\"aaxis\": {\"endlinecolor\": \"#2a3f5f\", \"gridcolor\": \"white\", \"linecolor\": \"white\", \"minorgridcolor\": \"white\", \"startlinecolor\": \"#2a3f5f\"}, \"baxis\": {\"endlinecolor\": \"#2a3f5f\", \"gridcolor\": \"white\", \"linecolor\": \"white\", \"minorgridcolor\": \"white\", \"startlinecolor\": \"#2a3f5f\"}, \"type\": \"carpet\"}], \"choropleth\": [{\"colorbar\": {\"outlinewidth\": 0, \"ticks\": \"\"}, \"type\": \"choropleth\"}], \"contour\": [{\"colorbar\": {\"outlinewidth\": 0, \"ticks\": \"\"}, \"colorscale\": [[0.0, \"#0d0887\"], [0.1111111111111111, \"#46039f\"], [0.2222222222222222, \"#7201a8\"], [0.3333333333333333, \"#9c179e\"], [0.4444444444444444, \"#bd3786\"], [0.5555555555555556, \"#d8576b\"], [0.6666666666666666, \"#ed7953\"], [0.7777777777777778, \"#fb9f3a\"], [0.8888888888888888, \"#fdca26\"], [1.0, \"#f0f921\"]], \"type\": \"contour\"}], \"contourcarpet\": [{\"colorbar\": {\"outlinewidth\": 0, \"ticks\": \"\"}, \"type\": \"contourcarpet\"}], \"heatmap\": [{\"colorbar\": {\"outlinewidth\": 0, \"ticks\": \"\"}, \"colorscale\": [[0.0, \"#0d0887\"], [0.1111111111111111, \"#46039f\"], [0.2222222222222222, \"#7201a8\"], [0.3333333333333333, \"#9c179e\"], [0.4444444444444444, \"#bd3786\"], [0.5555555555555556, \"#d8576b\"], [0.6666666666666666, \"#ed7953\"], [0.7777777777777778, \"#fb9f3a\"], [0.8888888888888888, \"#fdca26\"], [1.0, \"#f0f921\"]], \"type\": \"heatmap\"}], \"heatmapgl\": [{\"colorbar\": {\"outlinewidth\": 0, \"ticks\": \"\"}, \"colorscale\": [[0.0, \"#0d0887\"], [0.1111111111111111, \"#46039f\"], [0.2222222222222222, \"#7201a8\"], [0.3333333333333333, \"#9c179e\"], [0.4444444444444444, \"#bd3786\"], [0.5555555555555556, \"#d8576b\"], [0.6666666666666666, \"#ed7953\"], [0.7777777777777778, \"#fb9f3a\"], [0.8888888888888888, \"#fdca26\"], [1.0, \"#f0f921\"]], \"type\": \"heatmapgl\"}], \"histogram\": [{\"marker\": {\"colorbar\": {\"outlinewidth\": 0, \"ticks\": \"\"}}, \"type\": \"histogram\"}], \"histogram2d\": [{\"colorbar\": {\"outlinewidth\": 0, \"ticks\": \"\"}, \"colorscale\": [[0.0, \"#0d0887\"], [0.1111111111111111, \"#46039f\"], [0.2222222222222222, \"#7201a8\"], [0.3333333333333333, \"#9c179e\"], [0.4444444444444444, \"#bd3786\"], [0.5555555555555556, \"#d8576b\"], [0.6666666666666666, \"#ed7953\"], [0.7777777777777778, \"#fb9f3a\"], [0.8888888888888888, \"#fdca26\"], [1.0, \"#f0f921\"]], \"type\": \"histogram2d\"}], \"histogram2dcontour\": [{\"colorbar\": {\"outlinewidth\": 0, \"ticks\": \"\"}, \"colorscale\": [[0.0, \"#0d0887\"], [0.1111111111111111, \"#46039f\"], [0.2222222222222222, \"#7201a8\"], [0.3333333333333333, \"#9c179e\"], [0.4444444444444444, \"#bd3786\"], [0.5555555555555556, \"#d8576b\"], [0.6666666666666666, \"#ed7953\"], [0.7777777777777778, \"#fb9f3a\"], [0.8888888888888888, \"#fdca26\"], [1.0, \"#f0f921\"]], \"type\": \"histogram2dcontour\"}], \"mesh3d\": [{\"colorbar\": {\"outlinewidth\": 0, \"ticks\": \"\"}, \"type\": \"mesh3d\"}], \"parcoords\": [{\"line\": {\"colorbar\": {\"outlinewidth\": 0, \"ticks\": \"\"}}, \"type\": \"parcoords\"}], \"pie\": [{\"automargin\": true, \"type\": \"pie\"}], \"scatter\": [{\"marker\": {\"colorbar\": {\"outlinewidth\": 0, \"ticks\": \"\"}}, \"type\": \"scatter\"}], \"scatter3d\": [{\"line\": {\"colorbar\": {\"outlinewidth\": 0, \"ticks\": \"\"}}, \"marker\": {\"colorbar\": {\"outlinewidth\": 0, \"ticks\": \"\"}}, \"type\": \"scatter3d\"}], \"scattercarpet\": [{\"marker\": {\"colorbar\": {\"outlinewidth\": 0, \"ticks\": \"\"}}, \"type\": \"scattercarpet\"}], \"scattergeo\": [{\"marker\": {\"colorbar\": {\"outlinewidth\": 0, \"ticks\": \"\"}}, \"type\": \"scattergeo\"}], \"scattergl\": [{\"marker\": {\"colorbar\": {\"outlinewidth\": 0, \"ticks\": \"\"}}, \"type\": \"scattergl\"}], \"scattermapbox\": [{\"marker\": {\"colorbar\": {\"outlinewidth\": 0, \"ticks\": \"\"}}, \"type\": \"scattermapbox\"}], \"scatterpolar\": [{\"marker\": {\"colorbar\": {\"outlinewidth\": 0, \"ticks\": \"\"}}, \"type\": \"scatterpolar\"}], \"scatterpolargl\": [{\"marker\": {\"colorbar\": {\"outlinewidth\": 0, \"ticks\": \"\"}}, \"type\": \"scatterpolargl\"}], \"scatterternary\": [{\"marker\": {\"colorbar\": {\"outlinewidth\": 0, \"ticks\": \"\"}}, \"type\": \"scatterternary\"}], \"surface\": [{\"colorbar\": {\"outlinewidth\": 0, \"ticks\": \"\"}, \"colorscale\": [[0.0, \"#0d0887\"], [0.1111111111111111, \"#46039f\"], [0.2222222222222222, \"#7201a8\"], [0.3333333333333333, \"#9c179e\"], [0.4444444444444444, \"#bd3786\"], [0.5555555555555556, \"#d8576b\"], [0.6666666666666666, \"#ed7953\"], [0.7777777777777778, \"#fb9f3a\"], [0.8888888888888888, \"#fdca26\"], [1.0, \"#f0f921\"]], \"type\": \"surface\"}], \"table\": [{\"cells\": {\"fill\": {\"color\": \"#EBF0F8\"}, \"line\": {\"color\": \"white\"}}, \"header\": {\"fill\": {\"color\": \"#C8D4E3\"}, \"line\": {\"color\": \"white\"}}, \"type\": \"table\"}]}, \"layout\": {\"annotationdefaults\": {\"arrowcolor\": \"#2a3f5f\", \"arrowhead\": 0, \"arrowwidth\": 1}, \"autotypenumbers\": \"strict\", \"coloraxis\": {\"colorbar\": {\"outlinewidth\": 0, \"ticks\": \"\"}}, \"colorscale\": {\"diverging\": [[0, \"#8e0152\"], [0.1, \"#c51b7d\"], [0.2, \"#de77ae\"], [0.3, \"#f1b6da\"], [0.4, \"#fde0ef\"], [0.5, \"#f7f7f7\"], [0.6, \"#e6f5d0\"], [0.7, \"#b8e186\"], [0.8, \"#7fbc41\"], [0.9, \"#4d9221\"], [1, \"#276419\"]], \"sequential\": [[0.0, \"#0d0887\"], [0.1111111111111111, \"#46039f\"], [0.2222222222222222, \"#7201a8\"], [0.3333333333333333, \"#9c179e\"], [0.4444444444444444, \"#bd3786\"], [0.5555555555555556, \"#d8576b\"], [0.6666666666666666, \"#ed7953\"], [0.7777777777777778, \"#fb9f3a\"], [0.8888888888888888, \"#fdca26\"], [1.0, \"#f0f921\"]], \"sequentialminus\": [[0.0, \"#0d0887\"], [0.1111111111111111, \"#46039f\"], [0.2222222222222222, \"#7201a8\"], [0.3333333333333333, \"#9c179e\"], [0.4444444444444444, \"#bd3786\"], [0.5555555555555556, \"#d8576b\"], [0.6666666666666666, \"#ed7953\"], [0.7777777777777778, \"#fb9f3a\"], [0.8888888888888888, \"#fdca26\"], [1.0, \"#f0f921\"]]}, \"colorway\": [\"#636efa\", \"#EF553B\", \"#00cc96\", \"#ab63fa\", \"#FFA15A\", \"#19d3f3\", \"#FF6692\", \"#B6E880\", \"#FF97FF\", \"#FECB52\"], \"font\": {\"color\": \"#2a3f5f\"}, \"geo\": {\"bgcolor\": \"white\", \"lakecolor\": \"white\", \"landcolor\": \"#E5ECF6\", \"showlakes\": true, \"showland\": true, \"subunitcolor\": \"white\"}, \"hoverlabel\": {\"align\": \"left\"}, \"hovermode\": \"closest\", \"mapbox\": {\"style\": \"light\"}, \"paper_bgcolor\": \"white\", \"plot_bgcolor\": \"#E5ECF6\", \"polar\": {\"angularaxis\": {\"gridcolor\": \"white\", \"linecolor\": \"white\", \"ticks\": \"\"}, \"bgcolor\": \"#E5ECF6\", \"radialaxis\": {\"gridcolor\": \"white\", \"linecolor\": \"white\", \"ticks\": \"\"}}, \"scene\": {\"xaxis\": {\"backgroundcolor\": \"#E5ECF6\", \"gridcolor\": \"white\", \"gridwidth\": 2, \"linecolor\": \"white\", \"showbackground\": true, \"ticks\": \"\", \"zerolinecolor\": \"white\"}, \"yaxis\": {\"backgroundcolor\": \"#E5ECF6\", \"gridcolor\": \"white\", \"gridwidth\": 2, \"linecolor\": \"white\", \"showbackground\": true, \"ticks\": \"\", \"zerolinecolor\": \"white\"}, \"zaxis\": {\"backgroundcolor\": \"#E5ECF6\", \"gridcolor\": \"white\", \"gridwidth\": 2, \"linecolor\": \"white\", \"showbackground\": true, \"ticks\": \"\", \"zerolinecolor\": \"white\"}}, \"shapedefaults\": {\"line\": {\"color\": \"#2a3f5f\"}}, \"ternary\": {\"aaxis\": {\"gridcolor\": \"white\", \"linecolor\": \"white\", \"ticks\": \"\"}, \"baxis\": {\"gridcolor\": \"white\", \"linecolor\": \"white\", \"ticks\": \"\"}, \"bgcolor\": \"#E5ECF6\", \"caxis\": {\"gridcolor\": \"white\", \"linecolor\": \"white\", \"ticks\": \"\"}}, \"title\": {\"x\": 0.05}, \"xaxis\": {\"automargin\": true, \"gridcolor\": \"white\", \"linecolor\": \"white\", \"ticks\": \"\", \"title\": {\"standoff\": 15}, \"zerolinecolor\": \"white\", \"zerolinewidth\": 2}, \"yaxis\": {\"automargin\": true, \"gridcolor\": \"white\", \"linecolor\": \"white\", \"ticks\": \"\", \"title\": {\"standoff\": 15}, \"zerolinecolor\": \"white\", \"zerolinewidth\": 2}}}},                        {\"responsive\": true}                    ).then(function(){\n",
       "                            \n",
       "var gd = document.getElementById('0c5868e2-a793-4dbe-9f7c-3053a8c8a008');\n",
       "var x = new MutationObserver(function (mutations, observer) {{\n",
       "        var display = window.getComputedStyle(gd).display;\n",
       "        if (!display || display === 'none') {{\n",
       "            console.log([gd, 'removed!']);\n",
       "            Plotly.purge(gd);\n",
       "            observer.disconnect();\n",
       "        }}\n",
       "}});\n",
       "\n",
       "// Listen for the removal of the full notebook cells\n",
       "var notebookContainer = gd.closest('#notebook-container');\n",
       "if (notebookContainer) {{\n",
       "    x.observe(notebookContainer, {childList: true});\n",
       "}}\n",
       "\n",
       "// Listen for the clearing of the current output cell\n",
       "var outputEl = gd.closest('.output');\n",
       "if (outputEl) {{\n",
       "    x.observe(outputEl, {childList: true});\n",
       "}}\n",
       "\n",
       "                        })                };                });            </script>        </div>"
      ]
     },
     "metadata": {},
     "output_type": "display_data"
    }
   ],
   "source": [
    "datalist = []\n",
    "for num_synonyms_sourcelang in range(6):\n",
    "  for num_synonyms_targetlang in range(6):\n",
    "    yvals = [langpair_to_num_src_trg_synonyms_to_accuracy[lang][(num_synonyms_sourcelang, num_synonyms_targetlang)] for lang in langpair_list]\n",
    "    dataitem = go.Bar(name=f'{num_synonyms_sourcelang} src {num_synonyms_targetlang} trg syn', x=langpair_list, y=yvals)\n",
    "    datalist.append(dataitem)\n",
    "fig = go.Figure(data=datalist)\n",
    "# Change the bar mode\n",
    "fig.update_layout(barmode='group')\n",
    "fig.show()"
   ]
  },
  {
   "cell_type": "code",
   "execution_count": 29,
   "metadata": {},
   "outputs": [
    {
     "data": {
      "application/vnd.plotly.v1+json": {
       "config": {
        "plotlyServerURL": "https://plot.ly"
       },
       "data": [
        {
         "name": "0 src 0 trg syn",
         "type": "bar",
         "x": [
          "ende",
          "enes",
          "enfr",
          "enit",
          "enja",
          "enko",
          "enpt",
          "enzh",
          "enzt"
         ],
         "y": [
          0.6262313590817142,
          0.7147902969506639,
          0.6903393598724779,
          0.7041668466444934,
          0.7189185847637495,
          0.5062789883608996,
          0.7422796464934978,
          0.7734622898246327,
          0.658399252160698
         ]
        },
        {
         "name": "0 src 1 trg syn",
         "type": "bar",
         "x": [
          "ende",
          "enes",
          "enfr",
          "enit",
          "enja",
          "enko",
          "enpt",
          "enzh",
          "enzt"
         ],
         "y": [
          0.62629721973938,
          0.7148128902043184,
          0.6903760644322329,
          0.7041668466444934,
          0.7195697418038699,
          0.5063008663691257,
          0.7423300514130179,
          0.7734792280677981,
          0.6584265854685202
         ]
        },
        {
         "name": "0 src 2 trg syn",
         "type": "bar",
         "x": [
          "ende",
          "enes",
          "enfr",
          "enit",
          "enja",
          "enko",
          "enpt",
          "enzh",
          "enzt"
         ],
         "y": [
          0.6401750011760832,
          0.7320816670808763,
          0.705419690423256,
          0.716534922897499,
          0.7313194172556615,
          0.5085980572328695,
          0.7558049665647367,
          0.7821120860011066,
          0.6848360274863744
         ]
        },
        {
         "name": "0 src 3 trg syn",
         "type": "bar",
         "x": [
          "ende",
          "enes",
          "enfr",
          "enit",
          "enja",
          "enko",
          "enpt",
          "enzh",
          "enzt"
         ],
         "y": [
          0.6471091875617444,
          0.7408855049215638,
          0.7141291581022694,
          0.7261169423926972,
          0.7388819056646542,
          0.5098013476853067,
          0.7619039618266743,
          0.7878428582720733,
          0.6911937548858288
         ]
        },
        {
         "name": "0 src 4 trg syn",
         "type": "bar",
         "x": [
          "ende",
          "enes",
          "enfr",
          "enit",
          "enja",
          "enko",
          "enpt",
          "enzh",
          "enzt"
         ],
         "y": [
          0.6522275015289081,
          0.7456376192735515,
          0.7202011409874576,
          0.7322433876146459,
          0.7428795153413423,
          0.5102060908374901,
          0.7645586209214019,
          0.7910441862303376,
          0.6987268145216398
         ]
        },
        {
         "name": "0 src 5 trg syn",
         "type": "bar",
         "x": [
          "ende",
          "enes",
          "enfr",
          "enit",
          "enja",
          "enko",
          "enpt",
          "enzh",
          "enzt"
         ],
         "y": [
          0.6566683915886532,
          0.7501562700044433,
          0.723279080498343,
          0.7353390062344319,
          0.744639287848503,
          0.5104467489279776,
          0.7660203635874862,
          0.7943132671612634,
          0.7024988110011098
         ]
        },
        {
         "name": "1 src 0 trg syn",
         "type": "bar",
         "x": [
          "ende",
          "enes",
          "enfr",
          "enit",
          "enja",
          "enko",
          "enpt",
          "enzh",
          "enzt"
         ],
         "y": [
          0.6500917344874629,
          0.7313210275411762,
          0.7061275640756743,
          0.7199688998315408,
          0.7352016320138474,
          0.5150301916513521,
          0.7554521321280957,
          0.7859457750375465,
          0.6748375034849967
         ]
        },
        {
         "name": "1 src 1 trg syn",
         "type": "bar",
         "x": [
          "ende",
          "enes",
          "enfr",
          "enit",
          "enja",
          "enko",
          "enpt",
          "enzh",
          "enzt"
         ],
         "y": [
          0.650138777814367,
          0.7313436207948306,
          0.7061642686354294,
          0.7199688998315408,
          0.7358156978301634,
          0.5150520696595782,
          0.7555025370476158,
          0.7859627132807119,
          0.674864836792819
         ]
        },
        {
         "name": "1 src 2 trg syn",
         "type": "bar",
         "x": [
          "ende",
          "enes",
          "enfr",
          "enit",
          "enja",
          "enko",
          "enpt",
          "enzh",
          "enzt"
         ],
         "y": [
          0.6600366937949852,
          0.7433782939081057,
          0.7171599060363271,
          0.7295149237613926,
          0.7454305672896618,
          0.5169554563752516,
          0.7660035619476461,
          0.7925008751425635,
          0.6973874824383497
         ]
        },
        {
         "name": "1 src 3 trg syn",
         "type": "bar",
         "x": [
          "ende",
          "enes",
          "enfr",
          "enit",
          "enja",
          "enko",
          "enpt",
          "enzh",
          "enzt"
         ],
         "y": [
          0.6651267817660065,
          0.7502842984418187,
          0.7246056881580604,
          0.7377795055649145,
          0.7518803189845247,
          0.5181149908112366,
          0.7705232030646191,
          0.7974750725521416,
          0.7031657437119725
         ]
        },
        {
         "name": "1 src 4 trg syn",
         "type": "bar",
         "x": [
          "ende",
          "enes",
          "enfr",
          "enit",
          "enja",
          "enko",
          "enpt",
          "enzh",
          "enzt"
         ],
         "y": [
          0.6691442818836149,
          0.7545694855516143,
          0.7299121187969294,
          0.7424733272860784,
          0.7556141688474932,
          0.5184650389428547,
          0.7730098457609462,
          0.8003771582144833,
          0.7095344044345558
         ]
        },
        {
         "name": "1 src 5 trg syn",
         "type": "bar",
         "x": [
          "ende",
          "enes",
          "enfr",
          "enit",
          "enja",
          "enko",
          "enpt",
          "enzh",
          "enzt"
         ],
         "y": [
          0.672964200028226,
          0.7586438022939683,
          0.7323293762322245,
          0.7453817689660633,
          0.7572956376599559,
          0.5186728800210029,
          0.7743707785879902,
          0.8034147498221484,
          0.712639468203163
         ]
        },
        {
         "name": "2 src 0 trg syn",
         "type": "bar",
         "x": [
          "ende",
          "enes",
          "enfr",
          "enit",
          "enja",
          "enko",
          "enpt",
          "enzh",
          "enzt"
         ],
         "y": [
          0.6607705696946888,
          0.7422109758026253,
          0.7150048240278535,
          0.7266856723251696,
          0.7426322405159801,
          0.5194495493130306,
          0.7623576061023556,
          0.7907336517723048,
          0.6818894969031363
         ]
        },
        {
         "name": "2 src 1 trg syn",
         "type": "bar",
         "x": [
          "ende",
          "enes",
          "enfr",
          "enit",
          "enja",
          "enko",
          "enpt",
          "enzh",
          "enzt"
         ],
         "y": [
          0.6608176130215929,
          0.7422335690562798,
          0.7150415285876085,
          0.7266856723251696,
          0.7431844876259556,
          0.5194714273212566,
          0.7624080110218757,
          0.7907505900154702,
          0.6819058968878295
         ]
        },
        {
         "name": "2 src 2 trg syn",
         "type": "bar",
         "x": [
          "ende",
          "enes",
          "enfr",
          "enit",
          "enja",
          "enko",
          "enpt",
          "enzh",
          "enzt"
         ],
         "y": [
          0.6675354001034953,
          0.7502617051881642,
          0.7213337388313268,
          0.7341799490302795,
          0.7514764367697665,
          0.5212435459875733,
          0.7700191538694177,
          0.7962837494495071,
          0.7027612107562033
         ]
        },
        {
         "name": "2 src 3 trg syn",
         "type": "bar",
         "x": [
          "ende",
          "enes",
          "enfr",
          "enit",
          "enja",
          "enko",
          "enpt",
          "enzh",
          "enzt"
         ],
         "y": [
          0.6720233334901444,
          0.7559024875172273,
          0.7285278325433113,
          0.7416238319439045,
          0.7570648478229512,
          0.5221624223330708,
          0.7741691589099096,
          0.8008570751041701,
          0.7081349390740569
         ]
        },
        {
         "name": "2 src 4 trg syn",
         "type": "bar",
         "x": [
          "ende",
          "enes",
          "enfr",
          "enit",
          "enja",
          "enko",
          "enpt",
          "enzh",
          "enzt"
         ],
         "y": [
          0.6754480876887613,
          0.7592086336353299,
          0.7331421200553715,
          0.7457921184110118,
          0.7604896041542171,
          0.5225124704646888,
          0.7765381901273565,
          0.803640593064354,
          0.714088133517742
         ]
        },
        {
         "name": "2 src 5 trg syn",
         "type": "bar",
         "x": [
          "ende",
          "enes",
          "enfr",
          "enit",
          "enja",
          "enko",
          "enpt",
          "enzh",
          "enzt"
         ],
         "y": [
          0.6783929999529567,
          0.7631699841094116,
          0.7353024455723814,
          0.7484773875858495,
          0.7620804055307135,
          0.5226874945304979,
          0.7778151147552002,
          0.8065539708888061,
          0.7165481312217442
         ]
        },
        {
         "name": "3 src 0 trg syn",
         "type": "bar",
         "x": [
          "ende",
          "enes",
          "enfr",
          "enit",
          "enja",
          "enko",
          "enpt",
          "enzh",
          "enzt"
         ],
         "y": [
          0.66724373147669,
          0.7490868559981323,
          0.7236251520617476,
          0.731473082516234,
          0.7472439160089843,
          0.521363875032817,
          0.7672972882153298,
          0.7937881816231354,
          0.6893733565848672
         ]
        },
        {
         "name": "3 src 1 trg syn",
         "type": "bar",
         "x": [
          "ende",
          "enes",
          "enfr",
          "enit",
          "enja",
          "enko",
          "enpt",
          "enzh",
          "enzt"
         ],
         "y": [
          0.6672907748035941,
          0.7491094492517868,
          0.7236618566215026,
          0.731473082516234,
          0.747787920624781,
          0.5213857530410432,
          0.76734769313485,
          0.7938051198663008,
          0.6893897565695606
         ]
        },
        {
         "name": "3 src 2 trg syn",
         "type": "bar",
         "x": [
          "ende",
          "enes",
          "enfr",
          "enit",
          "enja",
          "enko",
          "enpt",
          "enzh",
          "enzt"
         ],
         "y": [
          0.6730112433551301,
          0.7559702672781907,
          0.7285855111372121,
          0.737981080730854,
          0.7554204702342929,
          0.5229828476415507,
          0.7733962834772674,
          0.7990108065991396,
          0.7083481388750704
         ]
        },
        {
         "name": "3 src 3 trg syn",
         "type": "bar",
         "x": [
          "ende",
          "enes",
          "enfr",
          "enit",
          "enja",
          "enko",
          "enpt",
          "enzh",
          "enzt"
         ],
         "y": [
          0.6764548148845086,
          0.7604437315017736,
          0.7343586140358237,
          0.7450506097648769,
          0.7601145706690845,
          0.523868906974709,
          0.7763197688094358,
          0.8031267996883363,
          0.7132298676521235
         ]
        },
        {
         "name": "3 src 4 trg syn",
         "type": "bar",
         "x": [
          "ende",
          "enes",
          "enfr",
          "enit",
          "enja",
          "enko",
          "enpt",
          "enzh",
          "enzt"
         ],
         "y": [
          0.6794749964717505,
          0.7630118313338304,
          0.7381339401820546,
          0.7487581529955509,
          0.7634651445527416,
          0.5242189551063271,
          0.7785375852683222,
          0.8058369185948033,
          0.7182427963067235
         ]
        },
        {
         "name": "3 src 5 trg syn",
         "type": "bar",
         "x": [
          "ende",
          "enes",
          "enfr",
          "enit",
          "enja",
          "enko",
          "enpt",
          "enzh",
          "enzt"
         ],
         "y": [
          0.6820717881168556,
          0.7658661123788437,
          0.7402418306137002,
          0.7511986523260334,
          0.764952914752004,
          0.5243830401680231,
          0.7796464934977654,
          0.8085526835823255,
          0.7206317274103877
         ]
        },
        {
         "name": "4 src 0 trg syn",
         "type": "bar",
         "x": [
          "ende",
          "enes",
          "enfr",
          "enit",
          "enja",
          "enko",
          "enpt",
          "enzh",
          "enzt"
         ],
         "y": [
          0.6727289833937056,
          0.7528523982738754,
          0.7293405763664583,
          0.7372611694239269,
          0.7497949679573038,
          0.5226437385140457,
          0.7708928391411002,
          0.7961482435041838,
          0.7007276126542282
         ]
        },
        {
         "name": "4 src 1 trg syn",
         "type": "bar",
         "x": [
          "ende",
          "enes",
          "enfr",
          "enit",
          "enja",
          "enko",
          "enpt",
          "enzh",
          "enzt"
         ],
         "y": [
          0.6727760267206097,
          0.7528749915275299,
          0.7293772809262133,
          0.7372611694239269,
          0.7502730326196707,
          0.5226656165222718,
          0.7709432440606203,
          0.7961651817473492,
          0.7007440126389215
         ]
        },
        {
         "name": "4 src 2 trg syn",
         "type": "bar",
         "x": [
          "ende",
          "enes",
          "enfr",
          "enit",
          "enja",
          "enko",
          "enpt",
          "enzh",
          "enzt"
         ],
         "y": [
          0.6781577833184362,
          0.7588019550695496,
          0.7341488736943663,
          0.7425021237383554,
          0.7575223062498712,
          0.5242517721186664,
          0.7755300917369535,
          0.8012184242916991,
          0.713820267101084
         ]
        },
        {
         "name": "4 src 3 trg syn",
         "type": "bar",
         "x": [
          "ende",
          "enes",
          "enfr",
          "enit",
          "enja",
          "enko",
          "enpt",
          "enzh",
          "enzt"
         ],
         "y": [
          0.6811026955826316,
          0.762665401444462,
          0.7377564075674315,
          0.7486141707341656,
          0.7620103443301943,
          0.5251268924477116,
          0.7782855606707214,
          0.8048714387343745,
          0.7185106627233815
         ]
        },
        {
         "name": "4 src 4 trg syn",
         "type": "bar",
         "x": [
          "ende",
          "enes",
          "enfr",
          "enit",
          "enja",
          "enko",
          "enpt",
          "enzh",
          "enzt"
         ],
         "y": [
          0.6839252951968763,
          0.764600890174194,
          0.740226100088091,
          0.7520553467812765,
          0.7652949782604216,
          0.5254660015752166,
          0.7799657246547264,
          0.8075025125060695,
          0.7233322582232257
         ]
        },
        {
         "name": "4 src 5 trg syn",
         "type": "bar",
         "x": [
          "ende",
          "enes",
          "enfr",
          "enit",
          "enja",
          "enko",
          "enpt",
          "enzh",
          "enzt"
         ],
         "y": [
          0.6859481582537517,
          0.7673346738663835,
          0.74218192877218,
          0.7542150807020576,
          0.7666962022708071,
          0.5256300866369126,
          0.7810242279646493,
          0.8098399900628973,
          0.7255954561109076
         ]
        },
        {
         "name": "5 src 0 trg syn",
         "type": "bar",
         "x": [
          "ende",
          "enes",
          "enfr",
          "enit",
          "enja",
          "enko",
          "enpt",
          "enzh",
          "enzt"
         ],
         "y": [
          0.6766994401844099,
          0.7553451872604173,
          0.7318312429212634,
          0.7408823232977697,
          0.7507263697995014,
          0.523365712785508,
          0.7727578211633456,
          0.7979211129554976,
          0.7045378757646493
         ]
        },
        {
         "name": "5 src 1 trg syn",
         "type": "bar",
         "x": [
          "ende",
          "enes",
          "enfr",
          "enit",
          "enja",
          "enko",
          "enpt",
          "enzh",
          "enzt"
         ],
         "y": [
          0.676746483511314,
          0.7553677805140718,
          0.7318679474810185,
          0.7408823232977697,
          0.7512044344618681,
          0.5233875907937341,
          0.7728082260828657,
          0.797938051198663,
          0.7045542757493426
         ]
        },
        {
         "name": "5 src 2 trg syn",
         "type": "bar",
         "x": [
          "ende",
          "enes",
          "enfr",
          "enit",
          "enja",
          "enko",
          "enpt",
          "enzh",
          "enzt"
         ],
         "y": [
          0.6817142588323847,
          0.7609483141667231,
          0.7360889718528462,
          0.7457921184110118,
          0.7583960106328175,
          0.5249190513695633,
          0.7772270573607984,
          0.8028614338787448,
          0.7171931972863492
         ]
        },
        {
         "name": "5 src 3 trg syn",
         "type": "bar",
         "x": [
          "ende",
          "enes",
          "enfr",
          "enit",
          "enja",
          "enko",
          "enpt",
          "enzh",
          "enzt"
         ],
         "y": [
          0.6844804064543445,
          0.7640059344946266,
          0.7395077394185998,
          0.751105063856133,
          0.7627191988295658,
          0.5257832326944955,
          0.7798817164555261,
          0.8064410492677033,
          0.7217742596773576
         ]
        },
        {
         "name": "5 src 4 trg syn",
         "type": "bar",
         "x": [
          "ende",
          "enes",
          "enfr",
          "enit",
          "enja",
          "enko",
          "enpt",
          "enzh",
          "enzt"
         ],
         "y": [
          0.687208919414781,
          0.7657380839414684,
          0.7418620747514577,
          0.7540710984406721,
          0.7659791052772569,
          0.5261114028178875,
          0.7815282771598508,
          0.8089422631751302,
          0.7264099886840105
         ]
        },
        {
         "name": "5 src 5 trg syn",
         "type": "bar",
         "x": [
          "ende",
          "enes",
          "enfr",
          "enit",
          "enja",
          "enko",
          "enpt",
          "enzh",
          "enzt"
         ],
         "y": [
          0.6890247918332785,
          0.7683513702808341,
          0.7435452409916523,
          0.7561444430046218,
          0.7673514805580168,
          0.5262754878795834,
          0.7825363755502537,
          0.8112458642456271,
          0.7286239866176125
         ]
        }
       ],
       "layout": {
        "barmode": "group",
        "template": {
         "data": {
          "bar": [
           {
            "error_x": {
             "color": "#2a3f5f"
            },
            "error_y": {
             "color": "#2a3f5f"
            },
            "marker": {
             "line": {
              "color": "#E5ECF6",
              "width": 0.5
             }
            },
            "type": "bar"
           }
          ],
          "barpolar": [
           {
            "marker": {
             "line": {
              "color": "#E5ECF6",
              "width": 0.5
             }
            },
            "type": "barpolar"
           }
          ],
          "carpet": [
           {
            "aaxis": {
             "endlinecolor": "#2a3f5f",
             "gridcolor": "white",
             "linecolor": "white",
             "minorgridcolor": "white",
             "startlinecolor": "#2a3f5f"
            },
            "baxis": {
             "endlinecolor": "#2a3f5f",
             "gridcolor": "white",
             "linecolor": "white",
             "minorgridcolor": "white",
             "startlinecolor": "#2a3f5f"
            },
            "type": "carpet"
           }
          ],
          "choropleth": [
           {
            "colorbar": {
             "outlinewidth": 0,
             "ticks": ""
            },
            "type": "choropleth"
           }
          ],
          "contour": [
           {
            "colorbar": {
             "outlinewidth": 0,
             "ticks": ""
            },
            "colorscale": [
             [
              0,
              "#0d0887"
             ],
             [
              0.1111111111111111,
              "#46039f"
             ],
             [
              0.2222222222222222,
              "#7201a8"
             ],
             [
              0.3333333333333333,
              "#9c179e"
             ],
             [
              0.4444444444444444,
              "#bd3786"
             ],
             [
              0.5555555555555556,
              "#d8576b"
             ],
             [
              0.6666666666666666,
              "#ed7953"
             ],
             [
              0.7777777777777778,
              "#fb9f3a"
             ],
             [
              0.8888888888888888,
              "#fdca26"
             ],
             [
              1,
              "#f0f921"
             ]
            ],
            "type": "contour"
           }
          ],
          "contourcarpet": [
           {
            "colorbar": {
             "outlinewidth": 0,
             "ticks": ""
            },
            "type": "contourcarpet"
           }
          ],
          "heatmap": [
           {
            "colorbar": {
             "outlinewidth": 0,
             "ticks": ""
            },
            "colorscale": [
             [
              0,
              "#0d0887"
             ],
             [
              0.1111111111111111,
              "#46039f"
             ],
             [
              0.2222222222222222,
              "#7201a8"
             ],
             [
              0.3333333333333333,
              "#9c179e"
             ],
             [
              0.4444444444444444,
              "#bd3786"
             ],
             [
              0.5555555555555556,
              "#d8576b"
             ],
             [
              0.6666666666666666,
              "#ed7953"
             ],
             [
              0.7777777777777778,
              "#fb9f3a"
             ],
             [
              0.8888888888888888,
              "#fdca26"
             ],
             [
              1,
              "#f0f921"
             ]
            ],
            "type": "heatmap"
           }
          ],
          "heatmapgl": [
           {
            "colorbar": {
             "outlinewidth": 0,
             "ticks": ""
            },
            "colorscale": [
             [
              0,
              "#0d0887"
             ],
             [
              0.1111111111111111,
              "#46039f"
             ],
             [
              0.2222222222222222,
              "#7201a8"
             ],
             [
              0.3333333333333333,
              "#9c179e"
             ],
             [
              0.4444444444444444,
              "#bd3786"
             ],
             [
              0.5555555555555556,
              "#d8576b"
             ],
             [
              0.6666666666666666,
              "#ed7953"
             ],
             [
              0.7777777777777778,
              "#fb9f3a"
             ],
             [
              0.8888888888888888,
              "#fdca26"
             ],
             [
              1,
              "#f0f921"
             ]
            ],
            "type": "heatmapgl"
           }
          ],
          "histogram": [
           {
            "marker": {
             "colorbar": {
              "outlinewidth": 0,
              "ticks": ""
             }
            },
            "type": "histogram"
           }
          ],
          "histogram2d": [
           {
            "colorbar": {
             "outlinewidth": 0,
             "ticks": ""
            },
            "colorscale": [
             [
              0,
              "#0d0887"
             ],
             [
              0.1111111111111111,
              "#46039f"
             ],
             [
              0.2222222222222222,
              "#7201a8"
             ],
             [
              0.3333333333333333,
              "#9c179e"
             ],
             [
              0.4444444444444444,
              "#bd3786"
             ],
             [
              0.5555555555555556,
              "#d8576b"
             ],
             [
              0.6666666666666666,
              "#ed7953"
             ],
             [
              0.7777777777777778,
              "#fb9f3a"
             ],
             [
              0.8888888888888888,
              "#fdca26"
             ],
             [
              1,
              "#f0f921"
             ]
            ],
            "type": "histogram2d"
           }
          ],
          "histogram2dcontour": [
           {
            "colorbar": {
             "outlinewidth": 0,
             "ticks": ""
            },
            "colorscale": [
             [
              0,
              "#0d0887"
             ],
             [
              0.1111111111111111,
              "#46039f"
             ],
             [
              0.2222222222222222,
              "#7201a8"
             ],
             [
              0.3333333333333333,
              "#9c179e"
             ],
             [
              0.4444444444444444,
              "#bd3786"
             ],
             [
              0.5555555555555556,
              "#d8576b"
             ],
             [
              0.6666666666666666,
              "#ed7953"
             ],
             [
              0.7777777777777778,
              "#fb9f3a"
             ],
             [
              0.8888888888888888,
              "#fdca26"
             ],
             [
              1,
              "#f0f921"
             ]
            ],
            "type": "histogram2dcontour"
           }
          ],
          "mesh3d": [
           {
            "colorbar": {
             "outlinewidth": 0,
             "ticks": ""
            },
            "type": "mesh3d"
           }
          ],
          "parcoords": [
           {
            "line": {
             "colorbar": {
              "outlinewidth": 0,
              "ticks": ""
             }
            },
            "type": "parcoords"
           }
          ],
          "pie": [
           {
            "automargin": true,
            "type": "pie"
           }
          ],
          "scatter": [
           {
            "marker": {
             "colorbar": {
              "outlinewidth": 0,
              "ticks": ""
             }
            },
            "type": "scatter"
           }
          ],
          "scatter3d": [
           {
            "line": {
             "colorbar": {
              "outlinewidth": 0,
              "ticks": ""
             }
            },
            "marker": {
             "colorbar": {
              "outlinewidth": 0,
              "ticks": ""
             }
            },
            "type": "scatter3d"
           }
          ],
          "scattercarpet": [
           {
            "marker": {
             "colorbar": {
              "outlinewidth": 0,
              "ticks": ""
             }
            },
            "type": "scattercarpet"
           }
          ],
          "scattergeo": [
           {
            "marker": {
             "colorbar": {
              "outlinewidth": 0,
              "ticks": ""
             }
            },
            "type": "scattergeo"
           }
          ],
          "scattergl": [
           {
            "marker": {
             "colorbar": {
              "outlinewidth": 0,
              "ticks": ""
             }
            },
            "type": "scattergl"
           }
          ],
          "scattermapbox": [
           {
            "marker": {
             "colorbar": {
              "outlinewidth": 0,
              "ticks": ""
             }
            },
            "type": "scattermapbox"
           }
          ],
          "scatterpolar": [
           {
            "marker": {
             "colorbar": {
              "outlinewidth": 0,
              "ticks": ""
             }
            },
            "type": "scatterpolar"
           }
          ],
          "scatterpolargl": [
           {
            "marker": {
             "colorbar": {
              "outlinewidth": 0,
              "ticks": ""
             }
            },
            "type": "scatterpolargl"
           }
          ],
          "scatterternary": [
           {
            "marker": {
             "colorbar": {
              "outlinewidth": 0,
              "ticks": ""
             }
            },
            "type": "scatterternary"
           }
          ],
          "surface": [
           {
            "colorbar": {
             "outlinewidth": 0,
             "ticks": ""
            },
            "colorscale": [
             [
              0,
              "#0d0887"
             ],
             [
              0.1111111111111111,
              "#46039f"
             ],
             [
              0.2222222222222222,
              "#7201a8"
             ],
             [
              0.3333333333333333,
              "#9c179e"
             ],
             [
              0.4444444444444444,
              "#bd3786"
             ],
             [
              0.5555555555555556,
              "#d8576b"
             ],
             [
              0.6666666666666666,
              "#ed7953"
             ],
             [
              0.7777777777777778,
              "#fb9f3a"
             ],
             [
              0.8888888888888888,
              "#fdca26"
             ],
             [
              1,
              "#f0f921"
             ]
            ],
            "type": "surface"
           }
          ],
          "table": [
           {
            "cells": {
             "fill": {
              "color": "#EBF0F8"
             },
             "line": {
              "color": "white"
             }
            },
            "header": {
             "fill": {
              "color": "#C8D4E3"
             },
             "line": {
              "color": "white"
             }
            },
            "type": "table"
           }
          ]
         },
         "layout": {
          "annotationdefaults": {
           "arrowcolor": "#2a3f5f",
           "arrowhead": 0,
           "arrowwidth": 1
          },
          "autotypenumbers": "strict",
          "coloraxis": {
           "colorbar": {
            "outlinewidth": 0,
            "ticks": ""
           }
          },
          "colorscale": {
           "diverging": [
            [
             0,
             "#8e0152"
            ],
            [
             0.1,
             "#c51b7d"
            ],
            [
             0.2,
             "#de77ae"
            ],
            [
             0.3,
             "#f1b6da"
            ],
            [
             0.4,
             "#fde0ef"
            ],
            [
             0.5,
             "#f7f7f7"
            ],
            [
             0.6,
             "#e6f5d0"
            ],
            [
             0.7,
             "#b8e186"
            ],
            [
             0.8,
             "#7fbc41"
            ],
            [
             0.9,
             "#4d9221"
            ],
            [
             1,
             "#276419"
            ]
           ],
           "sequential": [
            [
             0,
             "#0d0887"
            ],
            [
             0.1111111111111111,
             "#46039f"
            ],
            [
             0.2222222222222222,
             "#7201a8"
            ],
            [
             0.3333333333333333,
             "#9c179e"
            ],
            [
             0.4444444444444444,
             "#bd3786"
            ],
            [
             0.5555555555555556,
             "#d8576b"
            ],
            [
             0.6666666666666666,
             "#ed7953"
            ],
            [
             0.7777777777777778,
             "#fb9f3a"
            ],
            [
             0.8888888888888888,
             "#fdca26"
            ],
            [
             1,
             "#f0f921"
            ]
           ],
           "sequentialminus": [
            [
             0,
             "#0d0887"
            ],
            [
             0.1111111111111111,
             "#46039f"
            ],
            [
             0.2222222222222222,
             "#7201a8"
            ],
            [
             0.3333333333333333,
             "#9c179e"
            ],
            [
             0.4444444444444444,
             "#bd3786"
            ],
            [
             0.5555555555555556,
             "#d8576b"
            ],
            [
             0.6666666666666666,
             "#ed7953"
            ],
            [
             0.7777777777777778,
             "#fb9f3a"
            ],
            [
             0.8888888888888888,
             "#fdca26"
            ],
            [
             1,
             "#f0f921"
            ]
           ]
          },
          "colorway": [
           "#636efa",
           "#EF553B",
           "#00cc96",
           "#ab63fa",
           "#FFA15A",
           "#19d3f3",
           "#FF6692",
           "#B6E880",
           "#FF97FF",
           "#FECB52"
          ],
          "font": {
           "color": "#2a3f5f"
          },
          "geo": {
           "bgcolor": "white",
           "lakecolor": "white",
           "landcolor": "#E5ECF6",
           "showlakes": true,
           "showland": true,
           "subunitcolor": "white"
          },
          "hoverlabel": {
           "align": "left"
          },
          "hovermode": "closest",
          "mapbox": {
           "style": "light"
          },
          "paper_bgcolor": "white",
          "plot_bgcolor": "#E5ECF6",
          "polar": {
           "angularaxis": {
            "gridcolor": "white",
            "linecolor": "white",
            "ticks": ""
           },
           "bgcolor": "#E5ECF6",
           "radialaxis": {
            "gridcolor": "white",
            "linecolor": "white",
            "ticks": ""
           }
          },
          "scene": {
           "xaxis": {
            "backgroundcolor": "#E5ECF6",
            "gridcolor": "white",
            "gridwidth": 2,
            "linecolor": "white",
            "showbackground": true,
            "ticks": "",
            "zerolinecolor": "white"
           },
           "yaxis": {
            "backgroundcolor": "#E5ECF6",
            "gridcolor": "white",
            "gridwidth": 2,
            "linecolor": "white",
            "showbackground": true,
            "ticks": "",
            "zerolinecolor": "white"
           },
           "zaxis": {
            "backgroundcolor": "#E5ECF6",
            "gridcolor": "white",
            "gridwidth": 2,
            "linecolor": "white",
            "showbackground": true,
            "ticks": "",
            "zerolinecolor": "white"
           }
          },
          "shapedefaults": {
           "line": {
            "color": "#2a3f5f"
           }
          },
          "ternary": {
           "aaxis": {
            "gridcolor": "white",
            "linecolor": "white",
            "ticks": ""
           },
           "baxis": {
            "gridcolor": "white",
            "linecolor": "white",
            "ticks": ""
           },
           "bgcolor": "#E5ECF6",
           "caxis": {
            "gridcolor": "white",
            "linecolor": "white",
            "ticks": ""
           }
          },
          "title": {
           "x": 0.05
          },
          "xaxis": {
           "automargin": true,
           "gridcolor": "white",
           "linecolor": "white",
           "ticks": "",
           "title": {
            "standoff": 15
           },
           "zerolinecolor": "white",
           "zerolinewidth": 2
          },
          "yaxis": {
           "automargin": true,
           "gridcolor": "white",
           "linecolor": "white",
           "ticks": "",
           "title": {
            "standoff": 15
           },
           "zerolinecolor": "white",
           "zerolinewidth": 2
          }
         }
        }
       }
      },
      "text/html": [
       "<div>                            <div id=\"83e71582-cbe9-45ea-bee3-43585fa3d1f5\" class=\"plotly-graph-div\" style=\"height:525px; width:100%;\"></div>            <script type=\"text/javascript\">                require([\"plotly\"], function(Plotly) {                    window.PLOTLYENV=window.PLOTLYENV || {};                                    if (document.getElementById(\"83e71582-cbe9-45ea-bee3-43585fa3d1f5\")) {                    Plotly.newPlot(                        \"83e71582-cbe9-45ea-bee3-43585fa3d1f5\",                        [{\"name\": \"0 src 0 trg syn\", \"type\": \"bar\", \"x\": [\"ende\", \"enes\", \"enfr\", \"enit\", \"enja\", \"enko\", \"enpt\", \"enzh\", \"enzt\"], \"y\": [0.6262313590817142, 0.7147902969506639, 0.6903393598724779, 0.7041668466444934, 0.7189185847637495, 0.5062789883608996, 0.7422796464934978, 0.7734622898246327, 0.658399252160698]}, {\"name\": \"0 src 1 trg syn\", \"type\": \"bar\", \"x\": [\"ende\", \"enes\", \"enfr\", \"enit\", \"enja\", \"enko\", \"enpt\", \"enzh\", \"enzt\"], \"y\": [0.62629721973938, 0.7148128902043184, 0.6903760644322329, 0.7041668466444934, 0.7195697418038699, 0.5063008663691257, 0.7423300514130179, 0.7734792280677981, 0.6584265854685202]}, {\"name\": \"0 src 2 trg syn\", \"type\": \"bar\", \"x\": [\"ende\", \"enes\", \"enfr\", \"enit\", \"enja\", \"enko\", \"enpt\", \"enzh\", \"enzt\"], \"y\": [0.6401750011760832, 0.7320816670808763, 0.705419690423256, 0.716534922897499, 0.7313194172556615, 0.5085980572328695, 0.7558049665647367, 0.7821120860011066, 0.6848360274863744]}, {\"name\": \"0 src 3 trg syn\", \"type\": \"bar\", \"x\": [\"ende\", \"enes\", \"enfr\", \"enit\", \"enja\", \"enko\", \"enpt\", \"enzh\", \"enzt\"], \"y\": [0.6471091875617444, 0.7408855049215638, 0.7141291581022694, 0.7261169423926972, 0.7388819056646542, 0.5098013476853067, 0.7619039618266743, 0.7878428582720733, 0.6911937548858288]}, {\"name\": \"0 src 4 trg syn\", \"type\": \"bar\", \"x\": [\"ende\", \"enes\", \"enfr\", \"enit\", \"enja\", \"enko\", \"enpt\", \"enzh\", \"enzt\"], \"y\": [0.6522275015289081, 0.7456376192735515, 0.7202011409874576, 0.7322433876146459, 0.7428795153413423, 0.5102060908374901, 0.7645586209214019, 0.7910441862303376, 0.6987268145216398]}, {\"name\": \"0 src 5 trg syn\", \"type\": \"bar\", \"x\": [\"ende\", \"enes\", \"enfr\", \"enit\", \"enja\", \"enko\", \"enpt\", \"enzh\", \"enzt\"], \"y\": [0.6566683915886532, 0.7501562700044433, 0.723279080498343, 0.7353390062344319, 0.744639287848503, 0.5104467489279776, 0.7660203635874862, 0.7943132671612634, 0.7024988110011098]}, {\"name\": \"1 src 0 trg syn\", \"type\": \"bar\", \"x\": [\"ende\", \"enes\", \"enfr\", \"enit\", \"enja\", \"enko\", \"enpt\", \"enzh\", \"enzt\"], \"y\": [0.6500917344874629, 0.7313210275411762, 0.7061275640756743, 0.7199688998315408, 0.7352016320138474, 0.5150301916513521, 0.7554521321280957, 0.7859457750375465, 0.6748375034849967]}, {\"name\": \"1 src 1 trg syn\", \"type\": \"bar\", \"x\": [\"ende\", \"enes\", \"enfr\", \"enit\", \"enja\", \"enko\", \"enpt\", \"enzh\", \"enzt\"], \"y\": [0.650138777814367, 0.7313436207948306, 0.7061642686354294, 0.7199688998315408, 0.7358156978301634, 0.5150520696595782, 0.7555025370476158, 0.7859627132807119, 0.674864836792819]}, {\"name\": \"1 src 2 trg syn\", \"type\": \"bar\", \"x\": [\"ende\", \"enes\", \"enfr\", \"enit\", \"enja\", \"enko\", \"enpt\", \"enzh\", \"enzt\"], \"y\": [0.6600366937949852, 0.7433782939081057, 0.7171599060363271, 0.7295149237613926, 0.7454305672896618, 0.5169554563752516, 0.7660035619476461, 0.7925008751425635, 0.6973874824383497]}, {\"name\": \"1 src 3 trg syn\", \"type\": \"bar\", \"x\": [\"ende\", \"enes\", \"enfr\", \"enit\", \"enja\", \"enko\", \"enpt\", \"enzh\", \"enzt\"], \"y\": [0.6651267817660065, 0.7502842984418187, 0.7246056881580604, 0.7377795055649145, 0.7518803189845247, 0.5181149908112366, 0.7705232030646191, 0.7974750725521416, 0.7031657437119725]}, {\"name\": \"1 src 4 trg syn\", \"type\": \"bar\", \"x\": [\"ende\", \"enes\", \"enfr\", \"enit\", \"enja\", \"enko\", \"enpt\", \"enzh\", \"enzt\"], \"y\": [0.6691442818836149, 0.7545694855516143, 0.7299121187969294, 0.7424733272860784, 0.7556141688474932, 0.5184650389428547, 0.7730098457609462, 0.8003771582144833, 0.7095344044345558]}, {\"name\": \"1 src 5 trg syn\", \"type\": \"bar\", \"x\": [\"ende\", \"enes\", \"enfr\", \"enit\", \"enja\", \"enko\", \"enpt\", \"enzh\", \"enzt\"], \"y\": [0.672964200028226, 0.7586438022939683, 0.7323293762322245, 0.7453817689660633, 0.7572956376599559, 0.5186728800210029, 0.7743707785879902, 0.8034147498221484, 0.712639468203163]}, {\"name\": \"2 src 0 trg syn\", \"type\": \"bar\", \"x\": [\"ende\", \"enes\", \"enfr\", \"enit\", \"enja\", \"enko\", \"enpt\", \"enzh\", \"enzt\"], \"y\": [0.6607705696946888, 0.7422109758026253, 0.7150048240278535, 0.7266856723251696, 0.7426322405159801, 0.5194495493130306, 0.7623576061023556, 0.7907336517723048, 0.6818894969031363]}, {\"name\": \"2 src 1 trg syn\", \"type\": \"bar\", \"x\": [\"ende\", \"enes\", \"enfr\", \"enit\", \"enja\", \"enko\", \"enpt\", \"enzh\", \"enzt\"], \"y\": [0.6608176130215929, 0.7422335690562798, 0.7150415285876085, 0.7266856723251696, 0.7431844876259556, 0.5194714273212566, 0.7624080110218757, 0.7907505900154702, 0.6819058968878295]}, {\"name\": \"2 src 2 trg syn\", \"type\": \"bar\", \"x\": [\"ende\", \"enes\", \"enfr\", \"enit\", \"enja\", \"enko\", \"enpt\", \"enzh\", \"enzt\"], \"y\": [0.6675354001034953, 0.7502617051881642, 0.7213337388313268, 0.7341799490302795, 0.7514764367697665, 0.5212435459875733, 0.7700191538694177, 0.7962837494495071, 0.7027612107562033]}, {\"name\": \"2 src 3 trg syn\", \"type\": \"bar\", \"x\": [\"ende\", \"enes\", \"enfr\", \"enit\", \"enja\", \"enko\", \"enpt\", \"enzh\", \"enzt\"], \"y\": [0.6720233334901444, 0.7559024875172273, 0.7285278325433113, 0.7416238319439045, 0.7570648478229512, 0.5221624223330708, 0.7741691589099096, 0.8008570751041701, 0.7081349390740569]}, {\"name\": \"2 src 4 trg syn\", \"type\": \"bar\", \"x\": [\"ende\", \"enes\", \"enfr\", \"enit\", \"enja\", \"enko\", \"enpt\", \"enzh\", \"enzt\"], \"y\": [0.6754480876887613, 0.7592086336353299, 0.7331421200553715, 0.7457921184110118, 0.7604896041542171, 0.5225124704646888, 0.7765381901273565, 0.803640593064354, 0.714088133517742]}, {\"name\": \"2 src 5 trg syn\", \"type\": \"bar\", \"x\": [\"ende\", \"enes\", \"enfr\", \"enit\", \"enja\", \"enko\", \"enpt\", \"enzh\", \"enzt\"], \"y\": [0.6783929999529567, 0.7631699841094116, 0.7353024455723814, 0.7484773875858495, 0.7620804055307135, 0.5226874945304979, 0.7778151147552002, 0.8065539708888061, 0.7165481312217442]}, {\"name\": \"3 src 0 trg syn\", \"type\": \"bar\", \"x\": [\"ende\", \"enes\", \"enfr\", \"enit\", \"enja\", \"enko\", \"enpt\", \"enzh\", \"enzt\"], \"y\": [0.66724373147669, 0.7490868559981323, 0.7236251520617476, 0.731473082516234, 0.7472439160089843, 0.521363875032817, 0.7672972882153298, 0.7937881816231354, 0.6893733565848672]}, {\"name\": \"3 src 1 trg syn\", \"type\": \"bar\", \"x\": [\"ende\", \"enes\", \"enfr\", \"enit\", \"enja\", \"enko\", \"enpt\", \"enzh\", \"enzt\"], \"y\": [0.6672907748035941, 0.7491094492517868, 0.7236618566215026, 0.731473082516234, 0.747787920624781, 0.5213857530410432, 0.76734769313485, 0.7938051198663008, 0.6893897565695606]}, {\"name\": \"3 src 2 trg syn\", \"type\": \"bar\", \"x\": [\"ende\", \"enes\", \"enfr\", \"enit\", \"enja\", \"enko\", \"enpt\", \"enzh\", \"enzt\"], \"y\": [0.6730112433551301, 0.7559702672781907, 0.7285855111372121, 0.737981080730854, 0.7554204702342929, 0.5229828476415507, 0.7733962834772674, 0.7990108065991396, 0.7083481388750704]}, {\"name\": \"3 src 3 trg syn\", \"type\": \"bar\", \"x\": [\"ende\", \"enes\", \"enfr\", \"enit\", \"enja\", \"enko\", \"enpt\", \"enzh\", \"enzt\"], \"y\": [0.6764548148845086, 0.7604437315017736, 0.7343586140358237, 0.7450506097648769, 0.7601145706690845, 0.523868906974709, 0.7763197688094358, 0.8031267996883363, 0.7132298676521235]}, {\"name\": \"3 src 4 trg syn\", \"type\": \"bar\", \"x\": [\"ende\", \"enes\", \"enfr\", \"enit\", \"enja\", \"enko\", \"enpt\", \"enzh\", \"enzt\"], \"y\": [0.6794749964717505, 0.7630118313338304, 0.7381339401820546, 0.7487581529955509, 0.7634651445527416, 0.5242189551063271, 0.7785375852683222, 0.8058369185948033, 0.7182427963067235]}, {\"name\": \"3 src 5 trg syn\", \"type\": \"bar\", \"x\": [\"ende\", \"enes\", \"enfr\", \"enit\", \"enja\", \"enko\", \"enpt\", \"enzh\", \"enzt\"], \"y\": [0.6820717881168556, 0.7658661123788437, 0.7402418306137002, 0.7511986523260334, 0.764952914752004, 0.5243830401680231, 0.7796464934977654, 0.8085526835823255, 0.7206317274103877]}, {\"name\": \"4 src 0 trg syn\", \"type\": \"bar\", \"x\": [\"ende\", \"enes\", \"enfr\", \"enit\", \"enja\", \"enko\", \"enpt\", \"enzh\", \"enzt\"], \"y\": [0.6727289833937056, 0.7528523982738754, 0.7293405763664583, 0.7372611694239269, 0.7497949679573038, 0.5226437385140457, 0.7708928391411002, 0.7961482435041838, 0.7007276126542282]}, {\"name\": \"4 src 1 trg syn\", \"type\": \"bar\", \"x\": [\"ende\", \"enes\", \"enfr\", \"enit\", \"enja\", \"enko\", \"enpt\", \"enzh\", \"enzt\"], \"y\": [0.6727760267206097, 0.7528749915275299, 0.7293772809262133, 0.7372611694239269, 0.7502730326196707, 0.5226656165222718, 0.7709432440606203, 0.7961651817473492, 0.7007440126389215]}, {\"name\": \"4 src 2 trg syn\", \"type\": \"bar\", \"x\": [\"ende\", \"enes\", \"enfr\", \"enit\", \"enja\", \"enko\", \"enpt\", \"enzh\", \"enzt\"], \"y\": [0.6781577833184362, 0.7588019550695496, 0.7341488736943663, 0.7425021237383554, 0.7575223062498712, 0.5242517721186664, 0.7755300917369535, 0.8012184242916991, 0.713820267101084]}, {\"name\": \"4 src 3 trg syn\", \"type\": \"bar\", \"x\": [\"ende\", \"enes\", \"enfr\", \"enit\", \"enja\", \"enko\", \"enpt\", \"enzh\", \"enzt\"], \"y\": [0.6811026955826316, 0.762665401444462, 0.7377564075674315, 0.7486141707341656, 0.7620103443301943, 0.5251268924477116, 0.7782855606707214, 0.8048714387343745, 0.7185106627233815]}, {\"name\": \"4 src 4 trg syn\", \"type\": \"bar\", \"x\": [\"ende\", \"enes\", \"enfr\", \"enit\", \"enja\", \"enko\", \"enpt\", \"enzh\", \"enzt\"], \"y\": [0.6839252951968763, 0.764600890174194, 0.740226100088091, 0.7520553467812765, 0.7652949782604216, 0.5254660015752166, 0.7799657246547264, 0.8075025125060695, 0.7233322582232257]}, {\"name\": \"4 src 5 trg syn\", \"type\": \"bar\", \"x\": [\"ende\", \"enes\", \"enfr\", \"enit\", \"enja\", \"enko\", \"enpt\", \"enzh\", \"enzt\"], \"y\": [0.6859481582537517, 0.7673346738663835, 0.74218192877218, 0.7542150807020576, 0.7666962022708071, 0.5256300866369126, 0.7810242279646493, 0.8098399900628973, 0.7255954561109076]}, {\"name\": \"5 src 0 trg syn\", \"type\": \"bar\", \"x\": [\"ende\", \"enes\", \"enfr\", \"enit\", \"enja\", \"enko\", \"enpt\", \"enzh\", \"enzt\"], \"y\": [0.6766994401844099, 0.7553451872604173, 0.7318312429212634, 0.7408823232977697, 0.7507263697995014, 0.523365712785508, 0.7727578211633456, 0.7979211129554976, 0.7045378757646493]}, {\"name\": \"5 src 1 trg syn\", \"type\": \"bar\", \"x\": [\"ende\", \"enes\", \"enfr\", \"enit\", \"enja\", \"enko\", \"enpt\", \"enzh\", \"enzt\"], \"y\": [0.676746483511314, 0.7553677805140718, 0.7318679474810185, 0.7408823232977697, 0.7512044344618681, 0.5233875907937341, 0.7728082260828657, 0.797938051198663, 0.7045542757493426]}, {\"name\": \"5 src 2 trg syn\", \"type\": \"bar\", \"x\": [\"ende\", \"enes\", \"enfr\", \"enit\", \"enja\", \"enko\", \"enpt\", \"enzh\", \"enzt\"], \"y\": [0.6817142588323847, 0.7609483141667231, 0.7360889718528462, 0.7457921184110118, 0.7583960106328175, 0.5249190513695633, 0.7772270573607984, 0.8028614338787448, 0.7171931972863492]}, {\"name\": \"5 src 3 trg syn\", \"type\": \"bar\", \"x\": [\"ende\", \"enes\", \"enfr\", \"enit\", \"enja\", \"enko\", \"enpt\", \"enzh\", \"enzt\"], \"y\": [0.6844804064543445, 0.7640059344946266, 0.7395077394185998, 0.751105063856133, 0.7627191988295658, 0.5257832326944955, 0.7798817164555261, 0.8064410492677033, 0.7217742596773576]}, {\"name\": \"5 src 4 trg syn\", \"type\": \"bar\", \"x\": [\"ende\", \"enes\", \"enfr\", \"enit\", \"enja\", \"enko\", \"enpt\", \"enzh\", \"enzt\"], \"y\": [0.687208919414781, 0.7657380839414684, 0.7418620747514577, 0.7540710984406721, 0.7659791052772569, 0.5261114028178875, 0.7815282771598508, 0.8089422631751302, 0.7264099886840105]}, {\"name\": \"5 src 5 trg syn\", \"type\": \"bar\", \"x\": [\"ende\", \"enes\", \"enfr\", \"enit\", \"enja\", \"enko\", \"enpt\", \"enzh\", \"enzt\"], \"y\": [0.6890247918332785, 0.7683513702808341, 0.7435452409916523, 0.7561444430046218, 0.7673514805580168, 0.5262754878795834, 0.7825363755502537, 0.8112458642456271, 0.7286239866176125]}],                        {\"barmode\": \"group\", \"template\": {\"data\": {\"bar\": [{\"error_x\": {\"color\": \"#2a3f5f\"}, \"error_y\": {\"color\": \"#2a3f5f\"}, \"marker\": {\"line\": {\"color\": \"#E5ECF6\", \"width\": 0.5}}, \"type\": \"bar\"}], \"barpolar\": [{\"marker\": {\"line\": {\"color\": \"#E5ECF6\", \"width\": 0.5}}, \"type\": \"barpolar\"}], \"carpet\": [{\"aaxis\": {\"endlinecolor\": \"#2a3f5f\", \"gridcolor\": \"white\", \"linecolor\": \"white\", \"minorgridcolor\": \"white\", \"startlinecolor\": \"#2a3f5f\"}, \"baxis\": {\"endlinecolor\": \"#2a3f5f\", \"gridcolor\": \"white\", \"linecolor\": \"white\", \"minorgridcolor\": \"white\", \"startlinecolor\": \"#2a3f5f\"}, \"type\": \"carpet\"}], \"choropleth\": [{\"colorbar\": {\"outlinewidth\": 0, \"ticks\": \"\"}, \"type\": \"choropleth\"}], \"contour\": [{\"colorbar\": {\"outlinewidth\": 0, \"ticks\": \"\"}, \"colorscale\": [[0.0, \"#0d0887\"], [0.1111111111111111, \"#46039f\"], [0.2222222222222222, \"#7201a8\"], [0.3333333333333333, \"#9c179e\"], [0.4444444444444444, \"#bd3786\"], [0.5555555555555556, \"#d8576b\"], [0.6666666666666666, \"#ed7953\"], [0.7777777777777778, \"#fb9f3a\"], [0.8888888888888888, \"#fdca26\"], [1.0, \"#f0f921\"]], \"type\": \"contour\"}], \"contourcarpet\": [{\"colorbar\": {\"outlinewidth\": 0, \"ticks\": \"\"}, \"type\": \"contourcarpet\"}], \"heatmap\": [{\"colorbar\": {\"outlinewidth\": 0, \"ticks\": \"\"}, \"colorscale\": [[0.0, \"#0d0887\"], [0.1111111111111111, \"#46039f\"], [0.2222222222222222, \"#7201a8\"], [0.3333333333333333, \"#9c179e\"], [0.4444444444444444, \"#bd3786\"], [0.5555555555555556, \"#d8576b\"], [0.6666666666666666, \"#ed7953\"], [0.7777777777777778, \"#fb9f3a\"], [0.8888888888888888, \"#fdca26\"], [1.0, \"#f0f921\"]], \"type\": \"heatmap\"}], \"heatmapgl\": [{\"colorbar\": {\"outlinewidth\": 0, \"ticks\": \"\"}, \"colorscale\": [[0.0, \"#0d0887\"], [0.1111111111111111, \"#46039f\"], [0.2222222222222222, \"#7201a8\"], [0.3333333333333333, \"#9c179e\"], [0.4444444444444444, \"#bd3786\"], [0.5555555555555556, \"#d8576b\"], [0.6666666666666666, \"#ed7953\"], [0.7777777777777778, \"#fb9f3a\"], [0.8888888888888888, \"#fdca26\"], [1.0, \"#f0f921\"]], \"type\": \"heatmapgl\"}], \"histogram\": [{\"marker\": {\"colorbar\": {\"outlinewidth\": 0, \"ticks\": \"\"}}, \"type\": \"histogram\"}], \"histogram2d\": [{\"colorbar\": {\"outlinewidth\": 0, \"ticks\": \"\"}, \"colorscale\": [[0.0, \"#0d0887\"], [0.1111111111111111, \"#46039f\"], [0.2222222222222222, \"#7201a8\"], [0.3333333333333333, \"#9c179e\"], [0.4444444444444444, \"#bd3786\"], [0.5555555555555556, \"#d8576b\"], [0.6666666666666666, \"#ed7953\"], [0.7777777777777778, \"#fb9f3a\"], [0.8888888888888888, \"#fdca26\"], [1.0, \"#f0f921\"]], \"type\": \"histogram2d\"}], \"histogram2dcontour\": [{\"colorbar\": {\"outlinewidth\": 0, \"ticks\": \"\"}, \"colorscale\": [[0.0, \"#0d0887\"], [0.1111111111111111, \"#46039f\"], [0.2222222222222222, \"#7201a8\"], [0.3333333333333333, \"#9c179e\"], [0.4444444444444444, \"#bd3786\"], [0.5555555555555556, \"#d8576b\"], [0.6666666666666666, \"#ed7953\"], [0.7777777777777778, \"#fb9f3a\"], [0.8888888888888888, \"#fdca26\"], [1.0, \"#f0f921\"]], \"type\": \"histogram2dcontour\"}], \"mesh3d\": [{\"colorbar\": {\"outlinewidth\": 0, \"ticks\": \"\"}, \"type\": \"mesh3d\"}], \"parcoords\": [{\"line\": {\"colorbar\": {\"outlinewidth\": 0, \"ticks\": \"\"}}, \"type\": \"parcoords\"}], \"pie\": [{\"automargin\": true, \"type\": \"pie\"}], \"scatter\": [{\"marker\": {\"colorbar\": {\"outlinewidth\": 0, \"ticks\": \"\"}}, \"type\": \"scatter\"}], \"scatter3d\": [{\"line\": {\"colorbar\": {\"outlinewidth\": 0, \"ticks\": \"\"}}, \"marker\": {\"colorbar\": {\"outlinewidth\": 0, \"ticks\": \"\"}}, \"type\": \"scatter3d\"}], \"scattercarpet\": [{\"marker\": {\"colorbar\": {\"outlinewidth\": 0, \"ticks\": \"\"}}, \"type\": \"scattercarpet\"}], \"scattergeo\": [{\"marker\": {\"colorbar\": {\"outlinewidth\": 0, \"ticks\": \"\"}}, \"type\": \"scattergeo\"}], \"scattergl\": [{\"marker\": {\"colorbar\": {\"outlinewidth\": 0, \"ticks\": \"\"}}, \"type\": \"scattergl\"}], \"scattermapbox\": [{\"marker\": {\"colorbar\": {\"outlinewidth\": 0, \"ticks\": \"\"}}, \"type\": \"scattermapbox\"}], \"scatterpolar\": [{\"marker\": {\"colorbar\": {\"outlinewidth\": 0, \"ticks\": \"\"}}, \"type\": \"scatterpolar\"}], \"scatterpolargl\": [{\"marker\": {\"colorbar\": {\"outlinewidth\": 0, \"ticks\": \"\"}}, \"type\": \"scatterpolargl\"}], \"scatterternary\": [{\"marker\": {\"colorbar\": {\"outlinewidth\": 0, \"ticks\": \"\"}}, \"type\": \"scatterternary\"}], \"surface\": [{\"colorbar\": {\"outlinewidth\": 0, \"ticks\": \"\"}, \"colorscale\": [[0.0, \"#0d0887\"], [0.1111111111111111, \"#46039f\"], [0.2222222222222222, \"#7201a8\"], [0.3333333333333333, \"#9c179e\"], [0.4444444444444444, \"#bd3786\"], [0.5555555555555556, \"#d8576b\"], [0.6666666666666666, \"#ed7953\"], [0.7777777777777778, \"#fb9f3a\"], [0.8888888888888888, \"#fdca26\"], [1.0, \"#f0f921\"]], \"type\": \"surface\"}], \"table\": [{\"cells\": {\"fill\": {\"color\": \"#EBF0F8\"}, \"line\": {\"color\": \"white\"}}, \"header\": {\"fill\": {\"color\": \"#C8D4E3\"}, \"line\": {\"color\": \"white\"}}, \"type\": \"table\"}]}, \"layout\": {\"annotationdefaults\": {\"arrowcolor\": \"#2a3f5f\", \"arrowhead\": 0, \"arrowwidth\": 1}, \"autotypenumbers\": \"strict\", \"coloraxis\": {\"colorbar\": {\"outlinewidth\": 0, \"ticks\": \"\"}}, \"colorscale\": {\"diverging\": [[0, \"#8e0152\"], [0.1, \"#c51b7d\"], [0.2, \"#de77ae\"], [0.3, \"#f1b6da\"], [0.4, \"#fde0ef\"], [0.5, \"#f7f7f7\"], [0.6, \"#e6f5d0\"], [0.7, \"#b8e186\"], [0.8, \"#7fbc41\"], [0.9, \"#4d9221\"], [1, \"#276419\"]], \"sequential\": [[0.0, \"#0d0887\"], [0.1111111111111111, \"#46039f\"], [0.2222222222222222, \"#7201a8\"], [0.3333333333333333, \"#9c179e\"], [0.4444444444444444, \"#bd3786\"], [0.5555555555555556, \"#d8576b\"], [0.6666666666666666, \"#ed7953\"], [0.7777777777777778, \"#fb9f3a\"], [0.8888888888888888, \"#fdca26\"], [1.0, \"#f0f921\"]], \"sequentialminus\": [[0.0, \"#0d0887\"], [0.1111111111111111, \"#46039f\"], [0.2222222222222222, \"#7201a8\"], [0.3333333333333333, \"#9c179e\"], [0.4444444444444444, \"#bd3786\"], [0.5555555555555556, \"#d8576b\"], [0.6666666666666666, \"#ed7953\"], [0.7777777777777778, \"#fb9f3a\"], [0.8888888888888888, \"#fdca26\"], [1.0, \"#f0f921\"]]}, \"colorway\": [\"#636efa\", \"#EF553B\", \"#00cc96\", \"#ab63fa\", \"#FFA15A\", \"#19d3f3\", \"#FF6692\", \"#B6E880\", \"#FF97FF\", \"#FECB52\"], \"font\": {\"color\": \"#2a3f5f\"}, \"geo\": {\"bgcolor\": \"white\", \"lakecolor\": \"white\", \"landcolor\": \"#E5ECF6\", \"showlakes\": true, \"showland\": true, \"subunitcolor\": \"white\"}, \"hoverlabel\": {\"align\": \"left\"}, \"hovermode\": \"closest\", \"mapbox\": {\"style\": \"light\"}, \"paper_bgcolor\": \"white\", \"plot_bgcolor\": \"#E5ECF6\", \"polar\": {\"angularaxis\": {\"gridcolor\": \"white\", \"linecolor\": \"white\", \"ticks\": \"\"}, \"bgcolor\": \"#E5ECF6\", \"radialaxis\": {\"gridcolor\": \"white\", \"linecolor\": \"white\", \"ticks\": \"\"}}, \"scene\": {\"xaxis\": {\"backgroundcolor\": \"#E5ECF6\", \"gridcolor\": \"white\", \"gridwidth\": 2, \"linecolor\": \"white\", \"showbackground\": true, \"ticks\": \"\", \"zerolinecolor\": \"white\"}, \"yaxis\": {\"backgroundcolor\": \"#E5ECF6\", \"gridcolor\": \"white\", \"gridwidth\": 2, \"linecolor\": \"white\", \"showbackground\": true, \"ticks\": \"\", \"zerolinecolor\": \"white\"}, \"zaxis\": {\"backgroundcolor\": \"#E5ECF6\", \"gridcolor\": \"white\", \"gridwidth\": 2, \"linecolor\": \"white\", \"showbackground\": true, \"ticks\": \"\", \"zerolinecolor\": \"white\"}}, \"shapedefaults\": {\"line\": {\"color\": \"#2a3f5f\"}}, \"ternary\": {\"aaxis\": {\"gridcolor\": \"white\", \"linecolor\": \"white\", \"ticks\": \"\"}, \"baxis\": {\"gridcolor\": \"white\", \"linecolor\": \"white\", \"ticks\": \"\"}, \"bgcolor\": \"#E5ECF6\", \"caxis\": {\"gridcolor\": \"white\", \"linecolor\": \"white\", \"ticks\": \"\"}}, \"title\": {\"x\": 0.05}, \"xaxis\": {\"automargin\": true, \"gridcolor\": \"white\", \"linecolor\": \"white\", \"ticks\": \"\", \"title\": {\"standoff\": 15}, \"zerolinecolor\": \"white\", \"zerolinewidth\": 2}, \"yaxis\": {\"automargin\": true, \"gridcolor\": \"white\", \"linecolor\": \"white\", \"ticks\": \"\", \"title\": {\"standoff\": 15}, \"zerolinecolor\": \"white\", \"zerolinewidth\": 2}}}},                        {\"responsive\": true}                    ).then(function(){\n",
       "                            \n",
       "var gd = document.getElementById('83e71582-cbe9-45ea-bee3-43585fa3d1f5');\n",
       "var x = new MutationObserver(function (mutations, observer) {{\n",
       "        var display = window.getComputedStyle(gd).display;\n",
       "        if (!display || display === 'none') {{\n",
       "            console.log([gd, 'removed!']);\n",
       "            Plotly.purge(gd);\n",
       "            observer.disconnect();\n",
       "        }}\n",
       "}});\n",
       "\n",
       "// Listen for the removal of the full notebook cells\n",
       "var notebookContainer = gd.closest('#notebook-container');\n",
       "if (notebookContainer) {{\n",
       "    x.observe(notebookContainer, {childList: true});\n",
       "}}\n",
       "\n",
       "// Listen for the clearing of the current output cell\n",
       "var outputEl = gd.closest('.output');\n",
       "if (outputEl) {{\n",
       "    x.observe(outputEl, {childList: true});\n",
       "}}\n",
       "\n",
       "                        })                };                });            </script>        </div>"
      ]
     },
     "metadata": {},
     "output_type": "display_data"
    }
   ],
   "source": [
    "datalist = []\n",
    "for num_synonyms_sourcelang in range(6):\n",
    "  for num_synonyms_targetlang in range(6):\n",
    "    yvals = [langpair_to_num_src_trg_synonyms_googtrans_to_accuracy[lang][(num_synonyms_sourcelang, num_synonyms_targetlang)] for lang in langpair_list]\n",
    "    dataitem = go.Bar(name=f'{num_synonyms_sourcelang} src {num_synonyms_targetlang} trg syn', x=langpair_list, y=yvals)\n",
    "    datalist.append(dataitem)\n",
    "fig = go.Figure(data=datalist)\n",
    "# Change the bar mode\n",
    "fig.update_layout(barmode='group')\n",
    "fig.show()"
   ]
  }
 ],
 "metadata": {
  "kernelspec": {
   "display_name": "Python 3",
   "language": "python",
   "name": "python3"
  },
  "language_info": {
   "codemirror_mode": {
    "name": "ipython",
    "version": 3
   },
   "file_extension": ".py",
   "mimetype": "text/x-python",
   "name": "python",
   "nbconvert_exporter": "python",
   "pygments_lexer": "ipython3",
   "version": "3.8.5"
  }
 },
 "nbformat": 4,
 "nbformat_minor": 4
}
